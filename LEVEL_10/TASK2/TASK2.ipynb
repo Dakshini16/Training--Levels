{
 "cells": [
  {
   "cell_type": "code",
   "execution_count": 1,
   "id": "ffd94281-0d2a-47f9-aa23-2030f7f6cc49",
   "metadata": {},
   "outputs": [
    {
     "name": "stdout",
     "output_type": "stream",
     "text": [
      "<class 'pandas.core.frame.DataFrame'>\n",
      "RangeIndex: 891 entries, 0 to 890\n",
      "Data columns (total 15 columns):\n",
      " #   Column       Non-Null Count  Dtype  \n",
      "---  ------       --------------  -----  \n",
      " 0   survived     891 non-null    int64  \n",
      " 1   pclass       891 non-null    int64  \n",
      " 2   sex          891 non-null    object \n",
      " 3   age          714 non-null    float64\n",
      " 4   sibsp        891 non-null    int64  \n",
      " 5   parch        891 non-null    int64  \n",
      " 6   fare         891 non-null    float64\n",
      " 7   embarked     889 non-null    object \n",
      " 8   class        891 non-null    object \n",
      " 9   who          891 non-null    object \n",
      " 10  adult_male   891 non-null    bool   \n",
      " 11  deck         203 non-null    object \n",
      " 12  embark_town  889 non-null    object \n",
      " 13  alive        891 non-null    object \n",
      " 14  alone        891 non-null    bool   \n",
      "dtypes: bool(2), float64(2), int64(4), object(7)\n",
      "memory usage: 92.4+ KB\n"
     ]
    },
    {
     "data": {
      "text/plain": [
       "(None,\n",
       "    survived  pclass     sex   age  sibsp  parch     fare embarked  class  \\\n",
       " 0         0       3    male  22.0      1      0   7.2500        S  Third   \n",
       " 1         1       1  female  38.0      1      0  71.2833        C  First   \n",
       " 2         1       3  female  26.0      0      0   7.9250        S  Third   \n",
       " 3         1       1  female  35.0      1      0  53.1000        S  First   \n",
       " 4         0       3    male  35.0      0      0   8.0500        S  Third   \n",
       " \n",
       "      who  adult_male deck  embark_town alive  alone  \n",
       " 0    man        True  NaN  Southampton    no  False  \n",
       " 1  woman       False    C    Cherbourg   yes  False  \n",
       " 2  woman       False  NaN  Southampton   yes   True  \n",
       " 3  woman       False    C  Southampton   yes  False  \n",
       " 4    man        True  NaN  Southampton    no   True  )"
      ]
     },
     "execution_count": 1,
     "metadata": {},
     "output_type": "execute_result"
    }
   ],
   "source": [
    "import scipy.stats as stats\n",
    "import pandas as pd\n",
    "file_path = \"titanic.csv\"\n",
    "df = pd.read_csv(file_path)\n",
    "df.info(), df.head()\n"
   ]
  },
  {
   "cell_type": "code",
   "execution_count": 3,
   "id": "bba2c7f4-718d-4525-9947-c523556570ea",
   "metadata": {},
   "outputs": [
    {
     "name": "stdout",
     "output_type": "stream",
     "text": [
      "Z-score: -16.218833930670097\n",
      "P-value: 3.7117477701134797e-59\n",
      "There is a significant difference in survival rates between male and female passengers.\n"
     ]
    }
   ],
   "source": [
    "import scipy.stats as stats\n",
    "import numpy as np\n",
    "male_survived = df[df[\"sex\"] == \"male\"][\"survived\"]\n",
    "female_survived = df[df[\"sex\"] == \"female\"][\"survived\"]\n",
    "p_male = male_survived.mean()\n",
    "p_female = female_survived.mean()\n",
    "n_male = len(male_survived)\n",
    "n_female = len(female_survived)\n",
    "p_combined = (male_survived.sum() + female_survived.sum()) / (n_male + n_female)\n",
    "se = np.sqrt(p_combined * (1 - p_combined) * (1/n_male + 1/n_female))\n",
    "z_score = (p_male - p_female) / se\n",
    "p_value = stats.norm.sf(abs(z_score)) * 2  # Two-tailed test\n",
    "print(f\"Z-score: {z_score}\")\n",
    "print(f\"P-value: {p_value}\")\n",
    "if p_value < 0.05:\n",
    "    print(\"There is a significant difference in survival rates between male and female passengers.\")\n",
    "else:\n",
    "    print(\"There is no significant difference in survival rates between male and female passengers.\")\n"
   ]
  },
  {
   "cell_type": "code",
   "execution_count": 6,
   "id": "13102316-5f6f-42ce-a9b6-763e738a2da8",
   "metadata": {},
   "outputs": [
    {
     "name": "stdout",
     "output_type": "stream",
     "text": [
      "Z-Statistic: -16.2188\n",
      "P-Value: 0.0000\n",
      "There is a significant difference in the survival rate between the male and female passengers.\n"
     ]
    }
   ],
   "source": [
    "import pandas as pd\n",
    "import numpy as np\n",
    "from statsmodels.stats.proportion import proportions_ztest\n",
    "survived_male = df[df[\"sex\"] == \"male\"][\"survived\"].sum()\n",
    "total_male = df[df[\"sex\"] == \"male\"][\"survived\"].count()\n",
    "survived_female = df[df[\"sex\"] == \"female\"][\"survived\"].sum()\n",
    "total_female = df[df[\"sex\"] == \"female\"][\"survived\"].count()\n",
    "count = np.array([survived_male, survived_female])  \n",
    "nobs = np.array([total_male, total_female])  \n",
    "z_stat, p_value = proportions_ztest(count, nobs, alternative='two-sided')\n",
    "print(f\"Z-Statistic: {z_stat:.4f}\")\n",
    "print(f\"P-Value: {p_value:.4f}\")\n",
    "if p_value < 0.05:\n",
    "    print(\"There is a significant difference in the survival rate between the male and female passengers.\")\n",
    "else:\n",
    "    print(\"There is no significant difference in the survival rate between the male and female passengers.\")\n",
    "\n"
   ]
  },
  {
   "cell_type": "code",
   "execution_count": null,
   "id": "b26f0c45-5dac-462e-8369-a8e274dd5d89",
   "metadata": {},
   "outputs": [],
   "source": []
  }
 ],
 "metadata": {
  "kernelspec": {
   "display_name": "Python 3 (ipykernel)",
   "language": "python",
   "name": "python3"
  },
  "language_info": {
   "codemirror_mode": {
    "name": "ipython",
    "version": 3
   },
   "file_extension": ".py",
   "mimetype": "text/x-python",
   "name": "python",
   "nbconvert_exporter": "python",
   "pygments_lexer": "ipython3",
   "version": "3.12.7"
  }
 },
 "nbformat": 4,
 "nbformat_minor": 5
}
