{
 "cells": [
  {
   "cell_type": "code",
   "execution_count": 0,
   "metadata": {
    "application/vnd.databricks.v1+cell": {
     "cellMetadata": {
      "byteLimit": 2048000,
      "rowLimit": 10000
     },
     "inputWidgets": {},
     "nuid": "28df61ba-d311-4b5e-84a8-dbbbedfa8422",
     "showTitle": false,
     "tableResultSettingsMap": {},
     "title": ""
    }
   },
   "outputs": [
    {
     "output_type": "stream",
     "name": "stdout",
     "output_type": "stream",
     "text": [
      "+--------------------------------------------------------+--------------+----------+\n|match_name                                              |player_name   |is_captain|\n+--------------------------------------------------------+--------------+----------+\n|MUMBAI INDIANS vs ROYAL CHALLENGERS BENGALURU, 1st Match|Rohit Sharma  |true      |\n|MUMBAI INDIANS vs ROYAL CHALLENGERS BENGALURU, 1st Match|MS Dhoni      |true      |\n|MUMBAI INDIANS vs ROYAL CHALLENGERS BENGALURU, 1st Match|Jasprit Bumrah|false     |\n|MUMBAI INDIANS vs ROYAL CHALLENGERS BENGALURU, 1st Match|Virat Kohli   |false     |\n|CHENNAI SUPER KINGS vs DELHI CAPITALS, 2nd Match        |Rohit Sharma  |true      |\n|CHENNAI SUPER KINGS vs DELHI CAPITALS, 2nd Match        |MS Dhoni      |true      |\n|CHENNAI SUPER KINGS vs DELHI CAPITALS, 2nd Match        |Jasprit Bumrah|false     |\n|CHENNAI SUPER KINGS vs DELHI CAPITALS, 2nd Match        |Virat Kohli   |false     |\n|SUNRISERS HYDERABAD vs KOLKATA KNIGHT RIDERS, 3rd Match |Rohit Sharma  |true      |\n|SUNRISERS HYDERABAD vs KOLKATA KNIGHT RIDERS, 3rd Match |MS Dhoni      |true      |\n|SUNRISERS HYDERABAD vs KOLKATA KNIGHT RIDERS, 3rd Match |Jasprit Bumrah|false     |\n|SUNRISERS HYDERABAD vs KOLKATA KNIGHT RIDERS, 3rd Match |Virat Kohli   |false     |\n|RAJASTHAN ROYALS vs PUNJAB KINGS, 4th Match             |Rohit Sharma  |true      |\n|RAJASTHAN ROYALS vs PUNJAB KINGS, 4th Match             |MS Dhoni      |true      |\n|RAJASTHAN ROYALS vs PUNJAB KINGS, 4th Match             |Jasprit Bumrah|false     |\n|RAJASTHAN ROYALS vs PUNJAB KINGS, 4th Match             |Virat Kohli   |false     |\n|KOLKATA KNIGHT RIDERS vs MUMBAI INDIANS, 5th Match      |Rohit Sharma  |true      |\n|KOLKATA KNIGHT RIDERS vs MUMBAI INDIANS, 5th Match      |MS Dhoni      |true      |\n|KOLKATA KNIGHT RIDERS vs MUMBAI INDIANS, 5th Match      |Jasprit Bumrah|false     |\n|KOLKATA KNIGHT RIDERS vs MUMBAI INDIANS, 5th Match      |Virat Kohli   |false     |\n+--------------------------------------------------------+--------------+----------+\nonly showing top 20 rows\n\n"
     ]
    }
   ],
   "source": [
    "from pyspark.sql.functions import col, explode, lit, array\n",
    "from pyspark.sql import SparkSession\n",
    "\n",
    "spark = SparkSession.builder.getOrCreate()\n",
    "\n",
    "matches_df = spark.read.parquet(\"dbfs:/FileStore/ipl_cleaned.parquet/\")\n",
    "\n",
    "sample_players = [\"Rohit Sharma\", \"MS Dhoni\", \"Jasprit Bumrah\", \"Virat Kohli\"]\n",
    "\n",
    "matches_with_playing11_df = matches_df.withColumn(\"playing11\", array([lit(p) for p in sample_players]))\n",
    "\n",
    "exploded_df = matches_with_playing11_df.select(\n",
    "    col(\"match_name\"),\n",
    "    explode(col(\"playing11\")).alias(\"player_name\")\n",
    ")\n",
    "\n",
    "player_href_df = spark.createDataFrame([\n",
    "    (\"Rohit Sharma\", \"player/rohit-sharma\", True),\n",
    "    (\"MS Dhoni\", \"player/ms-dhoni\", True),\n",
    "    (\"Virat Kohli\", \"player/virat-kohli\", False),\n",
    "    (\"Jasprit Bumrah\", \"player/jasprit-bumrah\", False)\n",
    "], [\"player_name\", \"player_href\", \"is_captain\"])\n",
    "\n",
    "final_df = exploded_df.join(player_href_df, on=\"player_name\", how=\"left\")\n",
    "\n",
    "final_df.select(\"match_name\", \"player_name\", \"is_captain\").show(truncate=False)\n"
   ]
  },
  {
   "cell_type": "code",
   "execution_count": 0,
   "metadata": {
    "application/vnd.databricks.v1+cell": {
     "cellMetadata": {},
     "inputWidgets": {},
     "nuid": "bcf7398a-85d7-41ca-b9c0-4abd73681488",
     "showTitle": false,
     "tableResultSettingsMap": {},
     "title": ""
    }
   },
   "outputs": [],
   "source": []
  }
 ],
 "metadata": {
  "application/vnd.databricks.v1+notebook": {
   "computePreferences": null,
   "dashboards": [],
   "environmentMetadata": {
    "base_environment": "",
    "environment_version": "1"
   },
   "inputWidgetPreferences": null,
   "language": "python",
   "notebookMetadata": {
    "pythonIndentUnit": 4
   },
   "notebookName": "LEVEL 17 T8",
   "widgets": {}
  }
 },
 "nbformat": 4,
 "nbformat_minor": 0
}