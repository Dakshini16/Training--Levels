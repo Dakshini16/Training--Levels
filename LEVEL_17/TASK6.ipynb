{
 "cells": [
  {
   "cell_type": "code",
   "execution_count": 0,
   "metadata": {
    "application/vnd.databricks.v1+cell": {
     "cellMetadata": {
      "byteLimit": 2048000,
      "rowLimit": 10000
     },
     "inputWidgets": {},
     "nuid": "63ea164a-6721-4cbc-93fb-c5beedb777f9",
     "showTitle": false,
     "tableResultSettingsMap": {},
     "title": ""
    }
   },
   "outputs": [
    {
     "output_type": "stream",
     "name": "stdout",
     "output_type": "stream",
     "text": [
      "root\n |-- year: integer (nullable = true)\n |-- series_type: timestamp (nullable = true)\n |-- series_name: string (nullable = true)\n |-- match_no: string (nullable = true)\n |-- match_type: string (nullable = true)\n |-- match_name: string (nullable = true)\n |-- match_href: string (nullable = true)\n |-- match_team1: string (nullable = true)\n |-- match_team2: string (nullable = true)\n |-- match_datetime_start: timestamp (nullable = true)\n |-- match_date_end: string (nullable = true)\n |-- match_venue: string (nullable = true)\n\n+----+-------------------+--------------------+--------+----------+--------------------+--------------------+--------------------+--------------------+--------------------+--------------+-----------+\n|year|        series_type|         series_name|match_no|match_type|          match_name|          match_href|         match_team1|         match_team2|match_datetime_start|match_date_end|match_venue|\n+----+-------------------+--------------------+--------+----------+--------------------+--------------------+--------------------+--------------------+--------------------+--------------+-----------+\n|2021|2025-04-09 20:00:00|Indian Premier Le...|    null|    League|MUMBAI INDIANS vs...|https://www.cricb...|      MUMBAI INDIANS|ROYAL CHALLENGERS...| 2025-04-09 20:00:00|          null|       null|\n|2021|2025-04-09 20:00:00|Indian Premier Le...|    null|    League|CHENNAI SUPER KIN...|https://www.cricb...| CHENNAI SUPER KINGS|      DELHI CAPITALS| 2025-04-09 20:00:00|          null|       null|\n|2021|2025-04-09 20:00:00|Indian Premier Le...|    null|    League|SUNRISERS HYDERAB...|https://www.cricb...| SUNRISERS HYDERABAD|KOLKATA KNIGHT RI...| 2025-04-09 20:00:00|          null|       null|\n|2021|2025-04-09 20:00:00|Indian Premier Le...|    null|    League|RAJASTHAN ROYALS ...|https://www.cricb...|    RAJASTHAN ROYALS|        PUNJAB KINGS| 2025-04-09 20:00:00|          null|       null|\n|2021|2025-04-09 20:00:00|Indian Premier Le...|    null|    League|KOLKATA KNIGHT RI...|https://www.cricb...|KOLKATA KNIGHT RI...|      MUMBAI INDIANS| 2025-04-09 20:00:00|          null|       null|\n+----+-------------------+--------------------+--------+----------+--------------------+--------------------+--------------------+--------------------+--------------------+--------------+-----------+\nonly showing top 5 rows\n\n"
     ]
    }
   ],
   "source": [
    "\n",
    "match_df = spark.read.parquet(\"dbfs:/FileStore/ipl_final_cleaned.parquet\")\n",
    "match_df.printSchema()\n",
    "match_df.show(5)\n",
    "\n"
   ]
  },
  {
   "cell_type": "code",
   "execution_count": 0,
   "metadata": {
    "application/vnd.databricks.v1+cell": {
     "cellMetadata": {
      "byteLimit": 2048000,
      "rowLimit": 10000
     },
     "inputWidgets": {},
     "nuid": "de9d68c9-484d-4ee8-a74c-08a4193d3a07",
     "showTitle": false,
     "tableResultSettingsMap": {},
     "title": ""
    }
   },
   "outputs": [
    {
     "output_type": "stream",
     "name": "stdout",
     "output_type": "stream",
     "text": [
      "+--------------------+------+-------+--------+----+--------+------+----+\n|          commentary|bowler|batsman|runs_raw|runs|match_id|  team|year|\n+--------------------+------+-------+--------+----+--------+------+----+\n|Bumrah to Dhawan,...|Bumrah| Dhawan|    FOUR|   0|  Bumrah|Bumrah|2021|\n|Chahal to Raina, ...|Chahal|  Raina|   1 run|   1|  Chahal|Chahal|2021|\n|Narine to Kohli, ...|Narine|  Kohli|  no run|   0|  Narine|Narine|2021|\n|Rabada to Rohit, ...|Rabada|  Rohit|     SIX|   0|  Rabada|Rabada|2021|\n+--------------------+------+-------+--------+----+--------+------+----+\n\n"
     ]
    }
   ],
   "source": [
    "from pyspark.sql.functions import col, regexp_extract, lit, sum as _sum\n",
    "\n",
    "data = [\n",
    "    (\"Bumrah to Dhawan, FOUR! Cracking shot through covers\", \"Bumrah\", \"Dhawan\", \"FOUR\"),\n",
    "    (\"Chahal to Raina, 1 run, nudged to midwicket\", \"Chahal\", \"Raina\", \"1 run\"),\n",
    "    (\"Narine to Kohli, no run, defended solidly\", \"Narine\", \"Kohli\", \"no run\"),\n",
    "    (\"Rabada to Rohit, SIX! Smashed over long-on\", \"Rabada\", \"Rohit\", \"SIX\"),\n",
    "]\n",
    "\n",
    "ball_df = spark.createDataFrame(data, [\"commentary\", \"bowler\", \"batsman\", \"runs_raw\"])\n",
    "\n",
    "ball_df = ball_df.withColumn(\n",
    "    \"runs\",\n",
    "    regexp_extract(\"runs_raw\", r\"(\\d+)\", 1).cast(\"int\")\n",
    ").fillna(0)\n",
    "\n",
    "ball_df = ball_df.withColumn(\"match_id\", col(\"bowler\")) \\\n",
    "                 .withColumn(\"team\", col(\"bowler\")) \\\n",
    "                 .withColumn(\"year\", lit(2021))\n",
    "\n",
    "ball_df.show()\n",
    "\n"
   ]
  },
  {
   "cell_type": "code",
   "execution_count": 0,
   "metadata": {
    "application/vnd.databricks.v1+cell": {
     "cellMetadata": {
      "byteLimit": 2048000,
      "rowLimit": 10000
     },
     "inputWidgets": {},
     "nuid": "0c0552b9-15a7-4ed2-9c2f-f0ddccdebb9c",
     "showTitle": false,
     "tableResultSettingsMap": {},
     "title": ""
    }
   },
   "outputs": [
    {
     "output_type": "stream",
     "name": "stdout",
     "output_type": "stream",
     "text": [
      "+----+--------+------+-----------+\n|year|match_id|  team|total_score|\n+----+--------+------+-----------+\n|2021|  Bumrah|Bumrah|          0|\n|2021|  Chahal|Chahal|          1|\n|2021|  Narine|Narine|          0|\n|2021|  Rabada|Rabada|          0|\n+----+--------+------+-----------+\n\n"
     ]
    }
   ],
   "source": [
    "team_scores_df = ball_df.groupBy(\"year\", \"match_id\", \"team\") \\\n",
    "                        .agg(_sum(\"runs\").alias(\"total_score\"))\n",
    "\n",
    "team_scores_df.show()\n"
   ]
  },
  {
   "cell_type": "code",
   "execution_count": 0,
   "metadata": {
    "application/vnd.databricks.v1+cell": {
     "cellMetadata": {
      "byteLimit": 2048000,
      "rowLimit": 10000
     },
     "inputWidgets": {},
     "nuid": "0bbf2450-8343-47b8-bcef-453a7300ea43",
     "showTitle": false,
     "tableResultSettingsMap": {},
     "title": ""
    }
   },
   "outputs": [
    {
     "output_type": "stream",
     "name": "stdout",
     "output_type": "stream",
     "text": [
      "+------+----+\n|  team|2021|\n+------+----+\n|Bumrah| 0.0|\n|Chahal| 1.0|\n|Narine| 0.0|\n|Rabada| 0.0|\n+------+----+\n\n"
     ]
    }
   ],
   "source": [
    "avg_score_pivot = team_scores_df.groupBy(\"team\") \\\n",
    "    .pivot(\"year\") \\\n",
    "    .avg(\"total_score\") \\\n",
    "    .orderBy(\"team\")\n",
    "\n",
    "avg_score_pivot.show()\n"
   ]
  },
  {
   "cell_type": "code",
   "execution_count": 0,
   "metadata": {
    "application/vnd.databricks.v1+cell": {
     "cellMetadata": {
      "byteLimit": 2048000,
      "rowLimit": 10000
     },
     "inputWidgets": {},
     "nuid": "f0249f96-9653-44f5-8462-0b67d92a2829",
     "showTitle": false,
     "tableResultSettingsMap": {},
     "title": ""
    }
   },
   "outputs": [
    {
     "output_type": "stream",
     "name": "stdout",
     "output_type": "stream",
     "text": [
      "+------+----+\n|  team|2021|\n+------+----+\n|Bumrah|   0|\n|Chahal|   1|\n|Narine|   0|\n|Rabada|   0|\n+------+----+\n\n"
     ]
    }
   ],
   "source": [
    "max_score_pivot = team_scores_df.groupBy(\"team\") \\\n",
    "    .pivot(\"year\") \\\n",
    "    .max(\"total_score\") \\\n",
    "    .orderBy(\"team\")\n",
    "\n",
    "max_score_pivot.show()\n"
   ]
  },
  {
   "cell_type": "code",
   "execution_count": 0,
   "metadata": {
    "application/vnd.databricks.v1+cell": {
     "cellMetadata": {},
     "inputWidgets": {},
     "nuid": "f0eb2278-185e-40ec-ba31-279d83ce0221",
     "showTitle": false,
     "tableResultSettingsMap": {},
     "title": ""
    }
   },
   "outputs": [],
   "source": []
  }
 ],
 "metadata": {
  "application/vnd.databricks.v1+notebook": {
   "computePreferences": null,
   "dashboards": [],
   "environmentMetadata": {
    "base_environment": "",
    "environment_version": "1"
   },
   "inputWidgetPreferences": null,
   "language": "python",
   "notebookMetadata": {
    "pythonIndentUnit": 4
   },
   "notebookName": "LEVEL17 T6",
   "widgets": {}
  }
 },
 "nbformat": 4,
 "nbformat_minor": 0
}