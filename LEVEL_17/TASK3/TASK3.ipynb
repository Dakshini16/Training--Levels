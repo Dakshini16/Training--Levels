{
 "cells": [
  {
   "cell_type": "code",
   "execution_count": 0,
   "metadata": {
    "application/vnd.databricks.v1+cell": {
     "cellMetadata": {
      "byteLimit": 2048000,
      "rowLimit": 10000
     },
     "inputWidgets": {},
     "nuid": "b1f79d55-984a-4812-9c67-5242b2b7b328",
     "showTitle": false,
     "tableResultSettingsMap": {},
     "title": ""
    }
   },
   "outputs": [
    {
     "output_type": "stream",
     "name": "stdout",
     "output_type": "stream",
     "text": [
      "root\n |-- year: integer (nullable = true)\n |-- series_type: timestamp (nullable = true)\n |-- series_name: string (nullable = true)\n |-- match_no: string (nullable = true)\n |-- match_type: string (nullable = true)\n |-- match_name: string (nullable = true)\n |-- match_href: string (nullable = true)\n |-- match_team1: string (nullable = true)\n |-- match_team2: string (nullable = true)\n |-- match_datetime_start: timestamp (nullable = true)\n |-- match_date_end: string (nullable = true)\n |-- match_venue: string (nullable = true)\n\n+----+-------------------+--------------------------+--------+----------+----------------------------------------------------------------+-----------------------------------------------------------------------------------------------+---------------------------+---------------------------+--------------------+--------------+-----------+\n|year|series_type        |series_name               |match_no|match_type|match_name                                                      |match_href                                                                                     |match_team1                |match_team2                |match_datetime_start|match_date_end|match_venue|\n+----+-------------------+--------------------------+--------+----------+----------------------------------------------------------------+-----------------------------------------------------------------------------------------------+---------------------------+---------------------------+--------------------+--------------+-----------+\n|2021|2025-04-09 20:00:00|Indian Premier League 2021|null    |League    |MUMBAI INDIANS vs ROYAL CHALLENGERS BENGALURU, 1st Match        |https://www.cricbuzz.com/cricket-scores/35612/mi-vs-rcb-1st-match-indian-premier-league-2021   |MUMBAI INDIANS             |ROYAL CHALLENGERS BENGALURU|2025-04-09 20:00:00 |null          |null       |\n|2021|2025-04-09 20:00:00|Indian Premier League 2021|null    |League    |CHENNAI SUPER KINGS vs DELHI CAPITALS, 2nd Match                |https://www.cricbuzz.com/cricket-scores/35617/csk-vs-dc-2nd-match-indian-premier-league-2021   |CHENNAI SUPER KINGS        |DELHI CAPITALS             |2025-04-09 20:00:00 |null          |null       |\n|2021|2025-04-09 20:00:00|Indian Premier League 2021|null    |League    |SUNRISERS HYDERABAD vs KOLKATA KNIGHT RIDERS, 3rd Match         |https://www.cricbuzz.com/cricket-scores/35618/srh-vs-kkr-3rd-match-indian-premier-league-2021  |SUNRISERS HYDERABAD        |KOLKATA KNIGHT RIDERS      |2025-04-09 20:00:00 |null          |null       |\n|2021|2025-04-09 20:00:00|Indian Premier League 2021|null    |League    |RAJASTHAN ROYALS vs PUNJAB KINGS, 4th Match                     |https://www.cricbuzz.com/cricket-scores/35622/rr-vs-pbks-4th-match-indian-premier-league-2021  |RAJASTHAN ROYALS           |PUNJAB KINGS               |2025-04-09 20:00:00 |null          |null       |\n|2021|2025-04-09 20:00:00|Indian Premier League 2021|null    |League    |KOLKATA KNIGHT RIDERS vs MUMBAI INDIANS, 5th Match              |https://www.cricbuzz.com/cricket-scores/35627/kkr-vs-mi-5th-match-indian-premier-league-2021   |KOLKATA KNIGHT RIDERS      |MUMBAI INDIANS             |2025-04-09 20:00:00 |null          |null       |\n|2021|2025-04-09 20:00:00|Indian Premier League 2021|null    |League    |SUNRISERS HYDERABAD vs ROYAL CHALLENGERS BENGALURU, 6th Match   |https://www.cricbuzz.com/cricket-scores/35628/srh-vs-rcb-6th-match-indian-premier-league-2021  |SUNRISERS HYDERABAD        |ROYAL CHALLENGERS BENGALURU|2025-04-09 20:00:00 |null          |null       |\n|2021|2025-04-09 20:00:00|Indian Premier League 2021|null    |League    |RAJASTHAN ROYALS vs DELHI CAPITALS, 7th Match                   |https://www.cricbuzz.com/cricket-scores/35632/rr-vs-dc-7th-match-indian-premier-league-2021    |RAJASTHAN ROYALS           |DELHI CAPITALS             |2025-04-09 20:00:00 |null          |null       |\n|2021|2025-04-09 20:00:00|Indian Premier League 2021|null    |League    |PUNJAB KINGS vs CHENNAI SUPER KINGS, 8th Match                  |https://www.cricbuzz.com/cricket-scores/35637/pbks-vs-csk-8th-match-indian-premier-league-2021 |PUNJAB KINGS               |CHENNAI SUPER KINGS        |2025-04-09 20:00:00 |null          |null       |\n|2021|2025-04-09 20:00:00|Indian Premier League 2021|null    |League    |MUMBAI INDIANS vs SUNRISERS HYDERABAD, 9th Match                |https://www.cricbuzz.com/cricket-scores/35642/mi-vs-srh-9th-match-indian-premier-league-2021   |MUMBAI INDIANS             |SUNRISERS HYDERABAD        |2025-04-09 20:00:00 |null          |null       |\n|2021|2025-04-09 20:00:00|Indian Premier League 2021|null    |League    |ROYAL CHALLENGERS BENGALURU vs KOLKATA KNIGHT RIDERS, 10th Match|https://www.cricbuzz.com/cricket-scores/35643/rcb-vs-kkr-10th-match-indian-premier-league-2021 |ROYAL CHALLENGERS BENGALURU|KOLKATA KNIGHT RIDERS      |2025-04-09 20:00:00 |null          |null       |\n|2021|2025-04-09 20:00:00|Indian Premier League 2021|null    |League    |DELHI CAPITALS vs PUNJAB KINGS, 11th Match                      |https://www.cricbuzz.com/cricket-scores/35647/dc-vs-pbks-11th-match-indian-premier-league-2021 |DELHI CAPITALS             |PUNJAB KINGS               |2025-04-09 20:00:00 |null          |null       |\n|2021|2025-04-09 20:00:00|Indian Premier League 2021|null    |League    |CHENNAI SUPER KINGS vs RAJASTHAN ROYALS, 12th Match             |https://www.cricbuzz.com/cricket-scores/35648/csk-vs-rr-12th-match-indian-premier-league-2021  |CHENNAI SUPER KINGS        |RAJASTHAN ROYALS           |2025-04-09 20:00:00 |null          |null       |\n|2021|2025-04-09 20:00:00|Indian Premier League 2021|null    |League    |DELHI CAPITALS vs MUMBAI INDIANS, 13th Match                    |https://www.cricbuzz.com/cricket-scores/35653/dc-vs-mi-13th-match-indian-premier-league-2021   |DELHI CAPITALS             |MUMBAI INDIANS             |2025-04-09 20:00:00 |null          |null       |\n|2021|2025-04-09 20:00:00|Indian Premier League 2021|null    |League    |PUNJAB KINGS vs SUNRISERS HYDERABAD, 14th Match                 |https://www.cricbuzz.com/cricket-scores/35657/pbks-vs-srh-14th-match-indian-premier-league-2021|PUNJAB KINGS               |SUNRISERS HYDERABAD        |2025-04-09 20:00:00 |null          |null       |\n|2021|2025-04-09 20:00:00|Indian Premier League 2021|null    |League    |KOLKATA KNIGHT RIDERS vs CHENNAI SUPER KINGS, 15th Match        |https://www.cricbuzz.com/cricket-scores/35662/kkr-vs-csk-15th-match-indian-premier-league-2021 |KOLKATA KNIGHT RIDERS      |CHENNAI SUPER KINGS        |2025-04-09 20:00:00 |null          |null       |\n|2021|2025-04-09 20:00:00|Indian Premier League 2021|null    |League    |ROYAL CHALLENGERS BENGALURU vs RAJASTHAN ROYALS, 16th Match     |https://www.cricbuzz.com/cricket-scores/35663/rcb-vs-rr-16th-match-indian-premier-league-2021  |ROYAL CHALLENGERS BENGALURU|RAJASTHAN ROYALS           |2025-04-09 20:00:00 |null          |null       |\n|2021|2025-04-09 20:00:00|Indian Premier League 2021|null    |League    |PUNJAB KINGS vs MUMBAI INDIANS, 17th Match                      |https://www.cricbuzz.com/cricket-scores/35668/pbks-vs-mi-17th-match-indian-premier-league-2021 |PUNJAB KINGS               |MUMBAI INDIANS             |2025-04-09 20:00:00 |null          |null       |\n|2021|2025-04-09 20:00:00|Indian Premier League 2021|null    |League    |RAJASTHAN ROYALS vs KOLKATA KNIGHT RIDERS, 18th Match           |https://www.cricbuzz.com/cricket-scores/35673/rr-vs-kkr-18th-match-indian-premier-league-2021  |RAJASTHAN ROYALS           |KOLKATA KNIGHT RIDERS      |2025-04-09 20:00:00 |null          |null       |\n|2021|2025-04-09 20:00:00|Indian Premier League 2021|null    |League    |CHENNAI SUPER KINGS vs ROYAL CHALLENGERS BENGALURU, 19th Match  |https://www.cricbuzz.com/cricket-scores/35678/csk-vs-rcb-19th-match-indian-premier-league-2021 |CHENNAI SUPER KINGS        |ROYAL CHALLENGERS BENGALURU|2025-04-09 20:00:00 |null          |null       |\n|2021|2025-04-09 20:00:00|Indian Premier League 2021|null    |League    |SUNRISERS HYDERABAD vs DELHI CAPITALS, 20th Match               |https://www.cricbuzz.com/cricket-scores/35683/srh-vs-dc-20th-match-indian-premier-league-2021  |SUNRISERS HYDERABAD        |DELHI CAPITALS             |2025-04-09 20:00:00 |null          |null       |\n+----+-------------------+--------------------------+--------+----------+----------------------------------------------------------------+-----------------------------------------------------------------------------------------------+---------------------------+---------------------------+--------------------+--------------+-----------+\nonly showing top 20 rows\n\n"
     ]
    }
   ],
   "source": [
    "\n",
    "ipl_df = spark.read.parquet(\"dbfs:/FileStore/ipl_cleaned.parquet/\")\n",
    "ipl_df.printSchema()\n",
    "ipl_df.show(truncate=False)\n"
   ]
  },
  {
   "cell_type": "code",
   "execution_count": 0,
   "metadata": {
    "application/vnd.databricks.v1+cell": {
     "cellMetadata": {
      "byteLimit": 2048000,
      "rowLimit": 10000
     },
     "inputWidgets": {},
     "nuid": "09acb365-d7e5-408c-8249-451ccae7b9b8",
     "showTitle": false,
     "tableResultSettingsMap": {},
     "title": ""
    }
   },
   "outputs": [
    {
     "output_type": "stream",
     "name": "stdout",
     "output_type": "stream",
     "text": [
      "+----------------------------------------------------------------+----------+\n|match_name                                                      |match_type|\n+----------------------------------------------------------------+----------+\n|ROYAL CHALLENGERS BENGALURU vs KOLKATA KNIGHT RIDERS, Eliminator|League    |\n+----------------------------------------------------------------+----------+\n\n"
     ]
    }
   ],
   "source": [
    "\n",
    "tied_matches_df = ipl_df.filter(\n",
    "    (ipl_df.match_type.contains(\"Tie\")) | \n",
    "    (ipl_df.match_name.contains(\"Tie\")) | \n",
    "    (ipl_df.match_name.contains(\"Super Over\")) | \n",
    "    (ipl_df.match_name.contains(\"Eliminator\"))  # Often tie-breaker situations\n",
    ")\n",
    "\n",
    "tied_matches_df.select(\"match_name\", \"match_type\").distinct().show(truncate=False)\n"
   ]
  },
  {
   "cell_type": "code",
   "execution_count": 0,
   "metadata": {
    "application/vnd.databricks.v1+cell": {
     "cellMetadata": {
      "byteLimit": 2048000,
      "rowLimit": 10000
     },
     "inputWidgets": {},
     "nuid": "43a4d6c0-30c4-4fb2-bcac-b6d66293f024",
     "showTitle": false,
     "tableResultSettingsMap": {},
     "title": ""
    }
   },
   "outputs": [
    {
     "output_type": "stream",
     "name": "stdout",
     "output_type": "stream",
     "text": [
      "+----------+\n|match_type|\n+----------+\n|League    |\n+----------+\n\n"
     ]
    }
   ],
   "source": [
    "\n",
    "tie_breakers_df = tied_matches_df.select(\"match_type\").distinct()\n",
    "tie_breakers_df.show(truncate=False)\n"
   ]
  },
  {
   "cell_type": "code",
   "execution_count": 0,
   "metadata": {
    "application/vnd.databricks.v1+cell": {
     "cellMetadata": {
      "byteLimit": 2048000,
      "rowLimit": 10000
     },
     "inputWidgets": {},
     "nuid": "476b506f-29bd-492b-b778-2cd4e6beafe6",
     "showTitle": false,
     "tableResultSettingsMap": {},
     "title": ""
    }
   },
   "outputs": [
    {
     "output_type": "stream",
     "name": "stdout",
     "output_type": "stream",
     "text": [
      "+----------------------------------------------------------------+----------+----------------------------------------------------------------------------------------------+\n|match_name                                                      |match_type|match_href                                                                                    |\n+----------------------------------------------------------------+----------+----------------------------------------------------------------------------------------------+\n|ROYAL CHALLENGERS BENGALURU vs KOLKATA KNIGHT RIDERS, Eliminator|League    |https://www.cricbuzz.com/cricket-scores/37671/rcb-vs-kkr-eliminator-indian-premier-league-2021|\n+----------------------------------------------------------------+----------+----------------------------------------------------------------------------------------------+\n\n"
     ]
    }
   ],
   "source": [
    "tied_matches_df.select(\"match_name\", \"match_type\", \"match_href\").show(truncate=False)\n"
   ]
  },
  {
   "cell_type": "code",
   "execution_count": 0,
   "metadata": {
    "application/vnd.databricks.v1+cell": {
     "cellMetadata": {
      "byteLimit": 2048000,
      "rowLimit": 10000
     },
     "inputWidgets": {},
     "nuid": "1cced970-69e1-439b-977e-e73912e89f76",
     "showTitle": false,
     "tableResultSettingsMap": {},
     "title": ""
    }
   },
   "outputs": [
    {
     "output_type": "stream",
     "name": "stdout",
     "output_type": "stream",
     "text": [
      "root\n |-- year: integer (nullable = true)\n |-- series_type: timestamp (nullable = true)\n |-- series_name: string (nullable = true)\n |-- match_no: string (nullable = true)\n |-- match_type: string (nullable = true)\n |-- match_name: string (nullable = true)\n |-- match_href: string (nullable = true)\n |-- match_team1: string (nullable = true)\n |-- match_team2: string (nullable = true)\n |-- match_datetime_start: timestamp (nullable = true)\n |-- match_date_end: string (nullable = true)\n |-- match_venue: string (nullable = true)\n\n+--------------------------------------------------------+\n|match_name                                              |\n+--------------------------------------------------------+\n|MUMBAI INDIANS vs ROYAL CHALLENGERS BENGALURU, 1st Match|\n|CHENNAI SUPER KINGS vs DELHI CAPITALS, 2nd Match        |\n|SUNRISERS HYDERABAD vs KOLKATA KNIGHT RIDERS, 3rd Match |\n|RAJASTHAN ROYALS vs PUNJAB KINGS, 4th Match             |\n|KOLKATA KNIGHT RIDERS vs MUMBAI INDIANS, 5th Match      |\n+--------------------------------------------------------+\nonly showing top 5 rows\n\n"
     ]
    }
   ],
   "source": [
    "\n",
    "ipl_df = spark.read.parquet(\"dbfs:/FileStore/ipl_cleaned.parquet/\")\n",
    "\n",
    "ipl_df.printSchema()\n",
    "ipl_df.select(\"match_name\").show(5, truncate=False)\n"
   ]
  },
  {
   "cell_type": "code",
   "execution_count": 0,
   "metadata": {
    "application/vnd.databricks.v1+cell": {
     "cellMetadata": {
      "byteLimit": 2048000,
      "rowLimit": 10000
     },
     "inputWidgets": {},
     "nuid": "e3b9731c-85b2-4837-bb3a-072935cbc786",
     "showTitle": false,
     "tableResultSettingsMap": {},
     "title": ""
    }
   },
   "outputs": [
    {
     "output_type": "stream",
     "name": "stdout",
     "output_type": "stream",
     "text": [
      "+----------------------------------------------------------------+\n|match_name                                                      |\n+----------------------------------------------------------------+\n|DELHI CAPITALS vs CHENNAI SUPER KINGS, Qualifier 1              |\n|ROYAL CHALLENGERS BENGALURU vs KOLKATA KNIGHT RIDERS, Eliminator|\n|CHENNAI SUPER KINGS vs KOLKATA KNIGHT RIDERS, Final             |\n|DELHI CAPITALS vs KOLKATA KNIGHT RIDERS, Qualifier 2            |\n+----------------------------------------------------------------+\n\n"
     ]
    }
   ],
   "source": [
    "\n",
    "tie_breaker_matches = ipl_df.filter(\n",
    "    (ipl_df.match_name.contains(\"Super Over\")) |\n",
    "    (ipl_df.match_name.contains(\"Tie\")) |\n",
    "    (ipl_df.match_name.contains(\"Eliminator\")) |\n",
    "    (ipl_df.match_name.contains(\"Qualifier\")) |\n",
    "    (ipl_df.match_name.contains(\"Final\"))\n",
    ")\n",
    "\n",
    "tie_breaker_matches.select(\"match_name\").distinct().show(truncate=False)\n"
   ]
  },
  {
   "cell_type": "code",
   "execution_count": 0,
   "metadata": {
    "application/vnd.databricks.v1+cell": {
     "cellMetadata": {
      "byteLimit": 2048000,
      "rowLimit": 10000
     },
     "inputWidgets": {},
     "nuid": "7572fd4f-7b83-450a-be87-c5e2dce5922e",
     "showTitle": false,
     "tableResultSettingsMap": {},
     "title": ""
    }
   },
   "outputs": [
    {
     "output_type": "stream",
     "name": "stdout",
     "output_type": "stream",
     "text": [
      "+----------------------------------------------------------------+----------------+\n|match_name                                                      |tie_breaker_type|\n+----------------------------------------------------------------+----------------+\n|CHENNAI SUPER KINGS vs KOLKATA KNIGHT RIDERS, Final             |Final           |\n|DELHI CAPITALS vs KOLKATA KNIGHT RIDERS, Qualifier 2            |Qualifier       |\n|DELHI CAPITALS vs CHENNAI SUPER KINGS, Qualifier 1              |Qualifier       |\n|ROYAL CHALLENGERS BENGALURU vs KOLKATA KNIGHT RIDERS, Eliminator|Eliminator      |\n+----------------------------------------------------------------+----------------+\n\n"
     ]
    }
   ],
   "source": [
    "from pyspark.sql.functions import when, lit\n",
    "\n",
    "classified = tie_breaker_matches.withColumn(\n",
    "    \"tie_breaker_type\",\n",
    "    when(ipl_df.match_name.contains(\"Super Over\"), lit(\"Super Over\"))\n",
    "    .when(ipl_df.match_name.contains(\"Eliminator\"), lit(\"Eliminator\"))\n",
    "    .when(ipl_df.match_name.contains(\"Qualifier\"), lit(\"Qualifier\"))\n",
    "    .when(ipl_df.match_name.contains(\"Final\"), lit(\"Final\"))\n",
    "    .otherwise(\"Other\")\n",
    ")\n",
    "\n",
    "classified.select(\"match_name\", \"tie_breaker_type\").distinct().show(truncate=False)\n"
   ]
  },
  {
   "cell_type": "code",
   "execution_count": 0,
   "metadata": {
    "application/vnd.databricks.v1+cell": {
     "cellMetadata": {},
     "inputWidgets": {},
     "nuid": "eca7974c-ad86-4076-8f71-55e25b8b0088",
     "showTitle": false,
     "tableResultSettingsMap": {},
     "title": ""
    }
   },
   "outputs": [],
   "source": []
  }
 ],
 "metadata": {
  "application/vnd.databricks.v1+notebook": {
   "computePreferences": null,
   "dashboards": [],
   "environmentMetadata": {
    "base_environment": "",
    "environment_version": "1"
   },
   "inputWidgetPreferences": null,
   "language": "python",
   "notebookMetadata": {
    "pythonIndentUnit": 4
   },
   "notebookName": "LEVEL17 T3",
   "widgets": {}
  }
 },
 "nbformat": 4,
 "nbformat_minor": 0
}