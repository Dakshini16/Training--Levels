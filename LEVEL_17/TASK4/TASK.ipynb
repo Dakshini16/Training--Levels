{
 "cells": [
  {
   "cell_type": "code",
   "execution_count": 0,
   "metadata": {
    "application/vnd.databricks.v1+cell": {
     "cellMetadata": {
      "byteLimit": 2048000,
      "rowLimit": 10000
     },
     "inputWidgets": {},
     "nuid": "4f1a1329-f8a6-47b2-a328-64a31aa94380",
     "showTitle": false,
     "tableResultSettingsMap": {},
     "title": ""
    }
   },
   "outputs": [
    {
     "output_type": "stream",
     "name": "stdout",
     "output_type": "stream",
     "text": [
      "root\n |-- year: integer (nullable = true)\n |-- series_type: timestamp (nullable = true)\n |-- series_name: string (nullable = true)\n |-- match_no: string (nullable = true)\n |-- match_type: string (nullable = true)\n |-- match_name: string (nullable = true)\n |-- match_href: string (nullable = true)\n |-- match_team1: string (nullable = true)\n |-- match_team2: string (nullable = true)\n |-- match_datetime_start: timestamp (nullable = true)\n |-- match_date_end: string (nullable = true)\n |-- match_venue: string (nullable = true)\n\n+----+-------------------+--------------------------+--------+----------+----------------------------------------------------------------+-----------------------------------------------------------------------------------------------+---------------------------+---------------------------+--------------------+--------------+-----------+\n|year|series_type        |series_name               |match_no|match_type|match_name                                                      |match_href                                                                                     |match_team1                |match_team2                |match_datetime_start|match_date_end|match_venue|\n+----+-------------------+--------------------------+--------+----------+----------------------------------------------------------------+-----------------------------------------------------------------------------------------------+---------------------------+---------------------------+--------------------+--------------+-----------+\n|2021|2025-04-09 20:00:00|Indian Premier League 2021|null    |League    |MUMBAI INDIANS vs ROYAL CHALLENGERS BENGALURU, 1st Match        |https://www.cricbuzz.com/cricket-scores/35612/mi-vs-rcb-1st-match-indian-premier-league-2021   |MUMBAI INDIANS             |ROYAL CHALLENGERS BENGALURU|2025-04-09 20:00:00 |null          |null       |\n|2021|2025-04-09 20:00:00|Indian Premier League 2021|null    |League    |CHENNAI SUPER KINGS vs DELHI CAPITALS, 2nd Match                |https://www.cricbuzz.com/cricket-scores/35617/csk-vs-dc-2nd-match-indian-premier-league-2021   |CHENNAI SUPER KINGS        |DELHI CAPITALS             |2025-04-09 20:00:00 |null          |null       |\n|2021|2025-04-09 20:00:00|Indian Premier League 2021|null    |League    |SUNRISERS HYDERABAD vs KOLKATA KNIGHT RIDERS, 3rd Match         |https://www.cricbuzz.com/cricket-scores/35618/srh-vs-kkr-3rd-match-indian-premier-league-2021  |SUNRISERS HYDERABAD        |KOLKATA KNIGHT RIDERS      |2025-04-09 20:00:00 |null          |null       |\n|2021|2025-04-09 20:00:00|Indian Premier League 2021|null    |League    |RAJASTHAN ROYALS vs PUNJAB KINGS, 4th Match                     |https://www.cricbuzz.com/cricket-scores/35622/rr-vs-pbks-4th-match-indian-premier-league-2021  |RAJASTHAN ROYALS           |PUNJAB KINGS               |2025-04-09 20:00:00 |null          |null       |\n|2021|2025-04-09 20:00:00|Indian Premier League 2021|null    |League    |KOLKATA KNIGHT RIDERS vs MUMBAI INDIANS, 5th Match              |https://www.cricbuzz.com/cricket-scores/35627/kkr-vs-mi-5th-match-indian-premier-league-2021   |KOLKATA KNIGHT RIDERS      |MUMBAI INDIANS             |2025-04-09 20:00:00 |null          |null       |\n|2021|2025-04-09 20:00:00|Indian Premier League 2021|null    |League    |SUNRISERS HYDERABAD vs ROYAL CHALLENGERS BENGALURU, 6th Match   |https://www.cricbuzz.com/cricket-scores/35628/srh-vs-rcb-6th-match-indian-premier-league-2021  |SUNRISERS HYDERABAD        |ROYAL CHALLENGERS BENGALURU|2025-04-09 20:00:00 |null          |null       |\n|2021|2025-04-09 20:00:00|Indian Premier League 2021|null    |League    |RAJASTHAN ROYALS vs DELHI CAPITALS, 7th Match                   |https://www.cricbuzz.com/cricket-scores/35632/rr-vs-dc-7th-match-indian-premier-league-2021    |RAJASTHAN ROYALS           |DELHI CAPITALS             |2025-04-09 20:00:00 |null          |null       |\n|2021|2025-04-09 20:00:00|Indian Premier League 2021|null    |League    |PUNJAB KINGS vs CHENNAI SUPER KINGS, 8th Match                  |https://www.cricbuzz.com/cricket-scores/35637/pbks-vs-csk-8th-match-indian-premier-league-2021 |PUNJAB KINGS               |CHENNAI SUPER KINGS        |2025-04-09 20:00:00 |null          |null       |\n|2021|2025-04-09 20:00:00|Indian Premier League 2021|null    |League    |MUMBAI INDIANS vs SUNRISERS HYDERABAD, 9th Match                |https://www.cricbuzz.com/cricket-scores/35642/mi-vs-srh-9th-match-indian-premier-league-2021   |MUMBAI INDIANS             |SUNRISERS HYDERABAD        |2025-04-09 20:00:00 |null          |null       |\n|2021|2025-04-09 20:00:00|Indian Premier League 2021|null    |League    |ROYAL CHALLENGERS BENGALURU vs KOLKATA KNIGHT RIDERS, 10th Match|https://www.cricbuzz.com/cricket-scores/35643/rcb-vs-kkr-10th-match-indian-premier-league-2021 |ROYAL CHALLENGERS BENGALURU|KOLKATA KNIGHT RIDERS      |2025-04-09 20:00:00 |null          |null       |\n|2021|2025-04-09 20:00:00|Indian Premier League 2021|null    |League    |DELHI CAPITALS vs PUNJAB KINGS, 11th Match                      |https://www.cricbuzz.com/cricket-scores/35647/dc-vs-pbks-11th-match-indian-premier-league-2021 |DELHI CAPITALS             |PUNJAB KINGS               |2025-04-09 20:00:00 |null          |null       |\n|2021|2025-04-09 20:00:00|Indian Premier League 2021|null    |League    |CHENNAI SUPER KINGS vs RAJASTHAN ROYALS, 12th Match             |https://www.cricbuzz.com/cricket-scores/35648/csk-vs-rr-12th-match-indian-premier-league-2021  |CHENNAI SUPER KINGS        |RAJASTHAN ROYALS           |2025-04-09 20:00:00 |null          |null       |\n|2021|2025-04-09 20:00:00|Indian Premier League 2021|null    |League    |DELHI CAPITALS vs MUMBAI INDIANS, 13th Match                    |https://www.cricbuzz.com/cricket-scores/35653/dc-vs-mi-13th-match-indian-premier-league-2021   |DELHI CAPITALS             |MUMBAI INDIANS             |2025-04-09 20:00:00 |null          |null       |\n|2021|2025-04-09 20:00:00|Indian Premier League 2021|null    |League    |PUNJAB KINGS vs SUNRISERS HYDERABAD, 14th Match                 |https://www.cricbuzz.com/cricket-scores/35657/pbks-vs-srh-14th-match-indian-premier-league-2021|PUNJAB KINGS               |SUNRISERS HYDERABAD        |2025-04-09 20:00:00 |null          |null       |\n|2021|2025-04-09 20:00:00|Indian Premier League 2021|null    |League    |KOLKATA KNIGHT RIDERS vs CHENNAI SUPER KINGS, 15th Match        |https://www.cricbuzz.com/cricket-scores/35662/kkr-vs-csk-15th-match-indian-premier-league-2021 |KOLKATA KNIGHT RIDERS      |CHENNAI SUPER KINGS        |2025-04-09 20:00:00 |null          |null       |\n|2021|2025-04-09 20:00:00|Indian Premier League 2021|null    |League    |ROYAL CHALLENGERS BENGALURU vs RAJASTHAN ROYALS, 16th Match     |https://www.cricbuzz.com/cricket-scores/35663/rcb-vs-rr-16th-match-indian-premier-league-2021  |ROYAL CHALLENGERS BENGALURU|RAJASTHAN ROYALS           |2025-04-09 20:00:00 |null          |null       |\n|2021|2025-04-09 20:00:00|Indian Premier League 2021|null    |League    |PUNJAB KINGS vs MUMBAI INDIANS, 17th Match                      |https://www.cricbuzz.com/cricket-scores/35668/pbks-vs-mi-17th-match-indian-premier-league-2021 |PUNJAB KINGS               |MUMBAI INDIANS             |2025-04-09 20:00:00 |null          |null       |\n|2021|2025-04-09 20:00:00|Indian Premier League 2021|null    |League    |RAJASTHAN ROYALS vs KOLKATA KNIGHT RIDERS, 18th Match           |https://www.cricbuzz.com/cricket-scores/35673/rr-vs-kkr-18th-match-indian-premier-league-2021  |RAJASTHAN ROYALS           |KOLKATA KNIGHT RIDERS      |2025-04-09 20:00:00 |null          |null       |\n|2021|2025-04-09 20:00:00|Indian Premier League 2021|null    |League    |CHENNAI SUPER KINGS vs ROYAL CHALLENGERS BENGALURU, 19th Match  |https://www.cricbuzz.com/cricket-scores/35678/csk-vs-rcb-19th-match-indian-premier-league-2021 |CHENNAI SUPER KINGS        |ROYAL CHALLENGERS BENGALURU|2025-04-09 20:00:00 |null          |null       |\n|2021|2025-04-09 20:00:00|Indian Premier League 2021|null    |League    |SUNRISERS HYDERABAD vs DELHI CAPITALS, 20th Match               |https://www.cricbuzz.com/cricket-scores/35683/srh-vs-dc-20th-match-indian-premier-league-2021  |SUNRISERS HYDERABAD        |DELHI CAPITALS             |2025-04-09 20:00:00 |null          |null       |\n+----+-------------------+--------------------------+--------+----------+----------------------------------------------------------------+-----------------------------------------------------------------------------------------------+---------------------------+---------------------------+--------------------+--------------+-----------+\nonly showing top 20 rows\n\n"
     ]
    }
   ],
   "source": [
    "\n",
    "df = spark.read.parquet(\"dbfs:/FileStore/ipl_final_cleaned.parquet\")\n",
    "\n",
    "df.printSchema()\n",
    "df.show(truncate=False)\n"
   ]
  },
  {
   "cell_type": "code",
   "execution_count": 0,
   "metadata": {
    "application/vnd.databricks.v1+cell": {
     "cellMetadata": {
      "byteLimit": 2048000,
      "rowLimit": 10000
     },
     "inputWidgets": {},
     "nuid": "9d13501b-3b94-4f0e-819f-6b1b0767f008",
     "showTitle": false,
     "tableResultSettingsMap": {},
     "title": ""
    }
   },
   "outputs": [
    {
     "output_type": "stream",
     "name": "stdout",
     "output_type": "stream",
     "text": [
      "+----+-------------------+--------------------------+--------+----------+----------------------------------------------------------------+-----------------------------------------------------------------------------------------------+---------------------------+---------------------------+--------------------+--------------+-----------+\n|year|series_type        |series_name               |match_no|match_type|match_name                                                      |match_href                                                                                     |match_team1                |match_team2                |match_datetime_start|match_date_end|match_venue|\n+----+-------------------+--------------------------+--------+----------+----------------------------------------------------------------+-----------------------------------------------------------------------------------------------+---------------------------+---------------------------+--------------------+--------------+-----------+\n|2021|2025-04-09 20:00:00|Indian Premier League 2021|null    |League    |MUMBAI INDIANS vs ROYAL CHALLENGERS BENGALURU, 1st Match        |https://www.cricbuzz.com/cricket-scores/35612/mi-vs-rcb-1st-match-indian-premier-league-2021   |MUMBAI INDIANS             |ROYAL CHALLENGERS BENGALURU|2025-04-09 20:00:00 |null          |null       |\n|2021|2025-04-09 20:00:00|Indian Premier League 2021|null    |League    |CHENNAI SUPER KINGS vs DELHI CAPITALS, 2nd Match                |https://www.cricbuzz.com/cricket-scores/35617/csk-vs-dc-2nd-match-indian-premier-league-2021   |CHENNAI SUPER KINGS        |DELHI CAPITALS             |2025-04-09 20:00:00 |null          |null       |\n|2021|2025-04-09 20:00:00|Indian Premier League 2021|null    |League    |SUNRISERS HYDERABAD vs KOLKATA KNIGHT RIDERS, 3rd Match         |https://www.cricbuzz.com/cricket-scores/35618/srh-vs-kkr-3rd-match-indian-premier-league-2021  |SUNRISERS HYDERABAD        |KOLKATA KNIGHT RIDERS      |2025-04-09 20:00:00 |null          |null       |\n|2021|2025-04-09 20:00:00|Indian Premier League 2021|null    |League    |RAJASTHAN ROYALS vs PUNJAB KINGS, 4th Match                     |https://www.cricbuzz.com/cricket-scores/35622/rr-vs-pbks-4th-match-indian-premier-league-2021  |RAJASTHAN ROYALS           |PUNJAB KINGS               |2025-04-09 20:00:00 |null          |null       |\n|2021|2025-04-09 20:00:00|Indian Premier League 2021|null    |League    |KOLKATA KNIGHT RIDERS vs MUMBAI INDIANS, 5th Match              |https://www.cricbuzz.com/cricket-scores/35627/kkr-vs-mi-5th-match-indian-premier-league-2021   |KOLKATA KNIGHT RIDERS      |MUMBAI INDIANS             |2025-04-09 20:00:00 |null          |null       |\n|2021|2025-04-09 20:00:00|Indian Premier League 2021|null    |League    |SUNRISERS HYDERABAD vs ROYAL CHALLENGERS BENGALURU, 6th Match   |https://www.cricbuzz.com/cricket-scores/35628/srh-vs-rcb-6th-match-indian-premier-league-2021  |SUNRISERS HYDERABAD        |ROYAL CHALLENGERS BENGALURU|2025-04-09 20:00:00 |null          |null       |\n|2021|2025-04-09 20:00:00|Indian Premier League 2021|null    |League    |RAJASTHAN ROYALS vs DELHI CAPITALS, 7th Match                   |https://www.cricbuzz.com/cricket-scores/35632/rr-vs-dc-7th-match-indian-premier-league-2021    |RAJASTHAN ROYALS           |DELHI CAPITALS             |2025-04-09 20:00:00 |null          |null       |\n|2021|2025-04-09 20:00:00|Indian Premier League 2021|null    |League    |PUNJAB KINGS vs CHENNAI SUPER KINGS, 8th Match                  |https://www.cricbuzz.com/cricket-scores/35637/pbks-vs-csk-8th-match-indian-premier-league-2021 |PUNJAB KINGS               |CHENNAI SUPER KINGS        |2025-04-09 20:00:00 |null          |null       |\n|2021|2025-04-09 20:00:00|Indian Premier League 2021|null    |League    |MUMBAI INDIANS vs SUNRISERS HYDERABAD, 9th Match                |https://www.cricbuzz.com/cricket-scores/35642/mi-vs-srh-9th-match-indian-premier-league-2021   |MUMBAI INDIANS             |SUNRISERS HYDERABAD        |2025-04-09 20:00:00 |null          |null       |\n|2021|2025-04-09 20:00:00|Indian Premier League 2021|null    |League    |ROYAL CHALLENGERS BENGALURU vs KOLKATA KNIGHT RIDERS, 10th Match|https://www.cricbuzz.com/cricket-scores/35643/rcb-vs-kkr-10th-match-indian-premier-league-2021 |ROYAL CHALLENGERS BENGALURU|KOLKATA KNIGHT RIDERS      |2025-04-09 20:00:00 |null          |null       |\n|2021|2025-04-09 20:00:00|Indian Premier League 2021|null    |League    |DELHI CAPITALS vs PUNJAB KINGS, 11th Match                      |https://www.cricbuzz.com/cricket-scores/35647/dc-vs-pbks-11th-match-indian-premier-league-2021 |DELHI CAPITALS             |PUNJAB KINGS               |2025-04-09 20:00:00 |null          |null       |\n|2021|2025-04-09 20:00:00|Indian Premier League 2021|null    |League    |CHENNAI SUPER KINGS vs RAJASTHAN ROYALS, 12th Match             |https://www.cricbuzz.com/cricket-scores/35648/csk-vs-rr-12th-match-indian-premier-league-2021  |CHENNAI SUPER KINGS        |RAJASTHAN ROYALS           |2025-04-09 20:00:00 |null          |null       |\n|2021|2025-04-09 20:00:00|Indian Premier League 2021|null    |League    |DELHI CAPITALS vs MUMBAI INDIANS, 13th Match                    |https://www.cricbuzz.com/cricket-scores/35653/dc-vs-mi-13th-match-indian-premier-league-2021   |DELHI CAPITALS             |MUMBAI INDIANS             |2025-04-09 20:00:00 |null          |null       |\n|2021|2025-04-09 20:00:00|Indian Premier League 2021|null    |League    |PUNJAB KINGS vs SUNRISERS HYDERABAD, 14th Match                 |https://www.cricbuzz.com/cricket-scores/35657/pbks-vs-srh-14th-match-indian-premier-league-2021|PUNJAB KINGS               |SUNRISERS HYDERABAD        |2025-04-09 20:00:00 |null          |null       |\n|2021|2025-04-09 20:00:00|Indian Premier League 2021|null    |League    |KOLKATA KNIGHT RIDERS vs CHENNAI SUPER KINGS, 15th Match        |https://www.cricbuzz.com/cricket-scores/35662/kkr-vs-csk-15th-match-indian-premier-league-2021 |KOLKATA KNIGHT RIDERS      |CHENNAI SUPER KINGS        |2025-04-09 20:00:00 |null          |null       |\n|2021|2025-04-09 20:00:00|Indian Premier League 2021|null    |League    |ROYAL CHALLENGERS BENGALURU vs RAJASTHAN ROYALS, 16th Match     |https://www.cricbuzz.com/cricket-scores/35663/rcb-vs-rr-16th-match-indian-premier-league-2021  |ROYAL CHALLENGERS BENGALURU|RAJASTHAN ROYALS           |2025-04-09 20:00:00 |null          |null       |\n|2021|2025-04-09 20:00:00|Indian Premier League 2021|null    |League    |PUNJAB KINGS vs MUMBAI INDIANS, 17th Match                      |https://www.cricbuzz.com/cricket-scores/35668/pbks-vs-mi-17th-match-indian-premier-league-2021 |PUNJAB KINGS               |MUMBAI INDIANS             |2025-04-09 20:00:00 |null          |null       |\n|2021|2025-04-09 20:00:00|Indian Premier League 2021|null    |League    |RAJASTHAN ROYALS vs KOLKATA KNIGHT RIDERS, 18th Match           |https://www.cricbuzz.com/cricket-scores/35673/rr-vs-kkr-18th-match-indian-premier-league-2021  |RAJASTHAN ROYALS           |KOLKATA KNIGHT RIDERS      |2025-04-09 20:00:00 |null          |null       |\n|2021|2025-04-09 20:00:00|Indian Premier League 2021|null    |League    |CHENNAI SUPER KINGS vs ROYAL CHALLENGERS BENGALURU, 19th Match  |https://www.cricbuzz.com/cricket-scores/35678/csk-vs-rcb-19th-match-indian-premier-league-2021 |CHENNAI SUPER KINGS        |ROYAL CHALLENGERS BENGALURU|2025-04-09 20:00:00 |null          |null       |\n|2021|2025-04-09 20:00:00|Indian Premier League 2021|null    |League    |SUNRISERS HYDERABAD vs DELHI CAPITALS, 20th Match               |https://www.cricbuzz.com/cricket-scores/35683/srh-vs-dc-20th-match-indian-premier-league-2021  |SUNRISERS HYDERABAD        |DELHI CAPITALS             |2025-04-09 20:00:00 |null          |null       |\n+----+-------------------+--------------------------+--------+----------+----------------------------------------------------------------+-----------------------------------------------------------------------------------------------+---------------------------+---------------------------+--------------------+--------------+-----------+\nonly showing top 20 rows\n\n"
     ]
    }
   ],
   "source": [
    "\n",
    "commentary_df = spark.read.parquet(\"dbfs:/FileStore/ipl_final_cleaned.parquet\")\n",
    "commentary_df.show(truncate=False)\n"
   ]
  },
  {
   "cell_type": "code",
   "execution_count": 0,
   "metadata": {
    "application/vnd.databricks.v1+cell": {
     "cellMetadata": {
      "byteLimit": 2048000,
      "rowLimit": 10000
     },
     "inputWidgets": {},
     "nuid": "a0cdec9b-2eb4-4581-8a2b-5191469487c9",
     "showTitle": false,
     "tableResultSettingsMap": {},
     "title": ""
    }
   },
   "outputs": [
    {
     "output_type": "stream",
     "name": "stdout",
     "output_type": "stream",
     "text": [
      "root\n |-- year: integer (nullable = true)\n |-- series_type: timestamp (nullable = true)\n |-- series_name: string (nullable = true)\n |-- match_no: string (nullable = true)\n |-- match_type: string (nullable = true)\n |-- match_name: string (nullable = true)\n |-- match_href: string (nullable = true)\n |-- match_team1: string (nullable = true)\n |-- match_team2: string (nullable = true)\n |-- match_datetime_start: timestamp (nullable = true)\n |-- match_date_end: string (nullable = true)\n |-- match_venue: string (nullable = true)\n\n"
     ]
    }
   ],
   "source": [
    "df = spark.read.parquet(\"dbfs:/FileStore/ipl_final_cleaned.parquet\")\n",
    "df.printSchema()\n"
   ]
  },
  {
   "cell_type": "code",
   "execution_count": 0,
   "metadata": {
    "application/vnd.databricks.v1+cell": {
     "cellMetadata": {
      "byteLimit": 2048000,
      "rowLimit": 10000
     },
     "inputWidgets": {},
     "nuid": "12789505-481b-436c-bdca-cd61decd2b52",
     "showTitle": false,
     "tableResultSettingsMap": {},
     "title": ""
    }
   },
   "outputs": [
    {
     "output_type": "display_data",
     "data": {
      "text/html": [
       "<style scoped>\n",
       "  .table-result-container {\n",
       "    max-height: 300px;\n",
       "    overflow: auto;\n",
       "  }\n",
       "  table, th, td {\n",
       "    border: 1px solid black;\n",
       "    border-collapse: collapse;\n",
       "  }\n",
       "  th, td {\n",
       "    padding: 5px;\n",
       "  }\n",
       "  th {\n",
       "    text-align: left;\n",
       "  }\n",
       "</style><div class='table-result-container'><table class='table-result'><thead style='background-color: white'><tr><th>path</th><th>name</th><th>size</th><th>modificationTime</th></tr></thead><tbody><tr><td>dbfs:/FileStore/ipl_cleaned.parquet/</td><td>ipl_cleaned.parquet/</td><td>0</td><td>0</td></tr><tr><td>dbfs:/FileStore/ipl_final_cleaned.parquet/</td><td>ipl_final_cleaned.parquet/</td><td>0</td><td>0</td></tr><tr><td>dbfs:/FileStore/ipl_validated.parquet/</td><td>ipl_validated.parquet/</td><td>0</td><td>0</td></tr><tr><td>dbfs:/FileStore/tables/</td><td>tables/</td><td>0</td><td>0</td></tr></tbody></table></div>"
      ]
     },
     "metadata": {
      "application/vnd.databricks.v1+output": {
       "addedWidgets": {},
       "aggData": [],
       "aggError": "",
       "aggOverflow": false,
       "aggSchema": [],
       "aggSeriesLimitReached": false,
       "aggType": "",
       "arguments": {},
       "columnCustomDisplayInfos": {},
       "data": [
        [
         "dbfs:/FileStore/ipl_cleaned.parquet/",
         "ipl_cleaned.parquet/",
         0,
         0
        ],
        [
         "dbfs:/FileStore/ipl_final_cleaned.parquet/",
         "ipl_final_cleaned.parquet/",
         0,
         0
        ],
        [
         "dbfs:/FileStore/ipl_validated.parquet/",
         "ipl_validated.parquet/",
         0,
         0
        ],
        [
         "dbfs:/FileStore/tables/",
         "tables/",
         0,
         0
        ]
       ],
       "datasetInfos": [],
       "dbfsResultPath": null,
       "isJsonSchema": true,
       "metadata": {},
       "overflow": false,
       "plotOptions": {
        "customPlotOptions": {},
        "displayType": "table",
        "pivotAggregation": null,
        "pivotColumns": null,
        "xColumns": null,
        "yColumns": null
       },
       "removedWidgets": [],
       "schema": [
        {
         "metadata": "{}",
         "name": "path",
         "type": "\"string\""
        },
        {
         "metadata": "{}",
         "name": "name",
         "type": "\"string\""
        },
        {
         "metadata": "{}",
         "name": "size",
         "type": "\"long\""
        },
        {
         "metadata": "{}",
         "name": "modificationTime",
         "type": "\"long\""
        }
       ],
       "type": "table"
      }
     },
     "output_type": "display_data"
    }
   ],
   "source": [
    "display(dbutils.fs.ls(\"dbfs:/FileStore/\"))\n"
   ]
  },
  {
   "cell_type": "code",
   "execution_count": 0,
   "metadata": {
    "application/vnd.databricks.v1+cell": {
     "cellMetadata": {
      "byteLimit": 2048000,
      "rowLimit": 10000
     },
     "inputWidgets": {},
     "nuid": "38af079d-60c5-4bf7-9575-019b359afbe4",
     "showTitle": false,
     "tableResultSettingsMap": {},
     "title": ""
    }
   },
   "outputs": [
    {
     "output_type": "stream",
     "name": "stdout",
     "output_type": "stream",
     "text": [
      "Requirement already satisfied: selenium in /local_disk0/.ephemeral_nfs/envs/pythonEnv-cb6d86e6-db4a-4d08-9802-3a7a95b3f700/lib/python3.9/site-packages (4.31.0)\r\nRequirement already satisfied: trio-websocket~=0.9 in /local_disk0/.ephemeral_nfs/envs/pythonEnv-cb6d86e6-db4a-4d08-9802-3a7a95b3f700/lib/python3.9/site-packages (from selenium) (0.12.2)\r\nRequirement already satisfied: urllib3[socks]<3,>=1.26 in /databricks/python3/lib/python3.9/site-packages (from selenium) (1.26.9)\r\nRequirement already satisfied: certifi>=2021.10.8 in /databricks/python3/lib/python3.9/site-packages (from selenium) (2021.10.8)\r\nRequirement already satisfied: typing_extensions~=4.9 in /local_disk0/.ephemeral_nfs/envs/pythonEnv-cb6d86e6-db4a-4d08-9802-3a7a95b3f700/lib/python3.9/site-packages (from selenium) (4.13.1)\r\nRequirement already satisfied: trio~=0.17 in /local_disk0/.ephemeral_nfs/envs/pythonEnv-cb6d86e6-db4a-4d08-9802-3a7a95b3f700/lib/python3.9/site-packages (from selenium) (0.29.0)\r\nRequirement already satisfied: websocket-client~=1.8 in /local_disk0/.ephemeral_nfs/envs/pythonEnv-cb6d86e6-db4a-4d08-9802-3a7a95b3f700/lib/python3.9/site-packages (from selenium) (1.8.0)\r\nRequirement already satisfied: attrs>=23.2.0 in /local_disk0/.ephemeral_nfs/envs/pythonEnv-cb6d86e6-db4a-4d08-9802-3a7a95b3f700/lib/python3.9/site-packages (from trio~=0.17->selenium) (25.3.0)\r\nRequirement already satisfied: exceptiongroup in /local_disk0/.ephemeral_nfs/envs/pythonEnv-cb6d86e6-db4a-4d08-9802-3a7a95b3f700/lib/python3.9/site-packages (from trio~=0.17->selenium) (1.2.2)\r\nRequirement already satisfied: idna in /databricks/python3/lib/python3.9/site-packages (from trio~=0.17->selenium) (3.3)\r\nRequirement already satisfied: sniffio>=1.3.0 in /local_disk0/.ephemeral_nfs/envs/pythonEnv-cb6d86e6-db4a-4d08-9802-3a7a95b3f700/lib/python3.9/site-packages (from trio~=0.17->selenium) (1.3.1)\r\nRequirement already satisfied: outcome in /local_disk0/.ephemeral_nfs/envs/pythonEnv-cb6d86e6-db4a-4d08-9802-3a7a95b3f700/lib/python3.9/site-packages (from trio~=0.17->selenium) (1.3.0.post0)\r\nRequirement already satisfied: sortedcontainers in /local_disk0/.ephemeral_nfs/envs/pythonEnv-cb6d86e6-db4a-4d08-9802-3a7a95b3f700/lib/python3.9/site-packages (from trio~=0.17->selenium) (2.4.0)\r\nRequirement already satisfied: wsproto>=0.14 in /local_disk0/.ephemeral_nfs/envs/pythonEnv-cb6d86e6-db4a-4d08-9802-3a7a95b3f700/lib/python3.9/site-packages (from trio-websocket~=0.9->selenium) (1.2.0)\r\nRequirement already satisfied: PySocks!=1.5.7,<2.0,>=1.5.6 in /local_disk0/.ephemeral_nfs/envs/pythonEnv-cb6d86e6-db4a-4d08-9802-3a7a95b3f700/lib/python3.9/site-packages (from urllib3[socks]<3,>=1.26->selenium) (1.7.1)\r\nRequirement already satisfied: h11<1,>=0.9.0 in /local_disk0/.ephemeral_nfs/envs/pythonEnv-cb6d86e6-db4a-4d08-9802-3a7a95b3f700/lib/python3.9/site-packages (from wsproto>=0.14->trio-websocket~=0.9->selenium) (0.14.0)\r\n\u001B[33mWARNING: You are using pip version 21.2.4; however, version 25.0.1 is available.\r\nYou should consider upgrading via the '/local_disk0/.ephemeral_nfs/envs/pythonEnv-cb6d86e6-db4a-4d08-9802-3a7a95b3f700/bin/python -m pip install --upgrade pip' command.\u001B[0m\r\n"
     ]
    }
   ],
   "source": [
    "!pip install selenium"
   ]
  },
  {
   "cell_type": "code",
   "execution_count": 0,
   "metadata": {
    "application/vnd.databricks.v1+cell": {
     "cellMetadata": {
      "byteLimit": 2048000,
      "rowLimit": 10000
     },
     "inputWidgets": {},
     "nuid": "91e0f5ee-46de-4de1-94ae-5113afb3682f",
     "showTitle": false,
     "tableResultSettingsMap": {},
     "title": ""
    }
   },
   "outputs": [
    {
     "output_type": "display_data",
     "data": {
      "text/html": [
       "<style scoped>\n",
       "  .table-result-container {\n",
       "    max-height: 300px;\n",
       "    overflow: auto;\n",
       "  }\n",
       "  table, th, td {\n",
       "    border: 1px solid black;\n",
       "    border-collapse: collapse;\n",
       "  }\n",
       "  th, td {\n",
       "    padding: 5px;\n",
       "  }\n",
       "  th {\n",
       "    text-align: left;\n",
       "  }\n",
       "</style><div class='table-result-container'><table class='table-result'><thead style='background-color: white'><tr><th>year</th><th>series_type</th><th>series_name</th><th>match_no</th><th>match_type</th><th>match_name</th><th>match_href</th><th>match_team1</th><th>match_team2</th><th>match_datetime_start</th><th>match_date_end</th><th>match_venue</th></tr></thead><tbody><tr><td>2021</td><td>2025-04-09T20:00:00.000+0000</td><td>Indian Premier League 2021</td><td>null</td><td>League</td><td>MUMBAI INDIANS vs ROYAL CHALLENGERS BENGALURU, 1st Match</td><td>https://www.cricbuzz.com/cricket-scores/35612/mi-vs-rcb-1st-match-indian-premier-league-2021</td><td>MUMBAI INDIANS</td><td>ROYAL CHALLENGERS BENGALURU</td><td>2025-04-09T20:00:00.000+0000</td><td>null</td><td>null</td></tr><tr><td>2021</td><td>2025-04-09T20:00:00.000+0000</td><td>Indian Premier League 2021</td><td>null</td><td>League</td><td>CHENNAI SUPER KINGS vs DELHI CAPITALS, 2nd Match</td><td>https://www.cricbuzz.com/cricket-scores/35617/csk-vs-dc-2nd-match-indian-premier-league-2021</td><td>CHENNAI SUPER KINGS</td><td>DELHI CAPITALS</td><td>2025-04-09T20:00:00.000+0000</td><td>null</td><td>null</td></tr><tr><td>2021</td><td>2025-04-09T20:00:00.000+0000</td><td>Indian Premier League 2021</td><td>null</td><td>League</td><td>SUNRISERS HYDERABAD vs KOLKATA KNIGHT RIDERS, 3rd Match</td><td>https://www.cricbuzz.com/cricket-scores/35618/srh-vs-kkr-3rd-match-indian-premier-league-2021</td><td>SUNRISERS HYDERABAD</td><td>KOLKATA KNIGHT RIDERS</td><td>2025-04-09T20:00:00.000+0000</td><td>null</td><td>null</td></tr><tr><td>2021</td><td>2025-04-09T20:00:00.000+0000</td><td>Indian Premier League 2021</td><td>null</td><td>League</td><td>RAJASTHAN ROYALS vs PUNJAB KINGS, 4th Match</td><td>https://www.cricbuzz.com/cricket-scores/35622/rr-vs-pbks-4th-match-indian-premier-league-2021</td><td>RAJASTHAN ROYALS</td><td>PUNJAB KINGS</td><td>2025-04-09T20:00:00.000+0000</td><td>null</td><td>null</td></tr><tr><td>2021</td><td>2025-04-09T20:00:00.000+0000</td><td>Indian Premier League 2021</td><td>null</td><td>League</td><td>KOLKATA KNIGHT RIDERS vs MUMBAI INDIANS, 5th Match</td><td>https://www.cricbuzz.com/cricket-scores/35627/kkr-vs-mi-5th-match-indian-premier-league-2021</td><td>KOLKATA KNIGHT RIDERS</td><td>MUMBAI INDIANS</td><td>2025-04-09T20:00:00.000+0000</td><td>null</td><td>null</td></tr><tr><td>2021</td><td>2025-04-09T20:00:00.000+0000</td><td>Indian Premier League 2021</td><td>null</td><td>League</td><td>SUNRISERS HYDERABAD vs ROYAL CHALLENGERS BENGALURU, 6th Match</td><td>https://www.cricbuzz.com/cricket-scores/35628/srh-vs-rcb-6th-match-indian-premier-league-2021</td><td>SUNRISERS HYDERABAD</td><td>ROYAL CHALLENGERS BENGALURU</td><td>2025-04-09T20:00:00.000+0000</td><td>null</td><td>null</td></tr><tr><td>2021</td><td>2025-04-09T20:00:00.000+0000</td><td>Indian Premier League 2021</td><td>null</td><td>League</td><td>RAJASTHAN ROYALS vs DELHI CAPITALS, 7th Match</td><td>https://www.cricbuzz.com/cricket-scores/35632/rr-vs-dc-7th-match-indian-premier-league-2021</td><td>RAJASTHAN ROYALS</td><td>DELHI CAPITALS</td><td>2025-04-09T20:00:00.000+0000</td><td>null</td><td>null</td></tr><tr><td>2021</td><td>2025-04-09T20:00:00.000+0000</td><td>Indian Premier League 2021</td><td>null</td><td>League</td><td>PUNJAB KINGS vs CHENNAI SUPER KINGS, 8th Match</td><td>https://www.cricbuzz.com/cricket-scores/35637/pbks-vs-csk-8th-match-indian-premier-league-2021</td><td>PUNJAB KINGS</td><td>CHENNAI SUPER KINGS</td><td>2025-04-09T20:00:00.000+0000</td><td>null</td><td>null</td></tr><tr><td>2021</td><td>2025-04-09T20:00:00.000+0000</td><td>Indian Premier League 2021</td><td>null</td><td>League</td><td>MUMBAI INDIANS vs SUNRISERS HYDERABAD, 9th Match</td><td>https://www.cricbuzz.com/cricket-scores/35642/mi-vs-srh-9th-match-indian-premier-league-2021</td><td>MUMBAI INDIANS</td><td>SUNRISERS HYDERABAD</td><td>2025-04-09T20:00:00.000+0000</td><td>null</td><td>null</td></tr><tr><td>2021</td><td>2025-04-09T20:00:00.000+0000</td><td>Indian Premier League 2021</td><td>null</td><td>League</td><td>ROYAL CHALLENGERS BENGALURU vs KOLKATA KNIGHT RIDERS, 10th Match</td><td>https://www.cricbuzz.com/cricket-scores/35643/rcb-vs-kkr-10th-match-indian-premier-league-2021</td><td>ROYAL CHALLENGERS BENGALURU</td><td>KOLKATA KNIGHT RIDERS</td><td>2025-04-09T20:00:00.000+0000</td><td>null</td><td>null</td></tr><tr><td>2021</td><td>2025-04-09T20:00:00.000+0000</td><td>Indian Premier League 2021</td><td>null</td><td>League</td><td>DELHI CAPITALS vs PUNJAB KINGS, 11th Match</td><td>https://www.cricbuzz.com/cricket-scores/35647/dc-vs-pbks-11th-match-indian-premier-league-2021</td><td>DELHI CAPITALS</td><td>PUNJAB KINGS</td><td>2025-04-09T20:00:00.000+0000</td><td>null</td><td>null</td></tr><tr><td>2021</td><td>2025-04-09T20:00:00.000+0000</td><td>Indian Premier League 2021</td><td>null</td><td>League</td><td>CHENNAI SUPER KINGS vs RAJASTHAN ROYALS, 12th Match</td><td>https://www.cricbuzz.com/cricket-scores/35648/csk-vs-rr-12th-match-indian-premier-league-2021</td><td>CHENNAI SUPER KINGS</td><td>RAJASTHAN ROYALS</td><td>2025-04-09T20:00:00.000+0000</td><td>null</td><td>null</td></tr><tr><td>2021</td><td>2025-04-09T20:00:00.000+0000</td><td>Indian Premier League 2021</td><td>null</td><td>League</td><td>DELHI CAPITALS vs MUMBAI INDIANS, 13th Match</td><td>https://www.cricbuzz.com/cricket-scores/35653/dc-vs-mi-13th-match-indian-premier-league-2021</td><td>DELHI CAPITALS</td><td>MUMBAI INDIANS</td><td>2025-04-09T20:00:00.000+0000</td><td>null</td><td>null</td></tr><tr><td>2021</td><td>2025-04-09T20:00:00.000+0000</td><td>Indian Premier League 2021</td><td>null</td><td>League</td><td>PUNJAB KINGS vs SUNRISERS HYDERABAD, 14th Match</td><td>https://www.cricbuzz.com/cricket-scores/35657/pbks-vs-srh-14th-match-indian-premier-league-2021</td><td>PUNJAB KINGS</td><td>SUNRISERS HYDERABAD</td><td>2025-04-09T20:00:00.000+0000</td><td>null</td><td>null</td></tr><tr><td>2021</td><td>2025-04-09T20:00:00.000+0000</td><td>Indian Premier League 2021</td><td>null</td><td>League</td><td>KOLKATA KNIGHT RIDERS vs CHENNAI SUPER KINGS, 15th Match</td><td>https://www.cricbuzz.com/cricket-scores/35662/kkr-vs-csk-15th-match-indian-premier-league-2021</td><td>KOLKATA KNIGHT RIDERS</td><td>CHENNAI SUPER KINGS</td><td>2025-04-09T20:00:00.000+0000</td><td>null</td><td>null</td></tr><tr><td>2021</td><td>2025-04-09T20:00:00.000+0000</td><td>Indian Premier League 2021</td><td>null</td><td>League</td><td>ROYAL CHALLENGERS BENGALURU vs RAJASTHAN ROYALS, 16th Match</td><td>https://www.cricbuzz.com/cricket-scores/35663/rcb-vs-rr-16th-match-indian-premier-league-2021</td><td>ROYAL CHALLENGERS BENGALURU</td><td>RAJASTHAN ROYALS</td><td>2025-04-09T20:00:00.000+0000</td><td>null</td><td>null</td></tr><tr><td>2021</td><td>2025-04-09T20:00:00.000+0000</td><td>Indian Premier League 2021</td><td>null</td><td>League</td><td>PUNJAB KINGS vs MUMBAI INDIANS, 17th Match</td><td>https://www.cricbuzz.com/cricket-scores/35668/pbks-vs-mi-17th-match-indian-premier-league-2021</td><td>PUNJAB KINGS</td><td>MUMBAI INDIANS</td><td>2025-04-09T20:00:00.000+0000</td><td>null</td><td>null</td></tr><tr><td>2021</td><td>2025-04-09T20:00:00.000+0000</td><td>Indian Premier League 2021</td><td>null</td><td>League</td><td>RAJASTHAN ROYALS vs KOLKATA KNIGHT RIDERS, 18th Match</td><td>https://www.cricbuzz.com/cricket-scores/35673/rr-vs-kkr-18th-match-indian-premier-league-2021</td><td>RAJASTHAN ROYALS</td><td>KOLKATA KNIGHT RIDERS</td><td>2025-04-09T20:00:00.000+0000</td><td>null</td><td>null</td></tr><tr><td>2021</td><td>2025-04-09T20:00:00.000+0000</td><td>Indian Premier League 2021</td><td>null</td><td>League</td><td>CHENNAI SUPER KINGS vs ROYAL CHALLENGERS BENGALURU, 19th Match</td><td>https://www.cricbuzz.com/cricket-scores/35678/csk-vs-rcb-19th-match-indian-premier-league-2021</td><td>CHENNAI SUPER KINGS</td><td>ROYAL CHALLENGERS BENGALURU</td><td>2025-04-09T20:00:00.000+0000</td><td>null</td><td>null</td></tr><tr><td>2021</td><td>2025-04-09T20:00:00.000+0000</td><td>Indian Premier League 2021</td><td>null</td><td>League</td><td>SUNRISERS HYDERABAD vs DELHI CAPITALS, 20th Match</td><td>https://www.cricbuzz.com/cricket-scores/35683/srh-vs-dc-20th-match-indian-premier-league-2021</td><td>SUNRISERS HYDERABAD</td><td>DELHI CAPITALS</td><td>2025-04-09T20:00:00.000+0000</td><td>null</td><td>null</td></tr><tr><td>2021</td><td>2025-04-09T20:00:00.000+0000</td><td>Indian Premier League 2021</td><td>null</td><td>League</td><td>PUNJAB KINGS vs KOLKATA KNIGHT RIDERS, 21st Match</td><td>https://www.cricbuzz.com/cricket-scores/35688/pbks-vs-kkr-21st-match-indian-premier-league-2021</td><td>PUNJAB KINGS</td><td>KOLKATA KNIGHT RIDERS</td><td>2025-04-09T20:00:00.000+0000</td><td>null</td><td>null</td></tr><tr><td>2021</td><td>2025-04-09T20:00:00.000+0000</td><td>Indian Premier League 2021</td><td>null</td><td>League</td><td>DELHI CAPITALS vs ROYAL CHALLENGERS BENGALURU, 22nd Match</td><td>https://www.cricbuzz.com/cricket-scores/35693/dc-vs-rcb-22nd-match-indian-premier-league-2021</td><td>DELHI CAPITALS</td><td>ROYAL CHALLENGERS BENGALURU</td><td>2025-04-09T20:00:00.000+0000</td><td>null</td><td>null</td></tr><tr><td>2021</td><td>2025-04-09T20:00:00.000+0000</td><td>Indian Premier League 2021</td><td>null</td><td>League</td><td>CHENNAI SUPER KINGS vs SUNRISERS HYDERABAD, 23rd Match</td><td>https://www.cricbuzz.com/cricket-scores/35698/csk-vs-srh-23rd-match-indian-premier-league-2021</td><td>CHENNAI SUPER KINGS</td><td>SUNRISERS HYDERABAD</td><td>2025-04-09T20:00:00.000+0000</td><td>null</td><td>null</td></tr><tr><td>2021</td><td>2025-04-09T20:00:00.000+0000</td><td>Indian Premier League 2021</td><td>null</td><td>League</td><td>MUMBAI INDIANS vs RAJASTHAN ROYALS, 24th Match</td><td>https://www.cricbuzz.com/cricket-scores/35702/mi-vs-rr-24th-match-indian-premier-league-2021</td><td>MUMBAI INDIANS</td><td>RAJASTHAN ROYALS</td><td>2025-04-09T20:00:00.000+0000</td><td>null</td><td>null</td></tr><tr><td>2021</td><td>2025-04-09T20:00:00.000+0000</td><td>Indian Premier League 2021</td><td>null</td><td>League</td><td>DELHI CAPITALS vs KOLKATA KNIGHT RIDERS, 25th Match</td><td>https://www.cricbuzz.com/cricket-scores/35703/dc-vs-kkr-25th-match-indian-premier-league-2021</td><td>DELHI CAPITALS</td><td>KOLKATA KNIGHT RIDERS</td><td>2025-04-09T20:00:00.000+0000</td><td>null</td><td>null</td></tr><tr><td>2021</td><td>2025-04-09T20:00:00.000+0000</td><td>Indian Premier League 2021</td><td>null</td><td>League</td><td>PUNJAB KINGS vs ROYAL CHALLENGERS BENGALURU, 26th Match</td><td>https://www.cricbuzz.com/cricket-scores/35708/pbks-vs-rcb-26th-match-indian-premier-league-2021</td><td>PUNJAB KINGS</td><td>ROYAL CHALLENGERS BENGALURU</td><td>2025-04-09T20:00:00.000+0000</td><td>null</td><td>null</td></tr><tr><td>2021</td><td>2025-04-09T20:00:00.000+0000</td><td>Indian Premier League 2021</td><td>null</td><td>League</td><td>MUMBAI INDIANS vs CHENNAI SUPER KINGS, 27th Match</td><td>https://www.cricbuzz.com/cricket-scores/35712/mi-vs-csk-27th-match-indian-premier-league-2021</td><td>MUMBAI INDIANS</td><td>CHENNAI SUPER KINGS</td><td>2025-04-09T20:00:00.000+0000</td><td>null</td><td>null</td></tr><tr><td>2021</td><td>2025-04-09T20:00:00.000+0000</td><td>Indian Premier League 2021</td><td>null</td><td>League</td><td>RAJASTHAN ROYALS vs SUNRISERS HYDERABAD, 28th Match</td><td>https://www.cricbuzz.com/cricket-scores/35713/rr-vs-srh-28th-match-indian-premier-league-2021</td><td>RAJASTHAN ROYALS</td><td>SUNRISERS HYDERABAD</td><td>2025-04-09T20:00:00.000+0000</td><td>null</td><td>null</td></tr><tr><td>2021</td><td>2025-04-09T20:00:00.000+0000</td><td>Indian Premier League 2021</td><td>null</td><td>League</td><td>PUNJAB KINGS vs DELHI CAPITALS, 29th Match</td><td>https://www.cricbuzz.com/cricket-scores/35717/pbks-vs-dc-29th-match-indian-premier-league-2021</td><td>PUNJAB KINGS</td><td>DELHI CAPITALS</td><td>2025-04-09T20:00:00.000+0000</td><td>null</td><td>null</td></tr><tr><td>2021</td><td>2025-04-09T20:00:00.000+0000</td><td>Indian Premier League 2021</td><td>null</td><td>League</td><td>KOLKATA KNIGHT RIDERS vs ROYAL CHALLENGERS BENGALURU, 30th Match</td><td>https://www.cricbuzz.com/cricket-scores/35718/kkr-vs-rcb-30th-match-indian-premier-league-2021</td><td>KOLKATA KNIGHT RIDERS</td><td>ROYAL CHALLENGERS BENGALURU</td><td>2025-04-09T20:00:00.000+0000</td><td>null</td><td>null</td></tr><tr><td>2021</td><td>2025-04-09T20:00:00.000+0000</td><td>Indian Premier League 2021</td><td>null</td><td>League</td><td>SUNRISERS HYDERABAD vs MUMBAI INDIANS, 31st Match</td><td>https://www.cricbuzz.com/cricket-scores/35723/srh-vs-mi-31st-match-indian-premier-league-2021</td><td>SUNRISERS HYDERABAD</td><td>MUMBAI INDIANS</td><td>2025-04-09T20:00:00.000+0000</td><td>null</td><td>null</td></tr><tr><td>2021</td><td>2025-04-09T20:00:00.000+0000</td><td>Indian Premier League 2021</td><td>null</td><td>League</td><td>CHENNAI SUPER KINGS vs MUMBAI INDIANS, 30th Match</td><td>https://www.cricbuzz.com/cricket-scores/37556/csk-vs-mi-30th-match-indian-premier-league-2021</td><td>CHENNAI SUPER KINGS</td><td>MUMBAI INDIANS</td><td>2025-04-09T20:00:00.000+0000</td><td>null</td><td>null</td></tr><tr><td>2021</td><td>2025-04-09T20:00:00.000+0000</td><td>Indian Premier League 2021</td><td>null</td><td>League</td><td>KOLKATA KNIGHT RIDERS vs ROYAL CHALLENGERS BENGALURU, 31st Match</td><td>https://www.cricbuzz.com/cricket-scores/37557/kkr-vs-rcb-31st-match-indian-premier-league-2021</td><td>KOLKATA KNIGHT RIDERS</td><td>ROYAL CHALLENGERS BENGALURU</td><td>2025-04-09T20:00:00.000+0000</td><td>null</td><td>null</td></tr><tr><td>2021</td><td>2025-04-09T20:00:00.000+0000</td><td>Indian Premier League 2021</td><td>null</td><td>League</td><td>PUNJAB KINGS vs RAJASTHAN ROYALS, 32nd Match</td><td>https://www.cricbuzz.com/cricket-scores/37562/pbks-vs-rr-32nd-match-indian-premier-league-2021</td><td>PUNJAB KINGS</td><td>RAJASTHAN ROYALS</td><td>2025-04-09T20:00:00.000+0000</td><td>null</td><td>null</td></tr><tr><td>2021</td><td>2025-04-09T20:00:00.000+0000</td><td>Indian Premier League 2021</td><td>null</td><td>League</td><td>DELHI CAPITALS vs SUNRISERS HYDERABAD, 33rd Match</td><td>https://www.cricbuzz.com/cricket-scores/37567/dc-vs-srh-33rd-match-indian-premier-league-2021</td><td>DELHI CAPITALS</td><td>SUNRISERS HYDERABAD</td><td>2025-04-09T20:00:00.000+0000</td><td>null</td><td>null</td></tr><tr><td>2021</td><td>2025-04-09T20:00:00.000+0000</td><td>Indian Premier League 2021</td><td>null</td><td>League</td><td>MUMBAI INDIANS vs KOLKATA KNIGHT RIDERS, 34th Match</td><td>https://www.cricbuzz.com/cricket-scores/37572/mi-vs-kkr-34th-match-indian-premier-league-2021</td><td>MUMBAI INDIANS</td><td>KOLKATA KNIGHT RIDERS</td><td>2025-04-09T20:00:00.000+0000</td><td>null</td><td>null</td></tr><tr><td>2021</td><td>2025-04-09T20:00:00.000+0000</td><td>Indian Premier League 2021</td><td>null</td><td>League</td><td>ROYAL CHALLENGERS BENGALURU vs CHENNAI SUPER KINGS, 35th Match</td><td>https://www.cricbuzz.com/cricket-scores/37577/rcb-vs-csk-35th-match-indian-premier-league-2021</td><td>ROYAL CHALLENGERS BENGALURU</td><td>CHENNAI SUPER KINGS</td><td>2025-04-09T20:00:00.000+0000</td><td>null</td><td>null</td></tr><tr><td>2021</td><td>2025-04-09T20:00:00.000+0000</td><td>Indian Premier League 2021</td><td>null</td><td>League</td><td>DELHI CAPITALS vs RAJASTHAN ROYALS, 36th Match</td><td>https://www.cricbuzz.com/cricket-scores/37581/dc-vs-rr-36th-match-indian-premier-league-2021</td><td>DELHI CAPITALS</td><td>RAJASTHAN ROYALS</td><td>2025-04-09T20:00:00.000+0000</td><td>null</td><td>null</td></tr><tr><td>2021</td><td>2025-04-09T20:00:00.000+0000</td><td>Indian Premier League 2021</td><td>null</td><td>League</td><td>SUNRISERS HYDERABAD vs PUNJAB KINGS, 37th Match</td><td>https://www.cricbuzz.com/cricket-scores/37582/srh-vs-pbks-37th-match-indian-premier-league-2021</td><td>SUNRISERS HYDERABAD</td><td>PUNJAB KINGS</td><td>2025-04-09T20:00:00.000+0000</td><td>null</td><td>null</td></tr><tr><td>2021</td><td>2025-04-09T20:00:00.000+0000</td><td>Indian Premier League 2021</td><td>null</td><td>League</td><td>CHENNAI SUPER KINGS vs KOLKATA KNIGHT RIDERS, 38th Match</td><td>https://www.cricbuzz.com/cricket-scores/37586/csk-vs-kkr-38th-match-indian-premier-league-2021</td><td>CHENNAI SUPER KINGS</td><td>KOLKATA KNIGHT RIDERS</td><td>2025-04-09T20:00:00.000+0000</td><td>null</td><td>null</td></tr><tr><td>2021</td><td>2025-04-09T20:00:00.000+0000</td><td>Indian Premier League 2021</td><td>null</td><td>League</td><td>ROYAL CHALLENGERS BENGALURU vs MUMBAI INDIANS, 39th Match</td><td>https://www.cricbuzz.com/cricket-scores/37591/rcb-vs-mi-39th-match-indian-premier-league-2021</td><td>ROYAL CHALLENGERS BENGALURU</td><td>MUMBAI INDIANS</td><td>2025-04-09T20:00:00.000+0000</td><td>null</td><td>null</td></tr><tr><td>2021</td><td>2025-04-09T20:00:00.000+0000</td><td>Indian Premier League 2021</td><td>null</td><td>League</td><td>SUNRISERS HYDERABAD vs RAJASTHAN ROYALS, 40th Match</td><td>https://www.cricbuzz.com/cricket-scores/37596/srh-vs-rr-40th-match-indian-premier-league-2021</td><td>SUNRISERS HYDERABAD</td><td>RAJASTHAN ROYALS</td><td>2025-04-09T20:00:00.000+0000</td><td>null</td><td>null</td></tr><tr><td>2021</td><td>2025-04-09T20:00:00.000+0000</td><td>Indian Premier League 2021</td><td>null</td><td>League</td><td>KOLKATA KNIGHT RIDERS vs DELHI CAPITALS, 41st Match</td><td>https://www.cricbuzz.com/cricket-scores/37601/kkr-vs-dc-41st-match-indian-premier-league-2021</td><td>KOLKATA KNIGHT RIDERS</td><td>DELHI CAPITALS</td><td>2025-04-09T20:00:00.000+0000</td><td>null</td><td>null</td></tr><tr><td>2021</td><td>2025-04-09T20:00:00.000+0000</td><td>Indian Premier League 2021</td><td>null</td><td>League</td><td>MUMBAI INDIANS vs PUNJAB KINGS, 42nd Match</td><td>https://www.cricbuzz.com/cricket-scores/37606/mi-vs-pbks-42nd-match-indian-premier-league-2021</td><td>MUMBAI INDIANS</td><td>PUNJAB KINGS</td><td>2025-04-09T20:00:00.000+0000</td><td>null</td><td>null</td></tr><tr><td>2021</td><td>2025-04-09T20:00:00.000+0000</td><td>Indian Premier League 2021</td><td>null</td><td>League</td><td>RAJASTHAN ROYALS vs ROYAL CHALLENGERS BENGALURU, 43rd Match</td><td>https://www.cricbuzz.com/cricket-scores/37611/rr-vs-rcb-43rd-match-indian-premier-league-2021</td><td>RAJASTHAN ROYALS</td><td>ROYAL CHALLENGERS BENGALURU</td><td>2025-04-09T20:00:00.000+0000</td><td>null</td><td>null</td></tr><tr><td>2021</td><td>2025-04-09T20:00:00.000+0000</td><td>Indian Premier League 2021</td><td>null</td><td>League</td><td>SUNRISERS HYDERABAD vs CHENNAI SUPER KINGS, 44th Match</td><td>https://www.cricbuzz.com/cricket-scores/37616/srh-vs-csk-44th-match-indian-premier-league-2021</td><td>SUNRISERS HYDERABAD</td><td>CHENNAI SUPER KINGS</td><td>2025-04-09T20:00:00.000+0000</td><td>null</td><td>null</td></tr><tr><td>2021</td><td>2025-04-09T20:00:00.000+0000</td><td>Indian Premier League 2021</td><td>null</td><td>League</td><td>KOLKATA KNIGHT RIDERS vs PUNJAB KINGS, 45th Match</td><td>https://www.cricbuzz.com/cricket-scores/37617/kkr-vs-pbks-45th-match-indian-premier-league-2021</td><td>KOLKATA KNIGHT RIDERS</td><td>PUNJAB KINGS</td><td>2025-04-09T20:00:00.000+0000</td><td>null</td><td>null</td></tr><tr><td>2021</td><td>2025-04-09T20:00:00.000+0000</td><td>Indian Premier League 2021</td><td>null</td><td>League</td><td>MUMBAI INDIANS vs DELHI CAPITALS, 46th Match</td><td>https://www.cricbuzz.com/cricket-scores/37621/mi-vs-dc-46th-match-indian-premier-league-2021</td><td>MUMBAI INDIANS</td><td>DELHI CAPITALS</td><td>2025-04-09T20:00:00.000+0000</td><td>null</td><td>null</td></tr><tr><td>2021</td><td>2025-04-09T20:00:00.000+0000</td><td>Indian Premier League 2021</td><td>null</td><td>League</td><td>RAJASTHAN ROYALS vs CHENNAI SUPER KINGS, 47th Match</td><td>https://www.cricbuzz.com/cricket-scores/37626/rr-vs-csk-47th-match-indian-premier-league-2021</td><td>RAJASTHAN ROYALS</td><td>CHENNAI SUPER KINGS</td><td>2025-04-09T20:00:00.000+0000</td><td>null</td><td>null</td></tr><tr><td>2021</td><td>2025-04-09T20:00:00.000+0000</td><td>Indian Premier League 2021</td><td>null</td><td>League</td><td>ROYAL CHALLENGERS BENGALURU vs PUNJAB KINGS, 48th Match</td><td>https://www.cricbuzz.com/cricket-scores/37627/rcb-vs-pbks-48th-match-indian-premier-league-2021</td><td>ROYAL CHALLENGERS BENGALURU</td><td>PUNJAB KINGS</td><td>2025-04-09T20:00:00.000+0000</td><td>null</td><td>null</td></tr><tr><td>2021</td><td>2025-04-09T20:00:00.000+0000</td><td>Indian Premier League 2021</td><td>null</td><td>League</td><td>KOLKATA KNIGHT RIDERS vs SUNRISERS HYDERABAD, 49th Match</td><td>https://www.cricbuzz.com/cricket-scores/37631/kkr-vs-srh-49th-match-indian-premier-league-2021</td><td>KOLKATA KNIGHT RIDERS</td><td>SUNRISERS HYDERABAD</td><td>2025-04-09T20:00:00.000+0000</td><td>null</td><td>null</td></tr><tr><td>2021</td><td>2025-04-09T20:00:00.000+0000</td><td>Indian Premier League 2021</td><td>null</td><td>League</td><td>DELHI CAPITALS vs CHENNAI SUPER KINGS, 50th Match</td><td>https://www.cricbuzz.com/cricket-scores/37632/dc-vs-csk-50th-match-indian-premier-league-2021</td><td>DELHI CAPITALS</td><td>CHENNAI SUPER KINGS</td><td>2025-04-09T20:00:00.000+0000</td><td>null</td><td>null</td></tr><tr><td>2021</td><td>2025-04-09T20:00:00.000+0000</td><td>Indian Premier League 2021</td><td>null</td><td>League</td><td>RAJASTHAN ROYALS vs MUMBAI INDIANS, 51st Match</td><td>https://www.cricbuzz.com/cricket-scores/37637/rr-vs-mi-51st-match-indian-premier-league-2021</td><td>RAJASTHAN ROYALS</td><td>MUMBAI INDIANS</td><td>2025-04-09T20:00:00.000+0000</td><td>null</td><td>null</td></tr><tr><td>2021</td><td>2025-04-09T20:00:00.000+0000</td><td>Indian Premier League 2021</td><td>null</td><td>League</td><td>ROYAL CHALLENGERS BENGALURU vs SUNRISERS HYDERABAD, 52nd Match</td><td>https://www.cricbuzz.com/cricket-scores/37642/rcb-vs-srh-52nd-match-indian-premier-league-2021</td><td>ROYAL CHALLENGERS BENGALURU</td><td>SUNRISERS HYDERABAD</td><td>2025-04-09T20:00:00.000+0000</td><td>null</td><td>null</td></tr><tr><td>2021</td><td>2025-04-09T20:00:00.000+0000</td><td>Indian Premier League 2021</td><td>null</td><td>League</td><td>CHENNAI SUPER KINGS vs PUNJAB KINGS, 53rd Match</td><td>https://www.cricbuzz.com/cricket-scores/37646/csk-vs-pbks-53rd-match-indian-premier-league-2021</td><td>CHENNAI SUPER KINGS</td><td>PUNJAB KINGS</td><td>2025-04-09T20:00:00.000+0000</td><td>null</td><td>null</td></tr><tr><td>2021</td><td>2025-04-09T20:00:00.000+0000</td><td>Indian Premier League 2021</td><td>null</td><td>League</td><td>KOLKATA KNIGHT RIDERS vs RAJASTHAN ROYALS, 54th Match</td><td>https://www.cricbuzz.com/cricket-scores/37651/kkr-vs-rr-54th-match-indian-premier-league-2021</td><td>KOLKATA KNIGHT RIDERS</td><td>RAJASTHAN ROYALS</td><td>2025-04-09T20:00:00.000+0000</td><td>null</td><td>null</td></tr><tr><td>2021</td><td>2025-04-09T20:00:00.000+0000</td><td>Indian Premier League 2021</td><td>null</td><td>League</td><td>SUNRISERS HYDERABAD vs MUMBAI INDIANS, 55th Match</td><td>https://www.cricbuzz.com/cricket-scores/37656/srh-vs-mi-55th-match-indian-premier-league-2021</td><td>SUNRISERS HYDERABAD</td><td>MUMBAI INDIANS</td><td>2025-04-09T20:00:00.000+0000</td><td>null</td><td>null</td></tr><tr><td>2021</td><td>2025-04-09T20:00:00.000+0000</td><td>Indian Premier League 2021</td><td>null</td><td>League</td><td>ROYAL CHALLENGERS BENGALURU vs DELHI CAPITALS, 56th Match</td><td>https://www.cricbuzz.com/cricket-scores/37661/rcb-vs-dc-56th-match-indian-premier-league-2021</td><td>ROYAL CHALLENGERS BENGALURU</td><td>DELHI CAPITALS</td><td>2025-04-09T20:00:00.000+0000</td><td>null</td><td>null</td></tr><tr><td>2021</td><td>2025-04-09T20:00:00.000+0000</td><td>Indian Premier League 2021</td><td>null</td><td>League</td><td>DELHI CAPITALS vs CHENNAI SUPER KINGS, Qualifier 1</td><td>https://www.cricbuzz.com/cricket-scores/37666/dc-vs-csk-qualifier-1-indian-premier-league-2021</td><td>DELHI CAPITALS</td><td>CHENNAI SUPER KINGS</td><td>2025-04-09T20:00:00.000+0000</td><td>null</td><td>null</td></tr><tr><td>2021</td><td>2025-04-09T20:00:00.000+0000</td><td>Indian Premier League 2021</td><td>null</td><td>League</td><td>ROYAL CHALLENGERS BENGALURU vs KOLKATA KNIGHT RIDERS, Eliminator</td><td>https://www.cricbuzz.com/cricket-scores/37671/rcb-vs-kkr-eliminator-indian-premier-league-2021</td><td>ROYAL CHALLENGERS BENGALURU</td><td>KOLKATA KNIGHT RIDERS</td><td>2025-04-09T20:00:00.000+0000</td><td>null</td><td>null</td></tr><tr><td>2021</td><td>2025-04-09T20:00:00.000+0000</td><td>Indian Premier League 2021</td><td>null</td><td>League</td><td>DELHI CAPITALS vs KOLKATA KNIGHT RIDERS, Qualifier 2</td><td>https://www.cricbuzz.com/cricket-scores/37672/dc-vs-kkr-qualifier-2-indian-premier-league-2021</td><td>DELHI CAPITALS</td><td>KOLKATA KNIGHT RIDERS</td><td>2025-04-09T20:00:00.000+0000</td><td>null</td><td>null</td></tr><tr><td>2021</td><td>2025-04-09T20:00:00.000+0000</td><td>Indian Premier League 2021</td><td>null</td><td>League</td><td>CHENNAI SUPER KINGS vs KOLKATA KNIGHT RIDERS, Final</td><td>https://www.cricbuzz.com/cricket-scores/37676/csk-vs-kkr-final-indian-premier-league-2021</td><td>CHENNAI SUPER KINGS</td><td>KOLKATA KNIGHT RIDERS</td><td>2025-04-09T20:00:00.000+0000</td><td>null</td><td>null</td></tr></tbody></table></div>"
      ]
     },
     "metadata": {
      "application/vnd.databricks.v1+output": {
       "addedWidgets": {},
       "aggData": [],
       "aggError": "",
       "aggOverflow": false,
       "aggSchema": [],
       "aggSeriesLimitReached": false,
       "aggType": "",
       "arguments": {},
       "columnCustomDisplayInfos": {},
       "data": [
        [
         2021,
         "2025-04-09T20:00:00.000+0000",
         "Indian Premier League 2021",
         null,
         "League",
         "MUMBAI INDIANS vs ROYAL CHALLENGERS BENGALURU, 1st Match",
         "https://www.cricbuzz.com/cricket-scores/35612/mi-vs-rcb-1st-match-indian-premier-league-2021",
         "MUMBAI INDIANS",
         "ROYAL CHALLENGERS BENGALURU",
         "2025-04-09T20:00:00.000+0000",
         null,
         null
        ],
        [
         2021,
         "2025-04-09T20:00:00.000+0000",
         "Indian Premier League 2021",
         null,
         "League",
         "CHENNAI SUPER KINGS vs DELHI CAPITALS, 2nd Match",
         "https://www.cricbuzz.com/cricket-scores/35617/csk-vs-dc-2nd-match-indian-premier-league-2021",
         "CHENNAI SUPER KINGS",
         "DELHI CAPITALS",
         "2025-04-09T20:00:00.000+0000",
         null,
         null
        ],
        [
         2021,
         "2025-04-09T20:00:00.000+0000",
         "Indian Premier League 2021",
         null,
         "League",
         "SUNRISERS HYDERABAD vs KOLKATA KNIGHT RIDERS, 3rd Match",
         "https://www.cricbuzz.com/cricket-scores/35618/srh-vs-kkr-3rd-match-indian-premier-league-2021",
         "SUNRISERS HYDERABAD",
         "KOLKATA KNIGHT RIDERS",
         "2025-04-09T20:00:00.000+0000",
         null,
         null
        ],
        [
         2021,
         "2025-04-09T20:00:00.000+0000",
         "Indian Premier League 2021",
         null,
         "League",
         "RAJASTHAN ROYALS vs PUNJAB KINGS, 4th Match",
         "https://www.cricbuzz.com/cricket-scores/35622/rr-vs-pbks-4th-match-indian-premier-league-2021",
         "RAJASTHAN ROYALS",
         "PUNJAB KINGS",
         "2025-04-09T20:00:00.000+0000",
         null,
         null
        ],
        [
         2021,
         "2025-04-09T20:00:00.000+0000",
         "Indian Premier League 2021",
         null,
         "League",
         "KOLKATA KNIGHT RIDERS vs MUMBAI INDIANS, 5th Match",
         "https://www.cricbuzz.com/cricket-scores/35627/kkr-vs-mi-5th-match-indian-premier-league-2021",
         "KOLKATA KNIGHT RIDERS",
         "MUMBAI INDIANS",
         "2025-04-09T20:00:00.000+0000",
         null,
         null
        ],
        [
         2021,
         "2025-04-09T20:00:00.000+0000",
         "Indian Premier League 2021",
         null,
         "League",
         "SUNRISERS HYDERABAD vs ROYAL CHALLENGERS BENGALURU, 6th Match",
         "https://www.cricbuzz.com/cricket-scores/35628/srh-vs-rcb-6th-match-indian-premier-league-2021",
         "SUNRISERS HYDERABAD",
         "ROYAL CHALLENGERS BENGALURU",
         "2025-04-09T20:00:00.000+0000",
         null,
         null
        ],
        [
         2021,
         "2025-04-09T20:00:00.000+0000",
         "Indian Premier League 2021",
         null,
         "League",
         "RAJASTHAN ROYALS vs DELHI CAPITALS, 7th Match",
         "https://www.cricbuzz.com/cricket-scores/35632/rr-vs-dc-7th-match-indian-premier-league-2021",
         "RAJASTHAN ROYALS",
         "DELHI CAPITALS",
         "2025-04-09T20:00:00.000+0000",
         null,
         null
        ],
        [
         2021,
         "2025-04-09T20:00:00.000+0000",
         "Indian Premier League 2021",
         null,
         "League",
         "PUNJAB KINGS vs CHENNAI SUPER KINGS, 8th Match",
         "https://www.cricbuzz.com/cricket-scores/35637/pbks-vs-csk-8th-match-indian-premier-league-2021",
         "PUNJAB KINGS",
         "CHENNAI SUPER KINGS",
         "2025-04-09T20:00:00.000+0000",
         null,
         null
        ],
        [
         2021,
         "2025-04-09T20:00:00.000+0000",
         "Indian Premier League 2021",
         null,
         "League",
         "MUMBAI INDIANS vs SUNRISERS HYDERABAD, 9th Match",
         "https://www.cricbuzz.com/cricket-scores/35642/mi-vs-srh-9th-match-indian-premier-league-2021",
         "MUMBAI INDIANS",
         "SUNRISERS HYDERABAD",
         "2025-04-09T20:00:00.000+0000",
         null,
         null
        ],
        [
         2021,
         "2025-04-09T20:00:00.000+0000",
         "Indian Premier League 2021",
         null,
         "League",
         "ROYAL CHALLENGERS BENGALURU vs KOLKATA KNIGHT RIDERS, 10th Match",
         "https://www.cricbuzz.com/cricket-scores/35643/rcb-vs-kkr-10th-match-indian-premier-league-2021",
         "ROYAL CHALLENGERS BENGALURU",
         "KOLKATA KNIGHT RIDERS",
         "2025-04-09T20:00:00.000+0000",
         null,
         null
        ],
        [
         2021,
         "2025-04-09T20:00:00.000+0000",
         "Indian Premier League 2021",
         null,
         "League",
         "DELHI CAPITALS vs PUNJAB KINGS, 11th Match",
         "https://www.cricbuzz.com/cricket-scores/35647/dc-vs-pbks-11th-match-indian-premier-league-2021",
         "DELHI CAPITALS",
         "PUNJAB KINGS",
         "2025-04-09T20:00:00.000+0000",
         null,
         null
        ],
        [
         2021,
         "2025-04-09T20:00:00.000+0000",
         "Indian Premier League 2021",
         null,
         "League",
         "CHENNAI SUPER KINGS vs RAJASTHAN ROYALS, 12th Match",
         "https://www.cricbuzz.com/cricket-scores/35648/csk-vs-rr-12th-match-indian-premier-league-2021",
         "CHENNAI SUPER KINGS",
         "RAJASTHAN ROYALS",
         "2025-04-09T20:00:00.000+0000",
         null,
         null
        ],
        [
         2021,
         "2025-04-09T20:00:00.000+0000",
         "Indian Premier League 2021",
         null,
         "League",
         "DELHI CAPITALS vs MUMBAI INDIANS, 13th Match",
         "https://www.cricbuzz.com/cricket-scores/35653/dc-vs-mi-13th-match-indian-premier-league-2021",
         "DELHI CAPITALS",
         "MUMBAI INDIANS",
         "2025-04-09T20:00:00.000+0000",
         null,
         null
        ],
        [
         2021,
         "2025-04-09T20:00:00.000+0000",
         "Indian Premier League 2021",
         null,
         "League",
         "PUNJAB KINGS vs SUNRISERS HYDERABAD, 14th Match",
         "https://www.cricbuzz.com/cricket-scores/35657/pbks-vs-srh-14th-match-indian-premier-league-2021",
         "PUNJAB KINGS",
         "SUNRISERS HYDERABAD",
         "2025-04-09T20:00:00.000+0000",
         null,
         null
        ],
        [
         2021,
         "2025-04-09T20:00:00.000+0000",
         "Indian Premier League 2021",
         null,
         "League",
         "KOLKATA KNIGHT RIDERS vs CHENNAI SUPER KINGS, 15th Match",
         "https://www.cricbuzz.com/cricket-scores/35662/kkr-vs-csk-15th-match-indian-premier-league-2021",
         "KOLKATA KNIGHT RIDERS",
         "CHENNAI SUPER KINGS",
         "2025-04-09T20:00:00.000+0000",
         null,
         null
        ],
        [
         2021,
         "2025-04-09T20:00:00.000+0000",
         "Indian Premier League 2021",
         null,
         "League",
         "ROYAL CHALLENGERS BENGALURU vs RAJASTHAN ROYALS, 16th Match",
         "https://www.cricbuzz.com/cricket-scores/35663/rcb-vs-rr-16th-match-indian-premier-league-2021",
         "ROYAL CHALLENGERS BENGALURU",
         "RAJASTHAN ROYALS",
         "2025-04-09T20:00:00.000+0000",
         null,
         null
        ],
        [
         2021,
         "2025-04-09T20:00:00.000+0000",
         "Indian Premier League 2021",
         null,
         "League",
         "PUNJAB KINGS vs MUMBAI INDIANS, 17th Match",
         "https://www.cricbuzz.com/cricket-scores/35668/pbks-vs-mi-17th-match-indian-premier-league-2021",
         "PUNJAB KINGS",
         "MUMBAI INDIANS",
         "2025-04-09T20:00:00.000+0000",
         null,
         null
        ],
        [
         2021,
         "2025-04-09T20:00:00.000+0000",
         "Indian Premier League 2021",
         null,
         "League",
         "RAJASTHAN ROYALS vs KOLKATA KNIGHT RIDERS, 18th Match",
         "https://www.cricbuzz.com/cricket-scores/35673/rr-vs-kkr-18th-match-indian-premier-league-2021",
         "RAJASTHAN ROYALS",
         "KOLKATA KNIGHT RIDERS",
         "2025-04-09T20:00:00.000+0000",
         null,
         null
        ],
        [
         2021,
         "2025-04-09T20:00:00.000+0000",
         "Indian Premier League 2021",
         null,
         "League",
         "CHENNAI SUPER KINGS vs ROYAL CHALLENGERS BENGALURU, 19th Match",
         "https://www.cricbuzz.com/cricket-scores/35678/csk-vs-rcb-19th-match-indian-premier-league-2021",
         "CHENNAI SUPER KINGS",
         "ROYAL CHALLENGERS BENGALURU",
         "2025-04-09T20:00:00.000+0000",
         null,
         null
        ],
        [
         2021,
         "2025-04-09T20:00:00.000+0000",
         "Indian Premier League 2021",
         null,
         "League",
         "SUNRISERS HYDERABAD vs DELHI CAPITALS, 20th Match",
         "https://www.cricbuzz.com/cricket-scores/35683/srh-vs-dc-20th-match-indian-premier-league-2021",
         "SUNRISERS HYDERABAD",
         "DELHI CAPITALS",
         "2025-04-09T20:00:00.000+0000",
         null,
         null
        ],
        [
         2021,
         "2025-04-09T20:00:00.000+0000",
         "Indian Premier League 2021",
         null,
         "League",
         "PUNJAB KINGS vs KOLKATA KNIGHT RIDERS, 21st Match",
         "https://www.cricbuzz.com/cricket-scores/35688/pbks-vs-kkr-21st-match-indian-premier-league-2021",
         "PUNJAB KINGS",
         "KOLKATA KNIGHT RIDERS",
         "2025-04-09T20:00:00.000+0000",
         null,
         null
        ],
        [
         2021,
         "2025-04-09T20:00:00.000+0000",
         "Indian Premier League 2021",
         null,
         "League",
         "DELHI CAPITALS vs ROYAL CHALLENGERS BENGALURU, 22nd Match",
         "https://www.cricbuzz.com/cricket-scores/35693/dc-vs-rcb-22nd-match-indian-premier-league-2021",
         "DELHI CAPITALS",
         "ROYAL CHALLENGERS BENGALURU",
         "2025-04-09T20:00:00.000+0000",
         null,
         null
        ],
        [
         2021,
         "2025-04-09T20:00:00.000+0000",
         "Indian Premier League 2021",
         null,
         "League",
         "CHENNAI SUPER KINGS vs SUNRISERS HYDERABAD, 23rd Match",
         "https://www.cricbuzz.com/cricket-scores/35698/csk-vs-srh-23rd-match-indian-premier-league-2021",
         "CHENNAI SUPER KINGS",
         "SUNRISERS HYDERABAD",
         "2025-04-09T20:00:00.000+0000",
         null,
         null
        ],
        [
         2021,
         "2025-04-09T20:00:00.000+0000",
         "Indian Premier League 2021",
         null,
         "League",
         "MUMBAI INDIANS vs RAJASTHAN ROYALS, 24th Match",
         "https://www.cricbuzz.com/cricket-scores/35702/mi-vs-rr-24th-match-indian-premier-league-2021",
         "MUMBAI INDIANS",
         "RAJASTHAN ROYALS",
         "2025-04-09T20:00:00.000+0000",
         null,
         null
        ],
        [
         2021,
         "2025-04-09T20:00:00.000+0000",
         "Indian Premier League 2021",
         null,
         "League",
         "DELHI CAPITALS vs KOLKATA KNIGHT RIDERS, 25th Match",
         "https://www.cricbuzz.com/cricket-scores/35703/dc-vs-kkr-25th-match-indian-premier-league-2021",
         "DELHI CAPITALS",
         "KOLKATA KNIGHT RIDERS",
         "2025-04-09T20:00:00.000+0000",
         null,
         null
        ],
        [
         2021,
         "2025-04-09T20:00:00.000+0000",
         "Indian Premier League 2021",
         null,
         "League",
         "PUNJAB KINGS vs ROYAL CHALLENGERS BENGALURU, 26th Match",
         "https://www.cricbuzz.com/cricket-scores/35708/pbks-vs-rcb-26th-match-indian-premier-league-2021",
         "PUNJAB KINGS",
         "ROYAL CHALLENGERS BENGALURU",
         "2025-04-09T20:00:00.000+0000",
         null,
         null
        ],
        [
         2021,
         "2025-04-09T20:00:00.000+0000",
         "Indian Premier League 2021",
         null,
         "League",
         "MUMBAI INDIANS vs CHENNAI SUPER KINGS, 27th Match",
         "https://www.cricbuzz.com/cricket-scores/35712/mi-vs-csk-27th-match-indian-premier-league-2021",
         "MUMBAI INDIANS",
         "CHENNAI SUPER KINGS",
         "2025-04-09T20:00:00.000+0000",
         null,
         null
        ],
        [
         2021,
         "2025-04-09T20:00:00.000+0000",
         "Indian Premier League 2021",
         null,
         "League",
         "RAJASTHAN ROYALS vs SUNRISERS HYDERABAD, 28th Match",
         "https://www.cricbuzz.com/cricket-scores/35713/rr-vs-srh-28th-match-indian-premier-league-2021",
         "RAJASTHAN ROYALS",
         "SUNRISERS HYDERABAD",
         "2025-04-09T20:00:00.000+0000",
         null,
         null
        ],
        [
         2021,
         "2025-04-09T20:00:00.000+0000",
         "Indian Premier League 2021",
         null,
         "League",
         "PUNJAB KINGS vs DELHI CAPITALS, 29th Match",
         "https://www.cricbuzz.com/cricket-scores/35717/pbks-vs-dc-29th-match-indian-premier-league-2021",
         "PUNJAB KINGS",
         "DELHI CAPITALS",
         "2025-04-09T20:00:00.000+0000",
         null,
         null
        ],
        [
         2021,
         "2025-04-09T20:00:00.000+0000",
         "Indian Premier League 2021",
         null,
         "League",
         "KOLKATA KNIGHT RIDERS vs ROYAL CHALLENGERS BENGALURU, 30th Match",
         "https://www.cricbuzz.com/cricket-scores/35718/kkr-vs-rcb-30th-match-indian-premier-league-2021",
         "KOLKATA KNIGHT RIDERS",
         "ROYAL CHALLENGERS BENGALURU",
         "2025-04-09T20:00:00.000+0000",
         null,
         null
        ],
        [
         2021,
         "2025-04-09T20:00:00.000+0000",
         "Indian Premier League 2021",
         null,
         "League",
         "SUNRISERS HYDERABAD vs MUMBAI INDIANS, 31st Match",
         "https://www.cricbuzz.com/cricket-scores/35723/srh-vs-mi-31st-match-indian-premier-league-2021",
         "SUNRISERS HYDERABAD",
         "MUMBAI INDIANS",
         "2025-04-09T20:00:00.000+0000",
         null,
         null
        ],
        [
         2021,
         "2025-04-09T20:00:00.000+0000",
         "Indian Premier League 2021",
         null,
         "League",
         "CHENNAI SUPER KINGS vs MUMBAI INDIANS, 30th Match",
         "https://www.cricbuzz.com/cricket-scores/37556/csk-vs-mi-30th-match-indian-premier-league-2021",
         "CHENNAI SUPER KINGS",
         "MUMBAI INDIANS",
         "2025-04-09T20:00:00.000+0000",
         null,
         null
        ],
        [
         2021,
         "2025-04-09T20:00:00.000+0000",
         "Indian Premier League 2021",
         null,
         "League",
         "KOLKATA KNIGHT RIDERS vs ROYAL CHALLENGERS BENGALURU, 31st Match",
         "https://www.cricbuzz.com/cricket-scores/37557/kkr-vs-rcb-31st-match-indian-premier-league-2021",
         "KOLKATA KNIGHT RIDERS",
         "ROYAL CHALLENGERS BENGALURU",
         "2025-04-09T20:00:00.000+0000",
         null,
         null
        ],
        [
         2021,
         "2025-04-09T20:00:00.000+0000",
         "Indian Premier League 2021",
         null,
         "League",
         "PUNJAB KINGS vs RAJASTHAN ROYALS, 32nd Match",
         "https://www.cricbuzz.com/cricket-scores/37562/pbks-vs-rr-32nd-match-indian-premier-league-2021",
         "PUNJAB KINGS",
         "RAJASTHAN ROYALS",
         "2025-04-09T20:00:00.000+0000",
         null,
         null
        ],
        [
         2021,
         "2025-04-09T20:00:00.000+0000",
         "Indian Premier League 2021",
         null,
         "League",
         "DELHI CAPITALS vs SUNRISERS HYDERABAD, 33rd Match",
         "https://www.cricbuzz.com/cricket-scores/37567/dc-vs-srh-33rd-match-indian-premier-league-2021",
         "DELHI CAPITALS",
         "SUNRISERS HYDERABAD",
         "2025-04-09T20:00:00.000+0000",
         null,
         null
        ],
        [
         2021,
         "2025-04-09T20:00:00.000+0000",
         "Indian Premier League 2021",
         null,
         "League",
         "MUMBAI INDIANS vs KOLKATA KNIGHT RIDERS, 34th Match",
         "https://www.cricbuzz.com/cricket-scores/37572/mi-vs-kkr-34th-match-indian-premier-league-2021",
         "MUMBAI INDIANS",
         "KOLKATA KNIGHT RIDERS",
         "2025-04-09T20:00:00.000+0000",
         null,
         null
        ],
        [
         2021,
         "2025-04-09T20:00:00.000+0000",
         "Indian Premier League 2021",
         null,
         "League",
         "ROYAL CHALLENGERS BENGALURU vs CHENNAI SUPER KINGS, 35th Match",
         "https://www.cricbuzz.com/cricket-scores/37577/rcb-vs-csk-35th-match-indian-premier-league-2021",
         "ROYAL CHALLENGERS BENGALURU",
         "CHENNAI SUPER KINGS",
         "2025-04-09T20:00:00.000+0000",
         null,
         null
        ],
        [
         2021,
         "2025-04-09T20:00:00.000+0000",
         "Indian Premier League 2021",
         null,
         "League",
         "DELHI CAPITALS vs RAJASTHAN ROYALS, 36th Match",
         "https://www.cricbuzz.com/cricket-scores/37581/dc-vs-rr-36th-match-indian-premier-league-2021",
         "DELHI CAPITALS",
         "RAJASTHAN ROYALS",
         "2025-04-09T20:00:00.000+0000",
         null,
         null
        ],
        [
         2021,
         "2025-04-09T20:00:00.000+0000",
         "Indian Premier League 2021",
         null,
         "League",
         "SUNRISERS HYDERABAD vs PUNJAB KINGS, 37th Match",
         "https://www.cricbuzz.com/cricket-scores/37582/srh-vs-pbks-37th-match-indian-premier-league-2021",
         "SUNRISERS HYDERABAD",
         "PUNJAB KINGS",
         "2025-04-09T20:00:00.000+0000",
         null,
         null
        ],
        [
         2021,
         "2025-04-09T20:00:00.000+0000",
         "Indian Premier League 2021",
         null,
         "League",
         "CHENNAI SUPER KINGS vs KOLKATA KNIGHT RIDERS, 38th Match",
         "https://www.cricbuzz.com/cricket-scores/37586/csk-vs-kkr-38th-match-indian-premier-league-2021",
         "CHENNAI SUPER KINGS",
         "KOLKATA KNIGHT RIDERS",
         "2025-04-09T20:00:00.000+0000",
         null,
         null
        ],
        [
         2021,
         "2025-04-09T20:00:00.000+0000",
         "Indian Premier League 2021",
         null,
         "League",
         "ROYAL CHALLENGERS BENGALURU vs MUMBAI INDIANS, 39th Match",
         "https://www.cricbuzz.com/cricket-scores/37591/rcb-vs-mi-39th-match-indian-premier-league-2021",
         "ROYAL CHALLENGERS BENGALURU",
         "MUMBAI INDIANS",
         "2025-04-09T20:00:00.000+0000",
         null,
         null
        ],
        [
         2021,
         "2025-04-09T20:00:00.000+0000",
         "Indian Premier League 2021",
         null,
         "League",
         "SUNRISERS HYDERABAD vs RAJASTHAN ROYALS, 40th Match",
         "https://www.cricbuzz.com/cricket-scores/37596/srh-vs-rr-40th-match-indian-premier-league-2021",
         "SUNRISERS HYDERABAD",
         "RAJASTHAN ROYALS",
         "2025-04-09T20:00:00.000+0000",
         null,
         null
        ],
        [
         2021,
         "2025-04-09T20:00:00.000+0000",
         "Indian Premier League 2021",
         null,
         "League",
         "KOLKATA KNIGHT RIDERS vs DELHI CAPITALS, 41st Match",
         "https://www.cricbuzz.com/cricket-scores/37601/kkr-vs-dc-41st-match-indian-premier-league-2021",
         "KOLKATA KNIGHT RIDERS",
         "DELHI CAPITALS",
         "2025-04-09T20:00:00.000+0000",
         null,
         null
        ],
        [
         2021,
         "2025-04-09T20:00:00.000+0000",
         "Indian Premier League 2021",
         null,
         "League",
         "MUMBAI INDIANS vs PUNJAB KINGS, 42nd Match",
         "https://www.cricbuzz.com/cricket-scores/37606/mi-vs-pbks-42nd-match-indian-premier-league-2021",
         "MUMBAI INDIANS",
         "PUNJAB KINGS",
         "2025-04-09T20:00:00.000+0000",
         null,
         null
        ],
        [
         2021,
         "2025-04-09T20:00:00.000+0000",
         "Indian Premier League 2021",
         null,
         "League",
         "RAJASTHAN ROYALS vs ROYAL CHALLENGERS BENGALURU, 43rd Match",
         "https://www.cricbuzz.com/cricket-scores/37611/rr-vs-rcb-43rd-match-indian-premier-league-2021",
         "RAJASTHAN ROYALS",
         "ROYAL CHALLENGERS BENGALURU",
         "2025-04-09T20:00:00.000+0000",
         null,
         null
        ],
        [
         2021,
         "2025-04-09T20:00:00.000+0000",
         "Indian Premier League 2021",
         null,
         "League",
         "SUNRISERS HYDERABAD vs CHENNAI SUPER KINGS, 44th Match",
         "https://www.cricbuzz.com/cricket-scores/37616/srh-vs-csk-44th-match-indian-premier-league-2021",
         "SUNRISERS HYDERABAD",
         "CHENNAI SUPER KINGS",
         "2025-04-09T20:00:00.000+0000",
         null,
         null
        ],
        [
         2021,
         "2025-04-09T20:00:00.000+0000",
         "Indian Premier League 2021",
         null,
         "League",
         "KOLKATA KNIGHT RIDERS vs PUNJAB KINGS, 45th Match",
         "https://www.cricbuzz.com/cricket-scores/37617/kkr-vs-pbks-45th-match-indian-premier-league-2021",
         "KOLKATA KNIGHT RIDERS",
         "PUNJAB KINGS",
         "2025-04-09T20:00:00.000+0000",
         null,
         null
        ],
        [
         2021,
         "2025-04-09T20:00:00.000+0000",
         "Indian Premier League 2021",
         null,
         "League",
         "MUMBAI INDIANS vs DELHI CAPITALS, 46th Match",
         "https://www.cricbuzz.com/cricket-scores/37621/mi-vs-dc-46th-match-indian-premier-league-2021",
         "MUMBAI INDIANS",
         "DELHI CAPITALS",
         "2025-04-09T20:00:00.000+0000",
         null,
         null
        ],
        [
         2021,
         "2025-04-09T20:00:00.000+0000",
         "Indian Premier League 2021",
         null,
         "League",
         "RAJASTHAN ROYALS vs CHENNAI SUPER KINGS, 47th Match",
         "https://www.cricbuzz.com/cricket-scores/37626/rr-vs-csk-47th-match-indian-premier-league-2021",
         "RAJASTHAN ROYALS",
         "CHENNAI SUPER KINGS",
         "2025-04-09T20:00:00.000+0000",
         null,
         null
        ],
        [
         2021,
         "2025-04-09T20:00:00.000+0000",
         "Indian Premier League 2021",
         null,
         "League",
         "ROYAL CHALLENGERS BENGALURU vs PUNJAB KINGS, 48th Match",
         "https://www.cricbuzz.com/cricket-scores/37627/rcb-vs-pbks-48th-match-indian-premier-league-2021",
         "ROYAL CHALLENGERS BENGALURU",
         "PUNJAB KINGS",
         "2025-04-09T20:00:00.000+0000",
         null,
         null
        ],
        [
         2021,
         "2025-04-09T20:00:00.000+0000",
         "Indian Premier League 2021",
         null,
         "League",
         "KOLKATA KNIGHT RIDERS vs SUNRISERS HYDERABAD, 49th Match",
         "https://www.cricbuzz.com/cricket-scores/37631/kkr-vs-srh-49th-match-indian-premier-league-2021",
         "KOLKATA KNIGHT RIDERS",
         "SUNRISERS HYDERABAD",
         "2025-04-09T20:00:00.000+0000",
         null,
         null
        ],
        [
         2021,
         "2025-04-09T20:00:00.000+0000",
         "Indian Premier League 2021",
         null,
         "League",
         "DELHI CAPITALS vs CHENNAI SUPER KINGS, 50th Match",
         "https://www.cricbuzz.com/cricket-scores/37632/dc-vs-csk-50th-match-indian-premier-league-2021",
         "DELHI CAPITALS",
         "CHENNAI SUPER KINGS",
         "2025-04-09T20:00:00.000+0000",
         null,
         null
        ],
        [
         2021,
         "2025-04-09T20:00:00.000+0000",
         "Indian Premier League 2021",
         null,
         "League",
         "RAJASTHAN ROYALS vs MUMBAI INDIANS, 51st Match",
         "https://www.cricbuzz.com/cricket-scores/37637/rr-vs-mi-51st-match-indian-premier-league-2021",
         "RAJASTHAN ROYALS",
         "MUMBAI INDIANS",
         "2025-04-09T20:00:00.000+0000",
         null,
         null
        ],
        [
         2021,
         "2025-04-09T20:00:00.000+0000",
         "Indian Premier League 2021",
         null,
         "League",
         "ROYAL CHALLENGERS BENGALURU vs SUNRISERS HYDERABAD, 52nd Match",
         "https://www.cricbuzz.com/cricket-scores/37642/rcb-vs-srh-52nd-match-indian-premier-league-2021",
         "ROYAL CHALLENGERS BENGALURU",
         "SUNRISERS HYDERABAD",
         "2025-04-09T20:00:00.000+0000",
         null,
         null
        ],
        [
         2021,
         "2025-04-09T20:00:00.000+0000",
         "Indian Premier League 2021",
         null,
         "League",
         "CHENNAI SUPER KINGS vs PUNJAB KINGS, 53rd Match",
         "https://www.cricbuzz.com/cricket-scores/37646/csk-vs-pbks-53rd-match-indian-premier-league-2021",
         "CHENNAI SUPER KINGS",
         "PUNJAB KINGS",
         "2025-04-09T20:00:00.000+0000",
         null,
         null
        ],
        [
         2021,
         "2025-04-09T20:00:00.000+0000",
         "Indian Premier League 2021",
         null,
         "League",
         "KOLKATA KNIGHT RIDERS vs RAJASTHAN ROYALS, 54th Match",
         "https://www.cricbuzz.com/cricket-scores/37651/kkr-vs-rr-54th-match-indian-premier-league-2021",
         "KOLKATA KNIGHT RIDERS",
         "RAJASTHAN ROYALS",
         "2025-04-09T20:00:00.000+0000",
         null,
         null
        ],
        [
         2021,
         "2025-04-09T20:00:00.000+0000",
         "Indian Premier League 2021",
         null,
         "League",
         "SUNRISERS HYDERABAD vs MUMBAI INDIANS, 55th Match",
         "https://www.cricbuzz.com/cricket-scores/37656/srh-vs-mi-55th-match-indian-premier-league-2021",
         "SUNRISERS HYDERABAD",
         "MUMBAI INDIANS",
         "2025-04-09T20:00:00.000+0000",
         null,
         null
        ],
        [
         2021,
         "2025-04-09T20:00:00.000+0000",
         "Indian Premier League 2021",
         null,
         "League",
         "ROYAL CHALLENGERS BENGALURU vs DELHI CAPITALS, 56th Match",
         "https://www.cricbuzz.com/cricket-scores/37661/rcb-vs-dc-56th-match-indian-premier-league-2021",
         "ROYAL CHALLENGERS BENGALURU",
         "DELHI CAPITALS",
         "2025-04-09T20:00:00.000+0000",
         null,
         null
        ],
        [
         2021,
         "2025-04-09T20:00:00.000+0000",
         "Indian Premier League 2021",
         null,
         "League",
         "DELHI CAPITALS vs CHENNAI SUPER KINGS, Qualifier 1",
         "https://www.cricbuzz.com/cricket-scores/37666/dc-vs-csk-qualifier-1-indian-premier-league-2021",
         "DELHI CAPITALS",
         "CHENNAI SUPER KINGS",
         "2025-04-09T20:00:00.000+0000",
         null,
         null
        ],
        [
         2021,
         "2025-04-09T20:00:00.000+0000",
         "Indian Premier League 2021",
         null,
         "League",
         "ROYAL CHALLENGERS BENGALURU vs KOLKATA KNIGHT RIDERS, Eliminator",
         "https://www.cricbuzz.com/cricket-scores/37671/rcb-vs-kkr-eliminator-indian-premier-league-2021",
         "ROYAL CHALLENGERS BENGALURU",
         "KOLKATA KNIGHT RIDERS",
         "2025-04-09T20:00:00.000+0000",
         null,
         null
        ],
        [
         2021,
         "2025-04-09T20:00:00.000+0000",
         "Indian Premier League 2021",
         null,
         "League",
         "DELHI CAPITALS vs KOLKATA KNIGHT RIDERS, Qualifier 2",
         "https://www.cricbuzz.com/cricket-scores/37672/dc-vs-kkr-qualifier-2-indian-premier-league-2021",
         "DELHI CAPITALS",
         "KOLKATA KNIGHT RIDERS",
         "2025-04-09T20:00:00.000+0000",
         null,
         null
        ],
        [
         2021,
         "2025-04-09T20:00:00.000+0000",
         "Indian Premier League 2021",
         null,
         "League",
         "CHENNAI SUPER KINGS vs KOLKATA KNIGHT RIDERS, Final",
         "https://www.cricbuzz.com/cricket-scores/37676/csk-vs-kkr-final-indian-premier-league-2021",
         "CHENNAI SUPER KINGS",
         "KOLKATA KNIGHT RIDERS",
         "2025-04-09T20:00:00.000+0000",
         null,
         null
        ]
       ],
       "datasetInfos": [],
       "dbfsResultPath": null,
       "isJsonSchema": true,
       "metadata": {},
       "overflow": false,
       "plotOptions": {
        "customPlotOptions": {},
        "displayType": "table",
        "pivotAggregation": null,
        "pivotColumns": null,
        "xColumns": null,
        "yColumns": null
       },
       "removedWidgets": [],
       "schema": [
        {
         "metadata": "{}",
         "name": "year",
         "type": "\"integer\""
        },
        {
         "metadata": "{}",
         "name": "series_type",
         "type": "\"timestamp\""
        },
        {
         "metadata": "{}",
         "name": "series_name",
         "type": "\"string\""
        },
        {
         "metadata": "{}",
         "name": "match_no",
         "type": "\"string\""
        },
        {
         "metadata": "{}",
         "name": "match_type",
         "type": "\"string\""
        },
        {
         "metadata": "{}",
         "name": "match_name",
         "type": "\"string\""
        },
        {
         "metadata": "{}",
         "name": "match_href",
         "type": "\"string\""
        },
        {
         "metadata": "{}",
         "name": "match_team1",
         "type": "\"string\""
        },
        {
         "metadata": "{}",
         "name": "match_team2",
         "type": "\"string\""
        },
        {
         "metadata": "{}",
         "name": "match_datetime_start",
         "type": "\"timestamp\""
        },
        {
         "metadata": "{}",
         "name": "match_date_end",
         "type": "\"string\""
        },
        {
         "metadata": "{}",
         "name": "match_venue",
         "type": "\"string\""
        }
       ],
       "type": "table"
      }
     },
     "output_type": "display_data"
    }
   ],
   "source": [
    "\n",
    "ipl_df = spark.read.parquet(\"dbfs:/FileStore/ipl_cleaned.parquet/\")\n",
    "ipl_df.display()\n"
   ]
  },
  {
   "cell_type": "code",
   "execution_count": 0,
   "metadata": {
    "application/vnd.databricks.v1+cell": {
     "cellMetadata": {
      "byteLimit": 2048000,
      "rowLimit": 10000
     },
     "inputWidgets": {},
     "nuid": "00f8a223-e121-49d3-b0bd-5ebf974007c0",
     "showTitle": false,
     "tableResultSettingsMap": {},
     "title": ""
    }
   },
   "outputs": [
    {
     "output_type": "display_data",
     "data": {
      "text/html": [
       "<style scoped>\n",
       "  .table-result-container {\n",
       "    max-height: 300px;\n",
       "    overflow: auto;\n",
       "  }\n",
       "  table, th, td {\n",
       "    border: 1px solid black;\n",
       "    border-collapse: collapse;\n",
       "  }\n",
       "  th, td {\n",
       "    padding: 5px;\n",
       "  }\n",
       "  th {\n",
       "    text-align: left;\n",
       "  }\n",
       "</style><div class='table-result-container'><table class='table-result'><thead style='background-color: white'><tr><th>match_name</th><th>match_date</th><th>match_time</th></tr></thead><tbody><tr><td>MUMBAI INDIANS vs ROYAL CHALLENGERS BENGALURU, 1st Match</td><td>2025-04-09</td><td>20:00:00</td></tr><tr><td>CHENNAI SUPER KINGS vs DELHI CAPITALS, 2nd Match</td><td>2025-04-09</td><td>20:00:00</td></tr><tr><td>SUNRISERS HYDERABAD vs KOLKATA KNIGHT RIDERS, 3rd Match</td><td>2025-04-09</td><td>20:00:00</td></tr><tr><td>RAJASTHAN ROYALS vs PUNJAB KINGS, 4th Match</td><td>2025-04-09</td><td>20:00:00</td></tr><tr><td>KOLKATA KNIGHT RIDERS vs MUMBAI INDIANS, 5th Match</td><td>2025-04-09</td><td>20:00:00</td></tr><tr><td>SUNRISERS HYDERABAD vs ROYAL CHALLENGERS BENGALURU, 6th Match</td><td>2025-04-09</td><td>20:00:00</td></tr><tr><td>RAJASTHAN ROYALS vs DELHI CAPITALS, 7th Match</td><td>2025-04-09</td><td>20:00:00</td></tr><tr><td>PUNJAB KINGS vs CHENNAI SUPER KINGS, 8th Match</td><td>2025-04-09</td><td>20:00:00</td></tr><tr><td>MUMBAI INDIANS vs SUNRISERS HYDERABAD, 9th Match</td><td>2025-04-09</td><td>20:00:00</td></tr><tr><td>ROYAL CHALLENGERS BENGALURU vs KOLKATA KNIGHT RIDERS, 10th Match</td><td>2025-04-09</td><td>20:00:00</td></tr><tr><td>DELHI CAPITALS vs PUNJAB KINGS, 11th Match</td><td>2025-04-09</td><td>20:00:00</td></tr><tr><td>CHENNAI SUPER KINGS vs RAJASTHAN ROYALS, 12th Match</td><td>2025-04-09</td><td>20:00:00</td></tr><tr><td>DELHI CAPITALS vs MUMBAI INDIANS, 13th Match</td><td>2025-04-09</td><td>20:00:00</td></tr><tr><td>PUNJAB KINGS vs SUNRISERS HYDERABAD, 14th Match</td><td>2025-04-09</td><td>20:00:00</td></tr><tr><td>KOLKATA KNIGHT RIDERS vs CHENNAI SUPER KINGS, 15th Match</td><td>2025-04-09</td><td>20:00:00</td></tr><tr><td>ROYAL CHALLENGERS BENGALURU vs RAJASTHAN ROYALS, 16th Match</td><td>2025-04-09</td><td>20:00:00</td></tr><tr><td>PUNJAB KINGS vs MUMBAI INDIANS, 17th Match</td><td>2025-04-09</td><td>20:00:00</td></tr><tr><td>RAJASTHAN ROYALS vs KOLKATA KNIGHT RIDERS, 18th Match</td><td>2025-04-09</td><td>20:00:00</td></tr><tr><td>CHENNAI SUPER KINGS vs ROYAL CHALLENGERS BENGALURU, 19th Match</td><td>2025-04-09</td><td>20:00:00</td></tr><tr><td>SUNRISERS HYDERABAD vs DELHI CAPITALS, 20th Match</td><td>2025-04-09</td><td>20:00:00</td></tr><tr><td>PUNJAB KINGS vs KOLKATA KNIGHT RIDERS, 21st Match</td><td>2025-04-09</td><td>20:00:00</td></tr><tr><td>DELHI CAPITALS vs ROYAL CHALLENGERS BENGALURU, 22nd Match</td><td>2025-04-09</td><td>20:00:00</td></tr><tr><td>CHENNAI SUPER KINGS vs SUNRISERS HYDERABAD, 23rd Match</td><td>2025-04-09</td><td>20:00:00</td></tr><tr><td>MUMBAI INDIANS vs RAJASTHAN ROYALS, 24th Match</td><td>2025-04-09</td><td>20:00:00</td></tr><tr><td>DELHI CAPITALS vs KOLKATA KNIGHT RIDERS, 25th Match</td><td>2025-04-09</td><td>20:00:00</td></tr><tr><td>PUNJAB KINGS vs ROYAL CHALLENGERS BENGALURU, 26th Match</td><td>2025-04-09</td><td>20:00:00</td></tr><tr><td>MUMBAI INDIANS vs CHENNAI SUPER KINGS, 27th Match</td><td>2025-04-09</td><td>20:00:00</td></tr><tr><td>RAJASTHAN ROYALS vs SUNRISERS HYDERABAD, 28th Match</td><td>2025-04-09</td><td>20:00:00</td></tr><tr><td>PUNJAB KINGS vs DELHI CAPITALS, 29th Match</td><td>2025-04-09</td><td>20:00:00</td></tr><tr><td>KOLKATA KNIGHT RIDERS vs ROYAL CHALLENGERS BENGALURU, 30th Match</td><td>2025-04-09</td><td>20:00:00</td></tr><tr><td>SUNRISERS HYDERABAD vs MUMBAI INDIANS, 31st Match</td><td>2025-04-09</td><td>20:00:00</td></tr><tr><td>CHENNAI SUPER KINGS vs MUMBAI INDIANS, 30th Match</td><td>2025-04-09</td><td>20:00:00</td></tr><tr><td>KOLKATA KNIGHT RIDERS vs ROYAL CHALLENGERS BENGALURU, 31st Match</td><td>2025-04-09</td><td>20:00:00</td></tr><tr><td>PUNJAB KINGS vs RAJASTHAN ROYALS, 32nd Match</td><td>2025-04-09</td><td>20:00:00</td></tr><tr><td>DELHI CAPITALS vs SUNRISERS HYDERABAD, 33rd Match</td><td>2025-04-09</td><td>20:00:00</td></tr><tr><td>MUMBAI INDIANS vs KOLKATA KNIGHT RIDERS, 34th Match</td><td>2025-04-09</td><td>20:00:00</td></tr><tr><td>ROYAL CHALLENGERS BENGALURU vs CHENNAI SUPER KINGS, 35th Match</td><td>2025-04-09</td><td>20:00:00</td></tr><tr><td>DELHI CAPITALS vs RAJASTHAN ROYALS, 36th Match</td><td>2025-04-09</td><td>20:00:00</td></tr><tr><td>SUNRISERS HYDERABAD vs PUNJAB KINGS, 37th Match</td><td>2025-04-09</td><td>20:00:00</td></tr><tr><td>CHENNAI SUPER KINGS vs KOLKATA KNIGHT RIDERS, 38th Match</td><td>2025-04-09</td><td>20:00:00</td></tr><tr><td>ROYAL CHALLENGERS BENGALURU vs MUMBAI INDIANS, 39th Match</td><td>2025-04-09</td><td>20:00:00</td></tr><tr><td>SUNRISERS HYDERABAD vs RAJASTHAN ROYALS, 40th Match</td><td>2025-04-09</td><td>20:00:00</td></tr><tr><td>KOLKATA KNIGHT RIDERS vs DELHI CAPITALS, 41st Match</td><td>2025-04-09</td><td>20:00:00</td></tr><tr><td>MUMBAI INDIANS vs PUNJAB KINGS, 42nd Match</td><td>2025-04-09</td><td>20:00:00</td></tr><tr><td>RAJASTHAN ROYALS vs ROYAL CHALLENGERS BENGALURU, 43rd Match</td><td>2025-04-09</td><td>20:00:00</td></tr><tr><td>SUNRISERS HYDERABAD vs CHENNAI SUPER KINGS, 44th Match</td><td>2025-04-09</td><td>20:00:00</td></tr><tr><td>KOLKATA KNIGHT RIDERS vs PUNJAB KINGS, 45th Match</td><td>2025-04-09</td><td>20:00:00</td></tr><tr><td>MUMBAI INDIANS vs DELHI CAPITALS, 46th Match</td><td>2025-04-09</td><td>20:00:00</td></tr><tr><td>RAJASTHAN ROYALS vs CHENNAI SUPER KINGS, 47th Match</td><td>2025-04-09</td><td>20:00:00</td></tr><tr><td>ROYAL CHALLENGERS BENGALURU vs PUNJAB KINGS, 48th Match</td><td>2025-04-09</td><td>20:00:00</td></tr><tr><td>KOLKATA KNIGHT RIDERS vs SUNRISERS HYDERABAD, 49th Match</td><td>2025-04-09</td><td>20:00:00</td></tr><tr><td>DELHI CAPITALS vs CHENNAI SUPER KINGS, 50th Match</td><td>2025-04-09</td><td>20:00:00</td></tr><tr><td>RAJASTHAN ROYALS vs MUMBAI INDIANS, 51st Match</td><td>2025-04-09</td><td>20:00:00</td></tr><tr><td>ROYAL CHALLENGERS BENGALURU vs SUNRISERS HYDERABAD, 52nd Match</td><td>2025-04-09</td><td>20:00:00</td></tr><tr><td>CHENNAI SUPER KINGS vs PUNJAB KINGS, 53rd Match</td><td>2025-04-09</td><td>20:00:00</td></tr><tr><td>KOLKATA KNIGHT RIDERS vs RAJASTHAN ROYALS, 54th Match</td><td>2025-04-09</td><td>20:00:00</td></tr><tr><td>SUNRISERS HYDERABAD vs MUMBAI INDIANS, 55th Match</td><td>2025-04-09</td><td>20:00:00</td></tr><tr><td>ROYAL CHALLENGERS BENGALURU vs DELHI CAPITALS, 56th Match</td><td>2025-04-09</td><td>20:00:00</td></tr><tr><td>DELHI CAPITALS vs CHENNAI SUPER KINGS, Qualifier 1</td><td>2025-04-09</td><td>20:00:00</td></tr><tr><td>ROYAL CHALLENGERS BENGALURU vs KOLKATA KNIGHT RIDERS, Eliminator</td><td>2025-04-09</td><td>20:00:00</td></tr><tr><td>DELHI CAPITALS vs KOLKATA KNIGHT RIDERS, Qualifier 2</td><td>2025-04-09</td><td>20:00:00</td></tr><tr><td>CHENNAI SUPER KINGS vs KOLKATA KNIGHT RIDERS, Final</td><td>2025-04-09</td><td>20:00:00</td></tr></tbody></table></div>"
      ]
     },
     "metadata": {
      "application/vnd.databricks.v1+output": {
       "addedWidgets": {},
       "aggData": [],
       "aggError": "",
       "aggOverflow": false,
       "aggSchema": [],
       "aggSeriesLimitReached": false,
       "aggType": "",
       "arguments": {},
       "columnCustomDisplayInfos": {},
       "data": [
        [
         "MUMBAI INDIANS vs ROYAL CHALLENGERS BENGALURU, 1st Match",
         "2025-04-09",
         "20:00:00"
        ],
        [
         "CHENNAI SUPER KINGS vs DELHI CAPITALS, 2nd Match",
         "2025-04-09",
         "20:00:00"
        ],
        [
         "SUNRISERS HYDERABAD vs KOLKATA KNIGHT RIDERS, 3rd Match",
         "2025-04-09",
         "20:00:00"
        ],
        [
         "RAJASTHAN ROYALS vs PUNJAB KINGS, 4th Match",
         "2025-04-09",
         "20:00:00"
        ],
        [
         "KOLKATA KNIGHT RIDERS vs MUMBAI INDIANS, 5th Match",
         "2025-04-09",
         "20:00:00"
        ],
        [
         "SUNRISERS HYDERABAD vs ROYAL CHALLENGERS BENGALURU, 6th Match",
         "2025-04-09",
         "20:00:00"
        ],
        [
         "RAJASTHAN ROYALS vs DELHI CAPITALS, 7th Match",
         "2025-04-09",
         "20:00:00"
        ],
        [
         "PUNJAB KINGS vs CHENNAI SUPER KINGS, 8th Match",
         "2025-04-09",
         "20:00:00"
        ],
        [
         "MUMBAI INDIANS vs SUNRISERS HYDERABAD, 9th Match",
         "2025-04-09",
         "20:00:00"
        ],
        [
         "ROYAL CHALLENGERS BENGALURU vs KOLKATA KNIGHT RIDERS, 10th Match",
         "2025-04-09",
         "20:00:00"
        ],
        [
         "DELHI CAPITALS vs PUNJAB KINGS, 11th Match",
         "2025-04-09",
         "20:00:00"
        ],
        [
         "CHENNAI SUPER KINGS vs RAJASTHAN ROYALS, 12th Match",
         "2025-04-09",
         "20:00:00"
        ],
        [
         "DELHI CAPITALS vs MUMBAI INDIANS, 13th Match",
         "2025-04-09",
         "20:00:00"
        ],
        [
         "PUNJAB KINGS vs SUNRISERS HYDERABAD, 14th Match",
         "2025-04-09",
         "20:00:00"
        ],
        [
         "KOLKATA KNIGHT RIDERS vs CHENNAI SUPER KINGS, 15th Match",
         "2025-04-09",
         "20:00:00"
        ],
        [
         "ROYAL CHALLENGERS BENGALURU vs RAJASTHAN ROYALS, 16th Match",
         "2025-04-09",
         "20:00:00"
        ],
        [
         "PUNJAB KINGS vs MUMBAI INDIANS, 17th Match",
         "2025-04-09",
         "20:00:00"
        ],
        [
         "RAJASTHAN ROYALS vs KOLKATA KNIGHT RIDERS, 18th Match",
         "2025-04-09",
         "20:00:00"
        ],
        [
         "CHENNAI SUPER KINGS vs ROYAL CHALLENGERS BENGALURU, 19th Match",
         "2025-04-09",
         "20:00:00"
        ],
        [
         "SUNRISERS HYDERABAD vs DELHI CAPITALS, 20th Match",
         "2025-04-09",
         "20:00:00"
        ],
        [
         "PUNJAB KINGS vs KOLKATA KNIGHT RIDERS, 21st Match",
         "2025-04-09",
         "20:00:00"
        ],
        [
         "DELHI CAPITALS vs ROYAL CHALLENGERS BENGALURU, 22nd Match",
         "2025-04-09",
         "20:00:00"
        ],
        [
         "CHENNAI SUPER KINGS vs SUNRISERS HYDERABAD, 23rd Match",
         "2025-04-09",
         "20:00:00"
        ],
        [
         "MUMBAI INDIANS vs RAJASTHAN ROYALS, 24th Match",
         "2025-04-09",
         "20:00:00"
        ],
        [
         "DELHI CAPITALS vs KOLKATA KNIGHT RIDERS, 25th Match",
         "2025-04-09",
         "20:00:00"
        ],
        [
         "PUNJAB KINGS vs ROYAL CHALLENGERS BENGALURU, 26th Match",
         "2025-04-09",
         "20:00:00"
        ],
        [
         "MUMBAI INDIANS vs CHENNAI SUPER KINGS, 27th Match",
         "2025-04-09",
         "20:00:00"
        ],
        [
         "RAJASTHAN ROYALS vs SUNRISERS HYDERABAD, 28th Match",
         "2025-04-09",
         "20:00:00"
        ],
        [
         "PUNJAB KINGS vs DELHI CAPITALS, 29th Match",
         "2025-04-09",
         "20:00:00"
        ],
        [
         "KOLKATA KNIGHT RIDERS vs ROYAL CHALLENGERS BENGALURU, 30th Match",
         "2025-04-09",
         "20:00:00"
        ],
        [
         "SUNRISERS HYDERABAD vs MUMBAI INDIANS, 31st Match",
         "2025-04-09",
         "20:00:00"
        ],
        [
         "CHENNAI SUPER KINGS vs MUMBAI INDIANS, 30th Match",
         "2025-04-09",
         "20:00:00"
        ],
        [
         "KOLKATA KNIGHT RIDERS vs ROYAL CHALLENGERS BENGALURU, 31st Match",
         "2025-04-09",
         "20:00:00"
        ],
        [
         "PUNJAB KINGS vs RAJASTHAN ROYALS, 32nd Match",
         "2025-04-09",
         "20:00:00"
        ],
        [
         "DELHI CAPITALS vs SUNRISERS HYDERABAD, 33rd Match",
         "2025-04-09",
         "20:00:00"
        ],
        [
         "MUMBAI INDIANS vs KOLKATA KNIGHT RIDERS, 34th Match",
         "2025-04-09",
         "20:00:00"
        ],
        [
         "ROYAL CHALLENGERS BENGALURU vs CHENNAI SUPER KINGS, 35th Match",
         "2025-04-09",
         "20:00:00"
        ],
        [
         "DELHI CAPITALS vs RAJASTHAN ROYALS, 36th Match",
         "2025-04-09",
         "20:00:00"
        ],
        [
         "SUNRISERS HYDERABAD vs PUNJAB KINGS, 37th Match",
         "2025-04-09",
         "20:00:00"
        ],
        [
         "CHENNAI SUPER KINGS vs KOLKATA KNIGHT RIDERS, 38th Match",
         "2025-04-09",
         "20:00:00"
        ],
        [
         "ROYAL CHALLENGERS BENGALURU vs MUMBAI INDIANS, 39th Match",
         "2025-04-09",
         "20:00:00"
        ],
        [
         "SUNRISERS HYDERABAD vs RAJASTHAN ROYALS, 40th Match",
         "2025-04-09",
         "20:00:00"
        ],
        [
         "KOLKATA KNIGHT RIDERS vs DELHI CAPITALS, 41st Match",
         "2025-04-09",
         "20:00:00"
        ],
        [
         "MUMBAI INDIANS vs PUNJAB KINGS, 42nd Match",
         "2025-04-09",
         "20:00:00"
        ],
        [
         "RAJASTHAN ROYALS vs ROYAL CHALLENGERS BENGALURU, 43rd Match",
         "2025-04-09",
         "20:00:00"
        ],
        [
         "SUNRISERS HYDERABAD vs CHENNAI SUPER KINGS, 44th Match",
         "2025-04-09",
         "20:00:00"
        ],
        [
         "KOLKATA KNIGHT RIDERS vs PUNJAB KINGS, 45th Match",
         "2025-04-09",
         "20:00:00"
        ],
        [
         "MUMBAI INDIANS vs DELHI CAPITALS, 46th Match",
         "2025-04-09",
         "20:00:00"
        ],
        [
         "RAJASTHAN ROYALS vs CHENNAI SUPER KINGS, 47th Match",
         "2025-04-09",
         "20:00:00"
        ],
        [
         "ROYAL CHALLENGERS BENGALURU vs PUNJAB KINGS, 48th Match",
         "2025-04-09",
         "20:00:00"
        ],
        [
         "KOLKATA KNIGHT RIDERS vs SUNRISERS HYDERABAD, 49th Match",
         "2025-04-09",
         "20:00:00"
        ],
        [
         "DELHI CAPITALS vs CHENNAI SUPER KINGS, 50th Match",
         "2025-04-09",
         "20:00:00"
        ],
        [
         "RAJASTHAN ROYALS vs MUMBAI INDIANS, 51st Match",
         "2025-04-09",
         "20:00:00"
        ],
        [
         "ROYAL CHALLENGERS BENGALURU vs SUNRISERS HYDERABAD, 52nd Match",
         "2025-04-09",
         "20:00:00"
        ],
        [
         "CHENNAI SUPER KINGS vs PUNJAB KINGS, 53rd Match",
         "2025-04-09",
         "20:00:00"
        ],
        [
         "KOLKATA KNIGHT RIDERS vs RAJASTHAN ROYALS, 54th Match",
         "2025-04-09",
         "20:00:00"
        ],
        [
         "SUNRISERS HYDERABAD vs MUMBAI INDIANS, 55th Match",
         "2025-04-09",
         "20:00:00"
        ],
        [
         "ROYAL CHALLENGERS BENGALURU vs DELHI CAPITALS, 56th Match",
         "2025-04-09",
         "20:00:00"
        ],
        [
         "DELHI CAPITALS vs CHENNAI SUPER KINGS, Qualifier 1",
         "2025-04-09",
         "20:00:00"
        ],
        [
         "ROYAL CHALLENGERS BENGALURU vs KOLKATA KNIGHT RIDERS, Eliminator",
         "2025-04-09",
         "20:00:00"
        ],
        [
         "DELHI CAPITALS vs KOLKATA KNIGHT RIDERS, Qualifier 2",
         "2025-04-09",
         "20:00:00"
        ],
        [
         "CHENNAI SUPER KINGS vs KOLKATA KNIGHT RIDERS, Final",
         "2025-04-09",
         "20:00:00"
        ]
       ],
       "datasetInfos": [],
       "dbfsResultPath": null,
       "isJsonSchema": true,
       "metadata": {},
       "overflow": false,
       "plotOptions": {
        "customPlotOptions": {},
        "displayType": "table",
        "pivotAggregation": null,
        "pivotColumns": null,
        "xColumns": null,
        "yColumns": null
       },
       "removedWidgets": [],
       "schema": [
        {
         "metadata": "{}",
         "name": "match_name",
         "type": "\"string\""
        },
        {
         "metadata": "{}",
         "name": "match_date",
         "type": "\"date\""
        },
        {
         "metadata": "{}",
         "name": "match_time",
         "type": "\"string\""
        }
       ],
       "type": "table"
      }
     },
     "output_type": "display_data"
    }
   ],
   "source": [
    "from pyspark.sql.functions import col, to_date, date_format\n",
    "\n",
    "ipl_df = ipl_df.withColumn(\"match_date\", to_date(\"match_datetime_start\")) \\\n",
    "               .withColumn(\"match_time\", date_format(\"match_datetime_start\", \"HH:mm:ss\"))\n",
    "\n",
    "ipl_df.select(\"match_name\", \"match_date\", \"match_time\").display()\n"
   ]
  },
  {
   "cell_type": "code",
   "execution_count": 0,
   "metadata": {
    "application/vnd.databricks.v1+cell": {
     "cellMetadata": {
      "byteLimit": 2048000,
      "rowLimit": 10000
     },
     "inputWidgets": {},
     "nuid": "5714a9e0-a4be-4e01-b014-864e879eadfb",
     "showTitle": false,
     "tableResultSettingsMap": {},
     "title": ""
    }
   },
   "outputs": [],
   "source": [
    "ipl_df.write.mode(\"overwrite\").parquet(\"dbfs:/FileStore/ipl_cleaned_with_date_time.parquet\")\n"
   ]
  },
  {
   "cell_type": "code",
   "execution_count": 0,
   "metadata": {
    "application/vnd.databricks.v1+cell": {
     "cellMetadata": {
      "byteLimit": 2048000,
      "rowLimit": 10000
     },
     "inputWidgets": {},
     "nuid": "affb4eba-e9fc-4e6c-8e88-efbadcfb9c19",
     "showTitle": false,
     "tableResultSettingsMap": {},
     "title": ""
    }
   },
   "outputs": [
    {
     "output_type": "stream",
     "name": "stdout",
     "output_type": "stream",
     "text": [
      "Requirement already satisfied: requests in /databricks/python3/lib/python3.9/site-packages (2.27.1)\r\nRequirement already satisfied: charset-normalizer~=2.0.0 in /databricks/python3/lib/python3.9/site-packages (from requests) (2.0.4)\r\nRequirement already satisfied: idna<4,>=2.5 in /databricks/python3/lib/python3.9/site-packages (from requests) (3.3)\r\nRequirement already satisfied: certifi>=2017.4.17 in /databricks/python3/lib/python3.9/site-packages (from requests) (2021.10.8)\r\nRequirement already satisfied: urllib3<1.27,>=1.21.1 in /databricks/python3/lib/python3.9/site-packages (from requests) (1.26.9)\r\n\u001B[33mWARNING: You are using pip version 21.2.4; however, version 25.0.1 is available.\r\nYou should consider upgrading via the '/local_disk0/.ephemeral_nfs/envs/pythonEnv-cb6d86e6-db4a-4d08-9802-3a7a95b3f700/bin/python -m pip install --upgrade pip' command.\u001B[0m\r\nRequirement already satisfied: beautifulsoup4 in /databricks/python3/lib/python3.9/site-packages (4.11.1)\r\nRequirement already satisfied: soupsieve>1.2 in /databricks/python3/lib/python3.9/site-packages (from beautifulsoup4) (2.3.1)\r\n\u001B[33mWARNING: You are using pip version 21.2.4; however, version 25.0.1 is available.\r\nYou should consider upgrading via the '/local_disk0/.ephemeral_nfs/envs/pythonEnv-cb6d86e6-db4a-4d08-9802-3a7a95b3f700/bin/python -m pip install --upgrade pip' command.\u001B[0m\r\n"
     ]
    }
   ],
   "source": [
    "!pip install requests\n",
    "!pip install beautifulsoup4\n"
   ]
  },
  {
   "cell_type": "code",
   "execution_count": 0,
   "metadata": {
    "application/vnd.databricks.v1+cell": {
     "cellMetadata": {
      "byteLimit": 2048000,
      "rowLimit": 10000
     },
     "inputWidgets": {},
     "nuid": "d3b21141-7643-4676-b51a-7597fa485f55",
     "showTitle": false,
     "tableResultSettingsMap": {},
     "title": ""
    }
   },
   "outputs": [
    {
     "output_type": "display_data",
     "data": {
      "text/html": [
       "<div>\n",
       "<style scoped>\n",
       "    .dataframe tbody tr th:only-of-type {\n",
       "        vertical-align: middle;\n",
       "    }\n",
       "\n",
       "    .dataframe tbody tr th {\n",
       "        vertical-align: top;\n",
       "    }\n",
       "\n",
       "    .dataframe thead th {\n",
       "        text-align: right;\n",
       "    }\n",
       "</style>\n",
       "<table border=\"1\" class=\"dataframe\">\n",
       "  <thead>\n",
       "    <tr style=\"text-align: right;\">\n",
       "      <th></th>\n",
       "      <th>commentary</th>\n",
       "    </tr>\n",
       "  </thead>\n",
       "  <tbody>\n",
       "  </tbody>\n",
       "</table>\n",
       "</div>"
      ]
     },
     "metadata": {
      "application/vnd.databricks.v1+output": {
       "addedWidgets": {},
       "arguments": {},
       "data": "<div>\n<style scoped>\n    .dataframe tbody tr th:only-of-type {\n        vertical-align: middle;\n    }\n\n    .dataframe tbody tr th {\n        vertical-align: top;\n    }\n\n    .dataframe thead th {\n        text-align: right;\n    }\n</style>\n<table border=\"1\" class=\"dataframe\">\n  <thead>\n    <tr style=\"text-align: right;\">\n      <th></th>\n      <th>commentary</th>\n    </tr>\n  </thead>\n  <tbody>\n  </tbody>\n</table>\n</div>",
       "datasetInfos": [],
       "metadata": {},
       "removedWidgets": [],
       "textData": null,
       "type": "htmlSandbox"
      }
     },
     "output_type": "display_data"
    }
   ],
   "source": [
    "import requests\n",
    "from bs4 import BeautifulSoup\n",
    "import pandas as pd\n",
    "\n",
    "match_id = \"35668\"\n",
    "url = f\"https://www.cricbuzz.com/live-cricket-scores/{match_id}\"\n",
    "\n",
    "response = requests.get(url)\n",
    "soup = BeautifulSoup(response.text, \"html.parser\")\n",
    "\n",
    "commentary_blocks = soup.find_all(\"div\", class_=\"cb-col cb-col-100 cb-com-ln\")\n",
    "\n",
    "data = []\n",
    "for block in commentary_blocks:\n",
    "    text = block.get_text(strip=True)\n",
    "    data.append(text)\n",
    "\n",
    "commentary_df = pd.DataFrame(data, columns=[\"commentary\"])\n",
    "commentary_df.head()\n"
   ]
  },
  {
   "cell_type": "code",
   "execution_count": 0,
   "metadata": {
    "application/vnd.databricks.v1+cell": {
     "cellMetadata": {
      "byteLimit": 2048000,
      "rowLimit": 10000
     },
     "inputWidgets": {},
     "nuid": "c6077924-9768-4629-a286-d8881123d249",
     "showTitle": false,
     "tableResultSettingsMap": {},
     "title": ""
    }
   },
   "outputs": [],
   "source": [
    "from pyspark.sql import SparkSession\n",
    "from pyspark.sql.functions import regexp_extract, col\n",
    "\n",
    "spark = SparkSession.builder.getOrCreate()\n",
    "\n",
    "data = [\n",
    "    (\"Bumrah to Dhawan, FOUR! Cracking shot through covers\",),\n",
    "    (\"Chahal to Raina, 1 run, nudged to midwicket\",),\n",
    "    (\"Narine to Kohli, no run, defended solidly\",),\n",
    "    (\"Rabada to Rohit, SIX! Smashed over long-on\",),\n",
    "]\n",
    "\n",
    "columns = [\"commentary\"]\n",
    "\n",
    "spark_commentary_df = spark.createDataFrame(data, columns)\n"
   ]
  },
  {
   "cell_type": "code",
   "execution_count": 0,
   "metadata": {
    "application/vnd.databricks.v1+cell": {
     "cellMetadata": {
      "byteLimit": 2048000,
      "rowLimit": 10000
     },
     "inputWidgets": {},
     "nuid": "ac5f3773-c11b-49b3-bc38-0865e7cf9c4d",
     "showTitle": false,
     "tableResultSettingsMap": {},
     "title": ""
    }
   },
   "outputs": [
    {
     "output_type": "display_data",
     "data": {
      "text/html": [
       "<style scoped>\n",
       "  .table-result-container {\n",
       "    max-height: 300px;\n",
       "    overflow: auto;\n",
       "  }\n",
       "  table, th, td {\n",
       "    border: 1px solid black;\n",
       "    border-collapse: collapse;\n",
       "  }\n",
       "  th, td {\n",
       "    padding: 5px;\n",
       "  }\n",
       "  th {\n",
       "    text-align: left;\n",
       "  }\n",
       "</style><div class='table-result-container'><table class='table-result'><thead style='background-color: white'><tr><th>commentary</th><th>bowler</th><th>batsman</th><th>runs</th></tr></thead><tbody><tr><td>Bumrah to Dhawan, FOUR! Cracking shot through covers</td><td>Bumrah</td><td>Dhawan</td><td>FOUR</td></tr><tr><td>Chahal to Raina, 1 run, nudged to midwicket</td><td>Chahal</td><td>Raina</td><td>1 run</td></tr><tr><td>Narine to Kohli, no run, defended solidly</td><td>Narine</td><td>Kohli</td><td>no run</td></tr><tr><td>Rabada to Rohit, SIX! Smashed over long-on</td><td>Rabada</td><td>Rohit</td><td>SIX</td></tr></tbody></table></div>"
      ]
     },
     "metadata": {
      "application/vnd.databricks.v1+output": {
       "addedWidgets": {},
       "aggData": [],
       "aggError": "",
       "aggOverflow": false,
       "aggSchema": [],
       "aggSeriesLimitReached": false,
       "aggType": "",
       "arguments": {},
       "columnCustomDisplayInfos": {},
       "data": [
        [
         "Bumrah to Dhawan, FOUR! Cracking shot through covers",
         "Bumrah",
         "Dhawan",
         "FOUR"
        ],
        [
         "Chahal to Raina, 1 run, nudged to midwicket",
         "Chahal",
         "Raina",
         "1 run"
        ],
        [
         "Narine to Kohli, no run, defended solidly",
         "Narine",
         "Kohli",
         "no run"
        ],
        [
         "Rabada to Rohit, SIX! Smashed over long-on",
         "Rabada",
         "Rohit",
         "SIX"
        ]
       ],
       "datasetInfos": [],
       "dbfsResultPath": null,
       "isJsonSchema": true,
       "metadata": {},
       "overflow": false,
       "plotOptions": {
        "customPlotOptions": {},
        "displayType": "table",
        "pivotAggregation": null,
        "pivotColumns": null,
        "xColumns": null,
        "yColumns": null
       },
       "removedWidgets": [],
       "schema": [
        {
         "metadata": "{}",
         "name": "commentary",
         "type": "\"string\""
        },
        {
         "metadata": "{}",
         "name": "bowler",
         "type": "\"string\""
        },
        {
         "metadata": "{}",
         "name": "batsman",
         "type": "\"string\""
        },
        {
         "metadata": "{}",
         "name": "runs",
         "type": "\"string\""
        }
       ],
       "type": "table"
      }
     },
     "output_type": "display_data"
    }
   ],
   "source": [
    "\n",
    "spark_commentary_df = spark_commentary_df.withColumn(\n",
    "    \"bowler\", regexp_extract(col(\"commentary\"), r\"^([A-Za-z]+)\", 1)\n",
    ")\n",
    "\n",
    "spark_commentary_df = spark_commentary_df.withColumn(\n",
    "    \"batsman\", regexp_extract(col(\"commentary\"), r\"to\\s+([A-Za-z]+)\", 1)\n",
    ")\n",
    "\n",
    "spark_commentary_df = spark_commentary_df.withColumn(\n",
    "    \"runs\", regexp_extract(\n",
    "        col(\"commentary\"),\n",
    "        r\"(no run|1 run|2 runs|3 runs|FOUR|SIX)\",\n",
    "        1\n",
    "    )\n",
    ")\n",
    "\n",
    "spark_commentary_df.display()\n"
   ]
  },
  {
   "cell_type": "code",
   "execution_count": 0,
   "metadata": {
    "application/vnd.databricks.v1+cell": {
     "cellMetadata": {},
     "inputWidgets": {},
     "nuid": "00d63262-7fe3-4071-85b7-8842df3abc81",
     "showTitle": false,
     "tableResultSettingsMap": {},
     "title": ""
    }
   },
   "outputs": [],
   "source": []
  }
 ],
 "metadata": {
  "application/vnd.databricks.v1+notebook": {
   "computePreferences": null,
   "dashboards": [],
   "environmentMetadata": {
    "base_environment": "",
    "environment_version": "1"
   },
   "inputWidgetPreferences": null,
   "language": "python",
   "notebookMetadata": {
    "pythonIndentUnit": 4
   },
   "notebookName": "LEVEL17 T4",
   "widgets": {}
  }
 },
 "nbformat": 4,
 "nbformat_minor": 0
}