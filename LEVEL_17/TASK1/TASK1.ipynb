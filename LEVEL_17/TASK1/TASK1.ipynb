{
 "cells": [
  {
   "cell_type": "code",
   "execution_count": 0,
   "metadata": {
    "application/vnd.databricks.v1+cell": {
     "cellMetadata": {
      "byteLimit": 2048000,
      "rowLimit": 10000
     },
     "inputWidgets": {},
     "nuid": "3ae76fc9-9eb4-4d79-ba5f-60c8e6b8f405",
     "showTitle": false,
     "tableResultSettingsMap": {},
     "title": ""
    }
   },
   "outputs": [
    {
     "output_type": "stream",
     "name": "stdout",
     "output_type": "stream",
     "text": [
      "+----+-------------------+--------------------+--------+----------+--------------------+--------------------+--------------------+--------------------+--------------------+--------------+-----------+\n|year|        series_type|         series_name|match_no|match_type|          match_name|          match_href|         match_team1|         match_team2|match_datetime_start|match_date_end|match_venue|\n+----+-------------------+--------------------+--------+----------+--------------------+--------------------+--------------------+--------------------+--------------------+--------------+-----------+\n|2021|2025-04-09 20:00:00|Indian Premier Le...|    null|    League|MUMBAI INDIANS vs...|https://www.cricb...|      MUMBAI INDIANS|ROYAL CHALLENGERS...| 2025-04-09 20:00:00|          null|       null|\n|2021|2025-04-09 20:00:00|Indian Premier Le...|    null|    League|CHENNAI SUPER KIN...|https://www.cricb...| CHENNAI SUPER KINGS|      DELHI CAPITALS| 2025-04-09 20:00:00|          null|       null|\n|2021|2025-04-09 20:00:00|Indian Premier Le...|    null|    League|SUNRISERS HYDERAB...|https://www.cricb...| SUNRISERS HYDERABAD|KOLKATA KNIGHT RI...| 2025-04-09 20:00:00|          null|       null|\n|2021|2025-04-09 20:00:00|Indian Premier Le...|    null|    League|RAJASTHAN ROYALS ...|https://www.cricb...|    RAJASTHAN ROYALS|        PUNJAB KINGS| 2025-04-09 20:00:00|          null|       null|\n|2021|2025-04-09 20:00:00|Indian Premier Le...|    null|    League|KOLKATA KNIGHT RI...|https://www.cricb...|KOLKATA KNIGHT RI...|      MUMBAI INDIANS| 2025-04-09 20:00:00|          null|       null|\n+----+-------------------+--------------------+--------+----------+--------------------+--------------------+--------------------+--------------------+--------------------+--------------+-----------+\nonly showing top 5 rows\n\n"
     ]
    }
   ],
   "source": [
    "\n",
    "df = spark.read.parquet(\"dbfs:/FileStore/ipl_final_cleaned.parquet/\")\n",
    "df.show(5)\n"
   ]
  },
  {
   "cell_type": "code",
   "execution_count": 0,
   "metadata": {
    "application/vnd.databricks.v1+cell": {
     "cellMetadata": {
      "byteLimit": 2048000,
      "rowLimit": 10000
     },
     "inputWidgets": {},
     "nuid": "26d4a58f-a61b-47ac-bfb4-5099dc75712d",
     "showTitle": false,
     "tableResultSettingsMap": {},
     "title": ""
    }
   },
   "outputs": [
    {
     "output_type": "stream",
     "name": "stdout",
     "output_type": "stream",
     "text": [
      "+--------------------+----------+----------+\n|match_datetime_start|match_date|match_time|\n+--------------------+----------+----------+\n| 2025-04-09 20:00:00|2025-04-09|  20:00:00|\n| 2025-04-09 20:00:00|2025-04-09|  20:00:00|\n| 2025-04-09 20:00:00|2025-04-09|  20:00:00|\n| 2025-04-09 20:00:00|2025-04-09|  20:00:00|\n| 2025-04-09 20:00:00|2025-04-09|  20:00:00|\n+--------------------+----------+----------+\nonly showing top 5 rows\n\n"
     ]
    }
   ],
   "source": [
    "from pyspark.sql.functions import col, to_date, date_format\n",
    "\n",
    "df_with_separated = df.withColumn(\"match_date\", to_date(\"match_datetime_start\")) \\\n",
    "                      .withColumn(\"match_time\", date_format(\"match_datetime_start\", \"HH:mm:ss\"))\n",
    "\n",
    "df_with_separated.select(\"match_datetime_start\", \"match_date\", \"match_time\").show(5)\n",
    "\n"
   ]
  },
  {
   "cell_type": "code",
   "execution_count": 0,
   "metadata": {
    "application/vnd.databricks.v1+cell": {
     "cellMetadata": {
      "byteLimit": 2048000,
      "rowLimit": 10000
     },
     "inputWidgets": {},
     "nuid": "339585cc-ff2d-4d8b-980d-a176478374ba",
     "showTitle": false,
     "tableResultSettingsMap": {},
     "title": ""
    }
   },
   "outputs": [
    {
     "output_type": "stream",
     "name": "stdout",
     "output_type": "stream",
     "text": [
      "Out[4]: DataFrame[]"
     ]
    }
   ],
   "source": [
    "\n",
    "df_with_separated.write.format(\"delta\").mode(\"overwrite\").save(\"/delta/ipl_with_separated_datetime\")\n",
    "\n",
    "spark.sql(\"DROP TABLE IF EXISTS ipl_datetime_table\")\n",
    "spark.sql(\"CREATE TABLE ipl_datetime_table USING DELTA LOCATION '/delta/ipl_with_separated_datetime'\")\n"
   ]
  },
  {
   "cell_type": "code",
   "execution_count": 0,
   "metadata": {
    "application/vnd.databricks.v1+cell": {
     "cellMetadata": {
      "byteLimit": 2048000,
      "implicitDf": true,
      "rowLimit": 10000
     },
     "inputWidgets": {},
     "nuid": "925e91e3-6b3c-49d7-a5de-77250851482a",
     "showTitle": false,
     "tableResultSettingsMap": {},
     "title": ""
    }
   },
   "outputs": [
    {
     "output_type": "display_data",
     "data": {
      "text/html": [
       "<style scoped>\n",
       "  .table-result-container {\n",
       "    max-height: 300px;\n",
       "    overflow: auto;\n",
       "  }\n",
       "  table, th, td {\n",
       "    border: 1px solid black;\n",
       "    border-collapse: collapse;\n",
       "  }\n",
       "  th, td {\n",
       "    padding: 5px;\n",
       "  }\n",
       "  th {\n",
       "    text-align: left;\n",
       "  }\n",
       "</style><div class='table-result-container'><table class='table-result'><thead style='background-color: white'><tr><th>match_name</th><th>match_date</th><th>match_time</th></tr></thead><tbody><tr><td>MUMBAI INDIANS vs ROYAL CHALLENGERS BENGALURU, 1st Match</td><td>2025-04-09</td><td>20:00:00</td></tr><tr><td>CHENNAI SUPER KINGS vs DELHI CAPITALS, 2nd Match</td><td>2025-04-09</td><td>20:00:00</td></tr><tr><td>SUNRISERS HYDERABAD vs KOLKATA KNIGHT RIDERS, 3rd Match</td><td>2025-04-09</td><td>20:00:00</td></tr><tr><td>RAJASTHAN ROYALS vs PUNJAB KINGS, 4th Match</td><td>2025-04-09</td><td>20:00:00</td></tr><tr><td>KOLKATA KNIGHT RIDERS vs MUMBAI INDIANS, 5th Match</td><td>2025-04-09</td><td>20:00:00</td></tr><tr><td>SUNRISERS HYDERABAD vs ROYAL CHALLENGERS BENGALURU, 6th Match</td><td>2025-04-09</td><td>20:00:00</td></tr><tr><td>RAJASTHAN ROYALS vs DELHI CAPITALS, 7th Match</td><td>2025-04-09</td><td>20:00:00</td></tr><tr><td>PUNJAB KINGS vs CHENNAI SUPER KINGS, 8th Match</td><td>2025-04-09</td><td>20:00:00</td></tr><tr><td>MUMBAI INDIANS vs SUNRISERS HYDERABAD, 9th Match</td><td>2025-04-09</td><td>20:00:00</td></tr><tr><td>ROYAL CHALLENGERS BENGALURU vs KOLKATA KNIGHT RIDERS, 10th Match</td><td>2025-04-09</td><td>20:00:00</td></tr><tr><td>DELHI CAPITALS vs PUNJAB KINGS, 11th Match</td><td>2025-04-09</td><td>20:00:00</td></tr><tr><td>CHENNAI SUPER KINGS vs RAJASTHAN ROYALS, 12th Match</td><td>2025-04-09</td><td>20:00:00</td></tr><tr><td>DELHI CAPITALS vs MUMBAI INDIANS, 13th Match</td><td>2025-04-09</td><td>20:00:00</td></tr><tr><td>PUNJAB KINGS vs SUNRISERS HYDERABAD, 14th Match</td><td>2025-04-09</td><td>20:00:00</td></tr><tr><td>KOLKATA KNIGHT RIDERS vs CHENNAI SUPER KINGS, 15th Match</td><td>2025-04-09</td><td>20:00:00</td></tr><tr><td>ROYAL CHALLENGERS BENGALURU vs RAJASTHAN ROYALS, 16th Match</td><td>2025-04-09</td><td>20:00:00</td></tr><tr><td>PUNJAB KINGS vs MUMBAI INDIANS, 17th Match</td><td>2025-04-09</td><td>20:00:00</td></tr><tr><td>RAJASTHAN ROYALS vs KOLKATA KNIGHT RIDERS, 18th Match</td><td>2025-04-09</td><td>20:00:00</td></tr><tr><td>CHENNAI SUPER KINGS vs ROYAL CHALLENGERS BENGALURU, 19th Match</td><td>2025-04-09</td><td>20:00:00</td></tr><tr><td>SUNRISERS HYDERABAD vs DELHI CAPITALS, 20th Match</td><td>2025-04-09</td><td>20:00:00</td></tr><tr><td>PUNJAB KINGS vs KOLKATA KNIGHT RIDERS, 21st Match</td><td>2025-04-09</td><td>20:00:00</td></tr><tr><td>DELHI CAPITALS vs ROYAL CHALLENGERS BENGALURU, 22nd Match</td><td>2025-04-09</td><td>20:00:00</td></tr><tr><td>CHENNAI SUPER KINGS vs SUNRISERS HYDERABAD, 23rd Match</td><td>2025-04-09</td><td>20:00:00</td></tr><tr><td>MUMBAI INDIANS vs RAJASTHAN ROYALS, 24th Match</td><td>2025-04-09</td><td>20:00:00</td></tr><tr><td>DELHI CAPITALS vs KOLKATA KNIGHT RIDERS, 25th Match</td><td>2025-04-09</td><td>20:00:00</td></tr><tr><td>PUNJAB KINGS vs ROYAL CHALLENGERS BENGALURU, 26th Match</td><td>2025-04-09</td><td>20:00:00</td></tr><tr><td>MUMBAI INDIANS vs CHENNAI SUPER KINGS, 27th Match</td><td>2025-04-09</td><td>20:00:00</td></tr><tr><td>RAJASTHAN ROYALS vs SUNRISERS HYDERABAD, 28th Match</td><td>2025-04-09</td><td>20:00:00</td></tr><tr><td>PUNJAB KINGS vs DELHI CAPITALS, 29th Match</td><td>2025-04-09</td><td>20:00:00</td></tr><tr><td>KOLKATA KNIGHT RIDERS vs ROYAL CHALLENGERS BENGALURU, 30th Match</td><td>2025-04-09</td><td>20:00:00</td></tr><tr><td>SUNRISERS HYDERABAD vs MUMBAI INDIANS, 31st Match</td><td>2025-04-09</td><td>20:00:00</td></tr><tr><td>CHENNAI SUPER KINGS vs MUMBAI INDIANS, 30th Match</td><td>2025-04-09</td><td>20:00:00</td></tr><tr><td>KOLKATA KNIGHT RIDERS vs ROYAL CHALLENGERS BENGALURU, 31st Match</td><td>2025-04-09</td><td>20:00:00</td></tr><tr><td>PUNJAB KINGS vs RAJASTHAN ROYALS, 32nd Match</td><td>2025-04-09</td><td>20:00:00</td></tr><tr><td>DELHI CAPITALS vs SUNRISERS HYDERABAD, 33rd Match</td><td>2025-04-09</td><td>20:00:00</td></tr><tr><td>MUMBAI INDIANS vs KOLKATA KNIGHT RIDERS, 34th Match</td><td>2025-04-09</td><td>20:00:00</td></tr><tr><td>ROYAL CHALLENGERS BENGALURU vs CHENNAI SUPER KINGS, 35th Match</td><td>2025-04-09</td><td>20:00:00</td></tr><tr><td>DELHI CAPITALS vs RAJASTHAN ROYALS, 36th Match</td><td>2025-04-09</td><td>20:00:00</td></tr><tr><td>SUNRISERS HYDERABAD vs PUNJAB KINGS, 37th Match</td><td>2025-04-09</td><td>20:00:00</td></tr><tr><td>CHENNAI SUPER KINGS vs KOLKATA KNIGHT RIDERS, 38th Match</td><td>2025-04-09</td><td>20:00:00</td></tr><tr><td>ROYAL CHALLENGERS BENGALURU vs MUMBAI INDIANS, 39th Match</td><td>2025-04-09</td><td>20:00:00</td></tr><tr><td>SUNRISERS HYDERABAD vs RAJASTHAN ROYALS, 40th Match</td><td>2025-04-09</td><td>20:00:00</td></tr><tr><td>KOLKATA KNIGHT RIDERS vs DELHI CAPITALS, 41st Match</td><td>2025-04-09</td><td>20:00:00</td></tr><tr><td>MUMBAI INDIANS vs PUNJAB KINGS, 42nd Match</td><td>2025-04-09</td><td>20:00:00</td></tr><tr><td>RAJASTHAN ROYALS vs ROYAL CHALLENGERS BENGALURU, 43rd Match</td><td>2025-04-09</td><td>20:00:00</td></tr><tr><td>SUNRISERS HYDERABAD vs CHENNAI SUPER KINGS, 44th Match</td><td>2025-04-09</td><td>20:00:00</td></tr><tr><td>KOLKATA KNIGHT RIDERS vs PUNJAB KINGS, 45th Match</td><td>2025-04-09</td><td>20:00:00</td></tr><tr><td>MUMBAI INDIANS vs DELHI CAPITALS, 46th Match</td><td>2025-04-09</td><td>20:00:00</td></tr><tr><td>RAJASTHAN ROYALS vs CHENNAI SUPER KINGS, 47th Match</td><td>2025-04-09</td><td>20:00:00</td></tr><tr><td>ROYAL CHALLENGERS BENGALURU vs PUNJAB KINGS, 48th Match</td><td>2025-04-09</td><td>20:00:00</td></tr><tr><td>KOLKATA KNIGHT RIDERS vs SUNRISERS HYDERABAD, 49th Match</td><td>2025-04-09</td><td>20:00:00</td></tr><tr><td>DELHI CAPITALS vs CHENNAI SUPER KINGS, 50th Match</td><td>2025-04-09</td><td>20:00:00</td></tr><tr><td>RAJASTHAN ROYALS vs MUMBAI INDIANS, 51st Match</td><td>2025-04-09</td><td>20:00:00</td></tr><tr><td>ROYAL CHALLENGERS BENGALURU vs SUNRISERS HYDERABAD, 52nd Match</td><td>2025-04-09</td><td>20:00:00</td></tr><tr><td>CHENNAI SUPER KINGS vs PUNJAB KINGS, 53rd Match</td><td>2025-04-09</td><td>20:00:00</td></tr><tr><td>KOLKATA KNIGHT RIDERS vs RAJASTHAN ROYALS, 54th Match</td><td>2025-04-09</td><td>20:00:00</td></tr><tr><td>SUNRISERS HYDERABAD vs MUMBAI INDIANS, 55th Match</td><td>2025-04-09</td><td>20:00:00</td></tr><tr><td>ROYAL CHALLENGERS BENGALURU vs DELHI CAPITALS, 56th Match</td><td>2025-04-09</td><td>20:00:00</td></tr><tr><td>DELHI CAPITALS vs CHENNAI SUPER KINGS, Qualifier 1</td><td>2025-04-09</td><td>20:00:00</td></tr><tr><td>ROYAL CHALLENGERS BENGALURU vs KOLKATA KNIGHT RIDERS, Eliminator</td><td>2025-04-09</td><td>20:00:00</td></tr><tr><td>DELHI CAPITALS vs KOLKATA KNIGHT RIDERS, Qualifier 2</td><td>2025-04-09</td><td>20:00:00</td></tr><tr><td>CHENNAI SUPER KINGS vs KOLKATA KNIGHT RIDERS, Final</td><td>2025-04-09</td><td>20:00:00</td></tr></tbody></table></div>"
      ]
     },
     "metadata": {
      "application/vnd.databricks.v1+output": {
       "addedWidgets": {},
       "aggData": [],
       "aggError": "",
       "aggOverflow": false,
       "aggSchema": [],
       "aggSeriesLimitReached": false,
       "aggType": "",
       "arguments": {},
       "columnCustomDisplayInfos": {},
       "data": [
        [
         "MUMBAI INDIANS vs ROYAL CHALLENGERS BENGALURU, 1st Match",
         "2025-04-09",
         "20:00:00"
        ],
        [
         "CHENNAI SUPER KINGS vs DELHI CAPITALS, 2nd Match",
         "2025-04-09",
         "20:00:00"
        ],
        [
         "SUNRISERS HYDERABAD vs KOLKATA KNIGHT RIDERS, 3rd Match",
         "2025-04-09",
         "20:00:00"
        ],
        [
         "RAJASTHAN ROYALS vs PUNJAB KINGS, 4th Match",
         "2025-04-09",
         "20:00:00"
        ],
        [
         "KOLKATA KNIGHT RIDERS vs MUMBAI INDIANS, 5th Match",
         "2025-04-09",
         "20:00:00"
        ],
        [
         "SUNRISERS HYDERABAD vs ROYAL CHALLENGERS BENGALURU, 6th Match",
         "2025-04-09",
         "20:00:00"
        ],
        [
         "RAJASTHAN ROYALS vs DELHI CAPITALS, 7th Match",
         "2025-04-09",
         "20:00:00"
        ],
        [
         "PUNJAB KINGS vs CHENNAI SUPER KINGS, 8th Match",
         "2025-04-09",
         "20:00:00"
        ],
        [
         "MUMBAI INDIANS vs SUNRISERS HYDERABAD, 9th Match",
         "2025-04-09",
         "20:00:00"
        ],
        [
         "ROYAL CHALLENGERS BENGALURU vs KOLKATA KNIGHT RIDERS, 10th Match",
         "2025-04-09",
         "20:00:00"
        ],
        [
         "DELHI CAPITALS vs PUNJAB KINGS, 11th Match",
         "2025-04-09",
         "20:00:00"
        ],
        [
         "CHENNAI SUPER KINGS vs RAJASTHAN ROYALS, 12th Match",
         "2025-04-09",
         "20:00:00"
        ],
        [
         "DELHI CAPITALS vs MUMBAI INDIANS, 13th Match",
         "2025-04-09",
         "20:00:00"
        ],
        [
         "PUNJAB KINGS vs SUNRISERS HYDERABAD, 14th Match",
         "2025-04-09",
         "20:00:00"
        ],
        [
         "KOLKATA KNIGHT RIDERS vs CHENNAI SUPER KINGS, 15th Match",
         "2025-04-09",
         "20:00:00"
        ],
        [
         "ROYAL CHALLENGERS BENGALURU vs RAJASTHAN ROYALS, 16th Match",
         "2025-04-09",
         "20:00:00"
        ],
        [
         "PUNJAB KINGS vs MUMBAI INDIANS, 17th Match",
         "2025-04-09",
         "20:00:00"
        ],
        [
         "RAJASTHAN ROYALS vs KOLKATA KNIGHT RIDERS, 18th Match",
         "2025-04-09",
         "20:00:00"
        ],
        [
         "CHENNAI SUPER KINGS vs ROYAL CHALLENGERS BENGALURU, 19th Match",
         "2025-04-09",
         "20:00:00"
        ],
        [
         "SUNRISERS HYDERABAD vs DELHI CAPITALS, 20th Match",
         "2025-04-09",
         "20:00:00"
        ],
        [
         "PUNJAB KINGS vs KOLKATA KNIGHT RIDERS, 21st Match",
         "2025-04-09",
         "20:00:00"
        ],
        [
         "DELHI CAPITALS vs ROYAL CHALLENGERS BENGALURU, 22nd Match",
         "2025-04-09",
         "20:00:00"
        ],
        [
         "CHENNAI SUPER KINGS vs SUNRISERS HYDERABAD, 23rd Match",
         "2025-04-09",
         "20:00:00"
        ],
        [
         "MUMBAI INDIANS vs RAJASTHAN ROYALS, 24th Match",
         "2025-04-09",
         "20:00:00"
        ],
        [
         "DELHI CAPITALS vs KOLKATA KNIGHT RIDERS, 25th Match",
         "2025-04-09",
         "20:00:00"
        ],
        [
         "PUNJAB KINGS vs ROYAL CHALLENGERS BENGALURU, 26th Match",
         "2025-04-09",
         "20:00:00"
        ],
        [
         "MUMBAI INDIANS vs CHENNAI SUPER KINGS, 27th Match",
         "2025-04-09",
         "20:00:00"
        ],
        [
         "RAJASTHAN ROYALS vs SUNRISERS HYDERABAD, 28th Match",
         "2025-04-09",
         "20:00:00"
        ],
        [
         "PUNJAB KINGS vs DELHI CAPITALS, 29th Match",
         "2025-04-09",
         "20:00:00"
        ],
        [
         "KOLKATA KNIGHT RIDERS vs ROYAL CHALLENGERS BENGALURU, 30th Match",
         "2025-04-09",
         "20:00:00"
        ],
        [
         "SUNRISERS HYDERABAD vs MUMBAI INDIANS, 31st Match",
         "2025-04-09",
         "20:00:00"
        ],
        [
         "CHENNAI SUPER KINGS vs MUMBAI INDIANS, 30th Match",
         "2025-04-09",
         "20:00:00"
        ],
        [
         "KOLKATA KNIGHT RIDERS vs ROYAL CHALLENGERS BENGALURU, 31st Match",
         "2025-04-09",
         "20:00:00"
        ],
        [
         "PUNJAB KINGS vs RAJASTHAN ROYALS, 32nd Match",
         "2025-04-09",
         "20:00:00"
        ],
        [
         "DELHI CAPITALS vs SUNRISERS HYDERABAD, 33rd Match",
         "2025-04-09",
         "20:00:00"
        ],
        [
         "MUMBAI INDIANS vs KOLKATA KNIGHT RIDERS, 34th Match",
         "2025-04-09",
         "20:00:00"
        ],
        [
         "ROYAL CHALLENGERS BENGALURU vs CHENNAI SUPER KINGS, 35th Match",
         "2025-04-09",
         "20:00:00"
        ],
        [
         "DELHI CAPITALS vs RAJASTHAN ROYALS, 36th Match",
         "2025-04-09",
         "20:00:00"
        ],
        [
         "SUNRISERS HYDERABAD vs PUNJAB KINGS, 37th Match",
         "2025-04-09",
         "20:00:00"
        ],
        [
         "CHENNAI SUPER KINGS vs KOLKATA KNIGHT RIDERS, 38th Match",
         "2025-04-09",
         "20:00:00"
        ],
        [
         "ROYAL CHALLENGERS BENGALURU vs MUMBAI INDIANS, 39th Match",
         "2025-04-09",
         "20:00:00"
        ],
        [
         "SUNRISERS HYDERABAD vs RAJASTHAN ROYALS, 40th Match",
         "2025-04-09",
         "20:00:00"
        ],
        [
         "KOLKATA KNIGHT RIDERS vs DELHI CAPITALS, 41st Match",
         "2025-04-09",
         "20:00:00"
        ],
        [
         "MUMBAI INDIANS vs PUNJAB KINGS, 42nd Match",
         "2025-04-09",
         "20:00:00"
        ],
        [
         "RAJASTHAN ROYALS vs ROYAL CHALLENGERS BENGALURU, 43rd Match",
         "2025-04-09",
         "20:00:00"
        ],
        [
         "SUNRISERS HYDERABAD vs CHENNAI SUPER KINGS, 44th Match",
         "2025-04-09",
         "20:00:00"
        ],
        [
         "KOLKATA KNIGHT RIDERS vs PUNJAB KINGS, 45th Match",
         "2025-04-09",
         "20:00:00"
        ],
        [
         "MUMBAI INDIANS vs DELHI CAPITALS, 46th Match",
         "2025-04-09",
         "20:00:00"
        ],
        [
         "RAJASTHAN ROYALS vs CHENNAI SUPER KINGS, 47th Match",
         "2025-04-09",
         "20:00:00"
        ],
        [
         "ROYAL CHALLENGERS BENGALURU vs PUNJAB KINGS, 48th Match",
         "2025-04-09",
         "20:00:00"
        ],
        [
         "KOLKATA KNIGHT RIDERS vs SUNRISERS HYDERABAD, 49th Match",
         "2025-04-09",
         "20:00:00"
        ],
        [
         "DELHI CAPITALS vs CHENNAI SUPER KINGS, 50th Match",
         "2025-04-09",
         "20:00:00"
        ],
        [
         "RAJASTHAN ROYALS vs MUMBAI INDIANS, 51st Match",
         "2025-04-09",
         "20:00:00"
        ],
        [
         "ROYAL CHALLENGERS BENGALURU vs SUNRISERS HYDERABAD, 52nd Match",
         "2025-04-09",
         "20:00:00"
        ],
        [
         "CHENNAI SUPER KINGS vs PUNJAB KINGS, 53rd Match",
         "2025-04-09",
         "20:00:00"
        ],
        [
         "KOLKATA KNIGHT RIDERS vs RAJASTHAN ROYALS, 54th Match",
         "2025-04-09",
         "20:00:00"
        ],
        [
         "SUNRISERS HYDERABAD vs MUMBAI INDIANS, 55th Match",
         "2025-04-09",
         "20:00:00"
        ],
        [
         "ROYAL CHALLENGERS BENGALURU vs DELHI CAPITALS, 56th Match",
         "2025-04-09",
         "20:00:00"
        ],
        [
         "DELHI CAPITALS vs CHENNAI SUPER KINGS, Qualifier 1",
         "2025-04-09",
         "20:00:00"
        ],
        [
         "ROYAL CHALLENGERS BENGALURU vs KOLKATA KNIGHT RIDERS, Eliminator",
         "2025-04-09",
         "20:00:00"
        ],
        [
         "DELHI CAPITALS vs KOLKATA KNIGHT RIDERS, Qualifier 2",
         "2025-04-09",
         "20:00:00"
        ],
        [
         "CHENNAI SUPER KINGS vs KOLKATA KNIGHT RIDERS, Final",
         "2025-04-09",
         "20:00:00"
        ]
       ],
       "datasetInfos": [],
       "dbfsResultPath": null,
       "isJsonSchema": true,
       "metadata": {},
       "overflow": false,
       "plotOptions": {
        "customPlotOptions": {},
        "displayType": "table",
        "pivotAggregation": null,
        "pivotColumns": null,
        "xColumns": null,
        "yColumns": null
       },
       "removedWidgets": [],
       "schema": [
        {
         "metadata": "{}",
         "name": "match_name",
         "type": "\"string\""
        },
        {
         "metadata": "{}",
         "name": "match_date",
         "type": "\"date\""
        },
        {
         "metadata": "{}",
         "name": "match_time",
         "type": "\"string\""
        }
       ],
       "type": "table"
      }
     },
     "output_type": "display_data"
    }
   ],
   "source": [
    "%sql\n",
    "SELECT match_name, match_date, match_time FROM ipl_datetime_table\n"
   ]
  },
  {
   "cell_type": "code",
   "execution_count": 0,
   "metadata": {
    "application/vnd.databricks.v1+cell": {
     "cellMetadata": {},
     "inputWidgets": {},
     "nuid": "edd6af8b-424d-487d-8a41-34676106cd30",
     "showTitle": false,
     "tableResultSettingsMap": {},
     "title": ""
    }
   },
   "outputs": [],
   "source": []
  }
 ],
 "metadata": {
  "application/vnd.databricks.v1+notebook": {
   "computePreferences": null,
   "dashboards": [],
   "environmentMetadata": {
    "base_environment": "",
    "environment_version": "1"
   },
   "inputWidgetPreferences": null,
   "language": "python",
   "notebookMetadata": {
    "mostRecentlyExecutedCommandWithImplicitDF": {
     "commandId": 2003377816745613,
     "dataframes": [
      "_sqldf"
     ]
    },
    "pythonIndentUnit": 4
   },
   "notebookName": "LEVEL17 T1",
   "widgets": {}
  }
 },
 "nbformat": 4,
 "nbformat_minor": 0
}