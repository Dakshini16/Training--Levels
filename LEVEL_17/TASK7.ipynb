{
 "cells": [
  {
   "cell_type": "code",
   "execution_count": 0,
   "metadata": {
    "application/vnd.databricks.v1+cell": {
     "cellMetadata": {
      "byteLimit": 2048000,
      "rowLimit": 10000
     },
     "inputWidgets": {},
     "nuid": "87e054f7-8de7-410d-b9e9-08f189b6765a",
     "showTitle": false,
     "tableResultSettingsMap": {},
     "title": ""
    }
   },
   "outputs": [
    {
     "output_type": "display_data",
     "data": {
      "text/html": [
       "<style scoped>\n",
       "  .table-result-container {\n",
       "    max-height: 300px;\n",
       "    overflow: auto;\n",
       "  }\n",
       "  table, th, td {\n",
       "    border: 1px solid black;\n",
       "    border-collapse: collapse;\n",
       "  }\n",
       "  th, td {\n",
       "    padding: 5px;\n",
       "  }\n",
       "  th {\n",
       "    text-align: left;\n",
       "  }\n",
       "</style><div class='table-result-container'><table class='table-result'><thead style='background-color: white'><tr><th>path</th><th>name</th><th>size</th><th>modificationTime</th></tr></thead><tbody><tr><td>dbfs:/FileStore/ipl_cleaned.parquet/</td><td>ipl_cleaned.parquet/</td><td>0</td><td>0</td></tr><tr><td>dbfs:/FileStore/ipl_cleaned_with_date_time.parquet/</td><td>ipl_cleaned_with_date_time.parquet/</td><td>0</td><td>0</td></tr><tr><td>dbfs:/FileStore/ipl_final_cleaned.parquet/</td><td>ipl_final_cleaned.parquet/</td><td>0</td><td>0</td></tr><tr><td>dbfs:/FileStore/ipl_validated.parquet/</td><td>ipl_validated.parquet/</td><td>0</td><td>0</td></tr><tr><td>dbfs:/FileStore/tables/</td><td>tables/</td><td>0</td><td>0</td></tr></tbody></table></div>"
      ]
     },
     "metadata": {
      "application/vnd.databricks.v1+output": {
       "addedWidgets": {},
       "aggData": [],
       "aggError": "",
       "aggOverflow": false,
       "aggSchema": [],
       "aggSeriesLimitReached": false,
       "aggType": "",
       "arguments": {},
       "columnCustomDisplayInfos": {},
       "data": [
        [
         "dbfs:/FileStore/ipl_cleaned.parquet/",
         "ipl_cleaned.parquet/",
         0,
         0
        ],
        [
         "dbfs:/FileStore/ipl_cleaned_with_date_time.parquet/",
         "ipl_cleaned_with_date_time.parquet/",
         0,
         0
        ],
        [
         "dbfs:/FileStore/ipl_final_cleaned.parquet/",
         "ipl_final_cleaned.parquet/",
         0,
         0
        ],
        [
         "dbfs:/FileStore/ipl_validated.parquet/",
         "ipl_validated.parquet/",
         0,
         0
        ],
        [
         "dbfs:/FileStore/tables/",
         "tables/",
         0,
         0
        ]
       ],
       "datasetInfos": [],
       "dbfsResultPath": null,
       "isJsonSchema": true,
       "metadata": {},
       "overflow": false,
       "plotOptions": {
        "customPlotOptions": {},
        "displayType": "table",
        "pivotAggregation": null,
        "pivotColumns": null,
        "xColumns": null,
        "yColumns": null
       },
       "removedWidgets": [],
       "schema": [
        {
         "metadata": "{}",
         "name": "path",
         "type": "\"string\""
        },
        {
         "metadata": "{}",
         "name": "name",
         "type": "\"string\""
        },
        {
         "metadata": "{}",
         "name": "size",
         "type": "\"long\""
        },
        {
         "metadata": "{}",
         "name": "modificationTime",
         "type": "\"long\""
        }
       ],
       "type": "table"
      }
     },
     "output_type": "display_data"
    }
   ],
   "source": [
    "display(dbutils.fs.ls(\"dbfs:/FileStore/\"))\n"
   ]
  },
  {
   "cell_type": "code",
   "execution_count": 0,
   "metadata": {
    "application/vnd.databricks.v1+cell": {
     "cellMetadata": {
      "byteLimit": 2048000,
      "rowLimit": 10000
     },
     "inputWidgets": {},
     "nuid": "58198069-775a-4c68-be8e-3d10de803821",
     "showTitle": false,
     "tableResultSettingsMap": {},
     "title": ""
    }
   },
   "outputs": [
    {
     "output_type": "stream",
     "name": "stdout",
     "output_type": "stream",
     "text": [
      "LEFT JOIN\n+--------+-------------------+--------------+\n|match_id|         commentary|  over_summary|\n+--------+-------------------+--------------+\n|     101|   Dhoni hits a six|Over 1: 6 runs|\n|     102|Rohit scores a four|Over 1: 4 runs|\n|     103|  Kohli gets bowled|          null|\n+--------+-------------------+--------------+\n\nRIGHT JOIN\n+--------+-------------------+--------------+\n|match_id|         commentary|  over_summary|\n+--------+-------------------+--------------+\n|     101|   Dhoni hits a six|Over 1: 6 runs|\n|     102|Rohit scores a four|Over 1: 4 runs|\n|     104|               null|Over 1: 2 runs|\n+--------+-------------------+--------------+\n\nINNER JOIN\n+--------+-------------------+--------------+\n|match_id|         commentary|  over_summary|\n+--------+-------------------+--------------+\n|     101|   Dhoni hits a six|Over 1: 6 runs|\n|     102|Rohit scores a four|Over 1: 4 runs|\n+--------+-------------------+--------------+\n\n"
     ]
    }
   ],
   "source": [
    "from pyspark.sql import SparkSession\n",
    "from pyspark.sql.functions import lit\n",
    "\n",
    "commentary_data = [\n",
    "    (101, \"Dhoni hits a six\"),\n",
    "    (102, \"Rohit scores a four\"),\n",
    "    (103, \"Kohli gets bowled\")\n",
    "]\n",
    "commentary_df = spark.createDataFrame(commentary_data, [\"match_id\", \"commentary\"])\n",
    "\n",
    "over_data = [\n",
    "    (101, \"Over 1: 6 runs\"),\n",
    "    (102, \"Over 1: 4 runs\"),\n",
    "    (104, \"Over 1: 2 runs\")\n",
    "]\n",
    "over_df = spark.createDataFrame(over_data, [\"match_id\", \"over_summary\"])\n",
    "\n",
    "# LEFT JOIN\n",
    "left_join = commentary_df.join(over_df, on=\"match_id\", how=\"left\")\n",
    "print(\"LEFT JOIN\")\n",
    "left_join.show()\n",
    "\n",
    "# RIGHT JOIN\n",
    "right_join = commentary_df.join(over_df, on=\"match_id\", how=\"right\")\n",
    "print(\"RIGHT JOIN\")\n",
    "right_join.show()\n",
    "\n",
    "# INNER JOIN\n",
    "inner_join = commentary_df.join(over_df, on=\"match_id\", how=\"inner\")\n",
    "print(\"INNER JOIN\")\n",
    "inner_join.show()\n"
   ]
  },
  {
   "cell_type": "code",
   "execution_count": 0,
   "metadata": {
    "application/vnd.databricks.v1+cell": {
     "cellMetadata": {},
     "inputWidgets": {},
     "nuid": "600d9158-4dea-4c2b-8584-19b6fedf3da5",
     "showTitle": false,
     "tableResultSettingsMap": {},
     "title": ""
    }
   },
   "outputs": [],
   "source": []
  }
 ],
 "metadata": {
  "application/vnd.databricks.v1+notebook": {
   "computePreferences": null,
   "dashboards": [],
   "environmentMetadata": {
    "base_environment": "",
    "environment_version": "1"
   },
   "inputWidgetPreferences": null,
   "language": "python",
   "notebookMetadata": {
    "pythonIndentUnit": 4
   },
   "notebookName": "Untitled Notebook 2025-04-10 12:13:31",
   "widgets": {}
  }
 },
 "nbformat": 4,
 "nbformat_minor": 0
}