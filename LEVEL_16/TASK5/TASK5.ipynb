{
 "cells": [
  {
   "cell_type": "code",
   "execution_count": 0,
   "metadata": {
    "application/vnd.databricks.v1+cell": {
     "cellMetadata": {
      "byteLimit": 2048000,
      "implicitDf": true,
      "rowLimit": 10000
     },
     "inputWidgets": {},
     "nuid": "01dfea87-f584-44cb-8e92-72bf4ecfeede",
     "showTitle": false,
     "tableResultSettingsMap": {},
     "title": ""
    }
   },
   "outputs": [
    {
     "output_type": "stream",
     "name": "stdout",
     "output_type": "stream",
     "text": [
      "+----+-------------------+--------------------+--------+----------+--------------------+--------------------+--------------------+--------------------+--------------------+--------------+-----------+\n|year|        series_type|         series_name|match_no|match_type|          match_name|          match_href|         match_team1|         match_team2|match_datetime_start|match_date_end|match_venue|\n+----+-------------------+--------------------+--------+----------+--------------------+--------------------+--------------------+--------------------+--------------------+--------------+-----------+\n|2021|2025-04-09 20:00:00|Indian Premier Le...|    null|    League|MUMBAI INDIANS vs...|https://www.cricb...|      MUMBAI INDIANS|ROYAL CHALLENGERS...| 2025-04-09 20:00:00|          null|       null|\n|2021|2025-04-09 20:00:00|Indian Premier Le...|    null|    League|CHENNAI SUPER KIN...|https://www.cricb...| CHENNAI SUPER KINGS|      DELHI CAPITALS| 2025-04-09 20:00:00|          null|       null|\n|2021|2025-04-09 20:00:00|Indian Premier Le...|    null|    League|SUNRISERS HYDERAB...|https://www.cricb...| SUNRISERS HYDERABAD|KOLKATA KNIGHT RI...| 2025-04-09 20:00:00|          null|       null|\n|2021|2025-04-09 20:00:00|Indian Premier Le...|    null|    League|RAJASTHAN ROYALS ...|https://www.cricb...|    RAJASTHAN ROYALS|        PUNJAB KINGS| 2025-04-09 20:00:00|          null|       null|\n|2021|2025-04-09 20:00:00|Indian Premier Le...|    null|    League|KOLKATA KNIGHT RI...|https://www.cricb...|KOLKATA KNIGHT RI...|      MUMBAI INDIANS| 2025-04-09 20:00:00|          null|       null|\n+----+-------------------+--------------------+--------+----------+--------------------+--------------------+--------------------+--------------------+--------------------+--------------+-----------+\nonly showing top 5 rows\n\nroot\n |-- year: integer (nullable = true)\n |-- series_type: timestamp (nullable = true)\n |-- series_name: string (nullable = true)\n |-- match_no: string (nullable = true)\n |-- match_type: string (nullable = true)\n |-- match_name: string (nullable = true)\n |-- match_href: string (nullable = true)\n |-- match_team1: string (nullable = true)\n |-- match_team2: string (nullable = true)\n |-- match_datetime_start: timestamp (nullable = true)\n |-- match_date_end: string (nullable = true)\n |-- match_venue: string (nullable = true)\n\n"
     ]
    }
   ],
   "source": [
    "\n",
    "df = spark.read.parquet(\"/FileStore/ipl_final_cleaned.parquet\")\n",
    "df.show(5)\n",
    "df.printSchema()"
   ]
  },
  {
   "cell_type": "code",
   "execution_count": 0,
   "metadata": {
    "application/vnd.databricks.v1+cell": {
     "cellMetadata": {
      "byteLimit": 2048000,
      "rowLimit": 10000
     },
     "inputWidgets": {},
     "nuid": "6521699d-2bbf-49ec-968f-276b2629c19d",
     "showTitle": false,
     "tableResultSettingsMap": {},
     "title": ""
    }
   },
   "outputs": [
    {
     "output_type": "stream",
     "name": "stdout",
     "output_type": "stream",
     "text": [
      "+----+-------------------+--------------------+--------+----------+--------------------+--------------------+--------------------+--------------------+--------------------+--------------+-----------+\n|year|        series_type|         series_name|match_no|match_type|          match_name|          match_href|         match_team1|         match_team2|match_datetime_start|match_date_end|match_venue|\n+----+-------------------+--------------------+--------+----------+--------------------+--------------------+--------------------+--------------------+--------------------+--------------+-----------+\n|2021|2025-04-09 20:00:00|Indian Premier Le...|    null|    League|MUMBAI INDIANS vs...|https://www.cricb...|      MUMBAI INDIANS|ROYAL CHALLENGERS...| 2025-04-09 20:00:00|          null|       null|\n|2021|2025-04-09 20:00:00|Indian Premier Le...|    null|    League|CHENNAI SUPER KIN...|https://www.cricb...| CHENNAI SUPER KINGS|      DELHI CAPITALS| 2025-04-09 20:00:00|          null|       null|\n|2021|2025-04-09 20:00:00|Indian Premier Le...|    null|    League|SUNRISERS HYDERAB...|https://www.cricb...| SUNRISERS HYDERABAD|KOLKATA KNIGHT RI...| 2025-04-09 20:00:00|          null|       null|\n|2021|2025-04-09 20:00:00|Indian Premier Le...|    null|    League|RAJASTHAN ROYALS ...|https://www.cricb...|    RAJASTHAN ROYALS|        PUNJAB KINGS| 2025-04-09 20:00:00|          null|       null|\n|2021|2025-04-09 20:00:00|Indian Premier Le...|    null|    League|KOLKATA KNIGHT RI...|https://www.cricb...|KOLKATA KNIGHT RI...|      MUMBAI INDIANS| 2025-04-09 20:00:00|          null|       null|\n+----+-------------------+--------------------+--------+----------+--------------------+--------------------+--------------------+--------------------+--------------------+--------------+-----------+\nonly showing top 5 rows\n\n"
     ]
    }
   ],
   "source": [
    "from pyspark.sql.functions import col\n",
    "\n",
    "completed_df = df.filter((col(\"match_team1\").isNotNull()) & (col(\"match_team2\").isNotNull()))\n",
    "completed_df.show(5)\n"
   ]
  },
  {
   "cell_type": "code",
   "execution_count": 0,
   "metadata": {
    "application/vnd.databricks.v1+cell": {
     "cellMetadata": {
      "byteLimit": 2048000,
      "rowLimit": 10000
     },
     "inputWidgets": {},
     "nuid": "784c3099-0583-4f79-995d-4b775b086412",
     "showTitle": false,
     "tableResultSettingsMap": {},
     "title": ""
    }
   },
   "outputs": [],
   "source": [
    "columns_to_drop = [col for col in [\"umpire1\", \"umpire2\", \"umpire3\", \"method\", \"dl_applied\", \"eliminator\"] if col in completed_df.columns]\n",
    "final_df = completed_df.drop(*columns_to_drop)\n"
   ]
  },
  {
   "cell_type": "code",
   "execution_count": 0,
   "metadata": {
    "application/vnd.databricks.v1+cell": {
     "cellMetadata": {
      "byteLimit": 2048000,
      "rowLimit": 10000
     },
     "inputWidgets": {},
     "nuid": "cbefee9d-8613-43a0-b4e2-61e102bdd420",
     "showTitle": false,
     "tableResultSettingsMap": {},
     "title": ""
    }
   },
   "outputs": [],
   "source": [
    "final_df.write.format(\"delta\").mode(\"overwrite\").save(\"/delta/ipl_table_data\")\n"
   ]
  },
  {
   "cell_type": "code",
   "execution_count": 0,
   "metadata": {
    "application/vnd.databricks.v1+cell": {
     "cellMetadata": {
      "byteLimit": 2048000,
      "rowLimit": 10000
     },
     "inputWidgets": {},
     "nuid": "a524d5a8-daf5-4eba-a61b-67599d05c552",
     "showTitle": false,
     "tableResultSettingsMap": {},
     "title": ""
    }
   },
   "outputs": [
    {
     "output_type": "stream",
     "name": "stdout",
     "output_type": "stream",
     "text": [
      "Out[6]: DataFrame[]"
     ]
    }
   ],
   "source": [
    "spark.sql(\"DROP TABLE IF EXISTS ipl_delta_table\")\n",
    "\n",
    "spark.sql(\"\"\"\n",
    "    CREATE TABLE ipl_delta_table\n",
    "    USING DELTA\n",
    "    LOCATION '/delta/ipl_table_data'\n",
    "\"\"\")\n"
   ]
  },
  {
   "cell_type": "code",
   "execution_count": 0,
   "metadata": {
    "application/vnd.databricks.v1+cell": {
     "cellMetadata": {
      "byteLimit": 2048000,
      "rowLimit": 10000
     },
     "inputWidgets": {},
     "nuid": "ae1bfc45-aaa9-4081-954a-ec8d326f7782",
     "showTitle": false,
     "tableResultSettingsMap": {},
     "title": ""
    }
   },
   "outputs": [
    {
     "output_type": "stream",
     "name": "stdout",
     "output_type": "stream",
     "text": [
      "Out[8]: [FileInfo(path='dbfs:/FileStore/ipl_final_cleaned.parquet/_SUCCESS', name='_SUCCESS', size=0, modificationTime=1744172255000),\n FileInfo(path='dbfs:/FileStore/ipl_final_cleaned.parquet/_committed_7441099480444998800', name='_committed_7441099480444998800', size=123, modificationTime=1744172255000),\n FileInfo(path='dbfs:/FileStore/ipl_final_cleaned.parquet/_started_7441099480444998800', name='_started_7441099480444998800', size=0, modificationTime=1744172255000),\n FileInfo(path='dbfs:/FileStore/ipl_final_cleaned.parquet/part-00000-tid-7441099480444998800-3762357d-42ce-4bb6-920a-cdd7c9624eef-71-1-c000.snappy.parquet', name='part-00000-tid-7441099480444998800-3762357d-42ce-4bb6-920a-cdd7c9624eef-71-1-c000.snappy.parquet', size=6692, modificationTime=1744172255000)]"
     ]
    }
   ],
   "source": [
    "dbutils.fs.ls(\"/FileStore/ipl_final_cleaned.parquet\")\n",
    "\n"
   ]
  },
  {
   "cell_type": "code",
   "execution_count": 0,
   "metadata": {
    "application/vnd.databricks.v1+cell": {
     "cellMetadata": {
      "byteLimit": 2048000,
      "rowLimit": 10000
     },
     "inputWidgets": {},
     "nuid": "d8e350d8-7897-4c17-b40d-286785129e41",
     "showTitle": false,
     "tableResultSettingsMap": {},
     "title": ""
    }
   },
   "outputs": [
    {
     "output_type": "stream",
     "name": "stdout",
     "output_type": "stream",
     "text": [
      "+----+-------------------+--------------------+--------+----------+--------------------+--------------------+--------------------+--------------------+--------------------+--------------+-----------+\n|year|        series_type|         series_name|match_no|match_type|          match_name|          match_href|         match_team1|         match_team2|match_datetime_start|match_date_end|match_venue|\n+----+-------------------+--------------------+--------+----------+--------------------+--------------------+--------------------+--------------------+--------------------+--------------+-----------+\n|2021|2025-04-09 20:00:00|Indian Premier Le...|    null|    League|MUMBAI INDIANS vs...|https://www.cricb...|      MUMBAI INDIANS|ROYAL CHALLENGERS...| 2025-04-09 20:00:00|          null|       null|\n|2021|2025-04-09 20:00:00|Indian Premier Le...|    null|    League|CHENNAI SUPER KIN...|https://www.cricb...| CHENNAI SUPER KINGS|      DELHI CAPITALS| 2025-04-09 20:00:00|          null|       null|\n|2021|2025-04-09 20:00:00|Indian Premier Le...|    null|    League|SUNRISERS HYDERAB...|https://www.cricb...| SUNRISERS HYDERABAD|KOLKATA KNIGHT RI...| 2025-04-09 20:00:00|          null|       null|\n|2021|2025-04-09 20:00:00|Indian Premier Le...|    null|    League|RAJASTHAN ROYALS ...|https://www.cricb...|    RAJASTHAN ROYALS|        PUNJAB KINGS| 2025-04-09 20:00:00|          null|       null|\n|2021|2025-04-09 20:00:00|Indian Premier Le...|    null|    League|KOLKATA KNIGHT RI...|https://www.cricb...|KOLKATA KNIGHT RI...|      MUMBAI INDIANS| 2025-04-09 20:00:00|          null|       null|\n+----+-------------------+--------------------+--------+----------+--------------------+--------------------+--------------------+--------------------+--------------------+--------------+-----------+\nonly showing top 5 rows\n\nroot\n |-- year: integer (nullable = true)\n |-- series_type: timestamp (nullable = true)\n |-- series_name: string (nullable = true)\n |-- match_no: string (nullable = true)\n |-- match_type: string (nullable = true)\n |-- match_name: string (nullable = true)\n |-- match_href: string (nullable = true)\n |-- match_team1: string (nullable = true)\n |-- match_team2: string (nullable = true)\n |-- match_datetime_start: timestamp (nullable = true)\n |-- match_date_end: string (nullable = true)\n |-- match_venue: string (nullable = true)\n\n"
     ]
    }
   ],
   "source": [
    "df = spark.read.parquet(\"/FileStore/ipl_final_cleaned.parquet\")\n",
    "df.show(5)\n",
    "df.printSchema()\n"
   ]
  },
  {
   "cell_type": "code",
   "execution_count": 0,
   "metadata": {
    "application/vnd.databricks.v1+cell": {
     "cellMetadata": {
      "byteLimit": 2048000,
      "rowLimit": 10000
     },
     "inputWidgets": {},
     "nuid": "40193688-078a-4b21-bf85-0b5188029f79",
     "showTitle": false,
     "tableResultSettingsMap": {},
     "title": ""
    }
   },
   "outputs": [
    {
     "output_type": "stream",
     "name": "stdout",
     "output_type": "stream",
     "text": [
      "+----------+\n|match_type|\n+----------+\n|League    |\n+----------+\n\n"
     ]
    }
   ],
   "source": [
    "df.select(\"match_type\").distinct().show(truncate=False)"
   ]
  },
  {
   "cell_type": "code",
   "execution_count": 0,
   "metadata": {
    "application/vnd.databricks.v1+cell": {
     "cellMetadata": {
      "byteLimit": 2048000,
      "rowLimit": 10000
     },
     "inputWidgets": {},
     "nuid": "baa06632-52c4-4b4b-9a26-8ca7ed90e716",
     "showTitle": false,
     "tableResultSettingsMap": {},
     "title": ""
    }
   },
   "outputs": [
    {
     "output_type": "stream",
     "name": "stdout",
     "output_type": "stream",
     "text": [
      "root\n |-- year: integer (nullable = true)\n |-- series_type: timestamp (nullable = true)\n |-- series_name: string (nullable = true)\n |-- match_no: string (nullable = true)\n |-- match_type: string (nullable = true)\n |-- match_name: string (nullable = true)\n |-- match_href: string (nullable = true)\n |-- match_team1: string (nullable = true)\n |-- match_team2: string (nullable = true)\n |-- match_datetime_start: timestamp (nullable = true)\n |-- match_date_end: string (nullable = true)\n |-- match_venue: string (nullable = true)\n\n"
     ]
    }
   ],
   "source": [
    "completed_matches.printSchema()\n",
    "\n",
    "\n"
   ]
  },
  {
   "cell_type": "code",
   "execution_count": 0,
   "metadata": {
    "application/vnd.databricks.v1+cell": {
     "cellMetadata": {
      "byteLimit": 2048000,
      "rowLimit": 10000
     },
     "inputWidgets": {},
     "nuid": "a48f3b83-3313-49ea-87b0-6c315a329655",
     "showTitle": false,
     "tableResultSettingsMap": {},
     "title": ""
    }
   },
   "outputs": [
    {
     "output_type": "stream",
     "name": "stdout",
     "output_type": "stream",
     "text": [
      "+-----------+-----------+\n|match_team1|match_team2|\n+-----------+-----------+\n+-----------+-----------+\n\n"
     ]
    }
   ],
   "source": [
    "from pyspark.sql.functions import split, col\n",
    "fixed_matches = completed_matches.withColumn(\"match_team1\", split(col(\"match_name\"), \" vs \")[0]) \\\n",
    "                                 .withColumn(\"match_team2\", split(col(\"match_name\"), \" vs \")[1])\n",
    "\n",
    "fixed_matches.select(\"match_team1\", \"match_team2\").show(5)\n",
    "\n"
   ]
  },
  {
   "cell_type": "code",
   "execution_count": 0,
   "metadata": {
    "application/vnd.databricks.v1+cell": {
     "cellMetadata": {
      "byteLimit": 2048000,
      "rowLimit": 10000
     },
     "inputWidgets": {},
     "nuid": "3e912fcd-3607-401d-b9be-59d4da7aadff",
     "showTitle": false,
     "tableResultSettingsMap": {},
     "title": ""
    }
   },
   "outputs": [
    {
     "output_type": "stream",
     "name": "stdout",
     "output_type": "stream",
     "text": [
      "+--------------------------------------------------------+\n|match_name                                              |\n+--------------------------------------------------------+\n|MUMBAI INDIANS vs ROYAL CHALLENGERS BENGALURU, 1st Match|\n|CHENNAI SUPER KINGS vs DELHI CAPITALS, 2nd Match        |\n|SUNRISERS HYDERABAD vs KOLKATA KNIGHT RIDERS, 3rd Match |\n|RAJASTHAN ROYALS vs PUNJAB KINGS, 4th Match             |\n|KOLKATA KNIGHT RIDERS vs MUMBAI INDIANS, 5th Match      |\n+--------------------------------------------------------+\nonly showing top 5 rows\n\n"
     ]
    }
   ],
   "source": [
    "\n",
    "df = spark.read.parquet(\"dbfs:/FileStore/ipl_cleaned.parquet/\")\n",
    "df.select(\"match_name\").show(5, truncate=False)\n"
   ]
  },
  {
   "cell_type": "code",
   "execution_count": 0,
   "metadata": {
    "application/vnd.databricks.v1+cell": {
     "cellMetadata": {
      "byteLimit": 2048000,
      "rowLimit": 10000
     },
     "inputWidgets": {},
     "nuid": "56ec41a0-3ff2-4395-8d5b-21d152a5f02a",
     "showTitle": false,
     "tableResultSettingsMap": {},
     "title": ""
    }
   },
   "outputs": [
    {
     "output_type": "stream",
     "name": "stdout",
     "output_type": "stream",
     "text": [
      "+----+-------------------+--------------------------+--------+----------+--------------------------------------------------------+---------------------------------------------------------------------------------------------+---------------------+---------------------------+--------------------+--------------+-----------+\n|year|series_type        |series_name               |match_no|match_type|match_name                                              |match_href                                                                                   |match_team1          |match_team2                |match_datetime_start|match_date_end|match_venue|\n+----+-------------------+--------------------------+--------+----------+--------------------------------------------------------+---------------------------------------------------------------------------------------------+---------------------+---------------------------+--------------------+--------------+-----------+\n|2021|2025-04-09 20:00:00|Indian Premier League 2021|null    |League    |MUMBAI INDIANS vs ROYAL CHALLENGERS BENGALURU, 1st Match|https://www.cricbuzz.com/cricket-scores/35612/mi-vs-rcb-1st-match-indian-premier-league-2021 |MUMBAI INDIANS       |ROYAL CHALLENGERS BENGALURU|2025-04-09 20:00:00 |null          |null       |\n|2021|2025-04-09 20:00:00|Indian Premier League 2021|null    |League    |CHENNAI SUPER KINGS vs DELHI CAPITALS, 2nd Match        |https://www.cricbuzz.com/cricket-scores/35617/csk-vs-dc-2nd-match-indian-premier-league-2021 |CHENNAI SUPER KINGS  |DELHI CAPITALS             |2025-04-09 20:00:00 |null          |null       |\n|2021|2025-04-09 20:00:00|Indian Premier League 2021|null    |League    |SUNRISERS HYDERABAD vs KOLKATA KNIGHT RIDERS, 3rd Match |https://www.cricbuzz.com/cricket-scores/35618/srh-vs-kkr-3rd-match-indian-premier-league-2021|SUNRISERS HYDERABAD  |KOLKATA KNIGHT RIDERS      |2025-04-09 20:00:00 |null          |null       |\n|2021|2025-04-09 20:00:00|Indian Premier League 2021|null    |League    |RAJASTHAN ROYALS vs PUNJAB KINGS, 4th Match             |https://www.cricbuzz.com/cricket-scores/35622/rr-vs-pbks-4th-match-indian-premier-league-2021|RAJASTHAN ROYALS     |PUNJAB KINGS               |2025-04-09 20:00:00 |null          |null       |\n|2021|2025-04-09 20:00:00|Indian Premier League 2021|null    |League    |KOLKATA KNIGHT RIDERS vs MUMBAI INDIANS, 5th Match      |https://www.cricbuzz.com/cricket-scores/35627/kkr-vs-mi-5th-match-indian-premier-league-2021 |KOLKATA KNIGHT RIDERS|MUMBAI INDIANS             |2025-04-09 20:00:00 |null          |null       |\n+----+-------------------+--------------------------+--------+----------+--------------------------------------------------------+---------------------------------------------------------------------------------------------+---------------------+---------------------------+--------------------+--------------+-----------+\nonly showing top 5 rows\n\n"
     ]
    }
   ],
   "source": [
    "df = spark.read.parquet(\"dbfs:/FileStore/ipl_cleaned.parquet/\")\n",
    "df.createOrReplaceTempView(\"ipl_data\")\n",
    "df.show(5, truncate=False)\n"
   ]
  },
  {
   "cell_type": "code",
   "execution_count": 0,
   "metadata": {
    "application/vnd.databricks.v1+cell": {
     "cellMetadata": {
      "byteLimit": 2048000,
      "rowLimit": 10000
     },
     "inputWidgets": {},
     "nuid": "7516c2d6-7d0a-4d47-9f05-9d727afa6717",
     "showTitle": false,
     "tableResultSettingsMap": {},
     "title": ""
    }
   },
   "outputs": [
    {
     "output_type": "stream",
     "name": "stdout",
     "output_type": "stream",
     "text": [
      "+----+-------------------+--------------------------+--------+----------+--------------------------------------------------------+---------------------------------------------------------------------------------------------+---------------------+---------------------------+--------------------+--------------+-----------+\n|year|series_type        |series_name               |match_no|match_type|match_name                                              |match_href                                                                                   |match_team1          |match_team2                |match_datetime_start|match_date_end|match_venue|\n+----+-------------------+--------------------------+--------+----------+--------------------------------------------------------+---------------------------------------------------------------------------------------------+---------------------+---------------------------+--------------------+--------------+-----------+\n|2021|2025-04-09 20:00:00|Indian Premier League 2021|null    |League    |MUMBAI INDIANS vs ROYAL CHALLENGERS BENGALURU, 1st Match|https://www.cricbuzz.com/cricket-scores/35612/mi-vs-rcb-1st-match-indian-premier-league-2021 |MUMBAI INDIANS       |ROYAL CHALLENGERS BENGALURU|2025-04-09 20:00:00 |null          |null       |\n|2021|2025-04-09 20:00:00|Indian Premier League 2021|null    |League    |CHENNAI SUPER KINGS vs DELHI CAPITALS, 2nd Match        |https://www.cricbuzz.com/cricket-scores/35617/csk-vs-dc-2nd-match-indian-premier-league-2021 |CHENNAI SUPER KINGS  |DELHI CAPITALS             |2025-04-09 20:00:00 |null          |null       |\n|2021|2025-04-09 20:00:00|Indian Premier League 2021|null    |League    |SUNRISERS HYDERABAD vs KOLKATA KNIGHT RIDERS, 3rd Match |https://www.cricbuzz.com/cricket-scores/35618/srh-vs-kkr-3rd-match-indian-premier-league-2021|SUNRISERS HYDERABAD  |KOLKATA KNIGHT RIDERS      |2025-04-09 20:00:00 |null          |null       |\n|2021|2025-04-09 20:00:00|Indian Premier League 2021|null    |League    |RAJASTHAN ROYALS vs PUNJAB KINGS, 4th Match             |https://www.cricbuzz.com/cricket-scores/35622/rr-vs-pbks-4th-match-indian-premier-league-2021|RAJASTHAN ROYALS     |PUNJAB KINGS               |2025-04-09 20:00:00 |null          |null       |\n|2021|2025-04-09 20:00:00|Indian Premier League 2021|null    |League    |KOLKATA KNIGHT RIDERS vs MUMBAI INDIANS, 5th Match      |https://www.cricbuzz.com/cricket-scores/35627/kkr-vs-mi-5th-match-indian-premier-league-2021 |KOLKATA KNIGHT RIDERS|MUMBAI INDIANS             |2025-04-09 20:00:00 |null          |null       |\n+----+-------------------+--------------------------+--------+----------+--------------------------------------------------------+---------------------------------------------------------------------------------------------+---------------------+---------------------------+--------------------+--------------+-----------+\nonly showing top 5 rows\n\n"
     ]
    }
   ],
   "source": [
    "completed_matches = df.filter(df.match_name.isNotNull())\n",
    "completed_matches.show(5, truncate=False)\n"
   ]
  },
  {
   "cell_type": "code",
   "execution_count": 0,
   "metadata": {
    "application/vnd.databricks.v1+cell": {
     "cellMetadata": {
      "byteLimit": 2048000,
      "rowLimit": 10000
     },
     "inputWidgets": {},
     "nuid": "9681d4a2-f332-4fa4-a498-bdb9a3ab2d37",
     "showTitle": false,
     "tableResultSettingsMap": {},
     "title": ""
    }
   },
   "outputs": [],
   "source": [
    "completed_matches.write.format(\"delta\").mode(\"overwrite\").saveAsTable(\"ipl_cleaned_delta\")\n"
   ]
  },
  {
   "cell_type": "code",
   "execution_count": 0,
   "metadata": {
    "application/vnd.databricks.v1+cell": {
     "cellMetadata": {
      "byteLimit": 2048000,
      "rowLimit": 10000
     },
     "inputWidgets": {},
     "nuid": "80f3c129-12df-4702-91fe-077bb27e754e",
     "showTitle": false,
     "tableResultSettingsMap": {},
     "title": ""
    }
   },
   "outputs": [
    {
     "output_type": "stream",
     "name": "stdout",
     "output_type": "stream",
     "text": [
      "+----+-------------------+--------------------------+--------+----------+----------------------------------------------------------------+----------------------------------------------------------------------------------------------+---------------------------+---------------------------+--------------------+--------------+-----------+\n|year|series_type        |series_name               |match_no|match_type|match_name                                                      |match_href                                                                                    |match_team1                |match_team2                |match_datetime_start|match_date_end|match_venue|\n+----+-------------------+--------------------------+--------+----------+----------------------------------------------------------------+----------------------------------------------------------------------------------------------+---------------------------+---------------------------+--------------------+--------------+-----------+\n|2021|2025-04-09 20:00:00|Indian Premier League 2021|null    |League    |MUMBAI INDIANS vs ROYAL CHALLENGERS BENGALURU, 1st Match        |https://www.cricbuzz.com/cricket-scores/35612/mi-vs-rcb-1st-match-indian-premier-league-2021  |MUMBAI INDIANS             |ROYAL CHALLENGERS BENGALURU|2025-04-09 20:00:00 |null          |null       |\n|2021|2025-04-09 20:00:00|Indian Premier League 2021|null    |League    |CHENNAI SUPER KINGS vs DELHI CAPITALS, 2nd Match                |https://www.cricbuzz.com/cricket-scores/35617/csk-vs-dc-2nd-match-indian-premier-league-2021  |CHENNAI SUPER KINGS        |DELHI CAPITALS             |2025-04-09 20:00:00 |null          |null       |\n|2021|2025-04-09 20:00:00|Indian Premier League 2021|null    |League    |SUNRISERS HYDERABAD vs KOLKATA KNIGHT RIDERS, 3rd Match         |https://www.cricbuzz.com/cricket-scores/35618/srh-vs-kkr-3rd-match-indian-premier-league-2021 |SUNRISERS HYDERABAD        |KOLKATA KNIGHT RIDERS      |2025-04-09 20:00:00 |null          |null       |\n|2021|2025-04-09 20:00:00|Indian Premier League 2021|null    |League    |RAJASTHAN ROYALS vs PUNJAB KINGS, 4th Match                     |https://www.cricbuzz.com/cricket-scores/35622/rr-vs-pbks-4th-match-indian-premier-league-2021 |RAJASTHAN ROYALS           |PUNJAB KINGS               |2025-04-09 20:00:00 |null          |null       |\n|2021|2025-04-09 20:00:00|Indian Premier League 2021|null    |League    |KOLKATA KNIGHT RIDERS vs MUMBAI INDIANS, 5th Match              |https://www.cricbuzz.com/cricket-scores/35627/kkr-vs-mi-5th-match-indian-premier-league-2021  |KOLKATA KNIGHT RIDERS      |MUMBAI INDIANS             |2025-04-09 20:00:00 |null          |null       |\n|2021|2025-04-09 20:00:00|Indian Premier League 2021|null    |League    |SUNRISERS HYDERABAD vs ROYAL CHALLENGERS BENGALURU, 6th Match   |https://www.cricbuzz.com/cricket-scores/35628/srh-vs-rcb-6th-match-indian-premier-league-2021 |SUNRISERS HYDERABAD        |ROYAL CHALLENGERS BENGALURU|2025-04-09 20:00:00 |null          |null       |\n|2021|2025-04-09 20:00:00|Indian Premier League 2021|null    |League    |RAJASTHAN ROYALS vs DELHI CAPITALS, 7th Match                   |https://www.cricbuzz.com/cricket-scores/35632/rr-vs-dc-7th-match-indian-premier-league-2021   |RAJASTHAN ROYALS           |DELHI CAPITALS             |2025-04-09 20:00:00 |null          |null       |\n|2021|2025-04-09 20:00:00|Indian Premier League 2021|null    |League    |PUNJAB KINGS vs CHENNAI SUPER KINGS, 8th Match                  |https://www.cricbuzz.com/cricket-scores/35637/pbks-vs-csk-8th-match-indian-premier-league-2021|PUNJAB KINGS               |CHENNAI SUPER KINGS        |2025-04-09 20:00:00 |null          |null       |\n|2021|2025-04-09 20:00:00|Indian Premier League 2021|null    |League    |MUMBAI INDIANS vs SUNRISERS HYDERABAD, 9th Match                |https://www.cricbuzz.com/cricket-scores/35642/mi-vs-srh-9th-match-indian-premier-league-2021  |MUMBAI INDIANS             |SUNRISERS HYDERABAD        |2025-04-09 20:00:00 |null          |null       |\n|2021|2025-04-09 20:00:00|Indian Premier League 2021|null    |League    |ROYAL CHALLENGERS BENGALURU vs KOLKATA KNIGHT RIDERS, 10th Match|https://www.cricbuzz.com/cricket-scores/35643/rcb-vs-kkr-10th-match-indian-premier-league-2021|ROYAL CHALLENGERS BENGALURU|KOLKATA KNIGHT RIDERS      |2025-04-09 20:00:00 |null          |null       |\n+----+-------------------+--------------------------+--------+----------+----------------------------------------------------------------+----------------------------------------------------------------------------------------------+---------------------------+---------------------------+--------------------+--------------+-----------+\n\n"
     ]
    }
   ],
   "source": [
    "spark.sql(\"SELECT * FROM ipl_cleaned_delta LIMIT 10\").show(truncate=False)\n"
   ]
  },
  {
   "cell_type": "code",
   "execution_count": 0,
   "metadata": {
    "application/vnd.databricks.v1+cell": {
     "cellMetadata": {
      "byteLimit": 2048000,
      "rowLimit": 10000
     },
     "inputWidgets": {},
     "nuid": "6a3a9a62-9f98-45e8-97c2-7fa9ad5ca1bb",
     "showTitle": false,
     "tableResultSettingsMap": {},
     "title": ""
    }
   },
   "outputs": [],
   "source": [
    "completed_matches.write.format(\"delta\").mode(\"overwrite\").saveAsTable(\"ipl_cleaned_delta\")\n"
   ]
  },
  {
   "cell_type": "code",
   "execution_count": 0,
   "metadata": {
    "application/vnd.databricks.v1+cell": {
     "cellMetadata": {
      "byteLimit": 2048000,
      "implicitDf": true,
      "rowLimit": 10000
     },
     "inputWidgets": {},
     "nuid": "4eeeb706-2484-43f0-b762-ce70397e5332",
     "showTitle": false,
     "tableResultSettingsMap": {},
     "title": ""
    }
   },
   "outputs": [
    {
     "output_type": "display_data",
     "data": {
      "text/html": [
       "<style scoped>\n",
       "  .table-result-container {\n",
       "    max-height: 300px;\n",
       "    overflow: auto;\n",
       "  }\n",
       "  table, th, td {\n",
       "    border: 1px solid black;\n",
       "    border-collapse: collapse;\n",
       "  }\n",
       "  th, td {\n",
       "    padding: 5px;\n",
       "  }\n",
       "  th {\n",
       "    text-align: left;\n",
       "  }\n",
       "</style><div class='table-result-container'><table class='table-result'><thead style='background-color: white'><tr><th>year</th><th>series_type</th><th>series_name</th><th>match_no</th><th>match_type</th><th>match_name</th><th>match_href</th><th>match_team1</th><th>match_team2</th><th>match_datetime_start</th><th>match_date_end</th><th>match_venue</th></tr></thead><tbody><tr><td>2021</td><td>2025-04-09T20:00:00.000+0000</td><td>Indian Premier League 2021</td><td>null</td><td>League</td><td>MUMBAI INDIANS vs ROYAL CHALLENGERS BENGALURU, 1st Match</td><td>https://www.cricbuzz.com/cricket-scores/35612/mi-vs-rcb-1st-match-indian-premier-league-2021</td><td>MUMBAI INDIANS</td><td>ROYAL CHALLENGERS BENGALURU</td><td>2025-04-09T20:00:00.000+0000</td><td>null</td><td>null</td></tr><tr><td>2021</td><td>2025-04-09T20:00:00.000+0000</td><td>Indian Premier League 2021</td><td>null</td><td>League</td><td>CHENNAI SUPER KINGS vs DELHI CAPITALS, 2nd Match</td><td>https://www.cricbuzz.com/cricket-scores/35617/csk-vs-dc-2nd-match-indian-premier-league-2021</td><td>CHENNAI SUPER KINGS</td><td>DELHI CAPITALS</td><td>2025-04-09T20:00:00.000+0000</td><td>null</td><td>null</td></tr><tr><td>2021</td><td>2025-04-09T20:00:00.000+0000</td><td>Indian Premier League 2021</td><td>null</td><td>League</td><td>SUNRISERS HYDERABAD vs KOLKATA KNIGHT RIDERS, 3rd Match</td><td>https://www.cricbuzz.com/cricket-scores/35618/srh-vs-kkr-3rd-match-indian-premier-league-2021</td><td>SUNRISERS HYDERABAD</td><td>KOLKATA KNIGHT RIDERS</td><td>2025-04-09T20:00:00.000+0000</td><td>null</td><td>null</td></tr><tr><td>2021</td><td>2025-04-09T20:00:00.000+0000</td><td>Indian Premier League 2021</td><td>null</td><td>League</td><td>RAJASTHAN ROYALS vs PUNJAB KINGS, 4th Match</td><td>https://www.cricbuzz.com/cricket-scores/35622/rr-vs-pbks-4th-match-indian-premier-league-2021</td><td>RAJASTHAN ROYALS</td><td>PUNJAB KINGS</td><td>2025-04-09T20:00:00.000+0000</td><td>null</td><td>null</td></tr><tr><td>2021</td><td>2025-04-09T20:00:00.000+0000</td><td>Indian Premier League 2021</td><td>null</td><td>League</td><td>KOLKATA KNIGHT RIDERS vs MUMBAI INDIANS, 5th Match</td><td>https://www.cricbuzz.com/cricket-scores/35627/kkr-vs-mi-5th-match-indian-premier-league-2021</td><td>KOLKATA KNIGHT RIDERS</td><td>MUMBAI INDIANS</td><td>2025-04-09T20:00:00.000+0000</td><td>null</td><td>null</td></tr></tbody></table></div>"
      ]
     },
     "metadata": {
      "application/vnd.databricks.v1+output": {
       "addedWidgets": {},
       "aggData": [],
       "aggError": "",
       "aggOverflow": false,
       "aggSchema": [],
       "aggSeriesLimitReached": false,
       "aggType": "",
       "arguments": {},
       "columnCustomDisplayInfos": {},
       "data": [
        [
         2021,
         "2025-04-09T20:00:00.000+0000",
         "Indian Premier League 2021",
         null,
         "League",
         "MUMBAI INDIANS vs ROYAL CHALLENGERS BENGALURU, 1st Match",
         "https://www.cricbuzz.com/cricket-scores/35612/mi-vs-rcb-1st-match-indian-premier-league-2021",
         "MUMBAI INDIANS",
         "ROYAL CHALLENGERS BENGALURU",
         "2025-04-09T20:00:00.000+0000",
         null,
         null
        ],
        [
         2021,
         "2025-04-09T20:00:00.000+0000",
         "Indian Premier League 2021",
         null,
         "League",
         "CHENNAI SUPER KINGS vs DELHI CAPITALS, 2nd Match",
         "https://www.cricbuzz.com/cricket-scores/35617/csk-vs-dc-2nd-match-indian-premier-league-2021",
         "CHENNAI SUPER KINGS",
         "DELHI CAPITALS",
         "2025-04-09T20:00:00.000+0000",
         null,
         null
        ],
        [
         2021,
         "2025-04-09T20:00:00.000+0000",
         "Indian Premier League 2021",
         null,
         "League",
         "SUNRISERS HYDERABAD vs KOLKATA KNIGHT RIDERS, 3rd Match",
         "https://www.cricbuzz.com/cricket-scores/35618/srh-vs-kkr-3rd-match-indian-premier-league-2021",
         "SUNRISERS HYDERABAD",
         "KOLKATA KNIGHT RIDERS",
         "2025-04-09T20:00:00.000+0000",
         null,
         null
        ],
        [
         2021,
         "2025-04-09T20:00:00.000+0000",
         "Indian Premier League 2021",
         null,
         "League",
         "RAJASTHAN ROYALS vs PUNJAB KINGS, 4th Match",
         "https://www.cricbuzz.com/cricket-scores/35622/rr-vs-pbks-4th-match-indian-premier-league-2021",
         "RAJASTHAN ROYALS",
         "PUNJAB KINGS",
         "2025-04-09T20:00:00.000+0000",
         null,
         null
        ],
        [
         2021,
         "2025-04-09T20:00:00.000+0000",
         "Indian Premier League 2021",
         null,
         "League",
         "KOLKATA KNIGHT RIDERS vs MUMBAI INDIANS, 5th Match",
         "https://www.cricbuzz.com/cricket-scores/35627/kkr-vs-mi-5th-match-indian-premier-league-2021",
         "KOLKATA KNIGHT RIDERS",
         "MUMBAI INDIANS",
         "2025-04-09T20:00:00.000+0000",
         null,
         null
        ]
       ],
       "datasetInfos": [],
       "dbfsResultPath": null,
       "isJsonSchema": true,
       "metadata": {},
       "overflow": false,
       "plotOptions": {
        "customPlotOptions": {},
        "displayType": "table",
        "pivotAggregation": null,
        "pivotColumns": null,
        "xColumns": null,
        "yColumns": null
       },
       "removedWidgets": [],
       "schema": [
        {
         "metadata": "{}",
         "name": "year",
         "type": "\"integer\""
        },
        {
         "metadata": "{}",
         "name": "series_type",
         "type": "\"timestamp\""
        },
        {
         "metadata": "{}",
         "name": "series_name",
         "type": "\"string\""
        },
        {
         "metadata": "{}",
         "name": "match_no",
         "type": "\"string\""
        },
        {
         "metadata": "{}",
         "name": "match_type",
         "type": "\"string\""
        },
        {
         "metadata": "{}",
         "name": "match_name",
         "type": "\"string\""
        },
        {
         "metadata": "{}",
         "name": "match_href",
         "type": "\"string\""
        },
        {
         "metadata": "{}",
         "name": "match_team1",
         "type": "\"string\""
        },
        {
         "metadata": "{}",
         "name": "match_team2",
         "type": "\"string\""
        },
        {
         "metadata": "{}",
         "name": "match_datetime_start",
         "type": "\"timestamp\""
        },
        {
         "metadata": "{}",
         "name": "match_date_end",
         "type": "\"string\""
        },
        {
         "metadata": "{}",
         "name": "match_venue",
         "type": "\"string\""
        }
       ],
       "type": "table"
      }
     },
     "output_type": "display_data"
    }
   ],
   "source": [
    "%sql\n",
    "SELECT * FROM ipl_cleaned_delta LIMIT 5;\n",
    "\n",
    "\n"
   ]
  },
  {
   "cell_type": "code",
   "execution_count": 0,
   "metadata": {
    "application/vnd.databricks.v1+cell": {
     "cellMetadata": {},
     "inputWidgets": {},
     "nuid": "6a04ae18-d288-4d7e-aeef-075a5e4b987a",
     "showTitle": false,
     "tableResultSettingsMap": {},
     "title": ""
    }
   },
   "outputs": [],
   "source": []
  }
 ],
 "metadata": {
  "application/vnd.databricks.v1+notebook": {
   "computePreferences": null,
   "dashboards": [],
   "environmentMetadata": {
    "base_environment": "",
    "environment_version": "1"
   },
   "inputWidgetPreferences": null,
   "language": "python",
   "notebookMetadata": {
    "mostRecentlyExecutedCommandWithImplicitDF": {
     "commandId": 3885998882099832,
     "dataframes": [
      "_sqldf"
     ]
    },
    "pythonIndentUnit": 4
   },
   "notebookName": "LEVEL16 T5",
   "widgets": {}
  }
 },
 "nbformat": 4,
 "nbformat_minor": 0
}