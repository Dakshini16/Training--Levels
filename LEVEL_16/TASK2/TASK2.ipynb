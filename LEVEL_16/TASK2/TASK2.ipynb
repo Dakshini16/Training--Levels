{
 "cells": [
  {
   "cell_type": "code",
   "execution_count": 0,
   "metadata": {
    "application/vnd.databricks.v1+cell": {
     "cellMetadata": {
      "byteLimit": 2048000,
      "rowLimit": 10000
     },
     "inputWidgets": {},
     "nuid": "a4d4a0c1-ebd8-49cb-a1e2-d34511081893",
     "showTitle": false,
     "tableResultSettingsMap": {},
     "title": ""
    }
   },
   "outputs": [
    {
     "output_type": "stream",
     "name": "stdout",
     "output_type": "stream",
     "text": [
      "+----+-----------+--------------------+--------+----------+--------------------+--------------------+-----------+-----------+--------------------+--------------+-----------+\n|year|series_type|         series_name|match_no|match_type|          match_name|          match_href|match_team1|match_team2|match_datetime_start|match_date_end|match_venue|\n+----+-----------+--------------------+--------+----------+--------------------+--------------------+-----------+-----------+--------------------+--------------+-----------+\n|2021|        T20|Indian Premier Le...|    null|    League|MUMBAI INDIANS vs...|https://www.cricb...|       null|       null|                null|          null|       null|\n|2021|        T20|Indian Premier Le...|    null|    League|CHENNAI SUPER KIN...|https://www.cricb...|       null|       null|                null|          null|       null|\n|2021|        T20|Indian Premier Le...|    null|    League|SUNRISERS HYDERAB...|https://www.cricb...|       null|       null|                null|          null|       null|\n|2021|        T20|Indian Premier Le...|    null|    League|RAJASTHAN ROYALS ...|https://www.cricb...|       null|       null|                null|          null|       null|\n|2021|        T20|Indian Premier Le...|    null|    League|KOLKATA KNIGHT RI...|https://www.cricb...|       null|       null|                null|          null|       null|\n+----+-----------+--------------------+--------+----------+--------------------+--------------------+-----------+-----------+--------------------+--------------+-----------+\nonly showing top 5 rows\n\n"
     ]
    }
   ],
   "source": [
    "\n",
    "df = spark.read.option(\"header\", True).csv(\"/FileStore/tables/ipl_2021_matches.csv\")\n",
    "df.show(5)\n",
    "\n"
   ]
  },
  {
   "cell_type": "code",
   "execution_count": 0,
   "metadata": {
    "application/vnd.databricks.v1+cell": {
     "cellMetadata": {
      "byteLimit": 2048000,
      "rowLimit": 10000
     },
     "inputWidgets": {},
     "nuid": "42f68c2d-d091-43b5-a816-1c5789a04430",
     "showTitle": false,
     "tableResultSettingsMap": {},
     "title": ""
    }
   },
   "outputs": [
    {
     "output_type": "stream",
     "name": "stdout",
     "output_type": "stream",
     "text": [
      "root\n |-- year: string (nullable = true)\n |-- series_type: string (nullable = true)\n |-- series_name: string (nullable = true)\n |-- match_no: string (nullable = true)\n |-- match_type: string (nullable = true)\n |-- match_name: string (nullable = true)\n |-- match_href: string (nullable = true)\n |-- match_team1: string (nullable = true)\n |-- match_team2: string (nullable = true)\n |-- match_datetime_start: string (nullable = true)\n |-- match_date_end: string (nullable = true)\n |-- match_venue: string (nullable = true)\n\n+----+-----------+--------------------------+--------+----------+--------------------------------------------------------+---------------------------------------------------------------------------------------------+-----------+-----------+--------------------+--------------+-----------+\n|year|series_type|series_name               |match_no|match_type|match_name                                              |match_href                                                                                   |match_team1|match_team2|match_datetime_start|match_date_end|match_venue|\n+----+-----------+--------------------------+--------+----------+--------------------------------------------------------+---------------------------------------------------------------------------------------------+-----------+-----------+--------------------+--------------+-----------+\n|2021|T20        |Indian Premier League 2021|null    |League    |MUMBAI INDIANS vs ROYAL CHALLENGERS BENGALURU, 1st Match|https://www.cricbuzz.com/cricket-scores/35612/mi-vs-rcb-1st-match-indian-premier-league-2021 |null       |null       |null                |null          |null       |\n|2021|T20        |Indian Premier League 2021|null    |League    |CHENNAI SUPER KINGS vs DELHI CAPITALS, 2nd Match        |https://www.cricbuzz.com/cricket-scores/35617/csk-vs-dc-2nd-match-indian-premier-league-2021 |null       |null       |null                |null          |null       |\n|2021|T20        |Indian Premier League 2021|null    |League    |SUNRISERS HYDERABAD vs KOLKATA KNIGHT RIDERS, 3rd Match |https://www.cricbuzz.com/cricket-scores/35618/srh-vs-kkr-3rd-match-indian-premier-league-2021|null       |null       |null                |null          |null       |\n|2021|T20        |Indian Premier League 2021|null    |League    |RAJASTHAN ROYALS vs PUNJAB KINGS, 4th Match             |https://www.cricbuzz.com/cricket-scores/35622/rr-vs-pbks-4th-match-indian-premier-league-2021|null       |null       |null                |null          |null       |\n|2021|T20        |Indian Premier League 2021|null    |League    |KOLKATA KNIGHT RIDERS vs MUMBAI INDIANS, 5th Match      |https://www.cricbuzz.com/cricket-scores/35627/kkr-vs-mi-5th-match-indian-premier-league-2021 |null       |null       |null                |null          |null       |\n+----+-----------+--------------------------+--------+----------+--------------------------------------------------------+---------------------------------------------------------------------------------------------+-----------+-----------+--------------------+--------------+-----------+\nonly showing top 5 rows\n\n"
     ]
    }
   ],
   "source": [
    "\n",
    "ipl_df_string = spark.read.option(\"header\", True).csv(\"/FileStore/tables/ipl_2021_matches.csv\")\n",
    "\n",
    "ipl_df_string.printSchema()\n",
    "ipl_df_string.show(5, truncate=False)\n"
   ]
  },
  {
   "cell_type": "code",
   "execution_count": 0,
   "metadata": {
    "application/vnd.databricks.v1+cell": {
     "cellMetadata": {
      "byteLimit": 2048000,
      "rowLimit": 10000
     },
     "inputWidgets": {},
     "nuid": "01907cf3-9fd2-402a-980c-3db2645ef12c",
     "showTitle": false,
     "tableResultSettingsMap": {},
     "title": ""
    }
   },
   "outputs": [
    {
     "output_type": "stream",
     "name": "stdout",
     "output_type": "stream",
     "text": [
      "root\n |-- year: integer (nullable = true)\n |-- series_type: timestamp (nullable = true)\n |-- series_name: string (nullable = true)\n |-- match_no: string (nullable = true)\n |-- match_type: string (nullable = true)\n |-- match_name: string (nullable = true)\n |-- match_href: string (nullable = true)\n |-- match_team1: string (nullable = true)\n |-- match_team2: string (nullable = true)\n |-- match_datetime_start: string (nullable = true)\n |-- match_date_end: string (nullable = true)\n |-- match_venue: string (nullable = true)\n\n+----+-------------------+--------------------------+--------+----------+--------------------------------------------------------+---------------------------------------------------------------------------------------------+-----------+-----------+--------------------+--------------+-----------+\n|year|series_type        |series_name               |match_no|match_type|match_name                                              |match_href                                                                                   |match_team1|match_team2|match_datetime_start|match_date_end|match_venue|\n+----+-------------------+--------------------------+--------+----------+--------------------------------------------------------+---------------------------------------------------------------------------------------------+-----------+-----------+--------------------+--------------+-----------+\n|2021|2025-04-09 20:00:00|Indian Premier League 2021|null    |League    |MUMBAI INDIANS vs ROYAL CHALLENGERS BENGALURU, 1st Match|https://www.cricbuzz.com/cricket-scores/35612/mi-vs-rcb-1st-match-indian-premier-league-2021 |null       |null       |null                |null          |null       |\n|2021|2025-04-09 20:00:00|Indian Premier League 2021|null    |League    |CHENNAI SUPER KINGS vs DELHI CAPITALS, 2nd Match        |https://www.cricbuzz.com/cricket-scores/35617/csk-vs-dc-2nd-match-indian-premier-league-2021 |null       |null       |null                |null          |null       |\n|2021|2025-04-09 20:00:00|Indian Premier League 2021|null    |League    |SUNRISERS HYDERABAD vs KOLKATA KNIGHT RIDERS, 3rd Match |https://www.cricbuzz.com/cricket-scores/35618/srh-vs-kkr-3rd-match-indian-premier-league-2021|null       |null       |null                |null          |null       |\n|2021|2025-04-09 20:00:00|Indian Premier League 2021|null    |League    |RAJASTHAN ROYALS vs PUNJAB KINGS, 4th Match             |https://www.cricbuzz.com/cricket-scores/35622/rr-vs-pbks-4th-match-indian-premier-league-2021|null       |null       |null                |null          |null       |\n|2021|2025-04-09 20:00:00|Indian Premier League 2021|null    |League    |KOLKATA KNIGHT RIDERS vs MUMBAI INDIANS, 5th Match      |https://www.cricbuzz.com/cricket-scores/35627/kkr-vs-mi-5th-match-indian-premier-league-2021 |null       |null       |null                |null          |null       |\n+----+-------------------+--------------------------+--------+----------+--------------------------------------------------------+---------------------------------------------------------------------------------------------+-----------+-----------+--------------------+--------------+-----------+\nonly showing top 5 rows\n\n"
     ]
    }
   ],
   "source": [
    "from pyspark.sql.types import StructType, StructField, StringType, IntegerType, TimestampType\n",
    "\n",
    "ipl_schema = StructType([\n",
    "    StructField(\"year\", IntegerType(), True),\n",
    "    StructField(\"series_type\", TimestampType(), True),\n",
    "    StructField(\"series_name\", StringType(), True),\n",
    "    StructField(\"match_no\", StringType(), True),\n",
    "    StructField(\"match_type\", StringType(), True),\n",
    "    StructField(\"match_name\", StringType(), True),\n",
    "    StructField(\"match_href\", StringType(), True),\n",
    "    StructField(\"match_team1\", StringType(), True),\n",
    "    StructField(\"match_team2\", StringType(), True),\n",
    "    StructField(\"match_datetime_start\", StringType(), True),\n",
    "    StructField(\"match_date_end\", StringType(), True),\n",
    "    StructField(\"match_venue\", StringType(), True)\n",
    "])\n",
    "\n",
    "ipl_df_struct = spark.read.option(\"header\", True).schema(ipl_schema).csv(\"/FileStore/tables/ipl_2021_matches.csv\")\n",
    "\n",
    "ipl_df_struct.printSchema()\n",
    "ipl_df_struct.show(5, truncate=False)\n"
   ]
  },
  {
   "cell_type": "code",
   "execution_count": 0,
   "metadata": {
    "application/vnd.databricks.v1+cell": {
     "cellMetadata": {
      "byteLimit": 2048000,
      "rowLimit": 10000
     },
     "inputWidgets": {},
     "nuid": "4d2b6cf0-77ca-4ddb-87b1-98a13037097b",
     "showTitle": false,
     "tableResultSettingsMap": {},
     "title": ""
    }
   },
   "outputs": [
    {
     "output_type": "stream",
     "name": "stdout",
     "output_type": "stream",
     "text": [
      "+----+-------------------+--------------------------+--------+----------+--------------------------------------------------------+---------------------------------------------------------------------------------------------+-----------+-----------+--------------------+--------------+-----------+\n|year|series_type        |series_name               |match_no|match_type|match_name                                              |match_href                                                                                   |match_team1|match_team2|match_datetime_start|match_date_end|match_venue|\n+----+-------------------+--------------------------+--------+----------+--------------------------------------------------------+---------------------------------------------------------------------------------------------+-----------+-----------+--------------------+--------------+-----------+\n|2021|2025-04-09 20:00:00|Indian Premier League 2021|null    |League    |MUMBAI INDIANS vs ROYAL CHALLENGERS BENGALURU, 1st Match|https://www.cricbuzz.com/cricket-scores/35612/mi-vs-rcb-1st-match-indian-premier-league-2021 |null       |null       |null                |null          |null       |\n|2021|2025-04-09 20:00:00|Indian Premier League 2021|null    |League    |CHENNAI SUPER KINGS vs DELHI CAPITALS, 2nd Match        |https://www.cricbuzz.com/cricket-scores/35617/csk-vs-dc-2nd-match-indian-premier-league-2021 |null       |null       |null                |null          |null       |\n|2021|2025-04-09 20:00:00|Indian Premier League 2021|null    |League    |SUNRISERS HYDERABAD vs KOLKATA KNIGHT RIDERS, 3rd Match |https://www.cricbuzz.com/cricket-scores/35618/srh-vs-kkr-3rd-match-indian-premier-league-2021|null       |null       |null                |null          |null       |\n|2021|2025-04-09 20:00:00|Indian Premier League 2021|null    |League    |RAJASTHAN ROYALS vs PUNJAB KINGS, 4th Match             |https://www.cricbuzz.com/cricket-scores/35622/rr-vs-pbks-4th-match-indian-premier-league-2021|null       |null       |null                |null          |null       |\n|2021|2025-04-09 20:00:00|Indian Premier League 2021|null    |League    |KOLKATA KNIGHT RIDERS vs MUMBAI INDIANS, 5th Match      |https://www.cricbuzz.com/cricket-scores/35627/kkr-vs-mi-5th-match-indian-premier-league-2021 |null       |null       |null                |null          |null       |\n+----+-------------------+--------------------------+--------+----------+--------------------------------------------------------+---------------------------------------------------------------------------------------------+-----------+-----------+--------------------+--------------+-----------+\nonly showing top 5 rows\n\n"
     ]
    }
   ],
   "source": [
    "ipl_cleaned_df = ipl_df_struct.dropna(subset=[\"match_name\", \"match_href\", \"year\"])\n",
    "\n",
    "ipl_cleaned_df.show(5, truncate=False)\n"
   ]
  },
  {
   "cell_type": "code",
   "execution_count": 0,
   "metadata": {
    "application/vnd.databricks.v1+cell": {
     "cellMetadata": {
      "byteLimit": 2048000,
      "rowLimit": 10000
     },
     "inputWidgets": {},
     "nuid": "45f4931e-c1e9-475e-90c5-64e5c3c49840",
     "showTitle": false,
     "tableResultSettingsMap": {},
     "title": ""
    }
   },
   "outputs": [
    {
     "output_type": "stream",
     "name": "stdout",
     "output_type": "stream",
     "text": [
      "+---------------------+--------------------------------------+--------------------------------------------------------+\n|match_team1          |match_team2                           |match_name                                              |\n+---------------------+--------------------------------------+--------------------------------------------------------+\n|MUMBAI INDIANS       |ROYAL CHALLENGERS BENGALURU, 1st Match|MUMBAI INDIANS vs ROYAL CHALLENGERS BENGALURU, 1st Match|\n|CHENNAI SUPER KINGS  |DELHI CAPITALS, 2nd Match             |CHENNAI SUPER KINGS vs DELHI CAPITALS, 2nd Match        |\n|SUNRISERS HYDERABAD  |KOLKATA KNIGHT RIDERS, 3rd Match      |SUNRISERS HYDERABAD vs KOLKATA KNIGHT RIDERS, 3rd Match |\n|RAJASTHAN ROYALS     |PUNJAB KINGS, 4th Match               |RAJASTHAN ROYALS vs PUNJAB KINGS, 4th Match             |\n|KOLKATA KNIGHT RIDERS|MUMBAI INDIANS, 5th Match             |KOLKATA KNIGHT RIDERS vs MUMBAI INDIANS, 5th Match      |\n+---------------------+--------------------------------------+--------------------------------------------------------+\nonly showing top 5 rows\n\n"
     ]
    }
   ],
   "source": [
    "from pyspark.sql.functions import split, trim\n",
    "\n",
    "ipl_cleaned_df = ipl_cleaned_df.withColumn(\"match_team1\", trim(split(\"match_name\", \" vs \")[0]))\n",
    "ipl_cleaned_df = ipl_cleaned_df.withColumn(\"match_team2\", trim(split(\"match_name\", \" vs \")[1]))\n",
    "\n",
    "ipl_cleaned_df.select(\"match_team1\", \"match_team2\", \"match_name\").show(5, truncate=False)\n"
   ]
  },
  {
   "cell_type": "code",
   "execution_count": 0,
   "metadata": {
    "application/vnd.databricks.v1+cell": {
     "cellMetadata": {
      "byteLimit": 2048000,
      "rowLimit": 10000
     },
     "inputWidgets": {},
     "nuid": "79decc91-8f35-4a64-882a-d2bfd7bd525d",
     "showTitle": false,
     "tableResultSettingsMap": {},
     "title": ""
    }
   },
   "outputs": [
    {
     "output_type": "stream",
     "name": "stdout",
     "output_type": "stream",
     "text": [
      "+----+-------------------+--------------------------+--------+----------+--------------------------------------------------------+---------------------------------------------------------------------------------------------+---------------------+--------------------------------------+--------------------+--------------+-----------+\n|year|series_type        |series_name               |match_no|match_type|match_name                                              |match_href                                                                                   |match_team1          |match_team2                           |match_datetime_start|match_date_end|match_venue|\n+----+-------------------+--------------------------+--------+----------+--------------------------------------------------------+---------------------------------------------------------------------------------------------+---------------------+--------------------------------------+--------------------+--------------+-----------+\n|2021|2025-04-09 20:00:00|Indian Premier League 2021|null    |League    |MUMBAI INDIANS vs ROYAL CHALLENGERS BENGALURU, 1st Match|https://www.cricbuzz.com/cricket-scores/35612/mi-vs-rcb-1st-match-indian-premier-league-2021 |MUMBAI INDIANS       |ROYAL CHALLENGERS BENGALURU, 1st Match|null                |null          |null       |\n|2021|2025-04-09 20:00:00|Indian Premier League 2021|null    |League    |CHENNAI SUPER KINGS vs DELHI CAPITALS, 2nd Match        |https://www.cricbuzz.com/cricket-scores/35617/csk-vs-dc-2nd-match-indian-premier-league-2021 |CHENNAI SUPER KINGS  |DELHI CAPITALS, 2nd Match             |null                |null          |null       |\n|2021|2025-04-09 20:00:00|Indian Premier League 2021|null    |League    |SUNRISERS HYDERABAD vs KOLKATA KNIGHT RIDERS, 3rd Match |https://www.cricbuzz.com/cricket-scores/35618/srh-vs-kkr-3rd-match-indian-premier-league-2021|SUNRISERS HYDERABAD  |KOLKATA KNIGHT RIDERS, 3rd Match      |null                |null          |null       |\n|2021|2025-04-09 20:00:00|Indian Premier League 2021|null    |League    |RAJASTHAN ROYALS vs PUNJAB KINGS, 4th Match             |https://www.cricbuzz.com/cricket-scores/35622/rr-vs-pbks-4th-match-indian-premier-league-2021|RAJASTHAN ROYALS     |PUNJAB KINGS, 4th Match               |null                |null          |null       |\n|2021|2025-04-09 20:00:00|Indian Premier League 2021|null    |League    |KOLKATA KNIGHT RIDERS vs MUMBAI INDIANS, 5th Match      |https://www.cricbuzz.com/cricket-scores/35627/kkr-vs-mi-5th-match-indian-premier-league-2021 |KOLKATA KNIGHT RIDERS|MUMBAI INDIANS, 5th Match             |null                |null          |null       |\n+----+-------------------+--------------------------+--------+----------+--------------------------------------------------------+---------------------------------------------------------------------------------------------+---------------------+--------------------------------------+--------------------+--------------+-----------+\nonly showing top 5 rows\n\n"
     ]
    }
   ],
   "source": [
    "ipl_cleaned_df = ipl_cleaned_df.dropna(subset=[\"match_team1\", \"match_team2\"])\n",
    "ipl_cleaned_df.show(5, truncate=False)\n"
   ]
  },
  {
   "cell_type": "code",
   "execution_count": 0,
   "metadata": {
    "application/vnd.databricks.v1+cell": {
     "cellMetadata": {
      "byteLimit": 2048000,
      "rowLimit": 10000
     },
     "inputWidgets": {},
     "nuid": "8165ee26-b805-4516-addf-8878166ea10f",
     "showTitle": false,
     "tableResultSettingsMap": {},
     "title": ""
    }
   },
   "outputs": [
    {
     "output_type": "stream",
     "name": "stdout",
     "output_type": "stream",
     "text": [
      "+----+-------------------+--------------------------+--------+----------+--------------------------------------------------------+---------------------------------------------------------------------------------------------+---------------------+--------------------------------------+--------------------+--------------+-----------+\n|year|series_type        |series_name               |match_no|match_type|match_name                                              |match_href                                                                                   |match_team1          |match_team2                           |match_datetime_start|match_date_end|match_venue|\n+----+-------------------+--------------------------+--------+----------+--------------------------------------------------------+---------------------------------------------------------------------------------------------+---------------------+--------------------------------------+--------------------+--------------+-----------+\n|2021|2025-04-09 20:00:00|Indian Premier League 2021|null    |League    |MUMBAI INDIANS vs ROYAL CHALLENGERS BENGALURU, 1st Match|https://www.cricbuzz.com/cricket-scores/35612/mi-vs-rcb-1st-match-indian-premier-league-2021 |MUMBAI INDIANS       |ROYAL CHALLENGERS BENGALURU, 1st Match|null                |null          |null       |\n|2021|2025-04-09 20:00:00|Indian Premier League 2021|null    |League    |CHENNAI SUPER KINGS vs DELHI CAPITALS, 2nd Match        |https://www.cricbuzz.com/cricket-scores/35617/csk-vs-dc-2nd-match-indian-premier-league-2021 |CHENNAI SUPER KINGS  |DELHI CAPITALS, 2nd Match             |null                |null          |null       |\n|2021|2025-04-09 20:00:00|Indian Premier League 2021|null    |League    |SUNRISERS HYDERABAD vs KOLKATA KNIGHT RIDERS, 3rd Match |https://www.cricbuzz.com/cricket-scores/35618/srh-vs-kkr-3rd-match-indian-premier-league-2021|SUNRISERS HYDERABAD  |KOLKATA KNIGHT RIDERS, 3rd Match      |null                |null          |null       |\n|2021|2025-04-09 20:00:00|Indian Premier League 2021|null    |League    |RAJASTHAN ROYALS vs PUNJAB KINGS, 4th Match             |https://www.cricbuzz.com/cricket-scores/35622/rr-vs-pbks-4th-match-indian-premier-league-2021|RAJASTHAN ROYALS     |PUNJAB KINGS, 4th Match               |null                |null          |null       |\n|2021|2025-04-09 20:00:00|Indian Premier League 2021|null    |League    |KOLKATA KNIGHT RIDERS vs MUMBAI INDIANS, 5th Match      |https://www.cricbuzz.com/cricket-scores/35627/kkr-vs-mi-5th-match-indian-premier-league-2021 |KOLKATA KNIGHT RIDERS|MUMBAI INDIANS, 5th Match             |null                |null          |null       |\n+----+-------------------+--------------------------+--------+----------+--------------------------------------------------------+---------------------------------------------------------------------------------------------+---------------------+--------------------------------------+--------------------+--------------+-----------+\nonly showing top 5 rows\n\n"
     ]
    }
   ],
   "source": [
    "ipl_cleaned_df = ipl_cleaned_df.dropna(subset=[\"match_team1\", \"match_team2\"])\n",
    "ipl_cleaned_df.show(5, truncate=False)\n"
   ]
  },
  {
   "cell_type": "code",
   "execution_count": 0,
   "metadata": {
    "application/vnd.databricks.v1+cell": {
     "cellMetadata": {
      "byteLimit": 2048000,
      "rowLimit": 10000
     },
     "inputWidgets": {},
     "nuid": "d1d43eef-361d-4331-a9d7-e5395101a9e0",
     "showTitle": false,
     "tableResultSettingsMap": {},
     "title": ""
    }
   },
   "outputs": [
    {
     "output_type": "stream",
     "name": "stdout",
     "output_type": "stream",
     "text": [
      "== Physical Plan ==\n*(1) Project [year#3004, series_type#3005, series_name#3006, match_no#3007, match_type#3008, match_name#3009, match_href#3010, trim(split(match_name#3009,  vs , 2)[0], None) AS match_team1#3163, trim(split(match_name#3009,  vs , 3)[1], None) AS match_team2#3176, match_datetime_start#3013, match_date_end#3014, match_venue#3015]\n+- *(1) Filter (atleastnnonnulls(3, match_name#3009, match_href#3010, year#3004) AND atleastnnonnulls(2, trim(split(match_name#3009,  vs , 2)[0], None), trim(split(match_name#3009,  vs , 3)[1], None)))\n   +- FileScan csv [year#3004,series_type#3005,series_name#3006,match_no#3007,match_type#3008,match_name#3009,match_href#3010,match_datetime_start#3013,match_date_end#3014,match_venue#3015] Batched: false, DataFilters: [atleastnnonnulls(3, match_name#3009, match_href#3010, year#3004), atleastnnonnulls(2, trim(split..., Format: CSV, Location: InMemoryFileIndex(1 paths)[dbfs:/FileStore/tables/ipl_2021_matches.csv], PartitionFilters: [], PushedFilters: [], ReadSchema: struct<year:int,series_type:timestamp,series_name:string,match_no:string,match_type:string,match_...\n\n\n== Physical Plan ==\n* Project (3)\n+- * Filter (2)\n   +- Scan csv  (1)\n\n\n(1) Scan csv \nOutput [10]: [year#3004, series_type#3005, series_name#3006, match_no#3007, match_type#3008, match_name#3009, match_href#3010, match_datetime_start#3013, match_date_end#3014, match_venue#3015]\nBatched: false\nLocation: InMemoryFileIndex [dbfs:/FileStore/tables/ipl_2021_matches.csv]\nReadSchema: struct<year:int,series_type:timestamp,series_name:string,match_no:string,match_type:string,match_name:string,match_href:string,match_datetime_start:string,match_date_end:string,match_venue:string>\n\n(2) Filter [codegen id : 1]\nInput [10]: [year#3004, series_type#3005, series_name#3006, match_no#3007, match_type#3008, match_name#3009, match_href#3010, match_datetime_start#3013, match_date_end#3014, match_venue#3015]\nCondition : (atleastnnonnulls(3, match_name#3009, match_href#3010, year#3004) AND atleastnnonnulls(2, trim(split(match_name#3009,  vs , 2)[0], None), trim(split(match_name#3009,  vs , 3)[1], None)))\n\n(3) Project [codegen id : 1]\nOutput [12]: [year#3004, series_type#3005, series_name#3006, match_no#3007, match_type#3008, match_name#3009, match_href#3010, trim(split(match_name#3009,  vs , 2)[0], None) AS match_team1#3163, trim(split(match_name#3009,  vs , 3)[1], None) AS match_team2#3176, match_datetime_start#3013, match_date_end#3014, match_venue#3015]\nInput [10]: [year#3004, series_type#3005, series_name#3006, match_no#3007, match_type#3008, match_name#3009, match_href#3010, match_datetime_start#3013, match_date_end#3014, match_venue#3015]\n\n\n"
     ]
    }
   ],
   "source": [
    "ipl_cleaned_df.explain(\"simple\")\n",
    "ipl_cleaned_df.explain(\"formatted\")\n"
   ]
  },
  {
   "cell_type": "code",
   "execution_count": 0,
   "metadata": {
    "application/vnd.databricks.v1+cell": {
     "cellMetadata": {
      "byteLimit": 2048000,
      "rowLimit": 10000
     },
     "inputWidgets": {},
     "nuid": "9d96421f-c781-4035-9df2-39b08ae55bce",
     "showTitle": false,
     "tableResultSettingsMap": {},
     "title": ""
    }
   },
   "outputs": [
    {
     "output_type": "stream",
     "name": "stdout",
     "output_type": "stream",
     "text": [
      "+--------------------+-----------+\n|         match_team1|match_count|\n+--------------------+-----------+\n|      DELHI CAPITALS|          9|\n| CHENNAI SUPER KINGS|          8|\n|ROYAL CHALLENGERS...|          8|\n| SUNRISERS HYDERABAD|          8|\n|KOLKATA KNIGHT RI...|          8|\n|    RAJASTHAN ROYALS|          7|\n|      MUMBAI INDIANS|          7|\n|        PUNJAB KINGS|          7|\n+--------------------+-----------+\n\n"
     ]
    }
   ],
   "source": [
    "ipl_cleaned_df.createOrReplaceTempView(\"ipl_matches\")\n",
    "\n",
    "spark.sql(\"\"\"\n",
    "    SELECT match_team1, COUNT(*) as match_count \n",
    "    FROM ipl_matches \n",
    "    GROUP BY match_team1 \n",
    "    ORDER BY match_count DESC\n",
    "\"\"\").show()\n"
   ]
  },
  {
   "cell_type": "code",
   "execution_count": 0,
   "metadata": {
    "application/vnd.databricks.v1+cell": {
     "cellMetadata": {
      "byteLimit": 2048000,
      "rowLimit": 10000
     },
     "inputWidgets": {},
     "nuid": "425ec3ef-7cbb-45ff-a049-a240c68bbd4f",
     "showTitle": false,
     "tableResultSettingsMap": {},
     "title": ""
    }
   },
   "outputs": [
    {
     "output_type": "stream",
     "name": "stdout",
     "output_type": "stream",
     "text": [
      "+----+-------------------+--------------------+--------+----------+--------------------+--------------------+--------------------+--------------------+--------------------+--------------+-----------+\n|year|        series_type|         series_name|match_no|match_type|          match_name|          match_href|         match_team1|         match_team2|match_datetime_start|match_date_end|match_venue|\n+----+-------------------+--------------------+--------+----------+--------------------+--------------------+--------------------+--------------------+--------------------+--------------+-----------+\n|2021|2025-04-09 20:00:00|Indian Premier Le...|    null|    League|MUMBAI INDIANS vs...|https://www.cricb...|      MUMBAI INDIANS|ROYAL CHALLENGERS...|                null|          null|       null|\n|2021|2025-04-09 20:00:00|Indian Premier Le...|    null|    League|CHENNAI SUPER KIN...|https://www.cricb...| CHENNAI SUPER KINGS|DELHI CAPITALS, 2...|                null|          null|       null|\n|2021|2025-04-09 20:00:00|Indian Premier Le...|    null|    League|SUNRISERS HYDERAB...|https://www.cricb...| SUNRISERS HYDERABAD|KOLKATA KNIGHT RI...|                null|          null|       null|\n|2021|2025-04-09 20:00:00|Indian Premier Le...|    null|    League|RAJASTHAN ROYALS ...|https://www.cricb...|    RAJASTHAN ROYALS|PUNJAB KINGS, 4th...|                null|          null|       null|\n|2021|2025-04-09 20:00:00|Indian Premier Le...|    null|    League|KOLKATA KNIGHT RI...|https://www.cricb...|KOLKATA KNIGHT RI...|MUMBAI INDIANS, 5...|                null|          null|       null|\n+----+-------------------+--------------------+--------+----------+--------------------+--------------------+--------------------+--------------------+--------------------+--------------+-----------+\nonly showing top 5 rows\n\n"
     ]
    }
   ],
   "source": [
    "ipl_cleaned_df.show(5)\n"
   ]
  },
  {
   "cell_type": "code",
   "execution_count": 0,
   "metadata": {
    "application/vnd.databricks.v1+cell": {
     "cellMetadata": {
      "byteLimit": 2048000,
      "rowLimit": 10000
     },
     "inputWidgets": {},
     "nuid": "53286ad1-1668-4ea4-afc0-97decfb3dc44",
     "showTitle": false,
     "tableResultSettingsMap": {},
     "title": ""
    }
   },
   "outputs": [
    {
     "output_type": "stream",
     "name": "stdout",
     "output_type": "stream",
     "text": [
      "== Physical Plan ==\n*(1) Project [year#3004, series_type#3005, series_name#3006, match_no#3007, match_type#3008, match_name#3009, match_href#3010, trim(split(match_name#3009,  vs , 2)[0], None) AS match_team1#3163, trim(split(match_name#3009,  vs , 3)[1], None) AS match_team2#3176, match_datetime_start#3013, match_date_end#3014, match_venue#3015]\n+- *(1) Filter (atleastnnonnulls(3, match_name#3009, match_href#3010, year#3004) AND atleastnnonnulls(2, trim(split(match_name#3009,  vs , 2)[0], None), trim(split(match_name#3009,  vs , 3)[1], None)))\n   +- FileScan csv [year#3004,series_type#3005,series_name#3006,match_no#3007,match_type#3008,match_name#3009,match_href#3010,match_datetime_start#3013,match_date_end#3014,match_venue#3015] Batched: false, DataFilters: [atleastnnonnulls(3, match_name#3009, match_href#3010, year#3004), atleastnnonnulls(2, trim(split..., Format: CSV, Location: InMemoryFileIndex(1 paths)[dbfs:/FileStore/tables/ipl_2021_matches.csv], PartitionFilters: [], PushedFilters: [], ReadSchema: struct<year:int,series_type:timestamp,series_name:string,match_no:string,match_type:string,match_...\n\n\n== Parsed Logical Plan ==\nFilter atleastnnonnulls(2, match_team1#3163, match_team2#3176)\n+- Filter atleastnnonnulls(2, match_team1#3163, match_team2#3176)\n   +- Project [year#3004, series_type#3005, series_name#3006, match_no#3007, match_type#3008, match_name#3009, match_href#3010, match_team1#3163, trim(split(match_name#3009,  vs , -1)[1], None) AS match_team2#3176, match_datetime_start#3013, match_date_end#3014, match_venue#3015]\n      +- Project [year#3004, series_type#3005, series_name#3006, match_no#3007, match_type#3008, match_name#3009, match_href#3010, trim(split(match_name#3009,  vs , -1)[0], None) AS match_team1#3163, match_team2#3012, match_datetime_start#3013, match_date_end#3014, match_venue#3015]\n         +- Filter atleastnnonnulls(3, match_name#3009, match_href#3010, year#3004)\n            +- Relation [year#3004,series_type#3005,series_name#3006,match_no#3007,match_type#3008,match_name#3009,match_href#3010,match_team1#3011,match_team2#3012,match_datetime_start#3013,match_date_end#3014,match_venue#3015] csv\n\n== Analyzed Logical Plan ==\nyear: int, series_type: timestamp, series_name: string, match_no: string, match_type: string, match_name: string, match_href: string, match_team1: string, match_team2: string, match_datetime_start: string, match_date_end: string, match_venue: string\nFilter atleastnnonnulls(2, match_team1#3163, match_team2#3176)\n+- Filter atleastnnonnulls(2, match_team1#3163, match_team2#3176)\n   +- Project [year#3004, series_type#3005, series_name#3006, match_no#3007, match_type#3008, match_name#3009, match_href#3010, match_team1#3163, trim(split(match_name#3009,  vs , -1)[1], None) AS match_team2#3176, match_datetime_start#3013, match_date_end#3014, match_venue#3015]\n      +- Project [year#3004, series_type#3005, series_name#3006, match_no#3007, match_type#3008, match_name#3009, match_href#3010, trim(split(match_name#3009,  vs , -1)[0], None) AS match_team1#3163, match_team2#3012, match_datetime_start#3013, match_date_end#3014, match_venue#3015]\n         +- Filter atleastnnonnulls(3, match_name#3009, match_href#3010, year#3004)\n            +- Relation [year#3004,series_type#3005,series_name#3006,match_no#3007,match_type#3008,match_name#3009,match_href#3010,match_team1#3011,match_team2#3012,match_datetime_start#3013,match_date_end#3014,match_venue#3015] csv\n\n== Optimized Logical Plan ==\nProject [year#3004, series_type#3005, series_name#3006, match_no#3007, match_type#3008, match_name#3009, match_href#3010, trim(split(match_name#3009,  vs , 2)[0], None) AS match_team1#3163, trim(split(match_name#3009,  vs , 3)[1], None) AS match_team2#3176, match_datetime_start#3013, match_date_end#3014, match_venue#3015]\n+- Filter (atleastnnonnulls(3, match_name#3009, match_href#3010, year#3004) AND atleastnnonnulls(2, trim(split(match_name#3009,  vs , 2)[0], None), trim(split(match_name#3009,  vs , 3)[1], None)))\n   +- Relation [year#3004,series_type#3005,series_name#3006,match_no#3007,match_type#3008,match_name#3009,match_href#3010,match_team1#3011,match_team2#3012,match_datetime_start#3013,match_date_end#3014,match_venue#3015] csv\n\n== Physical Plan ==\n*(1) Project [year#3004, series_type#3005, series_name#3006, match_no#3007, match_type#3008, match_name#3009, match_href#3010, trim(split(match_name#3009,  vs , 2)[0], None) AS match_team1#3163, trim(split(match_name#3009,  vs , 3)[1], None) AS match_team2#3176, match_datetime_start#3013, match_date_end#3014, match_venue#3015]\n+- *(1) Filter (atleastnnonnulls(3, match_name#3009, match_href#3010, year#3004) AND atleastnnonnulls(2, trim(split(match_name#3009,  vs , 2)[0], None), trim(split(match_name#3009,  vs , 3)[1], None)))\n   +- FileScan csv [year#3004,series_type#3005,series_name#3006,match_no#3007,match_type#3008,match_name#3009,match_href#3010,match_datetime_start#3013,match_date_end#3014,match_venue#3015] Batched: false, DataFilters: [atleastnnonnulls(3, match_name#3009, match_href#3010, year#3004), atleastnnonnulls(2, trim(split..., Format: CSV, Location: InMemoryFileIndex(1 paths)[dbfs:/FileStore/tables/ipl_2021_matches.csv], PartitionFilters: [], PushedFilters: [], ReadSchema: struct<year:int,series_type:timestamp,series_name:string,match_no:string,match_type:string,match_...\n\nFound 1 WholeStageCodegen subtrees.\n== Subtree 1 / 1 (maxMethodCodeSize:1327; maxConstantPoolSize:147(0.22% used); numInnerClasses:0) ==\n*(1) Project [year#3004, series_type#3005, series_name#3006, match_no#3007, match_type#3008, match_name#3009, match_href#3010, trim(split(match_name#3009,  vs , 2)[0], None) AS match_team1#3163, trim(split(match_name#3009,  vs , 3)[1], None) AS match_team2#3176, match_datetime_start#3013, match_date_end#3014, match_venue#3015]\n+- *(1) Filter (atleastnnonnulls(3, match_name#3009, match_href#3010, year#3004) AND atleastnnonnulls(2, trim(split(match_name#3009,  vs , 2)[0], None), trim(split(match_name#3009,  vs , 3)[1], None)))\n   +- FileScan csv [year#3004,series_type#3005,series_name#3006,match_no#3007,match_type#3008,match_name#3009,match_href#3010,match_datetime_start#3013,match_date_end#3014,match_venue#3015] Batched: false, DataFilters: [atleastnnonnulls(3, match_name#3009, match_href#3010, year#3004), atleastnnonnulls(2, trim(split..., Format: CSV, Location: InMemoryFileIndex(1 paths)[dbfs:/FileStore/tables/ipl_2021_matches.csv], PartitionFilters: [], PushedFilters: [], ReadSchema: struct<year:int,series_type:timestamp,series_name:string,match_no:string,match_type:string,match_...\n\nGenerated code:\n/* 001 */ public Object generate(Object[] references) {\n/* 002 */   return new GeneratedIteratorForCodegenStage1(references);\n/* 003 */ }\n/* 004 */\n/* 005 */ // codegenStageId=1\n/* 006 */ final class GeneratedIteratorForCodegenStage1 extends org.apache.spark.sql.execution.BufferedRowIterator {\n/* 007 */   private Object[] references;\n/* 008 */   private scala.collection.Iterator[] inputs;\n/* 009 */   private scala.collection.Iterator inputadapter_input_0;\n/* 010 */   private org.apache.spark.sql.catalyst.expressions.codegen.UnsafeRowWriter[] filter_mutableStateArray_0 = new org.apache.spark.sql.catalyst.expressions.codegen.UnsafeRowWriter[2];\n/* 011 */\n/* 012 */   public GeneratedIteratorForCodegenStage1(Object[] references) {\n/* 013 */     this.references = references;\n/* 014 */   }\n/* 015 */\n/* 016 */   public void init(int index, scala.collection.Iterator[] inputs) {\n/* 017 */     partitionIndex = index;\n/* 018 */     this.inputs = inputs;\n/* 019 */     inputadapter_input_0 = inputs[0];\n/* 020 */     filter_mutableStateArray_0[0] = new org.apache.spark.sql.catalyst.expressions.codegen.UnsafeRowWriter(10, 256);\n/* 021 */     filter_mutableStateArray_0[1] = new org.apache.spark.sql.catalyst.expressions.codegen.UnsafeRowWriter(12, 320);\n/* 022 */\n/* 023 */   }\n/* 024 */\n/* 025 */   protected void processNext() throws java.io.IOException {\n/* 026 */     while ( inputadapter_input_0.hasNext()) {\n/* 027 */       InternalRow inputadapter_row_0 = (InternalRow) inputadapter_input_0.next();\n/* 028 */\n/* 029 */       do {\n/* 030 */         final boolean inputadapter_isNull_0 = (inputadapter_row_0.isNullAt(0));\n/* 031 */         final int inputadapter_value_0 = (inputadapter_isNull_0 ? -1 : (inputadapter_row_0.getInt(0)));\n/* 032 */         final boolean inputadapter_isNull_5 = (inputadapter_row_0.isNullAt(5));\n/* 033 */         final UTF8String inputadapter_value_5 = (inputadapter_isNull_5 ? null : (inputadapter_row_0.getUTF8String(5)));\n/* 034 */         final boolean inputadapter_isNull_6 = (inputadapter_row_0.isNullAt(6));\n/* 035 */         final UTF8String inputadapter_value_6 = (inputadapter_isNull_6 ? null : (inputadapter_row_0.getUTF8String(6)));\n/* 036 */\n/* 037 */         int filter_nonnull_0 = 0;\n/* 038 */         do {\n/* 039 */           if (filter_nonnull_0 < 3) {\n/* 040 */             if (!inputadapter_isNull_5) {\n/* 041 */               filter_nonnull_0 += 1;\n/* 042 */             }\n/* 043 */           } else {\n/* 044 */             continue;\n/* 045 */           }\n/* 046 */\n/* 047 */           if (filter_nonnull_0 < 3) {\n/* 048 */             if (!inputadapter_isNull_6) {\n/* 049 */               filter_nonnull_0 += 1;\n/* 050 */             }\n/* 051 */           } else {\n/* 052 */             continue;\n/* 053 */           }\n/* 054 */\n/* 055 */           if (filter_nonnull_0 < 3) {\n/* 056 */             if (!inputadapter_isNull_0) {\n/* 057 */               filter_nonnull_0 += 1;\n/* 058 */             }\n/* 059 */           } else {\n/* 060 */             continue;\n/* 061 */           }\n/* 062 */\n/* 063 */         } while (false);\n/* 064 */         boolean filter_value_0 = filter_nonnull_0 >= 3;\n/* 065 */         if (!filter_value_0) continue;\n/* 066 */         int filter_nonnull_1 = 0;\n/* 067 */         do {\n/* 068 */           if (filter_nonnull_1 < 2) {\n/* 069 */             boolean filter_isNull_2 = true;\n/* 070 */             UTF8String filter_value_2 = null;\n/* 071 */             final ArrayData filter_value_5 = (inputadapter_isNull_5 ? null : (RuntimeUtils.regexSplit(inputadapter_value_5, ((UTF8String) references[1] /* literal */), 2)));\n/* 072 */             if (!inputadapter_isNull_5) {\n/* 073 */               filter_isNull_2 = false; // resultCode could change nullability.\n/* 074 */\n/* 075 */               final int filter_index_0 = (int) 0;\n/* 076 */               if (filter_index_0 >= filter_value_5.numElements() || filter_index_0 < 0) {\n/* 077 */                 ((org.apache.spark.sql.catalyst.expressions.GetArrayItem) references[2] /* thisObj */).logAnsiBehaviorChange(\"invalidArrayIndex\");\n/* 078 */                 filter_isNull_2 = true;\n/* 079 */\n/* 080 */               }  else {\n/* 081 */                 filter_value_2 = filter_value_5.getUTF8String(filter_index_0);\n/* 082 */               }\n/* 083 */\n/* 084 */             }\n/* 085 */             final UTF8String filter_value_7 = (filter_isNull_2 ? null : (filter_value_2.trim()));\n/* 086 */             if (!filter_isNull_2) {\n/* 087 */               filter_nonnull_1 += 1;\n/* 088 */             }\n/* 089 */           } else {\n/* 090 */             continue;\n/* 091 */           }\n/* 092 */\n/* 093 */           if (filter_nonnull_1 < 2) {\n/* 094 */             boolean filter_isNull_6 = true;\n/* 095 */             UTF8String filter_value_8 = null;\n/* 096 */             final ArrayData filter_value_11 = (inputadapter_isNull_5 ? null : (RuntimeUtils.regexSplit(inputadapter_value_5, ((UTF8String) references[1] /* literal */), 3)));\n/* 097 */             if (!inputadapter_isNull_5) {\n/* 098 */               filter_isNull_6 = false; // resultCode could change nullability.\n/* 099 */\n/* 100 */               final int filter_index_1 = (int) 1;\n/* 101 */               if (filter_index_1 >= filter_value_11.numElements() || filter_index_1 < 0) {\n/* 102 */                 ((org.apache.spark.sql.catalyst.expressions.GetArrayItem) references[3] /* thisObj */).logAnsiBehaviorChange(\"invalidArrayIndex\");\n/* 103 */                 filter_isNull_6 = true;\n/* 104 */\n/* 105 */               }  else {\n/* 106 */                 filter_value_8 = filter_value_11.getUTF8String(filter_index_1);\n/* 107 */               }\n/* 108 */\n/* 109 */             }\n/* 110 */             final UTF8String filter_value_13 = (filter_isNull_6 ? null : (filter_value_8.trim()));\n/* 111 */             if (!filter_isNull_6) {\n/* 112 */               filter_nonnull_1 += 1;\n/* 113 */             }\n/* 114 */           } else {\n/* 115 */             continue;\n/* 116 */           }\n/* 117 */\n/* 118 */         } while (false);\n/* 119 */         boolean filter_value_1 = filter_nonnull_1 >= 2;\n/* 120 */         if (!filter_value_1) continue;\n/* 121 */\n/* 122 */         ((org.apache.spark.sql.execution.metric.SQLMetric) references[0] /* numOutputRows */).add(1);\n/* 123 */\n/* 124 */         final boolean inputadapter_isNull_1 = (inputadapter_row_0.isNullAt(1));\n/* 125 */         final long inputadapter_value_1 = (inputadapter_isNull_1 ? -1L : (inputadapter_row_0.getLong(1)));\n/* 126 */         final boolean inputadapter_isNull_2 = (inputadapter_row_0.isNullAt(2));\n/* 127 */         final UTF8String inputadapter_value_2 = (inputadapter_isNull_2 ? null : (inputadapter_row_0.getUTF8String(2)));\n/* 128 */         final boolean inputadapter_isNull_3 = (inputadapter_row_0.isNullAt(3));\n/* 129 */         final UTF8String inputadapter_value_3 = (inputadapter_isNull_3 ? null : (inputadapter_row_0.getUTF8String(3)));\n/* 130 */         final boolean inputadapter_isNull_4 = (inputadapter_row_0.isNullAt(4));\n/* 131 */         final UTF8String inputadapter_value_4 = (inputadapter_isNull_4 ? null : (inputadapter_row_0.getUTF8String(4)));\n/* 132 */         boolean project_isNull_0 = true;\n/* 133 */         UTF8String project_value_0 = null;\n/* 134 */         final ArrayData project_value_3 = (inputadapter_isNull_5 ? null : (RuntimeUtils.regexSplit(inputadapter_value_5, ((UTF8String) references[1] /* literal */), 2)));\n/* 135 */         if (!inputadapter_isNull_5) {\n/* 136 */           project_isNull_0 = false; // resultCode could change nullability.\n/* 137 */\n/* 138 */           final int project_index_0 = (int) 0;\n/* 139 */           if (project_index_0 >= project_value_3.numElements() || project_index_0 < 0) {\n/* 140 */             ((org.apache.spark.sql.catalyst.expressions.GetArrayItem) references[4] /* thisObj */).logAnsiBehaviorChange(\"invalidArrayIndex\");\n/* 141 */             project_isNull_0 = true;\n/* 142 */\n/* 143 */           }  else {\n/* 144 */             project_value_0 = project_value_3.getUTF8String(project_index_0);\n/* 145 */           }\n/* 146 */\n/* 147 */         }\n/* 148 */         final UTF8String project_value_5 = (project_isNull_0 ? null : (project_value_0.trim()));\n/* 149 */         boolean project_isNull_4 = true;\n/* 150 */         UTF8String project_value_6 = null;\n/* 151 */         final ArrayData project_value_9 = (inputadapter_isNull_5 ? null : (RuntimeUtils.regexSplit(inputadapter_value_5, ((UTF8String) references[1] /* literal */), 3)));\n/* 152 */         if (!inputadapter_isNull_5) {\n/* 153 */           project_isNull_4 = false; // resultCode could change nullability.\n/* 154 */\n/* 155 */           final int project_index_1 = (int) 1;\n/* 156 */           if (project_index_1 >= project_value_9.numElements() || project_index_1 < 0) {\n/* 157 */             ((org.apache.spark.sql.catalyst.expressions.GetArrayItem) references[5] /* thisObj */).logAnsiBehaviorChange(\"invalidArrayIndex\");\n/* 158 */             project_isNull_4 = true;\n/* 159 */\n/* 160 */           }  else {\n/* 161 */             project_value_6 = project_value_9.getUTF8String(project_index_1);\n/* 162 */           }\n/* 163 */\n/* 164 */         }\n/* 165 */         final UTF8String project_value_11 = (project_isNull_4 ? null : (project_value_6.trim()));\n/* 166 */         final boolean inputadapter_isNull_7 = (inputadapter_row_0.isNullAt(7));\n/* 167 */         final UTF8String inputadapter_value_7 = (inputadapter_isNull_7 ? null : (inputadapter_row_0.getUTF8String(7)));\n/* 168 */         final boolean inputadapter_isNull_8 = (inputadapter_row_0.isNullAt(8));\n/* 169 */         final UTF8String inputadapter_value_8 = (inputadapter_isNull_8 ? null : (inputadapter_row_0.getUTF8String(8)));\n/* 170 */         final boolean inputadapter_isNull_9 = (inputadapter_row_0.isNullAt(9));\n/* 171 */         final UTF8String inputadapter_value_9 = (inputadapter_isNull_9 ? null : (inputadapter_row_0.getUTF8String(9)));\n/* 172 */         filter_mutableStateArray_0[1].reset();\n/* 173 */\n/* 174 */         filter_mutableStateArray_0[1].zeroOutNullBytes();\n/* 175 */\n/* 176 */         if (inputadapter_isNull_0) {\n/* 177 */           filter_mutableStateArray_0[1].setNullAt(0);\n/* 178 */         } else {\n/* 179 */           filter_mutableStateArray_0[1].write(0, inputadapter_value_0);\n/* 180 */         }\n/* 181 */\n/* 182 */         if (inputadapter_isNull_1) {\n/* 183 */           filter_mutableStateArray_0[1].setNullAt(1);\n/* 184 */         } else {\n/* 185 */           filter_mutableStateArray_0[1].write(1, inputadapter_value_1);\n/* 186 */         }\n/* 187 */\n/* 188 */         if (inputadapter_isNull_2) {\n/* 189 */           filter_mutableStateArray_0[1].setNullAt(2);\n/* 190 */         } else {\n/* 191 */           filter_mutableStateArray_0[1].write(2, inputadapter_value_2);\n/* 192 */         }\n/* 193 */\n/* 194 */         if (inputadapter_isNull_3) {\n/* 195 */           filter_mutableStateArray_0[1].setNullAt(3);\n/* 196 */         } else {\n/* 197 */           filter_mutableStateArray_0[1].write(3, inputadapter_value_3);\n/* 198 */         }\n/* 199 */\n/* 200 */         if (inputadapter_isNull_4) {\n/* 201 */           filter_mutableStateArray_0[1].setNullAt(4);\n/* 202 */         } else {\n/* 203 */           filter_mutableStateArray_0[1].write(4, inputadapter_value_4);\n/* 204 */         }\n/* 205 */\n/* 206 */         if (inputadapter_isNull_5) {\n/* 207 */           filter_mutableStateArray_0[1].setNullAt(5);\n/* 208 */         } else {\n/* 209 */           filter_mutableStateArray_0[1].write(5, inputadapter_value_5);\n/* 210 */         }\n/* 211 */\n/* 212 */         if (inputadapter_isNull_6) {\n/* 213 */           filter_mutableStateArray_0[1].setNullAt(6);\n/* 214 */         } else {\n/* 215 */           filter_mutableStateArray_0[1].write(6, inputadapter_value_6);\n/* 216 */         }\n/* 217 */\n/* 218 */         if (project_isNull_0) {\n/* 219 */           filter_mutableStateArray_0[1].setNullAt(7);\n/* 220 */         } else {\n/* 221 */           filter_mutableStateArray_0[1].write(7, project_value_5);\n/* 222 */         }\n/* 223 */\n/* 224 */         if (project_isNull_4) {\n/* 225 */           filter_mutableStateArray_0[1].setNullAt(8);\n/* 226 */         } else {\n/* 227 */           filter_mutableStateArray_0[1].write(8, project_value_11);\n/* 228 */         }\n/* 229 */\n/* 230 */         if (inputadapter_isNull_7) {\n/* 231 */           filter_mutableStateArray_0[1].setNullAt(9);\n/* 232 */         } else {\n/* 233 */           filter_mutableStateArray_0[1].write(9, inputadapter_value_7);\n/* 234 */         }\n/* 235 */\n/* 236 */         if (inputadapter_isNull_8) {\n/* 237 */           filter_mutableStateArray_0[1].setNullAt(10);\n/* 238 */         } else {\n/* 239 */           filter_mutableStateArray_0[1].write(10, inputadapter_value_8);\n/* 240 */         }\n/* 241 */\n/* 242 */         if (inputadapter_isNull_9) {\n/* 243 */           filter_mutableStateArray_0[1].setNullAt(11);\n/* 244 */         } else {\n/* 245 */           filter_mutableStateArray_0[1].write(11, inputadapter_value_9);\n/* 246 */         }\n/* 247 */         append((filter_mutableStateArray_0[1].getRow()));\n/* 248 */\n/* 249 */       } while(false);\n/* 250 */       if (shouldStop()) return;\n/* 251 */     }\n/* 252 */   }\n/* 253 */\n/* 254 */ }\n\n\n== Optimized Logical Plan ==\nProject [year#3004, series_type#3005, series_name#3006, match_no#3007, match_type#3008, match_name#3009, match_href#3010, trim(split(match_name#3009,  vs , 2)[0], None) AS match_team1#3163, trim(split(match_name#3009,  vs , 3)[1], None) AS match_team2#3176, match_datetime_start#3013, match_date_end#3014, match_venue#3015], Statistics(sizeInBytes=12.2 KiB)\n+- Filter (atleastnnonnulls(3, match_name#3009, match_href#3010, year#3004) AND atleastnnonnulls(2, trim(split(match_name#3009,  vs , 2)[0], None), trim(split(match_name#3009,  vs , 3)[1], None))), Statistics(sizeInBytes=12.2 KiB)\n   +- Relation [year#3004,series_type#3005,series_name#3006,match_no#3007,match_type#3008,match_name#3009,match_href#3010,match_team1#3011,match_team2#3012,match_datetime_start#3013,match_date_end#3014,match_venue#3015] csv, Statistics(sizeInBytes=12.2 KiB)\n\n== Physical Plan ==\n*(1) Project [year#3004, series_type#3005, series_name#3006, match_no#3007, match_type#3008, match_name#3009, match_href#3010, trim(split(match_name#3009,  vs , 2)[0], None) AS match_team1#3163, trim(split(match_name#3009,  vs , 3)[1], None) AS match_team2#3176, match_datetime_start#3013, match_date_end#3014, match_venue#3015]\n+- *(1) Filter (atleastnnonnulls(3, match_name#3009, match_href#3010, year#3004) AND atleastnnonnulls(2, trim(split(match_name#3009,  vs , 2)[0], None), trim(split(match_name#3009,  vs , 3)[1], None)))\n   +- FileScan csv [year#3004,series_type#3005,series_name#3006,match_no#3007,match_type#3008,match_name#3009,match_href#3010,match_datetime_start#3013,match_date_end#3014,match_venue#3015] Batched: false, DataFilters: [atleastnnonnulls(3, match_name#3009, match_href#3010, year#3004), atleastnnonnulls(2, trim(split..., Format: CSV, Location: InMemoryFileIndex(1 paths)[dbfs:/FileStore/tables/ipl_2021_matches.csv], PartitionFilters: [], PushedFilters: [], ReadSchema: struct<year:int,series_type:timestamp,series_name:string,match_no:string,match_type:string,match_...\n\n\n== Physical Plan ==\n* Project (3)\n+- * Filter (2)\n   +- Scan csv  (1)\n\n\n(1) Scan csv \nOutput [10]: [year#3004, series_type#3005, series_name#3006, match_no#3007, match_type#3008, match_name#3009, match_href#3010, match_datetime_start#3013, match_date_end#3014, match_venue#3015]\nBatched: false\nLocation: InMemoryFileIndex [dbfs:/FileStore/tables/ipl_2021_matches.csv]\nReadSchema: struct<year:int,series_type:timestamp,series_name:string,match_no:string,match_type:string,match_name:string,match_href:string,match_datetime_start:string,match_date_end:string,match_venue:string>\n\n(2) Filter [codegen id : 1]\nInput [10]: [year#3004, series_type#3005, series_name#3006, match_no#3007, match_type#3008, match_name#3009, match_href#3010, match_datetime_start#3013, match_date_end#3014, match_venue#3015]\nCondition : (atleastnnonnulls(3, match_name#3009, match_href#3010, year#3004) AND atleastnnonnulls(2, trim(split(match_name#3009,  vs , 2)[0], None), trim(split(match_name#3009,  vs , 3)[1], None)))\n\n(3) Project [codegen id : 1]\nOutput [12]: [year#3004, series_type#3005, series_name#3006, match_no#3007, match_type#3008, match_name#3009, match_href#3010, trim(split(match_name#3009,  vs , 2)[0], None) AS match_team1#3163, trim(split(match_name#3009,  vs , 3)[1], None) AS match_team2#3176, match_datetime_start#3013, match_date_end#3014, match_venue#3015]\nInput [10]: [year#3004, series_type#3005, series_name#3006, match_no#3007, match_type#3008, match_name#3009, match_href#3010, match_datetime_start#3013, match_date_end#3014, match_venue#3015]\n\n\n"
     ]
    }
   ],
   "source": [
    "\n",
    "ipl_cleaned_df.explain()\n",
    "\n",
    "ipl_cleaned_df.explain(mode=\"extended\")\n",
    "\n",
    "ipl_cleaned_df.explain(mode=\"codegen\")\n",
    "\n",
    "ipl_cleaned_df.explain(mode=\"cost\")\n",
    "\n",
    "ipl_cleaned_df.explain(mode=\"formatted\")\n"
   ]
  },
  {
   "cell_type": "code",
   "execution_count": 0,
   "metadata": {
    "application/vnd.databricks.v1+cell": {
     "cellMetadata": {
      "byteLimit": 2048000,
      "rowLimit": 10000
     },
     "inputWidgets": {},
     "nuid": "7bf38c56-962d-4a4a-ba67-f6eeacc618fc",
     "showTitle": false,
     "tableResultSettingsMap": {},
     "title": ""
    }
   },
   "outputs": [
    {
     "output_type": "stream",
     "name": "stdout",
     "output_type": "stream",
     "text": [
      "   year         series_type                 series_name match_no match_type  \\\n0  2021 2025-04-09 20:00:00  Indian Premier League 2021     None     League   \n1  2021 2025-04-09 20:00:00  Indian Premier League 2021     None     League   \n2  2021 2025-04-09 20:00:00  Indian Premier League 2021     None     League   \n3  2021 2025-04-09 20:00:00  Indian Premier League 2021     None     League   \n4  2021 2025-04-09 20:00:00  Indian Premier League 2021     None     League   \n\n                                          match_name  \\\n0  MUMBAI INDIANS vs ROYAL CHALLENGERS BENGALURU,...   \n1   CHENNAI SUPER KINGS vs DELHI CAPITALS, 2nd Match   \n2  SUNRISERS HYDERABAD vs KOLKATA KNIGHT RIDERS, ...   \n3        RAJASTHAN ROYALS vs PUNJAB KINGS, 4th Match   \n4  KOLKATA KNIGHT RIDERS vs MUMBAI INDIANS, 5th M...   \n\n                                          match_href            match_team1  \\\n0  https://www.cricbuzz.com/cricket-scores/35612/...         MUMBAI INDIANS   \n1  https://www.cricbuzz.com/cricket-scores/35617/...    CHENNAI SUPER KINGS   \n2  https://www.cricbuzz.com/cricket-scores/35618/...    SUNRISERS HYDERABAD   \n3  https://www.cricbuzz.com/cricket-scores/35622/...       RAJASTHAN ROYALS   \n4  https://www.cricbuzz.com/cricket-scores/35627/...  KOLKATA KNIGHT RIDERS   \n\n                              match_team2 match_datetime_start match_date_end  \\\n0  ROYAL CHALLENGERS BENGALURU, 1st Match                 None           None   \n1               DELHI CAPITALS, 2nd Match                 None           None   \n2        KOLKATA KNIGHT RIDERS, 3rd Match                 None           None   \n3                 PUNJAB KINGS, 4th Match                 None           None   \n4               MUMBAI INDIANS, 5th Match                 None           None   \n\n  match_venue  \n0        None  \n1        None  \n2        None  \n3        None  \n4        None  \n"
     ]
    }
   ],
   "source": [
    "pandas_df = ipl_cleaned_df.limit(5).toPandas()\n",
    "print(pandas_df)\n"
   ]
  },
  {
   "cell_type": "code",
   "execution_count": 0,
   "metadata": {
    "application/vnd.databricks.v1+cell": {
     "cellMetadata": {
      "byteLimit": 2048000,
      "rowLimit": 10000
     },
     "inputWidgets": {},
     "nuid": "2dde294f-e863-45bd-8cfd-6e64f661391e",
     "showTitle": false,
     "tableResultSettingsMap": {},
     "title": ""
    }
   },
   "outputs": [
    {
     "output_type": "stream",
     "name": "stdout",
     "output_type": "stream",
     "text": [
      "== Physical Plan ==\n* Project (3)\n+- * Filter (2)\n   +- Scan csv  (1)\n\n\n(1) Scan csv \nOutput [10]: [year#3004, series_type#3005, series_name#3006, match_no#3007, match_type#3008, match_name#3009, match_href#3010, match_datetime_start#3013, match_date_end#3014, match_venue#3015]\nBatched: false\nLocation: InMemoryFileIndex [dbfs:/FileStore/tables/ipl_2021_matches.csv]\nReadSchema: struct<year:int,series_type:timestamp,series_name:string,match_no:string,match_type:string,match_name:string,match_href:string,match_datetime_start:string,match_date_end:string,match_venue:string>\n\n(2) Filter [codegen id : 1]\nInput [10]: [year#3004, series_type#3005, series_name#3006, match_no#3007, match_type#3008, match_name#3009, match_href#3010, match_datetime_start#3013, match_date_end#3014, match_venue#3015]\nCondition : (atleastnnonnulls(3, match_name#3009, match_href#3010, year#3004) AND atleastnnonnulls(2, trim(split(match_name#3009,  vs , 2)[0], None), trim(split(match_name#3009,  vs , 3)[1], None)))\n\n(3) Project [codegen id : 1]\nOutput [12]: [year#3004, series_type#3005, series_name#3006, match_no#3007, match_type#3008, match_name#3009, match_href#3010, trim(split(match_name#3009,  vs , 2)[0], None) AS match_team1#3163, trim(split(match_name#3009,  vs , 3)[1], None) AS match_team2#3176, match_datetime_start#3013, match_date_end#3014, match_venue#3015]\nInput [10]: [year#3004, series_type#3005, series_name#3006, match_no#3007, match_type#3008, match_name#3009, match_href#3010, match_datetime_start#3013, match_date_end#3014, match_venue#3015]\n\n\n"
     ]
    }
   ],
   "source": [
    "ipl_cleaned_df.explain(\"formatted\")\n"
   ]
  },
  {
   "cell_type": "code",
   "execution_count": 0,
   "metadata": {
    "application/vnd.databricks.v1+cell": {
     "cellMetadata": {},
     "inputWidgets": {},
     "nuid": "57cc6e2c-cc81-411c-81b8-c5ce2c27aa96",
     "showTitle": false,
     "tableResultSettingsMap": {},
     "title": ""
    }
   },
   "outputs": [],
   "source": []
  }
 ],
 "metadata": {
  "application/vnd.databricks.v1+notebook": {
   "computePreferences": null,
   "dashboards": [],
   "environmentMetadata": {
    "base_environment": "",
    "environment_version": "1"
   },
   "inputWidgetPreferences": null,
   "language": "python",
   "notebookMetadata": {
    "pythonIndentUnit": 4
   },
   "notebookName": "LEVEL16 T2",
   "widgets": {}
  }
 },
 "nbformat": 4,
 "nbformat_minor": 0
}