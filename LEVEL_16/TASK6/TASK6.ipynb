{
 "cells": [
  {
   "cell_type": "code",
   "execution_count": 0,
   "metadata": {
    "application/vnd.databricks.v1+cell": {
     "cellMetadata": {
      "byteLimit": 2048000,
      "rowLimit": 10000
     },
     "inputWidgets": {},
     "nuid": "ff45fd90-9dc4-4257-83e7-315dde067f3d",
     "showTitle": false,
     "tableResultSettingsMap": {},
     "title": ""
    }
   },
   "outputs": [],
   "source": [
    "ipl_path = \"dbfs:/FileStore/ipl_final_cleaned.parquet/\"\n",
    "completed_matches = spark.read.parquet(ipl_path)\n"
   ]
  },
  {
   "cell_type": "code",
   "execution_count": 0,
   "metadata": {
    "application/vnd.databricks.v1+cell": {
     "cellMetadata": {
      "byteLimit": 2048000,
      "rowLimit": 10000
     },
     "inputWidgets": {},
     "nuid": "6ec8fd75-9ba8-47e8-a20a-2214a494fe3e",
     "showTitle": false,
     "tableResultSettingsMap": {},
     "title": ""
    }
   },
   "outputs": [
    {
     "output_type": "stream",
     "name": "stdout",
     "output_type": "stream",
     "text": [
      "+----+-------------------+--------------------+--------+----------+--------------------+--------------------+--------------------+--------------------+--------------------+--------------+-----------+\n|year|        series_type|         series_name|match_no|match_type|          match_name|          match_href|         match_team1|         match_team2|match_datetime_start|match_date_end|match_venue|\n+----+-------------------+--------------------+--------+----------+--------------------+--------------------+--------------------+--------------------+--------------------+--------------+-----------+\n|2021|2025-04-09 20:00:00|Indian Premier Le...|    null|    League|MUMBAI INDIANS vs...|https://www.cricb...|      MUMBAI INDIANS|ROYAL CHALLENGERS...| 2025-04-09 20:00:00|          null|       null|\n|2021|2025-04-09 20:00:00|Indian Premier Le...|    null|    League|CHENNAI SUPER KIN...|https://www.cricb...| CHENNAI SUPER KINGS|      DELHI CAPITALS| 2025-04-09 20:00:00|          null|       null|\n|2021|2025-04-09 20:00:00|Indian Premier Le...|    null|    League|SUNRISERS HYDERAB...|https://www.cricb...| SUNRISERS HYDERABAD|KOLKATA KNIGHT RI...| 2025-04-09 20:00:00|          null|       null|\n|2021|2025-04-09 20:00:00|Indian Premier Le...|    null|    League|RAJASTHAN ROYALS ...|https://www.cricb...|    RAJASTHAN ROYALS|        PUNJAB KINGS| 2025-04-09 20:00:00|          null|       null|\n|2021|2025-04-09 20:00:00|Indian Premier Le...|    null|    League|KOLKATA KNIGHT RI...|https://www.cricb...|KOLKATA KNIGHT RI...|      MUMBAI INDIANS| 2025-04-09 20:00:00|          null|       null|\n+----+-------------------+--------------------+--------+----------+--------------------+--------------------+--------------------+--------------------+--------------------+--------------+-----------+\nonly showing top 5 rows\n\n"
     ]
    }
   ],
   "source": [
    "completed_matches.show(5)\n"
   ]
  },
  {
   "cell_type": "code",
   "execution_count": 0,
   "metadata": {
    "application/vnd.databricks.v1+cell": {
     "cellMetadata": {
      "byteLimit": 2048000,
      "rowLimit": 10000
     },
     "inputWidgets": {},
     "nuid": "683e4bd2-f201-4f43-983d-861c644f62b3",
     "showTitle": false,
     "tableResultSettingsMap": {},
     "title": ""
    }
   },
   "outputs": [],
   "source": [
    "from pyspark.sql.functions import col, year\n",
    "\n",
    "ipl_transformed = completed_matches \\\n",
    "    .filter(col(\"match_name\").isNotNull()) \\\n",
    "    .withColumn(\"match_year\", year(col(\"series_type\")))\n"
   ]
  },
  {
   "cell_type": "code",
   "execution_count": 0,
   "metadata": {
    "application/vnd.databricks.v1+cell": {
     "cellMetadata": {
      "byteLimit": 2048000,
      "rowLimit": 10000
     },
     "inputWidgets": {},
     "nuid": "021f519f-d5fd-4fb3-be95-13c056946f2e",
     "showTitle": false,
     "tableResultSettingsMap": {},
     "title": ""
    }
   },
   "outputs": [
    {
     "output_type": "stream",
     "name": "stdout",
     "output_type": "stream",
     "text": [
      "+--------------------+--------------------+--------------------+----------+\n|          match_name|         match_team1|         match_team2|match_year|\n+--------------------+--------------------+--------------------+----------+\n|MUMBAI INDIANS vs...|      MUMBAI INDIANS|ROYAL CHALLENGERS...|      2025|\n|CHENNAI SUPER KIN...| CHENNAI SUPER KINGS|      DELHI CAPITALS|      2025|\n|SUNRISERS HYDERAB...| SUNRISERS HYDERABAD|KOLKATA KNIGHT RI...|      2025|\n|RAJASTHAN ROYALS ...|    RAJASTHAN ROYALS|        PUNJAB KINGS|      2025|\n|KOLKATA KNIGHT RI...|KOLKATA KNIGHT RI...|      MUMBAI INDIANS|      2025|\n|SUNRISERS HYDERAB...| SUNRISERS HYDERABAD|ROYAL CHALLENGERS...|      2025|\n|RAJASTHAN ROYALS ...|    RAJASTHAN ROYALS|      DELHI CAPITALS|      2025|\n|PUNJAB KINGS vs C...|        PUNJAB KINGS| CHENNAI SUPER KINGS|      2025|\n|MUMBAI INDIANS vs...|      MUMBAI INDIANS| SUNRISERS HYDERABAD|      2025|\n|ROYAL CHALLENGERS...|ROYAL CHALLENGERS...|KOLKATA KNIGHT RI...|      2025|\n|DELHI CAPITALS vs...|      DELHI CAPITALS|        PUNJAB KINGS|      2025|\n|CHENNAI SUPER KIN...| CHENNAI SUPER KINGS|    RAJASTHAN ROYALS|      2025|\n|DELHI CAPITALS vs...|      DELHI CAPITALS|      MUMBAI INDIANS|      2025|\n|PUNJAB KINGS vs S...|        PUNJAB KINGS| SUNRISERS HYDERABAD|      2025|\n|KOLKATA KNIGHT RI...|KOLKATA KNIGHT RI...| CHENNAI SUPER KINGS|      2025|\n|ROYAL CHALLENGERS...|ROYAL CHALLENGERS...|    RAJASTHAN ROYALS|      2025|\n|PUNJAB KINGS vs M...|        PUNJAB KINGS|      MUMBAI INDIANS|      2025|\n|RAJASTHAN ROYALS ...|    RAJASTHAN ROYALS|KOLKATA KNIGHT RI...|      2025|\n|CHENNAI SUPER KIN...| CHENNAI SUPER KINGS|ROYAL CHALLENGERS...|      2025|\n|SUNRISERS HYDERAB...| SUNRISERS HYDERABAD|      DELHI CAPITALS|      2025|\n+--------------------+--------------------+--------------------+----------+\nonly showing top 20 rows\n\n"
     ]
    }
   ],
   "source": [
    "ipl_transformed.select(\"match_name\", \"match_team1\", \"match_team2\", \"match_year\").show()\n"
   ]
  },
  {
   "cell_type": "code",
   "execution_count": 0,
   "metadata": {
    "application/vnd.databricks.v1+cell": {
     "cellMetadata": {},
     "inputWidgets": {},
     "nuid": "ec4e5a9c-e524-490d-a9aa-23e75d9138e3",
     "showTitle": false,
     "tableResultSettingsMap": {},
     "title": ""
    }
   },
   "outputs": [],
   "source": []
  }
 ],
 "metadata": {
  "application/vnd.databricks.v1+notebook": {
   "computePreferences": null,
   "dashboards": [],
   "environmentMetadata": {
    "base_environment": "",
    "environment_version": "1"
   },
   "inputWidgetPreferences": null,
   "language": "python",
   "notebookMetadata": {
    "pythonIndentUnit": 4
   },
   "notebookName": "LEVEL16 T6",
   "widgets": {}
  }
 },
 "nbformat": 4,
 "nbformat_minor": 0
}