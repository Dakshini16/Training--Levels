{
 "cells": [
  {
   "cell_type": "code",
   "execution_count": 0,
   "metadata": {
    "application/vnd.databricks.v1+cell": {
     "cellMetadata": {
      "byteLimit": 2048000,
      "rowLimit": 10000
     },
     "inputWidgets": {},
     "nuid": "82ee1c04-d024-4552-8985-d77771f7cd17",
     "showTitle": false,
     "tableResultSettingsMap": {},
     "title": ""
    }
   },
   "outputs": [],
   "source": [
    "ipl_df = spark.read.option(\"header\", True).csv(\"/FileStore/tables/ipl_2021_matches.csv\")\n",
    "\n"
   ]
  },
  {
   "cell_type": "code",
   "execution_count": 0,
   "metadata": {
    "application/vnd.databricks.v1+cell": {
     "cellMetadata": {
      "byteLimit": 2048000,
      "rowLimit": 10000
     },
     "inputWidgets": {},
     "nuid": "affdeb94-35b6-4c29-aabb-0a0f7b384c30",
     "showTitle": false,
     "tableResultSettingsMap": {},
     "title": ""
    }
   },
   "outputs": [],
   "source": [
    "from pyspark.sql.types import *\n",
    "\n",
    "schema = StructType([\n",
    "    StructField(\"year\", IntegerType(), True),\n",
    "    StructField(\"series_type\", TimestampType(), True),\n",
    "    StructField(\"series_name\", StringType(), True),\n",
    "    StructField(\"match_no\", StringType(), True),\n",
    "    StructField(\"match_type\", StringType(), True),\n",
    "    StructField(\"match_name\", StringType(), True),\n",
    "    StructField(\"match_href\", StringType(), True),\n",
    "    StructField(\"match_team1\", StringType(), True),\n",
    "    StructField(\"match_team2\", StringType(), True),\n",
    "    StructField(\"match_datetime_start\", StringType(), True),\n",
    "    StructField(\"match_date_end\", StringType(), True),\n",
    "    StructField(\"match_venue\", StringType(), True)\n",
    "])\n",
    "\n",
    "ipl_cleaned_df = spark.read.option(\"header\", True).schema(schema).csv(\"/FileStore/tables/ipl_2021_matches.csv\")\n"
   ]
  },
  {
   "cell_type": "code",
   "execution_count": 0,
   "metadata": {
    "application/vnd.databricks.v1+cell": {
     "cellMetadata": {
      "byteLimit": 2048000,
      "rowLimit": 10000
     },
     "inputWidgets": {},
     "nuid": "8f0bfee9-97fe-4c27-b7c3-d4efb9d293c5",
     "showTitle": false,
     "tableResultSettingsMap": {},
     "title": ""
    }
   },
   "outputs": [],
   "source": [
    "ipl_cleaned_df.write.mode(\"overwrite\").parquet(\"/FileStore/tables/ipl_cleaned.parquet\")\n"
   ]
  },
  {
   "cell_type": "code",
   "execution_count": 0,
   "metadata": {
    "application/vnd.databricks.v1+cell": {
     "cellMetadata": {
      "byteLimit": 2048000,
      "rowLimit": 10000
     },
     "inputWidgets": {},
     "nuid": "0d9d8998-a0bc-45d0-9499-90cfe49aa745",
     "showTitle": false,
     "tableResultSettingsMap": {},
     "title": ""
    }
   },
   "outputs": [
    {
     "output_type": "stream",
     "name": "stdout",
     "output_type": "stream",
     "text": [
      "+----+-------------------+--------------------+--------+----------+--------------------+--------------------+-----------+-----------+--------------------+--------------+-----------+\n|year|        series_type|         series_name|match_no|match_type|          match_name|          match_href|match_team1|match_team2|match_datetime_start|match_date_end|match_venue|\n+----+-------------------+--------------------+--------+----------+--------------------+--------------------+-----------+-----------+--------------------+--------------+-----------+\n|2021|2025-04-09 20:00:00|Indian Premier Le...|    null|    League|MUMBAI INDIANS vs...|https://www.cricb...|       null|       null|                null|          null|       null|\n|2021|2025-04-09 20:00:00|Indian Premier Le...|    null|    League|CHENNAI SUPER KIN...|https://www.cricb...|       null|       null|                null|          null|       null|\n|2021|2025-04-09 20:00:00|Indian Premier Le...|    null|    League|SUNRISERS HYDERAB...|https://www.cricb...|       null|       null|                null|          null|       null|\n|2021|2025-04-09 20:00:00|Indian Premier Le...|    null|    League|RAJASTHAN ROYALS ...|https://www.cricb...|       null|       null|                null|          null|       null|\n|2021|2025-04-09 20:00:00|Indian Premier Le...|    null|    League|KOLKATA KNIGHT RI...|https://www.cricb...|       null|       null|                null|          null|       null|\n+----+-------------------+--------------------+--------+----------+--------------------+--------------------+-----------+-----------+--------------------+--------------+-----------+\nonly showing top 5 rows\n\n"
     ]
    }
   ],
   "source": [
    "ipl_cleaned_df = spark.read.parquet(\"/FileStore/tables/ipl_cleaned.parquet\")\n",
    "ipl_cleaned_df.show(5)\n"
   ]
  },
  {
   "cell_type": "code",
   "execution_count": 0,
   "metadata": {
    "application/vnd.databricks.v1+cell": {
     "cellMetadata": {
      "byteLimit": 2048000,
      "rowLimit": 10000
     },
     "inputWidgets": {},
     "nuid": "a35445b7-a8c9-49af-b241-6235c1a5ac36",
     "showTitle": false,
     "tableResultSettingsMap": {},
     "title": ""
    }
   },
   "outputs": [],
   "source": [
    "selected_df = ipl_cleaned_df.select(\"match_team1\", \"match_team2\", \"match_venue\")\n"
   ]
  },
  {
   "cell_type": "code",
   "execution_count": 0,
   "metadata": {
    "application/vnd.databricks.v1+cell": {
     "cellMetadata": {
      "byteLimit": 2048000,
      "rowLimit": 10000
     },
     "inputWidgets": {},
     "nuid": "e66a9a71-3795-4c74-be23-86da30ea72b4",
     "showTitle": false,
     "tableResultSettingsMap": {},
     "title": ""
    }
   },
   "outputs": [
    {
     "output_type": "stream",
     "name": "stdout",
     "output_type": "stream",
     "text": [
      "+-----------+-----------+-----------+\n|match_team1|match_team2|match_venue|\n+-----------+-----------+-----------+\n|       null|       null|       null|\n|       null|       null|       null|\n|       null|       null|       null|\n|       null|       null|       null|\n|       null|       null|       null|\n+-----------+-----------+-----------+\nonly showing top 5 rows\n\n"
     ]
    }
   ],
   "source": [
    "selected_df.show(5)\n"
   ]
  },
  {
   "cell_type": "code",
   "execution_count": 0,
   "metadata": {
    "application/vnd.databricks.v1+cell": {
     "cellMetadata": {
      "byteLimit": 2048000,
      "rowLimit": 10000
     },
     "inputWidgets": {},
     "nuid": "ab5080a5-3553-4b9d-bbbc-8e119af6d324",
     "showTitle": false,
     "tableResultSettingsMap": {},
     "title": ""
    }
   },
   "outputs": [],
   "source": [
    "from pyspark.sql.functions import split, trim\n",
    "\n",
    "ipl_cleaned_df = ipl_cleaned_df.withColumn(\"match_team1\", trim(split(\"match_name\", \" vs \")[0]))\n",
    "\n",
    "ipl_cleaned_df = ipl_cleaned_df.withColumn(\n",
    "    \"match_team2\",\n",
    "    trim(split(split(\"match_name\", \" vs \")[1], \",\")[0])\n",
    ")\n"
   ]
  },
  {
   "cell_type": "code",
   "execution_count": 0,
   "metadata": {
    "application/vnd.databricks.v1+cell": {
     "cellMetadata": {
      "byteLimit": 2048000,
      "rowLimit": 10000
     },
     "inputWidgets": {},
     "nuid": "9e11fa9c-ffdc-4358-bb6a-798014b2fa1d",
     "showTitle": false,
     "tableResultSettingsMap": {},
     "title": ""
    }
   },
   "outputs": [
    {
     "output_type": "stream",
     "name": "stdout",
     "output_type": "stream",
     "text": [
      "+---------------------+---------------------------+--------------------------------------------------------+\n|match_team1          |match_team2                |match_name                                              |\n+---------------------+---------------------------+--------------------------------------------------------+\n|MUMBAI INDIANS       |ROYAL CHALLENGERS BENGALURU|MUMBAI INDIANS vs ROYAL CHALLENGERS BENGALURU, 1st Match|\n|CHENNAI SUPER KINGS  |DELHI CAPITALS             |CHENNAI SUPER KINGS vs DELHI CAPITALS, 2nd Match        |\n|SUNRISERS HYDERABAD  |KOLKATA KNIGHT RIDERS      |SUNRISERS HYDERABAD vs KOLKATA KNIGHT RIDERS, 3rd Match |\n|RAJASTHAN ROYALS     |PUNJAB KINGS               |RAJASTHAN ROYALS vs PUNJAB KINGS, 4th Match             |\n|KOLKATA KNIGHT RIDERS|MUMBAI INDIANS             |KOLKATA KNIGHT RIDERS vs MUMBAI INDIANS, 5th Match      |\n+---------------------+---------------------------+--------------------------------------------------------+\nonly showing top 5 rows\n\n"
     ]
    }
   ],
   "source": [
    "ipl_cleaned_df.select(\"match_team1\", \"match_team2\", \"match_name\").show(5, truncate=False)\n"
   ]
  },
  {
   "cell_type": "code",
   "execution_count": 0,
   "metadata": {
    "application/vnd.databricks.v1+cell": {
     "cellMetadata": {
      "byteLimit": 2048000,
      "rowLimit": 10000
     },
     "inputWidgets": {},
     "nuid": "847c5155-644f-4ec9-8a8b-d4243f500628",
     "showTitle": false,
     "tableResultSettingsMap": {},
     "title": ""
    }
   },
   "outputs": [],
   "source": [
    "ipl_cleaned_df = ipl_cleaned_df.fillna({\"match_venue\": \"To Be Updated\"})\n"
   ]
  },
  {
   "cell_type": "code",
   "execution_count": 0,
   "metadata": {
    "application/vnd.databricks.v1+cell": {
     "cellMetadata": {
      "byteLimit": 2048000,
      "rowLimit": 10000
     },
     "inputWidgets": {},
     "nuid": "250c0a3b-1f30-4b92-b9ae-fb808145bdef",
     "showTitle": false,
     "tableResultSettingsMap": {},
     "title": ""
    }
   },
   "outputs": [],
   "source": [
    "ipl_cleaned_df = ipl_cleaned_df.fillna({\"match_venue\": \"To Be Updated\"})\n"
   ]
  },
  {
   "cell_type": "code",
   "execution_count": 0,
   "metadata": {
    "application/vnd.databricks.v1+cell": {
     "cellMetadata": {
      "byteLimit": 2048000,
      "rowLimit": 10000
     },
     "inputWidgets": {},
     "nuid": "86036e81-5511-45f8-9ee4-1eb4ded23159",
     "showTitle": false,
     "tableResultSettingsMap": {},
     "title": ""
    }
   },
   "outputs": [
    {
     "output_type": "stream",
     "name": "stdout",
     "output_type": "stream",
     "text": [
      "+--------------------+--------------------+-------------+\n|         match_team1|         match_team2|  match_venue|\n+--------------------+--------------------+-------------+\n|      MUMBAI INDIANS|ROYAL CHALLENGERS...|To Be Updated|\n| CHENNAI SUPER KINGS|      DELHI CAPITALS|To Be Updated|\n| SUNRISERS HYDERABAD|KOLKATA KNIGHT RI...|To Be Updated|\n|    RAJASTHAN ROYALS|        PUNJAB KINGS|To Be Updated|\n|KOLKATA KNIGHT RI...|      MUMBAI INDIANS|To Be Updated|\n+--------------------+--------------------+-------------+\nonly showing top 5 rows\n\n"
     ]
    }
   ],
   "source": [
    "ipl_cleaned_df.select(\"match_team1\", \"match_team2\", \"match_venue\").show(5)\n"
   ]
  },
  {
   "cell_type": "code",
   "execution_count": 0,
   "metadata": {
    "application/vnd.databricks.v1+cell": {
     "cellMetadata": {
      "byteLimit": 2048000,
      "rowLimit": 10000
     },
     "inputWidgets": {},
     "nuid": "71c33a78-d4c1-4d9c-90fe-32d60571f2e3",
     "showTitle": false,
     "tableResultSettingsMap": {},
     "title": ""
    }
   },
   "outputs": [
    {
     "output_type": "display_data",
     "data": {
      "text/html": [
       "<style scoped>\n",
       "  .table-result-container {\n",
       "    max-height: 300px;\n",
       "    overflow: auto;\n",
       "  }\n",
       "  table, th, td {\n",
       "    border: 1px solid black;\n",
       "    border-collapse: collapse;\n",
       "  }\n",
       "  th, td {\n",
       "    padding: 5px;\n",
       "  }\n",
       "  th {\n",
       "    text-align: left;\n",
       "  }\n",
       "</style><div class='table-result-container'><table class='table-result'><thead style='background-color: white'><tr><th>match_team1</th><th>match_team2</th><th>match_venue</th></tr></thead><tbody><tr><td>MUMBAI INDIANS</td><td>ROYAL CHALLENGERS BENGALURU</td><td>To Be Updated</td></tr><tr><td>CHENNAI SUPER KINGS</td><td>DELHI CAPITALS</td><td>To Be Updated</td></tr><tr><td>SUNRISERS HYDERABAD</td><td>KOLKATA KNIGHT RIDERS</td><td>To Be Updated</td></tr><tr><td>RAJASTHAN ROYALS</td><td>PUNJAB KINGS</td><td>To Be Updated</td></tr><tr><td>KOLKATA KNIGHT RIDERS</td><td>MUMBAI INDIANS</td><td>To Be Updated</td></tr><tr><td>SUNRISERS HYDERABAD</td><td>ROYAL CHALLENGERS BENGALURU</td><td>To Be Updated</td></tr><tr><td>RAJASTHAN ROYALS</td><td>DELHI CAPITALS</td><td>To Be Updated</td></tr><tr><td>PUNJAB KINGS</td><td>CHENNAI SUPER KINGS</td><td>To Be Updated</td></tr><tr><td>MUMBAI INDIANS</td><td>SUNRISERS HYDERABAD</td><td>To Be Updated</td></tr><tr><td>ROYAL CHALLENGERS BENGALURU</td><td>KOLKATA KNIGHT RIDERS</td><td>To Be Updated</td></tr><tr><td>DELHI CAPITALS</td><td>PUNJAB KINGS</td><td>To Be Updated</td></tr><tr><td>CHENNAI SUPER KINGS</td><td>RAJASTHAN ROYALS</td><td>To Be Updated</td></tr><tr><td>DELHI CAPITALS</td><td>MUMBAI INDIANS</td><td>To Be Updated</td></tr><tr><td>PUNJAB KINGS</td><td>SUNRISERS HYDERABAD</td><td>To Be Updated</td></tr><tr><td>KOLKATA KNIGHT RIDERS</td><td>CHENNAI SUPER KINGS</td><td>To Be Updated</td></tr><tr><td>ROYAL CHALLENGERS BENGALURU</td><td>RAJASTHAN ROYALS</td><td>To Be Updated</td></tr><tr><td>PUNJAB KINGS</td><td>MUMBAI INDIANS</td><td>To Be Updated</td></tr><tr><td>RAJASTHAN ROYALS</td><td>KOLKATA KNIGHT RIDERS</td><td>To Be Updated</td></tr><tr><td>CHENNAI SUPER KINGS</td><td>ROYAL CHALLENGERS BENGALURU</td><td>To Be Updated</td></tr><tr><td>SUNRISERS HYDERABAD</td><td>DELHI CAPITALS</td><td>To Be Updated</td></tr><tr><td>PUNJAB KINGS</td><td>KOLKATA KNIGHT RIDERS</td><td>To Be Updated</td></tr><tr><td>DELHI CAPITALS</td><td>ROYAL CHALLENGERS BENGALURU</td><td>To Be Updated</td></tr><tr><td>CHENNAI SUPER KINGS</td><td>SUNRISERS HYDERABAD</td><td>To Be Updated</td></tr><tr><td>MUMBAI INDIANS</td><td>RAJASTHAN ROYALS</td><td>To Be Updated</td></tr><tr><td>DELHI CAPITALS</td><td>KOLKATA KNIGHT RIDERS</td><td>To Be Updated</td></tr><tr><td>PUNJAB KINGS</td><td>ROYAL CHALLENGERS BENGALURU</td><td>To Be Updated</td></tr><tr><td>MUMBAI INDIANS</td><td>CHENNAI SUPER KINGS</td><td>To Be Updated</td></tr><tr><td>RAJASTHAN ROYALS</td><td>SUNRISERS HYDERABAD</td><td>To Be Updated</td></tr><tr><td>PUNJAB KINGS</td><td>DELHI CAPITALS</td><td>To Be Updated</td></tr><tr><td>KOLKATA KNIGHT RIDERS</td><td>ROYAL CHALLENGERS BENGALURU</td><td>To Be Updated</td></tr><tr><td>SUNRISERS HYDERABAD</td><td>MUMBAI INDIANS</td><td>To Be Updated</td></tr><tr><td>CHENNAI SUPER KINGS</td><td>MUMBAI INDIANS</td><td>To Be Updated</td></tr><tr><td>KOLKATA KNIGHT RIDERS</td><td>ROYAL CHALLENGERS BENGALURU</td><td>To Be Updated</td></tr><tr><td>PUNJAB KINGS</td><td>RAJASTHAN ROYALS</td><td>To Be Updated</td></tr><tr><td>DELHI CAPITALS</td><td>SUNRISERS HYDERABAD</td><td>To Be Updated</td></tr><tr><td>MUMBAI INDIANS</td><td>KOLKATA KNIGHT RIDERS</td><td>To Be Updated</td></tr><tr><td>ROYAL CHALLENGERS BENGALURU</td><td>CHENNAI SUPER KINGS</td><td>To Be Updated</td></tr><tr><td>DELHI CAPITALS</td><td>RAJASTHAN ROYALS</td><td>To Be Updated</td></tr><tr><td>SUNRISERS HYDERABAD</td><td>PUNJAB KINGS</td><td>To Be Updated</td></tr><tr><td>CHENNAI SUPER KINGS</td><td>KOLKATA KNIGHT RIDERS</td><td>To Be Updated</td></tr><tr><td>ROYAL CHALLENGERS BENGALURU</td><td>MUMBAI INDIANS</td><td>To Be Updated</td></tr><tr><td>SUNRISERS HYDERABAD</td><td>RAJASTHAN ROYALS</td><td>To Be Updated</td></tr><tr><td>KOLKATA KNIGHT RIDERS</td><td>DELHI CAPITALS</td><td>To Be Updated</td></tr><tr><td>MUMBAI INDIANS</td><td>PUNJAB KINGS</td><td>To Be Updated</td></tr><tr><td>RAJASTHAN ROYALS</td><td>ROYAL CHALLENGERS BENGALURU</td><td>To Be Updated</td></tr><tr><td>SUNRISERS HYDERABAD</td><td>CHENNAI SUPER KINGS</td><td>To Be Updated</td></tr><tr><td>KOLKATA KNIGHT RIDERS</td><td>PUNJAB KINGS</td><td>To Be Updated</td></tr><tr><td>MUMBAI INDIANS</td><td>DELHI CAPITALS</td><td>To Be Updated</td></tr><tr><td>RAJASTHAN ROYALS</td><td>CHENNAI SUPER KINGS</td><td>To Be Updated</td></tr><tr><td>ROYAL CHALLENGERS BENGALURU</td><td>PUNJAB KINGS</td><td>To Be Updated</td></tr><tr><td>KOLKATA KNIGHT RIDERS</td><td>SUNRISERS HYDERABAD</td><td>To Be Updated</td></tr><tr><td>DELHI CAPITALS</td><td>CHENNAI SUPER KINGS</td><td>To Be Updated</td></tr><tr><td>RAJASTHAN ROYALS</td><td>MUMBAI INDIANS</td><td>To Be Updated</td></tr><tr><td>ROYAL CHALLENGERS BENGALURU</td><td>SUNRISERS HYDERABAD</td><td>To Be Updated</td></tr><tr><td>CHENNAI SUPER KINGS</td><td>PUNJAB KINGS</td><td>To Be Updated</td></tr><tr><td>KOLKATA KNIGHT RIDERS</td><td>RAJASTHAN ROYALS</td><td>To Be Updated</td></tr><tr><td>SUNRISERS HYDERABAD</td><td>MUMBAI INDIANS</td><td>To Be Updated</td></tr><tr><td>ROYAL CHALLENGERS BENGALURU</td><td>DELHI CAPITALS</td><td>To Be Updated</td></tr><tr><td>DELHI CAPITALS</td><td>CHENNAI SUPER KINGS</td><td>To Be Updated</td></tr><tr><td>ROYAL CHALLENGERS BENGALURU</td><td>KOLKATA KNIGHT RIDERS</td><td>To Be Updated</td></tr><tr><td>DELHI CAPITALS</td><td>KOLKATA KNIGHT RIDERS</td><td>To Be Updated</td></tr><tr><td>CHENNAI SUPER KINGS</td><td>KOLKATA KNIGHT RIDERS</td><td>To Be Updated</td></tr></tbody></table></div>"
      ]
     },
     "metadata": {
      "application/vnd.databricks.v1+output": {
       "addedWidgets": {},
       "aggData": [],
       "aggError": "",
       "aggOverflow": false,
       "aggSchema": [],
       "aggSeriesLimitReached": false,
       "aggType": "",
       "arguments": {},
       "columnCustomDisplayInfos": {},
       "data": [
        [
         "MUMBAI INDIANS",
         "ROYAL CHALLENGERS BENGALURU",
         "To Be Updated"
        ],
        [
         "CHENNAI SUPER KINGS",
         "DELHI CAPITALS",
         "To Be Updated"
        ],
        [
         "SUNRISERS HYDERABAD",
         "KOLKATA KNIGHT RIDERS",
         "To Be Updated"
        ],
        [
         "RAJASTHAN ROYALS",
         "PUNJAB KINGS",
         "To Be Updated"
        ],
        [
         "KOLKATA KNIGHT RIDERS",
         "MUMBAI INDIANS",
         "To Be Updated"
        ],
        [
         "SUNRISERS HYDERABAD",
         "ROYAL CHALLENGERS BENGALURU",
         "To Be Updated"
        ],
        [
         "RAJASTHAN ROYALS",
         "DELHI CAPITALS",
         "To Be Updated"
        ],
        [
         "PUNJAB KINGS",
         "CHENNAI SUPER KINGS",
         "To Be Updated"
        ],
        [
         "MUMBAI INDIANS",
         "SUNRISERS HYDERABAD",
         "To Be Updated"
        ],
        [
         "ROYAL CHALLENGERS BENGALURU",
         "KOLKATA KNIGHT RIDERS",
         "To Be Updated"
        ],
        [
         "DELHI CAPITALS",
         "PUNJAB KINGS",
         "To Be Updated"
        ],
        [
         "CHENNAI SUPER KINGS",
         "RAJASTHAN ROYALS",
         "To Be Updated"
        ],
        [
         "DELHI CAPITALS",
         "MUMBAI INDIANS",
         "To Be Updated"
        ],
        [
         "PUNJAB KINGS",
         "SUNRISERS HYDERABAD",
         "To Be Updated"
        ],
        [
         "KOLKATA KNIGHT RIDERS",
         "CHENNAI SUPER KINGS",
         "To Be Updated"
        ],
        [
         "ROYAL CHALLENGERS BENGALURU",
         "RAJASTHAN ROYALS",
         "To Be Updated"
        ],
        [
         "PUNJAB KINGS",
         "MUMBAI INDIANS",
         "To Be Updated"
        ],
        [
         "RAJASTHAN ROYALS",
         "KOLKATA KNIGHT RIDERS",
         "To Be Updated"
        ],
        [
         "CHENNAI SUPER KINGS",
         "ROYAL CHALLENGERS BENGALURU",
         "To Be Updated"
        ],
        [
         "SUNRISERS HYDERABAD",
         "DELHI CAPITALS",
         "To Be Updated"
        ],
        [
         "PUNJAB KINGS",
         "KOLKATA KNIGHT RIDERS",
         "To Be Updated"
        ],
        [
         "DELHI CAPITALS",
         "ROYAL CHALLENGERS BENGALURU",
         "To Be Updated"
        ],
        [
         "CHENNAI SUPER KINGS",
         "SUNRISERS HYDERABAD",
         "To Be Updated"
        ],
        [
         "MUMBAI INDIANS",
         "RAJASTHAN ROYALS",
         "To Be Updated"
        ],
        [
         "DELHI CAPITALS",
         "KOLKATA KNIGHT RIDERS",
         "To Be Updated"
        ],
        [
         "PUNJAB KINGS",
         "ROYAL CHALLENGERS BENGALURU",
         "To Be Updated"
        ],
        [
         "MUMBAI INDIANS",
         "CHENNAI SUPER KINGS",
         "To Be Updated"
        ],
        [
         "RAJASTHAN ROYALS",
         "SUNRISERS HYDERABAD",
         "To Be Updated"
        ],
        [
         "PUNJAB KINGS",
         "DELHI CAPITALS",
         "To Be Updated"
        ],
        [
         "KOLKATA KNIGHT RIDERS",
         "ROYAL CHALLENGERS BENGALURU",
         "To Be Updated"
        ],
        [
         "SUNRISERS HYDERABAD",
         "MUMBAI INDIANS",
         "To Be Updated"
        ],
        [
         "CHENNAI SUPER KINGS",
         "MUMBAI INDIANS",
         "To Be Updated"
        ],
        [
         "KOLKATA KNIGHT RIDERS",
         "ROYAL CHALLENGERS BENGALURU",
         "To Be Updated"
        ],
        [
         "PUNJAB KINGS",
         "RAJASTHAN ROYALS",
         "To Be Updated"
        ],
        [
         "DELHI CAPITALS",
         "SUNRISERS HYDERABAD",
         "To Be Updated"
        ],
        [
         "MUMBAI INDIANS",
         "KOLKATA KNIGHT RIDERS",
         "To Be Updated"
        ],
        [
         "ROYAL CHALLENGERS BENGALURU",
         "CHENNAI SUPER KINGS",
         "To Be Updated"
        ],
        [
         "DELHI CAPITALS",
         "RAJASTHAN ROYALS",
         "To Be Updated"
        ],
        [
         "SUNRISERS HYDERABAD",
         "PUNJAB KINGS",
         "To Be Updated"
        ],
        [
         "CHENNAI SUPER KINGS",
         "KOLKATA KNIGHT RIDERS",
         "To Be Updated"
        ],
        [
         "ROYAL CHALLENGERS BENGALURU",
         "MUMBAI INDIANS",
         "To Be Updated"
        ],
        [
         "SUNRISERS HYDERABAD",
         "RAJASTHAN ROYALS",
         "To Be Updated"
        ],
        [
         "KOLKATA KNIGHT RIDERS",
         "DELHI CAPITALS",
         "To Be Updated"
        ],
        [
         "MUMBAI INDIANS",
         "PUNJAB KINGS",
         "To Be Updated"
        ],
        [
         "RAJASTHAN ROYALS",
         "ROYAL CHALLENGERS BENGALURU",
         "To Be Updated"
        ],
        [
         "SUNRISERS HYDERABAD",
         "CHENNAI SUPER KINGS",
         "To Be Updated"
        ],
        [
         "KOLKATA KNIGHT RIDERS",
         "PUNJAB KINGS",
         "To Be Updated"
        ],
        [
         "MUMBAI INDIANS",
         "DELHI CAPITALS",
         "To Be Updated"
        ],
        [
         "RAJASTHAN ROYALS",
         "CHENNAI SUPER KINGS",
         "To Be Updated"
        ],
        [
         "ROYAL CHALLENGERS BENGALURU",
         "PUNJAB KINGS",
         "To Be Updated"
        ],
        [
         "KOLKATA KNIGHT RIDERS",
         "SUNRISERS HYDERABAD",
         "To Be Updated"
        ],
        [
         "DELHI CAPITALS",
         "CHENNAI SUPER KINGS",
         "To Be Updated"
        ],
        [
         "RAJASTHAN ROYALS",
         "MUMBAI INDIANS",
         "To Be Updated"
        ],
        [
         "ROYAL CHALLENGERS BENGALURU",
         "SUNRISERS HYDERABAD",
         "To Be Updated"
        ],
        [
         "CHENNAI SUPER KINGS",
         "PUNJAB KINGS",
         "To Be Updated"
        ],
        [
         "KOLKATA KNIGHT RIDERS",
         "RAJASTHAN ROYALS",
         "To Be Updated"
        ],
        [
         "SUNRISERS HYDERABAD",
         "MUMBAI INDIANS",
         "To Be Updated"
        ],
        [
         "ROYAL CHALLENGERS BENGALURU",
         "DELHI CAPITALS",
         "To Be Updated"
        ],
        [
         "DELHI CAPITALS",
         "CHENNAI SUPER KINGS",
         "To Be Updated"
        ],
        [
         "ROYAL CHALLENGERS BENGALURU",
         "KOLKATA KNIGHT RIDERS",
         "To Be Updated"
        ],
        [
         "DELHI CAPITALS",
         "KOLKATA KNIGHT RIDERS",
         "To Be Updated"
        ],
        [
         "CHENNAI SUPER KINGS",
         "KOLKATA KNIGHT RIDERS",
         "To Be Updated"
        ]
       ],
       "datasetInfos": [],
       "dbfsResultPath": null,
       "isJsonSchema": true,
       "metadata": {},
       "overflow": false,
       "plotOptions": {
        "customPlotOptions": {},
        "displayType": "table",
        "pivotAggregation": null,
        "pivotColumns": null,
        "xColumns": null,
        "yColumns": null
       },
       "removedWidgets": [],
       "schema": [
        {
         "metadata": "{}",
         "name": "match_team1",
         "type": "\"string\""
        },
        {
         "metadata": "{}",
         "name": "match_team2",
         "type": "\"string\""
        },
        {
         "metadata": "{}",
         "name": "match_venue",
         "type": "\"string\""
        }
       ],
       "type": "table"
      }
     },
     "output_type": "display_data"
    }
   ],
   "source": [
    "display(ipl_cleaned_df.select(\"match_team1\", \"match_team2\", \"match_venue\"))\n"
   ]
  },
  {
   "cell_type": "code",
   "execution_count": 0,
   "metadata": {
    "application/vnd.databricks.v1+cell": {
     "cellMetadata": {
      "byteLimit": 2048000,
      "rowLimit": 10000
     },
     "inputWidgets": {},
     "nuid": "9e1f77f3-2b48-48c1-b776-36421302ee97",
     "showTitle": false,
     "tableResultSettingsMap": {},
     "title": ""
    }
   },
   "outputs": [
    {
     "output_type": "stream",
     "name": "stdout",
     "output_type": "stream",
     "text": [
      "== Physical Plan ==\n* Project (3)\n+- * ColumnarToRow (2)\n   +- Scan parquet  (1)\n\n\n(1) Scan parquet \nOutput [10]: [year#3575, series_type#3576, series_name#3577, match_no#3578, match_type#3579, match_name#3580, match_href#3581, match_datetime_start#3584, match_date_end#3585, match_venue#3586]\nBatched: true\nLocation: InMemoryFileIndex [dbfs:/FileStore/tables/ipl_cleaned.parquet]\nReadSchema: struct<year:int,series_type:timestamp,series_name:string,match_no:string,match_type:string,match_name:string,match_href:string,match_datetime_start:string,match_date_end:string,match_venue:string>\n\n(2) ColumnarToRow [codegen id : 1]\nInput [10]: [year#3575, series_type#3576, series_name#3577, match_no#3578, match_type#3579, match_name#3580, match_href#3581, match_datetime_start#3584, match_date_end#3585, match_venue#3586]\n\n(3) Project [codegen id : 1]\nOutput [12]: [year#3575, series_type#3576, series_name#3577, match_no#3578, match_type#3579, match_name#3580, match_href#3581, trim(split(match_name#3580,  vs , 2)[0], None) AS match_team1#3695, trim(split(split(match_name#3580,  vs , 3)[1], ,, 2)[0], None) AS match_team2#3708, match_datetime_start#3584, match_date_end#3585, coalesce(match_venue#3586, To Be Updated) AS match_venue#3776]\nInput [10]: [year#3575, series_type#3576, series_name#3577, match_no#3578, match_type#3579, match_name#3580, match_href#3581, match_datetime_start#3584, match_date_end#3585, match_venue#3586]\n\n\n"
     ]
    }
   ],
   "source": [
    "ipl_cleaned_df.explain(\"formatted\")\n"
   ]
  },
  {
   "cell_type": "code",
   "execution_count": 0,
   "metadata": {
    "application/vnd.databricks.v1+cell": {
     "cellMetadata": {
      "byteLimit": 2048000,
      "rowLimit": 10000
     },
     "inputWidgets": {},
     "nuid": "69ffb5b7-e7f7-4c39-bbcd-830d67b40459",
     "showTitle": false,
     "tableResultSettingsMap": {},
     "title": ""
    }
   },
   "outputs": [
    {
     "output_type": "stream",
     "name": "stdout",
     "output_type": "stream",
     "text": [
      "== Parsed Logical Plan ==\n'Project ['match_team1, 'match_team2]\n+- Project [year#3575, series_type#3576, series_name#3577, match_no#3578, match_type#3579, match_name#3580, match_href#3581, match_team1#3695, match_team2#3708, match_datetime_start#3584, match_date_end#3585, coalesce(match_venue#3751, cast(To Be Updated as string)) AS match_venue#3776]\n   +- Project [year#3575, series_type#3576, series_name#3577, match_no#3578, match_type#3579, match_name#3580, match_href#3581, match_team1#3695, match_team2#3708, match_datetime_start#3584, match_date_end#3585, coalesce(match_venue#3586, cast(To Be Updated as string)) AS match_venue#3751]\n      +- Project [year#3575, series_type#3576, series_name#3577, match_no#3578, match_type#3579, match_name#3580, match_href#3581, match_team1#3695, trim(split(split(match_name#3580,  vs , -1)[1], ,, -1)[0], None) AS match_team2#3708, match_datetime_start#3584, match_date_end#3585, match_venue#3586]\n         +- Project [year#3575, series_type#3576, series_name#3577, match_no#3578, match_type#3579, match_name#3580, match_href#3581, trim(split(match_name#3580,  vs , -1)[0], None) AS match_team1#3695, match_team2#3583, match_datetime_start#3584, match_date_end#3585, match_venue#3586]\n            +- Relation [year#3575,series_type#3576,series_name#3577,match_no#3578,match_type#3579,match_name#3580,match_href#3581,match_team1#3582,match_team2#3583,match_datetime_start#3584,match_date_end#3585,match_venue#3586] parquet\n\n== Analyzed Logical Plan ==\nmatch_team1: string, match_team2: string\nProject [match_team1#3695, match_team2#3708]\n+- Project [year#3575, series_type#3576, series_name#3577, match_no#3578, match_type#3579, match_name#3580, match_href#3581, match_team1#3695, match_team2#3708, match_datetime_start#3584, match_date_end#3585, coalesce(match_venue#3751, cast(To Be Updated as string)) AS match_venue#3776]\n   +- Project [year#3575, series_type#3576, series_name#3577, match_no#3578, match_type#3579, match_name#3580, match_href#3581, match_team1#3695, match_team2#3708, match_datetime_start#3584, match_date_end#3585, coalesce(match_venue#3586, cast(To Be Updated as string)) AS match_venue#3751]\n      +- Project [year#3575, series_type#3576, series_name#3577, match_no#3578, match_type#3579, match_name#3580, match_href#3581, match_team1#3695, trim(split(split(match_name#3580,  vs , -1)[1], ,, -1)[0], None) AS match_team2#3708, match_datetime_start#3584, match_date_end#3585, match_venue#3586]\n         +- Project [year#3575, series_type#3576, series_name#3577, match_no#3578, match_type#3579, match_name#3580, match_href#3581, trim(split(match_name#3580,  vs , -1)[0], None) AS match_team1#3695, match_team2#3583, match_datetime_start#3584, match_date_end#3585, match_venue#3586]\n            +- Relation [year#3575,series_type#3576,series_name#3577,match_no#3578,match_type#3579,match_name#3580,match_href#3581,match_team1#3582,match_team2#3583,match_datetime_start#3584,match_date_end#3585,match_venue#3586] parquet\n\n== Optimized Logical Plan ==\nProject [trim(split(match_name#3580,  vs , 2)[0], None) AS match_team1#3695, trim(split(split(match_name#3580,  vs , 3)[1], ,, 2)[0], None) AS match_team2#3708]\n+- Relation [year#3575,series_type#3576,series_name#3577,match_no#3578,match_type#3579,match_name#3580,match_href#3581,match_team1#3582,match_team2#3583,match_datetime_start#3584,match_date_end#3585,match_venue#3586] parquet\n\n== Physical Plan ==\n*(1) Project [trim(split(match_name#3580,  vs , 2)[0], None) AS match_team1#3695, trim(split(split(match_name#3580,  vs , 3)[1], ,, 2)[0], None) AS match_team2#3708]\n+- *(1) ColumnarToRow\n   +- FileScan parquet [match_name#3580] Batched: true, DataFilters: [], Format: Parquet, Location: InMemoryFileIndex(1 paths)[dbfs:/FileStore/tables/ipl_cleaned.parquet], PartitionFilters: [], PushedFilters: [], ReadSchema: struct<match_name:string>\n\n"
     ]
    }
   ],
   "source": [
    "ipl_cleaned_df.select(\"match_team1\", \"match_team2\").explain(\"extended\")\n"
   ]
  },
  {
   "cell_type": "code",
   "execution_count": 0,
   "metadata": {
    "application/vnd.databricks.v1+cell": {
     "cellMetadata": {},
     "inputWidgets": {},
     "nuid": "6b9f86f5-bf0d-4331-9f01-c6ee551a87e4",
     "showTitle": false,
     "tableResultSettingsMap": {},
     "title": ""
    }
   },
   "outputs": [],
   "source": []
  }
 ],
 "metadata": {
  "application/vnd.databricks.v1+notebook": {
   "computePreferences": null,
   "dashboards": [],
   "environmentMetadata": {
    "base_environment": "",
    "environment_version": "1"
   },
   "inputWidgetPreferences": null,
   "language": "python",
   "notebookMetadata": {
    "pythonIndentUnit": 4
   },
   "notebookName": "LEVEL16 T3",
   "widgets": {}
  }
 },
 "nbformat": 4,
 "nbformat_minor": 0
}