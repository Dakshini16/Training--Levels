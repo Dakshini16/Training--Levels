{
 "cells": [
  {
   "cell_type": "code",
   "execution_count": 0,
   "metadata": {
    "application/vnd.databricks.v1+cell": {
     "cellMetadata": {
      "byteLimit": 2048000,
      "rowLimit": 10000
     },
     "inputWidgets": {},
     "nuid": "14826044-609b-483d-8c52-78f3702f6055",
     "showTitle": false,
     "tableResultSettingsMap": {},
     "title": ""
    }
   },
   "outputs": [
    {
     "output_type": "stream",
     "name": "stdout",
     "output_type": "stream",
     "text": [
      "+----+-------------------+--------------------+--------+----------+--------------------+--------------------+-----------+-----------+--------------------+--------------+-----------+\n|year|        series_type|         series_name|match_no|match_type|          match_name|          match_href|match_team1|match_team2|match_datetime_start|match_date_end|match_venue|\n+----+-------------------+--------------------+--------+----------+--------------------+--------------------+-----------+-----------+--------------------+--------------+-----------+\n|2021|2025-04-09 20:00:00|Indian Premier Le...|    null|    League|MUMBAI INDIANS vs...|https://www.cricb...|       null|       null|                null|          null|       null|\n|2021|2025-04-09 20:00:00|Indian Premier Le...|    null|    League|CHENNAI SUPER KIN...|https://www.cricb...|       null|       null|                null|          null|       null|\n|2021|2025-04-09 20:00:00|Indian Premier Le...|    null|    League|SUNRISERS HYDERAB...|https://www.cricb...|       null|       null|                null|          null|       null|\n|2021|2025-04-09 20:00:00|Indian Premier Le...|    null|    League|RAJASTHAN ROYALS ...|https://www.cricb...|       null|       null|                null|          null|       null|\n|2021|2025-04-09 20:00:00|Indian Premier Le...|    null|    League|KOLKATA KNIGHT RI...|https://www.cricb...|       null|       null|                null|          null|       null|\n+----+-------------------+--------------------+--------+----------+--------------------+--------------------+-----------+-----------+--------------------+--------------+-----------+\nonly showing top 5 rows\n\n"
     ]
    }
   ],
   "source": [
    "ipl_cleaned_df = spark.read.parquet(\"/FileStore/tables/ipl_cleaned.parquet\")\n",
    "ipl_cleaned_df.show(5)\n"
   ]
  },
  {
   "cell_type": "code",
   "execution_count": 0,
   "metadata": {
    "application/vnd.databricks.v1+cell": {
     "cellMetadata": {
      "byteLimit": 2048000,
      "rowLimit": 10000
     },
     "inputWidgets": {},
     "nuid": "34e3bc35-37e9-434f-8435-c482fdff8d4e",
     "showTitle": false,
     "tableResultSettingsMap": {},
     "title": ""
    }
   },
   "outputs": [
    {
     "output_type": "stream",
     "name": "stdout",
     "output_type": "stream",
     "text": [
      "+-----------+\n|match_team1|\n+-----------+\n|null       |\n+-----------+\n\nNumber of unique teams: 1\n"
     ]
    }
   ],
   "source": [
    "from pyspark.sql.functions import col\n",
    "\n",
    "teams_df = ipl_cleaned_df.select(\"match_team1\").union(\n",
    "    ipl_cleaned_df.select(\"match_team2\")\n",
    ").distinct()\n",
    "\n",
    "teams_df.show(truncate=False)\n",
    "print(\"Number of unique teams:\", teams_df.count())\n"
   ]
  },
  {
   "cell_type": "code",
   "execution_count": 0,
   "metadata": {
    "application/vnd.databricks.v1+cell": {
     "cellMetadata": {
      "byteLimit": 2048000,
      "rowLimit": 10000
     },
     "inputWidgets": {},
     "nuid": "b391ee5a-8db7-4415-af64-1732ec4d199a",
     "showTitle": false,
     "tableResultSettingsMap": {},
     "title": ""
    }
   },
   "outputs": [],
   "source": [
    "from pyspark.sql.functions import split, trim\n",
    "\n",
    "ipl_cleaned_df = ipl_cleaned_df.withColumn(\"match_team1\", trim(split(\"match_name\", \" vs \")[0]))\n",
    "ipl_cleaned_df = ipl_cleaned_df.withColumn(\"match_team2\", trim(split(split(\"match_name\", \" vs \")[1], \",\")[0]))\n"
   ]
  },
  {
   "cell_type": "code",
   "execution_count": 0,
   "metadata": {
    "application/vnd.databricks.v1+cell": {
     "cellMetadata": {
      "byteLimit": 2048000,
      "rowLimit": 10000
     },
     "inputWidgets": {},
     "nuid": "1c636c24-5105-41d9-a832-2590495a8d3c",
     "showTitle": false,
     "tableResultSettingsMap": {},
     "title": ""
    }
   },
   "outputs": [
    {
     "output_type": "stream",
     "name": "stdout",
     "output_type": "stream",
     "text": [
      "+---------------------+---------------------------+--------------------------------------------------------+\n|match_team1          |match_team2                |match_name                                              |\n+---------------------+---------------------------+--------------------------------------------------------+\n|MUMBAI INDIANS       |ROYAL CHALLENGERS BENGALURU|MUMBAI INDIANS vs ROYAL CHALLENGERS BENGALURU, 1st Match|\n|CHENNAI SUPER KINGS  |DELHI CAPITALS             |CHENNAI SUPER KINGS vs DELHI CAPITALS, 2nd Match        |\n|SUNRISERS HYDERABAD  |KOLKATA KNIGHT RIDERS      |SUNRISERS HYDERABAD vs KOLKATA KNIGHT RIDERS, 3rd Match |\n|RAJASTHAN ROYALS     |PUNJAB KINGS               |RAJASTHAN ROYALS vs PUNJAB KINGS, 4th Match             |\n|KOLKATA KNIGHT RIDERS|MUMBAI INDIANS             |KOLKATA KNIGHT RIDERS vs MUMBAI INDIANS, 5th Match      |\n+---------------------+---------------------------+--------------------------------------------------------+\nonly showing top 5 rows\n\n"
     ]
    }
   ],
   "source": [
    "ipl_cleaned_df.select(\"match_team1\", \"match_team2\", \"match_name\").show(5, truncate=False)\n"
   ]
  },
  {
   "cell_type": "code",
   "execution_count": 0,
   "metadata": {
    "application/vnd.databricks.v1+cell": {
     "cellMetadata": {
      "byteLimit": 2048000,
      "rowLimit": 10000
     },
     "inputWidgets": {},
     "nuid": "ce43f5d5-0e5b-4b82-9f39-57fdb24f0650",
     "showTitle": false,
     "tableResultSettingsMap": {},
     "title": ""
    }
   },
   "outputs": [
    {
     "output_type": "stream",
     "name": "stdout",
     "output_type": "stream",
     "text": [
      "+---------------------------+\n|match_team1                |\n+---------------------------+\n|CHENNAI SUPER KINGS        |\n|ROYAL CHALLENGERS BENGALURU|\n|RAJASTHAN ROYALS           |\n|SUNRISERS HYDERABAD        |\n|DELHI CAPITALS             |\n|MUMBAI INDIANS             |\n|KOLKATA KNIGHT RIDERS      |\n|PUNJAB KINGS               |\n+---------------------------+\n\nNumber of unique teams: 8\n"
     ]
    }
   ],
   "source": [
    "teams_df = ipl_cleaned_df.select(\"match_team1\").union(\n",
    "    ipl_cleaned_df.select(\"match_team2\")\n",
    ").distinct()\n",
    "\n",
    "teams_df.show(truncate=False)\n",
    "print(\"Number of unique teams:\", teams_df.count())\n"
   ]
  },
  {
   "cell_type": "code",
   "execution_count": 0,
   "metadata": {
    "application/vnd.databricks.v1+cell": {
     "cellMetadata": {
      "byteLimit": 2048000,
      "rowLimit": 10000
     },
     "inputWidgets": {},
     "nuid": "30a479c5-6abc-4b31-8e2d-ee90c82a9a1f",
     "showTitle": false,
     "tableResultSettingsMap": {},
     "title": ""
    }
   },
   "outputs": [
    {
     "output_type": "stream",
     "name": "stdout",
     "output_type": "stream",
     "text": [
      "+----------+\n|match_type|\n+----------+\n|League    |\n+----------+\n\n"
     ]
    }
   ],
   "source": [
    "ipl_cleaned_df.select(\"match_type\").distinct().show(truncate=False)\n"
   ]
  },
  {
   "cell_type": "code",
   "execution_count": 0,
   "metadata": {
    "application/vnd.databricks.v1+cell": {
     "cellMetadata": {
      "byteLimit": 2048000,
      "rowLimit": 10000
     },
     "inputWidgets": {},
     "nuid": "c57dc27b-2fb5-4ac4-bb8f-0ee94391a9c6",
     "showTitle": false,
     "tableResultSettingsMap": {},
     "title": ""
    }
   },
   "outputs": [
    {
     "output_type": "stream",
     "name": "stdout",
     "output_type": "stream",
     "text": [
      "+----------+\n|match_name|\n+----------+\n+----------+\n\n"
     ]
    }
   ],
   "source": [
    "ipl_cleaned_df.filter(ipl_cleaned_df.match_name.contains(\"Super Over\")).select(\"match_name\").show(truncate=False)\n"
   ]
  },
  {
   "cell_type": "code",
   "execution_count": 0,
   "metadata": {
    "application/vnd.databricks.v1+cell": {
     "cellMetadata": {
      "byteLimit": 2048000,
      "rowLimit": 10000
     },
     "inputWidgets": {},
     "nuid": "e8a1a318-9c32-4dab-ab53-1a70c4e78f83",
     "showTitle": false,
     "tableResultSettingsMap": {},
     "title": ""
    }
   },
   "outputs": [
    {
     "output_type": "stream",
     "name": "stdout",
     "output_type": "stream",
     "text": [
      "+----------+----------+\n|match_name|match_type|\n+----------+----------+\n+----------+----------+\n\n"
     ]
    }
   ],
   "source": [
    "ipl_cleaned_df.filter(ipl_cleaned_df.match_name.contains(\"Super Over\")).select(\"match_name\", \"match_type\").show(truncate=False)\n"
   ]
  },
  {
   "cell_type": "code",
   "execution_count": 0,
   "metadata": {
    "application/vnd.databricks.v1+cell": {
     "cellMetadata": {
      "byteLimit": 2048000,
      "rowLimit": 10000
     },
     "inputWidgets": {},
     "nuid": "7ee34bbd-736c-4f0c-8548-a774f151a71b",
     "showTitle": false,
     "tableResultSettingsMap": {},
     "title": ""
    }
   },
   "outputs": [
    {
     "output_type": "stream",
     "name": "stdout",
     "output_type": "stream",
     "text": [
      "+----+-----------+-----------+--------+----------+----------+----------+-----------+-----------+--------------------+--------------+-----------+\n|year|series_type|series_name|match_no|match_type|match_name|match_href|match_team1|match_team2|match_datetime_start|match_date_end|match_venue|\n+----+-----------+-----------+--------+----------+----------+----------+-----------+-----------+--------------------+--------------+-----------+\n+----+-----------+-----------+--------+----------+----------+----------+-----------+-----------+--------------------+--------------+-----------+\n\n"
     ]
    }
   ],
   "source": [
    "completed_matches_df = ipl_cleaned_df.filter(ipl_cleaned_df[\"match_datetime_start\"].isNotNull())\n",
    "completed_matches_df.show(5)\n"
   ]
  },
  {
   "cell_type": "code",
   "execution_count": 0,
   "metadata": {
    "application/vnd.databricks.v1+cell": {
     "cellMetadata": {
      "byteLimit": 2048000,
      "rowLimit": 10000
     },
     "inputWidgets": {},
     "nuid": "c7b6aa92-e4df-4405-bd2a-11945a229338",
     "showTitle": false,
     "tableResultSettingsMap": {},
     "title": ""
    }
   },
   "outputs": [
    {
     "output_type": "stream",
     "name": "stdout",
     "output_type": "stream",
     "text": [
      "+----------------------------------------------------------------+--------------------+\n|match_name                                                      |match_datetime_start|\n+----------------------------------------------------------------+--------------------+\n|MUMBAI INDIANS vs ROYAL CHALLENGERS BENGALURU, 1st Match        |null                |\n|CHENNAI SUPER KINGS vs DELHI CAPITALS, 2nd Match                |null                |\n|SUNRISERS HYDERABAD vs KOLKATA KNIGHT RIDERS, 3rd Match         |null                |\n|RAJASTHAN ROYALS vs PUNJAB KINGS, 4th Match                     |null                |\n|KOLKATA KNIGHT RIDERS vs MUMBAI INDIANS, 5th Match              |null                |\n|SUNRISERS HYDERABAD vs ROYAL CHALLENGERS BENGALURU, 6th Match   |null                |\n|RAJASTHAN ROYALS vs DELHI CAPITALS, 7th Match                   |null                |\n|PUNJAB KINGS vs CHENNAI SUPER KINGS, 8th Match                  |null                |\n|MUMBAI INDIANS vs SUNRISERS HYDERABAD, 9th Match                |null                |\n|ROYAL CHALLENGERS BENGALURU vs KOLKATA KNIGHT RIDERS, 10th Match|null                |\n+----------------------------------------------------------------+--------------------+\nonly showing top 10 rows\n\n"
     ]
    }
   ],
   "source": [
    "ipl_cleaned_df.select(\"match_name\", \"match_datetime_start\").show(10, truncate=False)\n"
   ]
  },
  {
   "cell_type": "code",
   "execution_count": 0,
   "metadata": {
    "application/vnd.databricks.v1+cell": {
     "cellMetadata": {
      "byteLimit": 2048000,
      "rowLimit": 10000
     },
     "inputWidgets": {},
     "nuid": "b6b0b4c5-57b3-495a-a069-9255f0ffb3a4",
     "showTitle": false,
     "tableResultSettingsMap": {},
     "title": ""
    }
   },
   "outputs": [
    {
     "output_type": "stream",
     "name": "stdout",
     "output_type": "stream",
     "text": [
      "+---------------------------+\n|match_team1                |\n+---------------------------+\n|CHENNAI SUPER KINGS        |\n|ROYAL CHALLENGERS BENGALURU|\n|RAJASTHAN ROYALS           |\n|SUNRISERS HYDERABAD        |\n|DELHI CAPITALS             |\n|MUMBAI INDIANS             |\n|KOLKATA KNIGHT RIDERS      |\n|PUNJAB KINGS               |\n+---------------------------+\n\nNumber of unique teams: 8\n"
     ]
    }
   ],
   "source": [
    "from pyspark.sql.functions import col\n",
    "\n",
    "teams_df = ipl_cleaned_df.select(\"match_team1\").union(\n",
    "    ipl_cleaned_df.select(\"match_team2\")\n",
    ").distinct().filter(col(\"match_team1\").isNotNull())\n",
    "\n",
    "teams_df.show(truncate=False)\n",
    "print(\"Number of unique teams:\", teams_df.count())\n"
   ]
  },
  {
   "cell_type": "code",
   "execution_count": 0,
   "metadata": {
    "application/vnd.databricks.v1+cell": {
     "cellMetadata": {
      "byteLimit": 2048000,
      "rowLimit": 10000
     },
     "inputWidgets": {},
     "nuid": "c130b9b0-df4a-4313-8028-0a84516963b4",
     "showTitle": false,
     "tableResultSettingsMap": {},
     "title": ""
    }
   },
   "outputs": [
    {
     "output_type": "stream",
     "name": "stdout",
     "output_type": "stream",
     "text": [
      "+----------+\n|match_name|\n+----------+\n+----------+\n\n"
     ]
    }
   ],
   "source": [
    "ipl_cleaned_df.select(\"match_name\").filter(col(\"match_name\").contains(\"Super Over\")).show(truncate=False)\n"
   ]
  },
  {
   "cell_type": "code",
   "execution_count": 0,
   "metadata": {
    "application/vnd.databricks.v1+cell": {
     "cellMetadata": {
      "byteLimit": 2048000,
      "rowLimit": 10000
     },
     "inputWidgets": {},
     "nuid": "033f2d4c-7c44-4e36-b5a2-856fb62a9ba0",
     "showTitle": false,
     "tableResultSettingsMap": {},
     "title": ""
    }
   },
   "outputs": [
    {
     "output_type": "stream",
     "name": "stdout",
     "output_type": "stream",
     "text": [
      "+----------+\n|match_name|\n+----------+\n+----------+\n\n"
     ]
    }
   ],
   "source": [
    "ipl_cleaned_df.select(\"match_name\").filter(\n",
    "    col(\"match_name\").rlike(\"Super Over|tie|Tie\")\n",
    ").show(truncate=False)\n"
   ]
  },
  {
   "cell_type": "code",
   "execution_count": 0,
   "metadata": {
    "application/vnd.databricks.v1+cell": {
     "cellMetadata": {
      "byteLimit": 2048000,
      "rowLimit": 10000
     },
     "inputWidgets": {},
     "nuid": "a6da9ad4-ee9f-4f06-bd97-01da2bb2bc85",
     "showTitle": false,
     "tableResultSettingsMap": {},
     "title": ""
    }
   },
   "outputs": [
    {
     "output_type": "stream",
     "name": "stdout",
     "output_type": "stream",
     "text": [
      "+----------------------------------------------------------------+\n|match_name                                                      |\n+----------------------------------------------------------------+\n|MUMBAI INDIANS vs ROYAL CHALLENGERS BENGALURU, 1st Match        |\n|CHENNAI SUPER KINGS vs DELHI CAPITALS, 2nd Match                |\n|SUNRISERS HYDERABAD vs KOLKATA KNIGHT RIDERS, 3rd Match         |\n|RAJASTHAN ROYALS vs PUNJAB KINGS, 4th Match                     |\n|KOLKATA KNIGHT RIDERS vs MUMBAI INDIANS, 5th Match              |\n|SUNRISERS HYDERABAD vs ROYAL CHALLENGERS BENGALURU, 6th Match   |\n|RAJASTHAN ROYALS vs DELHI CAPITALS, 7th Match                   |\n|PUNJAB KINGS vs CHENNAI SUPER KINGS, 8th Match                  |\n|MUMBAI INDIANS vs SUNRISERS HYDERABAD, 9th Match                |\n|ROYAL CHALLENGERS BENGALURU vs KOLKATA KNIGHT RIDERS, 10th Match|\n+----------------------------------------------------------------+\nonly showing top 10 rows\n\n"
     ]
    }
   ],
   "source": [
    "ipl_df.select(\"match_name\").show(10, truncate=False)\n"
   ]
  },
  {
   "cell_type": "code",
   "execution_count": 0,
   "metadata": {
    "application/vnd.databricks.v1+cell": {
     "cellMetadata": {
      "byteLimit": 2048000,
      "rowLimit": 10000
     },
     "inputWidgets": {},
     "nuid": "b49e3c46-2229-45cd-bd60-2c3d2a6391af",
     "showTitle": false,
     "tableResultSettingsMap": {},
     "title": ""
    }
   },
   "outputs": [
    {
     "output_type": "stream",
     "name": "stdout",
     "output_type": "stream",
     "text": [
      "+----------+\n|match_name|\n+----------+\n+----------+\n\n"
     ]
    }
   ],
   "source": [
    "# Check for matches with \"Super Over\" or \"Tie\" in the match_name\n",
    "ipl_df.filter(\n",
    "    (ipl_df.match_name.contains(\"Super Over\")) | (ipl_df.match_name.contains(\"Tie\"))\n",
    ").select(\"match_name\").show(truncate=False)\n"
   ]
  },
  {
   "cell_type": "code",
   "execution_count": 0,
   "metadata": {
    "application/vnd.databricks.v1+cell": {
     "cellMetadata": {
      "byteLimit": 2048000,
      "rowLimit": 10000
     },
     "inputWidgets": {},
     "nuid": "086f654e-43aa-4686-a4de-100cf74e14d8",
     "showTitle": false,
     "tableResultSettingsMap": {},
     "title": ""
    }
   },
   "outputs": [
    {
     "output_type": "stream",
     "name": "stdout",
     "output_type": "stream",
     "text": [
      "+----------+--------------+\n|match_name|match_date_end|\n+----------+--------------+\n+----------+--------------+\n\n"
     ]
    }
   ],
   "source": [
    "completed_matches_df = ipl_df.filter(ipl_df.match_date_end.isNotNull())\n",
    "completed_matches_df.select(\"match_name\", \"match_date_end\").show(5, truncate=False)\n",
    "\n"
   ]
  },
  {
   "cell_type": "code",
   "execution_count": 0,
   "metadata": {
    "application/vnd.databricks.v1+cell": {
     "cellMetadata": {
      "byteLimit": 2048000,
      "rowLimit": 10000
     },
     "inputWidgets": {},
     "nuid": "11e05eb9-a344-4f48-92ab-34962dd2ee3e",
     "showTitle": false,
     "tableResultSettingsMap": {},
     "title": ""
    }
   },
   "outputs": [
    {
     "output_type": "stream",
     "name": "stdout",
     "output_type": "stream",
     "text": [
      "root\n |-- year: integer (nullable = true)\n |-- series_name: string (nullable = true)\n |-- match_no: string (nullable = true)\n |-- match_type: string (nullable = true)\n |-- match_name: string (nullable = true)\n |-- match_team1: string (nullable = true)\n |-- match_team2: string (nullable = true)\n |-- match_date_end: string (nullable = true)\n |-- match_venue: string (nullable = true)\n\n"
     ]
    }
   ],
   "source": [
    "columns_to_drop = [\"series_type\", \"match_href\", \"match_datetime_start\"]\n",
    "cleaned_df = completed_matches_df.drop(*columns_to_drop)\n",
    "cleaned_df.printSchema()\n"
   ]
  },
  {
   "cell_type": "code",
   "execution_count": 0,
   "metadata": {
    "application/vnd.databricks.v1+cell": {
     "cellMetadata": {
      "byteLimit": 2048000,
      "rowLimit": 10000
     },
     "inputWidgets": {},
     "nuid": "8d41b255-7c64-4422-ab3f-49ad179cec57",
     "showTitle": false,
     "tableResultSettingsMap": {},
     "title": ""
    }
   },
   "outputs": [
    {
     "output_type": "stream",
     "name": "stdout",
     "output_type": "stream",
     "text": [
      "Number of Unique Teams: 0\n+-----------+\n|match_team1|\n+-----------+\n+-----------+\n\n"
     ]
    }
   ],
   "source": [
    "from pyspark.sql.functions import col\n",
    "\n",
    "team1 = cleaned_df.select(col(\"match_team1\")).distinct()\n",
    "team2 = cleaned_df.select(col(\"match_team2\")).distinct()\n",
    "\n",
    "all_teams = team1.union(team2).distinct()\n",
    "print(\"Number of Unique Teams:\", all_teams.count())\n",
    "\n",
    "all_teams.show(truncate=False)\n"
   ]
  },
  {
   "cell_type": "code",
   "execution_count": 0,
   "metadata": {
    "application/vnd.databricks.v1+cell": {
     "cellMetadata": {
      "byteLimit": 2048000,
      "rowLimit": 10000
     },
     "inputWidgets": {},
     "nuid": "52b5fe9d-095f-431d-8f4f-78b37056dbdd",
     "showTitle": false,
     "tableResultSettingsMap": {},
     "title": ""
    }
   },
   "outputs": [
    {
     "output_type": "stream",
     "name": "stdout",
     "output_type": "stream",
     "text": [
      "+--------------------------------------------------------+---------------------+---------------------------+\n|match_name                                              |match_team1          |match_team2                |\n+--------------------------------------------------------+---------------------+---------------------------+\n|MUMBAI INDIANS vs ROYAL CHALLENGERS BENGALURU, 1st Match|MUMBAI INDIANS       |ROYAL CHALLENGERS BENGALURU|\n|CHENNAI SUPER KINGS vs DELHI CAPITALS, 2nd Match        |CHENNAI SUPER KINGS  |DELHI CAPITALS             |\n|SUNRISERS HYDERABAD vs KOLKATA KNIGHT RIDERS, 3rd Match |SUNRISERS HYDERABAD  |KOLKATA KNIGHT RIDERS      |\n|RAJASTHAN ROYALS vs PUNJAB KINGS, 4th Match             |RAJASTHAN ROYALS     |PUNJAB KINGS               |\n|KOLKATA KNIGHT RIDERS vs MUMBAI INDIANS, 5th Match      |KOLKATA KNIGHT RIDERS|MUMBAI INDIANS             |\n+--------------------------------------------------------+---------------------+---------------------------+\nonly showing top 5 rows\n\n"
     ]
    }
   ],
   "source": [
    "from pyspark.sql.functions import split, trim\n",
    "\n",
    "ipl_df = ipl_df.withColumn(\"match_team1\", trim(split(\"match_name\", \" vs \")[0]))\n",
    "ipl_df = ipl_df.withColumn(\"match_team2\", trim(split(split(\"match_name\", \" vs \")[1], \",\")[0]))\n",
    "\n",
    "ipl_df.select(\"match_name\", \"match_team1\", \"match_team2\").show(5, truncate=False)\n",
    "\n"
   ]
  },
  {
   "cell_type": "code",
   "execution_count": 0,
   "metadata": {
    "application/vnd.databricks.v1+cell": {
     "cellMetadata": {
      "byteLimit": 2048000,
      "rowLimit": 10000
     },
     "inputWidgets": {},
     "nuid": "7abc35de-48ef-46c9-b26a-a1dd1e602b99",
     "showTitle": false,
     "tableResultSettingsMap": {},
     "title": ""
    }
   },
   "outputs": [],
   "source": [
    "completed_matches_df = ipl_df.filter(ipl_df.match_date_end.isNotNull())\n"
   ]
  },
  {
   "cell_type": "code",
   "execution_count": 0,
   "metadata": {
    "application/vnd.databricks.v1+cell": {
     "cellMetadata": {
      "byteLimit": 2048000,
      "rowLimit": 10000
     },
     "inputWidgets": {},
     "nuid": "ac98e8b4-44e6-4c67-9593-7b9ebec6a903",
     "showTitle": false,
     "tableResultSettingsMap": {},
     "title": ""
    }
   },
   "outputs": [
    {
     "output_type": "stream",
     "name": "stdout",
     "output_type": "stream",
     "text": [
      "Number of Unique Teams: 0\n+-----------+\n|match_team1|\n+-----------+\n+-----------+\n\n"
     ]
    }
   ],
   "source": [
    "team1 = completed_matches_df.select(\"match_team1\").distinct()\n",
    "team2 = completed_matches_df.select(\"match_team2\").distinct()\n",
    "all_teams = team1.union(team2).distinct()\n",
    "\n",
    "print(\"Number of Unique Teams:\", all_teams.count())\n",
    "all_teams.show(truncate=False)\n"
   ]
  },
  {
   "cell_type": "code",
   "execution_count": 0,
   "metadata": {
    "application/vnd.databricks.v1+cell": {
     "cellMetadata": {
      "byteLimit": 2048000,
      "rowLimit": 10000
     },
     "inputWidgets": {},
     "nuid": "71a0d0a2-3cc5-4da4-9838-8a473acc1c33",
     "showTitle": false,
     "tableResultSettingsMap": {},
     "title": ""
    }
   },
   "outputs": [
    {
     "output_type": "stream",
     "name": "stdout",
     "output_type": "stream",
     "text": [
      "+--------------------------------------------------------+---------------------+---------------------------+\n|match_name                                              |match_team1          |match_team2                |\n+--------------------------------------------------------+---------------------+---------------------------+\n|MUMBAI INDIANS vs ROYAL CHALLENGERS BENGALURU, 1st Match|MUMBAI INDIANS       |ROYAL CHALLENGERS BENGALURU|\n|CHENNAI SUPER KINGS vs DELHI CAPITALS, 2nd Match        |CHENNAI SUPER KINGS  |DELHI CAPITALS             |\n|SUNRISERS HYDERABAD vs KOLKATA KNIGHT RIDERS, 3rd Match |SUNRISERS HYDERABAD  |KOLKATA KNIGHT RIDERS      |\n|RAJASTHAN ROYALS vs PUNJAB KINGS, 4th Match             |RAJASTHAN ROYALS     |PUNJAB KINGS               |\n|KOLKATA KNIGHT RIDERS vs MUMBAI INDIANS, 5th Match      |KOLKATA KNIGHT RIDERS|MUMBAI INDIANS             |\n+--------------------------------------------------------+---------------------+---------------------------+\nonly showing top 5 rows\n\n"
     ]
    }
   ],
   "source": [
    "from pyspark.sql.types import *\n",
    "from pyspark.sql.functions import split, trim, col\n",
    "\n",
    "schema = StructType([\n",
    "    StructField(\"year\", IntegerType(), True),\n",
    "    StructField(\"series_type\", TimestampType(), True),\n",
    "    StructField(\"series_name\", StringType(), True),\n",
    "    StructField(\"match_no\", StringType(), True),\n",
    "    StructField(\"match_type\", StringType(), True),\n",
    "    StructField(\"match_name\", StringType(), True),\n",
    "    StructField(\"match_href\", StringType(), True),\n",
    "    StructField(\"match_team1\", StringType(), True),\n",
    "    StructField(\"match_team2\", StringType(), True),\n",
    "    StructField(\"match_datetime_start\", StringType(), True),\n",
    "    StructField(\"match_date_end\", StringType(), True),\n",
    "    StructField(\"match_venue\", StringType(), True)\n",
    "])\n",
    "\n",
    "ipl_df = spark.read.option(\"header\", True).schema(schema).csv(\"/FileStore/tables/ipl_2021_matches.csv\")\n",
    "\n",
    "ipl_df = ipl_df.withColumn(\"match_team1\", trim(split(\"match_name\", \" vs \")[0]))\n",
    "ipl_df = ipl_df.withColumn(\"match_team2\", trim(split(split(\"match_name\", \" vs \")[1], \",\")[0]))\n",
    "\n",
    "ipl_df.select(\"match_name\", \"match_team1\", \"match_team2\").show(5, truncate=False)\n"
   ]
  },
  {
   "cell_type": "code",
   "execution_count": 0,
   "metadata": {
    "application/vnd.databricks.v1+cell": {
     "cellMetadata": {
      "byteLimit": 2048000,
      "rowLimit": 10000
     },
     "inputWidgets": {},
     "nuid": "89ea6230-4e73-4f5b-9560-849120e60cd5",
     "showTitle": false,
     "tableResultSettingsMap": {},
     "title": ""
    }
   },
   "outputs": [
    {
     "output_type": "stream",
     "name": "stdout",
     "output_type": "stream",
     "text": [
      "+---------------------------+\n|match_team1                |\n+---------------------------+\n|CHENNAI SUPER KINGS        |\n|ROYAL CHALLENGERS BENGALURU|\n|RAJASTHAN ROYALS           |\n|SUNRISERS HYDERABAD        |\n|DELHI CAPITALS             |\n|MUMBAI INDIANS             |\n|KOLKATA KNIGHT RIDERS      |\n|PUNJAB KINGS               |\n+---------------------------+\n\nNumber of unique teams: 8\n"
     ]
    }
   ],
   "source": [
    "teams_df = ipl_df.select(\"match_team1\").union(\n",
    "    ipl_df.select(\"match_team2\")\n",
    ").filter(col(\"match_team1\").isNotNull()).distinct()\n",
    "\n",
    "teams_df.show(truncate=False)\n",
    "print(\"Number of unique teams:\", teams_df.count())\n"
   ]
  },
  {
   "cell_type": "code",
   "execution_count": 0,
   "metadata": {
    "application/vnd.databricks.v1+cell": {
     "cellMetadata": {
      "byteLimit": 2048000,
      "rowLimit": 10000
     },
     "inputWidgets": {},
     "nuid": "84dc61da-9ac9-4eef-a173-cb8d2baa3020",
     "showTitle": false,
     "tableResultSettingsMap": {},
     "title": ""
    }
   },
   "outputs": [
    {
     "output_type": "stream",
     "name": "stdout",
     "output_type": "stream",
     "text": [
      "+----------+\n|match_name|\n+----------+\n+----------+\n\n"
     ]
    }
   ],
   "source": [
    "ipl_df.select(\"match_name\").filter(\n",
    "    col(\"match_name\").rlike(\"(?i)Super Over|Tie\")\n",
    ").show(truncate=False)\n"
   ]
  },
  {
   "cell_type": "code",
   "execution_count": 0,
   "metadata": {
    "application/vnd.databricks.v1+cell": {
     "cellMetadata": {
      "byteLimit": 2048000,
      "rowLimit": 10000
     },
     "inputWidgets": {},
     "nuid": "edb6c2f0-36b3-4fcf-bec3-469ae8972296",
     "showTitle": false,
     "tableResultSettingsMap": {},
     "title": ""
    }
   },
   "outputs": [
    {
     "output_type": "stream",
     "name": "stdout",
     "output_type": "stream",
     "text": [
      "Variable               Type                 Data/Info\n-----------------------------------------------------\nArrayType              type                 <class 'pyspark.sql.types.ArrayType'>\nBinaryType             DataTypeSingleton    <class 'pyspark.sql.types.BinaryType'>\nBooleanType            DataTypeSingleton    <class 'pyspark.sql.types.BooleanType'>\nByteType               DataTypeSingleton    <class 'pyspark.sql.types.ByteType'>\nCharType               type                 <class 'pyspark.sql.types.CharType'>\nDataType               type                 <class 'pyspark.sql.types.DataType'>\nDateType               DataTypeSingleton    <class 'pyspark.sql.types.DateType'>\nDayTimeIntervalType    type                 <class 'pyspark.sql.types.DayTimeIntervalType'>\nDecimalType            type                 <class 'pyspark.sql.types.DecimalType'>\nDoubleType             DataTypeSingleton    <class 'pyspark.sql.types.DoubleType'>\nFloatType              DataTypeSingleton    <class 'pyspark.sql.types.FloatType'>\nIntegerType            DataTypeSingleton    <class 'pyspark.sql.types.IntegerType'>\nLongType               DataTypeSingleton    <class 'pyspark.sql.types.LongType'>\nMapType                type                 <class 'pyspark.sql.types.MapType'>\nNullType               DataTypeSingleton    <class 'pyspark.sql.types.NullType'>\nRow                    type                 <class 'pyspark.sql.types.Row'>\nShortType              DataTypeSingleton    <class 'pyspark.sql.types.ShortType'>\nStringType             DataTypeSingleton    <class 'pyspark.sql.types.StringType'>\nStructField            type                 <class 'pyspark.sql.types.StructField'>\nStructType             type                 <class 'pyspark.sql.types.StructType'>\nTimestampType          DataTypeSingleton    <class 'pyspark.sql.types.TimestampType'>\nVarcharType            type                 <class 'pyspark.sql.types.VarcharType'>\nall_teams              DataFrame            DataFrame[match_team1: string]\ncleaned_df             DataFrame            DataFrame[year: int, seri<...>ing, match_venue: string]\ncol                    function             <function col at 0x75f1c1cb98b0>\ncolumns_to_drop        list                 n=3\ncompleted_matches_df   DataFrame            DataFrame[year: int, seri<...>ing, match_venue: string]\nipl_cleaned_df         DataFrame            DataFrame[year: int, seri<...>ing, match_venue: string]\nipl_df                 DataFrame            DataFrame[year: int, seri<...>ing, match_venue: string]\npd                     module               <module 'pandas' from '/d<...>ages/pandas/__init__.py'>\nschema                 StructType           StructType([StructField('<...>e', StringType(), True)])\nsplit                  function             <function split at 0x75f1c1c63310>\nteam1                  DataFrame            DataFrame[match_team1: string]\nteam2                  DataFrame            DataFrame[match_team2: string]\nteams_df               DataFrame            DataFrame[match_team1: string]\ntrim                   function             <function trim at 0x75f1c1c5f0d0>\n"
     ]
    }
   ],
   "source": [
    "whos"
   ]
  },
  {
   "cell_type": "code",
   "execution_count": 0,
   "metadata": {
    "application/vnd.databricks.v1+cell": {
     "cellMetadata": {
      "byteLimit": 2048000,
      "rowLimit": 10000
     },
     "inputWidgets": {},
     "nuid": "9d67f323-04e9-4be4-83d6-d8b88c6b9fa9",
     "showTitle": false,
     "tableResultSettingsMap": {},
     "title": ""
    }
   },
   "outputs": [
    {
     "output_type": "display_data",
     "data": {
      "text/html": [
       "<style scoped>\n",
       "  .table-result-container {\n",
       "    max-height: 300px;\n",
       "    overflow: auto;\n",
       "  }\n",
       "  table, th, td {\n",
       "    border: 1px solid black;\n",
       "    border-collapse: collapse;\n",
       "  }\n",
       "  th, td {\n",
       "    padding: 5px;\n",
       "  }\n",
       "  th {\n",
       "    text-align: left;\n",
       "  }\n",
       "</style><div class='table-result-container'><table class='table-result'><thead style='background-color: white'><tr><th>path</th><th>name</th><th>size</th><th>modificationTime</th></tr></thead><tbody><tr><td>dbfs:/FileStore/ipl_cleaned.parquet/</td><td>ipl_cleaned.parquet/</td><td>0</td><td>0</td></tr><tr><td>dbfs:/FileStore/ipl_final_cleaned.parquet/</td><td>ipl_final_cleaned.parquet/</td><td>0</td><td>0</td></tr><tr><td>dbfs:/FileStore/ipl_validated.parquet/</td><td>ipl_validated.parquet/</td><td>0</td><td>0</td></tr><tr><td>dbfs:/FileStore/tables/</td><td>tables/</td><td>0</td><td>0</td></tr></tbody></table></div>"
      ]
     },
     "metadata": {
      "application/vnd.databricks.v1+output": {
       "addedWidgets": {},
       "aggData": [],
       "aggError": "",
       "aggOverflow": false,
       "aggSchema": [],
       "aggSeriesLimitReached": false,
       "aggType": "",
       "arguments": {},
       "columnCustomDisplayInfos": {},
       "data": [
        [
         "dbfs:/FileStore/ipl_cleaned.parquet/",
         "ipl_cleaned.parquet/",
         0,
         0
        ],
        [
         "dbfs:/FileStore/ipl_final_cleaned.parquet/",
         "ipl_final_cleaned.parquet/",
         0,
         0
        ],
        [
         "dbfs:/FileStore/ipl_validated.parquet/",
         "ipl_validated.parquet/",
         0,
         0
        ],
        [
         "dbfs:/FileStore/tables/",
         "tables/",
         0,
         0
        ]
       ],
       "datasetInfos": [],
       "dbfsResultPath": null,
       "isJsonSchema": true,
       "metadata": {},
       "overflow": false,
       "plotOptions": {
        "customPlotOptions": {},
        "displayType": "table",
        "pivotAggregation": null,
        "pivotColumns": null,
        "xColumns": null,
        "yColumns": null
       },
       "removedWidgets": [],
       "schema": [
        {
         "metadata": "{}",
         "name": "path",
         "type": "\"string\""
        },
        {
         "metadata": "{}",
         "name": "name",
         "type": "\"string\""
        },
        {
         "metadata": "{}",
         "name": "size",
         "type": "\"long\""
        },
        {
         "metadata": "{}",
         "name": "modificationTime",
         "type": "\"long\""
        }
       ],
       "type": "table"
      }
     },
     "output_type": "display_data"
    }
   ],
   "source": [
    "display(dbutils.fs.ls(\"/FileStore\"))\n",
    "\n"
   ]
  },
  {
   "cell_type": "code",
   "execution_count": 0,
   "metadata": {
    "application/vnd.databricks.v1+cell": {
     "cellMetadata": {
      "byteLimit": 2048000,
      "rowLimit": 10000
     },
     "inputWidgets": {},
     "nuid": "8edaa1cd-73fd-4756-a9b0-07f5ddd4ea26",
     "showTitle": false,
     "tableResultSettingsMap": {},
     "title": ""
    }
   },
   "outputs": [
    {
     "output_type": "stream",
     "name": "stdout",
     "output_type": "stream",
     "text": [
      "+----+-------------------+--------------------+--------+----------+--------------------+--------------------+-------------------+--------------------+--------------------+--------------+-----------+\n|year|        series_type|         series_name|match_no|match_type|          match_name|          match_href|        match_team1|         match_team2|match_datetime_start|match_date_end|match_venue|\n+----+-------------------+--------------------+--------+----------+--------------------+--------------------+-------------------+--------------------+--------------------+--------------+-----------+\n|2021|2025-04-09 20:00:00|Indian Premier Le...|    null|    League|MUMBAI INDIANS vs...|https://www.cricb...|     MUMBAI INDIANS|ROYAL CHALLENGERS...| 2025-04-09 20:00:00|          null|       null|\n|2021|2025-04-09 20:00:00|Indian Premier Le...|    null|    League|CHENNAI SUPER KIN...|https://www.cricb...|CHENNAI SUPER KINGS|      DELHI CAPITALS| 2025-04-09 20:00:00|          null|       null|\n|2021|2025-04-09 20:00:00|Indian Premier Le...|    null|    League|SUNRISERS HYDERAB...|https://www.cricb...|SUNRISERS HYDERABAD|KOLKATA KNIGHT RI...| 2025-04-09 20:00:00|          null|       null|\n+----+-------------------+--------------------+--------+----------+--------------------+--------------------+-------------------+--------------------+--------------------+--------------+-----------+\nonly showing top 3 rows\n\n"
     ]
    }
   ],
   "source": [
    "df = spark.read.parquet(\"/FileStore/ipl_final_cleaned.parquet\")\n",
    "df.show(3)\n"
   ]
  },
  {
   "cell_type": "code",
   "execution_count": 0,
   "metadata": {
    "application/vnd.databricks.v1+cell": {
     "cellMetadata": {
      "byteLimit": 2048000,
      "rowLimit": 10000
     },
     "inputWidgets": {},
     "nuid": "82600979-ebdd-4f9a-bb16-e1ea538489b1",
     "showTitle": false,
     "tableResultSettingsMap": {},
     "title": ""
    }
   },
   "outputs": [
    {
     "output_type": "stream",
     "name": "stdout",
     "output_type": "stream",
     "text": [
      "+----+-------------------+--------------------+--------+----------+--------------------+--------------------+-------------------+--------------------+--------------------+--------------+-----------+\n|year|        series_type|         series_name|match_no|match_type|          match_name|          match_href|        match_team1|         match_team2|match_datetime_start|match_date_end|match_venue|\n+----+-------------------+--------------------+--------+----------+--------------------+--------------------+-------------------+--------------------+--------------------+--------------+-----------+\n|2021|2025-04-09 20:00:00|Indian Premier Le...|    null|    League|MUMBAI INDIANS vs...|https://www.cricb...|     MUMBAI INDIANS|ROYAL CHALLENGERS...| 2025-04-09 20:00:00|          null|       null|\n|2021|2025-04-09 20:00:00|Indian Premier Le...|    null|    League|CHENNAI SUPER KIN...|https://www.cricb...|CHENNAI SUPER KINGS|      DELHI CAPITALS| 2025-04-09 20:00:00|          null|       null|\n|2021|2025-04-09 20:00:00|Indian Premier Le...|    null|    League|SUNRISERS HYDERAB...|https://www.cricb...|SUNRISERS HYDERABAD|KOLKATA KNIGHT RI...| 2025-04-09 20:00:00|          null|       null|\n+----+-------------------+--------------------+--------+----------+--------------------+--------------------+-------------------+--------------------+--------------------+--------------+-----------+\nonly showing top 3 rows\n\n"
     ]
    }
   ],
   "source": [
    "df = spark.read.parquet(\"/FileStore/ipl_final_cleaned.parquet\")\n",
    "df.show(3)\n"
   ]
  },
  {
   "cell_type": "code",
   "execution_count": 0,
   "metadata": {
    "application/vnd.databricks.v1+cell": {
     "cellMetadata": {
      "byteLimit": 2048000,
      "rowLimit": 10000
     },
     "inputWidgets": {},
     "nuid": "b1ea6acd-8099-4c07-8d85-c8203b2a71d4",
     "showTitle": false,
     "tableResultSettingsMap": {},
     "title": ""
    }
   },
   "outputs": [
    {
     "output_type": "stream",
     "name": "stdout",
     "output_type": "stream",
     "text": [
      "Number of unique teams: 8\n"
     ]
    }
   ],
   "source": [
    "from pyspark.sql.functions import col\n",
    "\n",
    "teams = df.select(col(\"match_team1\")).union(df.select(col(\"match_team2\"))).distinct()\n",
    "print(\"Number of unique teams:\", teams.count())\n"
   ]
  },
  {
   "cell_type": "code",
   "execution_count": 0,
   "metadata": {
    "application/vnd.databricks.v1+cell": {
     "cellMetadata": {
      "byteLimit": 2048000,
      "rowLimit": 10000
     },
     "inputWidgets": {},
     "nuid": "09d27828-47aa-47ae-935a-6aa16dc50ca3",
     "showTitle": false,
     "tableResultSettingsMap": {},
     "title": ""
    }
   },
   "outputs": [
    {
     "output_type": "stream",
     "name": "stdout",
     "output_type": "stream",
     "text": [
      "+----------+\n|match_name|\n+----------+\n+----------+\n\n"
     ]
    }
   ],
   "source": [
    "df.select(\"match_name\").where(col(\"match_name\").contains(\"Super Over\") | col(\"match_name\").contains(\"Tie\")).distinct().show(truncate=False)\n"
   ]
  },
  {
   "cell_type": "code",
   "execution_count": 0,
   "metadata": {
    "application/vnd.databricks.v1+cell": {
     "cellMetadata": {
      "byteLimit": 2048000,
      "rowLimit": 10000
     },
     "inputWidgets": {},
     "nuid": "b0fe17b7-2923-4496-9bea-b35746bac0a9",
     "showTitle": false,
     "tableResultSettingsMap": {},
     "title": ""
    }
   },
   "outputs": [
    {
     "output_type": "stream",
     "name": "stdout",
     "output_type": "stream",
     "text": [
      "+----------+\n|match_name|\n+----------+\n+----------+\n\n"
     ]
    }
   ],
   "source": [
    "df.select(\"match_name\").where(col(\"match_name\").contains(\"Super Over\") | col(\"match_name\").contains(\"Tie\")).distinct().show(truncate=False)\n"
   ]
  },
  {
   "cell_type": "code",
   "execution_count": 0,
   "metadata": {
    "application/vnd.databricks.v1+cell": {
     "cellMetadata": {},
     "inputWidgets": {},
     "nuid": "439f7e6b-eedd-4e78-8f33-f678dd3bd502",
     "showTitle": false,
     "tableResultSettingsMap": {},
     "title": ""
    }
   },
   "outputs": [],
   "source": []
  }
 ],
 "metadata": {
  "application/vnd.databricks.v1+notebook": {
   "computePreferences": null,
   "dashboards": [],
   "environmentMetadata": {
    "base_environment": "",
    "environment_version": "1"
   },
   "inputWidgetPreferences": null,
   "language": "python",
   "notebookMetadata": {
    "pythonIndentUnit": 4
   },
   "notebookName": "LEVEL16 T4",
   "widgets": {}
  }
 },
 "nbformat": 4,
 "nbformat_minor": 0
}