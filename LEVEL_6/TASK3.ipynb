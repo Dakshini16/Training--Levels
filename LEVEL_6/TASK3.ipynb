{
 "cells": [
  {
   "cell_type": "code",
   "execution_count": 5,
   "id": "adfebb77-ccc2-4f15-8cc7-1c09574eb534",
   "metadata": {},
   "outputs": [
    {
     "name": "stdout",
     "output_type": "stream",
     "text": [
      "\n",
      "Population vs. Sample:\n",
      "Population Mean: 70.44\n",
      "Sample Mean: 69.63\n"
     ]
    }
   ],
   "source": [
    " import numpy as np\n",
    "population = np.random.normal(70, 15, 1000) \n",
    "sample = np.random.choice(population, 100, replace=False)\n",
    "print(\"\\nPopulation vs. Sample:\")\n",
    "print(f\"Population Mean: {np.mean(population):.2f}\")\n",
    "print(f\"Sample Mean: {np.mean(sample):.2f}\")\n"
   ]
  },
  {
   "cell_type": "code",
   "execution_count": 4,
   "id": "c3057f31-9f7e-4ece-9ac8-2cc0f1720b49",
   "metadata": {},
   "outputs": [
    {
     "name": "stdout",
     "output_type": "stream",
     "text": [
      "Population vs. Sample Analysis:\n",
      "Total Population (All families in the city): 10000 households\n",
      "Sample Size (Surveyed households): 100 households\n",
      "Population Mean Income: 69.97K\n",
      "Sample Mean Income: 71.75K\n"
     ]
    }
   ],
   "source": [
    "import numpy as np\n",
    "np.random.seed(42) \n",
    "population = np.random.normal(70, 15, 10000)  \n",
    "sample = np.random.choice(population, 100, replace=False)\n",
    "print(\"Population vs. Sample Analysis:\")\n",
    "print(f\"Total Population (All families in the city): {len(population)} households\")\n",
    "print(f\"Sample Size (Surveyed households): {len(sample)} households\")\n",
    "print(f\"Population Mean Income: {np.mean(population):.2f}K\")\n",
    "print(f\"Sample Mean Income: {np.mean(sample):.2f}K\")\n"
   ]
  },
  {
   "cell_type": "code",
   "execution_count": null,
   "id": "9b0d35d7-ea2e-4d77-bac8-d4629b7ff812",
   "metadata": {},
   "outputs": [],
   "source": []
  }
 ],
 "metadata": {
  "kernelspec": {
   "display_name": "Python 3 (ipykernel)",
   "language": "python",
   "name": "python3"
  },
  "language_info": {
   "codemirror_mode": {
    "name": "ipython",
    "version": 3
   },
   "file_extension": ".py",
   "mimetype": "text/x-python",
   "name": "python",
   "nbconvert_exporter": "python",
   "pygments_lexer": "ipython3",
   "version": "3.12.7"
  }
 },
 "nbformat": 4,
 "nbformat_minor": 5
}
