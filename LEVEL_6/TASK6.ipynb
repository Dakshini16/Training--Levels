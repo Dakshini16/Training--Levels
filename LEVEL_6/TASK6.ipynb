{
 "cells": [
  {
   "cell_type": "code",
   "execution_count": 2,
   "id": "04ac7a53-707c-41ff-bf08-a72bbf2a13ff",
   "metadata": {},
   "outputs": [
    {
     "name": "stdout",
     "output_type": "stream",
     "text": [
      "Variance: 8.0\n",
      "Standard Deviation: 2.828\n",
      "\n",
      "Interpretation:\n",
      "Variance measures how spread out the data points are from the mean.\n",
      "Standard deviation represents the typical deviation from the mean, helping understand data dispersion.\n"
     ]
    }
   ],
   "source": [
    "import numpy as np\n",
    "data = [2, 4, 6, 8, 10]\n",
    "variance = np.var(data)  \n",
    "std_dev = np.std(data)   \n",
    "print(f\"Variance: {variance}\")\n",
    "print(f\"Standard Deviation: {std_dev:.3f}\")\n",
    "print(\"\\nInterpretation:\")\n",
    "print(\"Variance measures how spread out the data points are from the mean.\")\n",
    "print(\"Standard deviation represents the typical deviation from the mean, helping understand data dispersion.\")\n"
   ]
  },
  {
   "cell_type": "code",
   "execution_count": null,
   "id": "6fd88646-4ec6-43e5-8c33-4e8bc1157a78",
   "metadata": {},
   "outputs": [],
   "source": []
  }
 ],
 "metadata": {
  "kernelspec": {
   "display_name": "Python 3 (ipykernel)",
   "language": "python",
   "name": "python3"
  },
  "language_info": {
   "codemirror_mode": {
    "name": "ipython",
    "version": 3
   },
   "file_extension": ".py",
   "mimetype": "text/x-python",
   "name": "python",
   "nbconvert_exporter": "python",
   "pygments_lexer": "ipython3",
   "version": "3.12.7"
  }
 },
 "nbformat": 4,
 "nbformat_minor": 5
}
