{
 "cells": [
  {
   "cell_type": "code",
   "execution_count": 2,
   "id": "d427e330-4d7b-4087-a624-ee30197bfac3",
   "metadata": {},
   "outputs": [
    {
     "name": "stdout",
     "output_type": "stream",
     "text": [
      "Original Dataset:\n",
      "    Employee_ID Department  Satisfaction_Score\n",
      "0             1         HR                   4\n",
      "1             2         HR                   5\n",
      "2             3         HR                   3\n",
      "3             4         HR                   4\n",
      "4             5         HR                   5\n",
      "5             6         IT                   2\n",
      "6             7         IT                   3\n",
      "7             8         IT                   5\n",
      "8             9         IT                   4\n",
      "9            10         IT                   5\n",
      "10           11         IT                   2\n",
      "11           12         IT                   4\n",
      "12           13         IT                   5\n",
      "13           14      Sales                   3\n",
      "14           15      Sales                   4\n",
      "15           16      Sales                   3\n",
      "16           17      Sales                   5\n",
      "17           18      Sales                   2\n",
      "18           19      Sales                   4\n",
      "19           20      Sales                   5\n",
      "\n",
      "Stratified Sample:\n",
      "    Employee_ID Department  Satisfaction_Score\n",
      "1             2         HR                   5\n",
      "4             5         HR                   5\n",
      "6             7         IT                   3\n",
      "10           11         IT                   2\n",
      "5             6         IT                   2\n",
      "12           13         IT                   5\n",
      "13           14      Sales                   3\n",
      "14           15      Sales                   4\n",
      "18           19      Sales                   4\n",
      "15           16      Sales                   3\n"
     ]
    },
    {
     "name": "stderr",
     "output_type": "stream",
     "text": [
      "C:\\Users\\daksh\\AppData\\Local\\Temp\\ipykernel_19292\\3155129515.py:9: DeprecationWarning: DataFrameGroupBy.apply operated on the grouping columns. This behavior is deprecated, and in a future version of pandas the grouping columns will be excluded from the operation. Either pass `include_groups=False` to exclude the groupings or explicitly select the grouping columns after groupby to silence this warning.\n",
      "  df_sampled = df.groupby(\"Department\", group_keys=False).apply(lambda x: x.sample(frac=0.5, random_state=42))\n"
     ]
    }
   ],
   "source": [
    "import pandas as pd\n",
    "from sklearn.model_selection import train_test_split\n",
    "data = {\n",
    "    \"Employee_ID\": range(1, 21),  # 20 employees\n",
    "    \"Department\": [\"HR\"] * 5 + [\"IT\"] * 8 + [\"Sales\"] * 7,  # Varying department sizes\n",
    "    \"Satisfaction_Score\": [4, 5, 3, 4, 5, 2, 3, 5, 4, 5, 2, 4, 5, 3, 4, 3, 5, 2, 4, 5],  # Random scores\n",
    "}\n",
    "df = pd.DataFrame(data)\n",
    "df_sampled = df.groupby(\"Department\", group_keys=False).apply(lambda x: x.sample(frac=0.5, random_state=42))\n",
    "print(\"Original Dataset:\")\n",
    "print(df)\n",
    "print(\"\\nStratified Sample:\")\n",
    "print(df_sampled)\n"
   ]
  },
  {
   "cell_type": "code",
   "execution_count": null,
   "id": "73c5f85c-8a75-4253-96a2-9dfa500f4295",
   "metadata": {},
   "outputs": [],
   "source": []
  }
 ],
 "metadata": {
  "kernelspec": {
   "display_name": "Python 3 (ipykernel)",
   "language": "python",
   "name": "python3"
  },
  "language_info": {
   "codemirror_mode": {
    "name": "ipython",
    "version": 3
   },
   "file_extension": ".py",
   "mimetype": "text/x-python",
   "name": "python",
   "nbconvert_exporter": "python",
   "pygments_lexer": "ipython3",
   "version": "3.12.7"
  }
 },
 "nbformat": 4,
 "nbformat_minor": 5
}
