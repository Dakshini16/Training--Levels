{
 "cells": [
  {
   "cell_type": "code",
   "execution_count": 2,
   "id": "752a7255-682d-4e3a-aef9-f01911e6441f",
   "metadata": {},
   "outputs": [
    {
     "name": "stdout",
     "output_type": "stream",
     "text": [
      "Approximately 40.13% of scores fall above 4.25.\n"
     ]
    }
   ],
   "source": [
    "import scipy.stats as stats\n",
    "z = 0.25\n",
    "percentage_above = stats.norm.sf(z) * 100  \n",
    "print(f\"Approximately {percentage_above:.2f}% of scores fall above 4.25.\")\n"
   ]
  },
  {
   "cell_type": "code",
   "execution_count": null,
   "id": "f1390b29-d34b-446a-914a-fc60735c7ce1",
   "metadata": {},
   "outputs": [],
   "source": []
  }
 ],
 "metadata": {
  "kernelspec": {
   "display_name": "Python 3 (ipykernel)",
   "language": "python",
   "name": "python3"
  },
  "language_info": {
   "codemirror_mode": {
    "name": "ipython",
    "version": 3
   },
   "file_extension": ".py",
   "mimetype": "text/x-python",
   "name": "python",
   "nbconvert_exporter": "python",
   "pygments_lexer": "ipython3",
   "version": "3.12.7"
  }
 },
 "nbformat": 4,
 "nbformat_minor": 5
}
