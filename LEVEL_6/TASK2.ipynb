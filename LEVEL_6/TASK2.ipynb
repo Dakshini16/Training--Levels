{
 "cells": [
  {
   "cell_type": "code",
   "execution_count": 2,
   "id": "a604e6d8-e3ae-4743-8d60-0d50d5228833",
   "metadata": {},
   "outputs": [
    {
     "name": "stdout",
     "output_type": "stream",
     "text": [
      "\n",
      "Variable Classification:\n",
      "Number of Pets: Quantitative (Discrete)\n",
      "Blood Type: Qualitative\n",
      "Weight (kg): Quantitative (Continuous)\n",
      "Satisfaction Level: Qualitative\n"
     ]
    }
   ],
   "source": [
    "\n",
    "number_of_pets = [1, 2, 3, 0, 5]  \n",
    "blood_types = ['A', 'B', 'AB', 'O', 'A']  \n",
    "weights = [50.5, 65.2, 80.1, 72.8, 90.0]  \n",
    "satisfaction = ['Low', 'Medium', 'High', 'Low', 'High']  \n",
    "variables = {\n",
    "    \"Number of Pets\": \"Quantitative (Discrete)\",\n",
    "    \"Blood Type\": \"Qualitative\",\n",
    "    \"Weight (kg)\": \"Quantitative (Continuous)\",\n",
    "    \"Satisfaction Level\": \"Qualitative\"\n",
    "}\n",
    "print(\"\\nVariable Classification:\")\n",
    "for var, category in variables.items():\n",
    "    print(f\"{var}: {category}\")\n"
   ]
  },
  {
   "cell_type": "code",
   "execution_count": null,
   "id": "210b0aa5-aec6-4fec-9a07-e3d886d65fc0",
   "metadata": {},
   "outputs": [],
   "source": []
  }
 ],
 "metadata": {
  "kernelspec": {
   "display_name": "Python 3 (ipykernel)",
   "language": "python",
   "name": "python3"
  },
  "language_info": {
   "codemirror_mode": {
    "name": "ipython",
    "version": 3
   },
   "file_extension": ".py",
   "mimetype": "text/x-python",
   "name": "python",
   "nbconvert_exporter": "python",
   "pygments_lexer": "ipython3",
   "version": "3.12.7"
  }
 },
 "nbformat": 4,
 "nbformat_minor": 5
}
