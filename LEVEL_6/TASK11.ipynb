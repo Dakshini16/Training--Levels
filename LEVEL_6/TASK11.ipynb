{
 "cells": [
  {
   "cell_type": "code",
   "execution_count": 2,
   "id": "0e23f78d-f22a-476f-9fe6-6129650e0661",
   "metadata": {},
   "outputs": [
    {
     "data": {
      "text/plain": [
       "'No outliers detected; all z-scores are below 3.'"
      ]
     },
     "execution_count": 2,
     "metadata": {},
     "output_type": "execute_result"
    }
   ],
   "source": [
    "import numpy as np\n",
    "data = np.array([1, 2, 3, 4, 5, 6, 7, 8, 9, 20])\n",
    "mean = np.mean(data)\n",
    "std_dev = np.std(data, ddof=0)\n",
    "z_scores = (data - mean) / std_dev\n",
    "outliers = data[np.abs(z_scores) > 3]\n",
    "outliers if len(outliers) > 0 else \"No outliers detected; all z-scores are below 3.\"\n"
   ]
  },
  {
   "cell_type": "code",
   "execution_count": null,
   "id": "af8f9ffb-7d65-4f5d-b392-6fd8f27b2a47",
   "metadata": {},
   "outputs": [],
   "source": []
  }
 ],
 "metadata": {
  "kernelspec": {
   "display_name": "Python 3 (ipykernel)",
   "language": "python",
   "name": "python3"
  },
  "language_info": {
   "codemirror_mode": {
    "name": "ipython",
    "version": 3
   },
   "file_extension": ".py",
   "mimetype": "text/x-python",
   "name": "python",
   "nbconvert_exporter": "python",
   "pygments_lexer": "ipython3",
   "version": "3.12.7"
  }
 },
 "nbformat": 4,
 "nbformat_minor": 5
}
