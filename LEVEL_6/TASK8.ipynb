{
 "cells": [
  {
   "cell_type": "code",
   "execution_count": 2,
   "id": "a1c63309-41c0-412a-b0ba-474de859ddfc",
   "metadata": {},
   "outputs": [
    {
     "name": "stdout",
     "output_type": "stream",
     "text": [
      "Approximately 68.27% of the data lies between 85 and 115.\n"
     ]
    }
   ],
   "source": [
    "import scipy.stats as stats\n",
    "mean = 100\n",
    "std_dev = 15\n",
    "p1 = stats.norm.cdf(115, mean, std_dev)  # P(X ≤ 115)\n",
    "p2 = stats.norm.cdf(85, mean, std_dev)   # P(X ≤ 85)\n",
    "percentage = (p1 - p2) * 100\n",
    "print(f\"Approximately {percentage:.2f}% of the data lies between 85 and 115.\")\n"
   ]
  },
  {
   "cell_type": "code",
   "execution_count": null,
   "id": "4a950c2f-73a0-4d41-b740-298525c97ee5",
   "metadata": {},
   "outputs": [],
   "source": []
  }
 ],
 "metadata": {
  "kernelspec": {
   "display_name": "Python 3 (ipykernel)",
   "language": "python",
   "name": "python3"
  },
  "language_info": {
   "codemirror_mode": {
    "name": "ipython",
    "version": 3
   },
   "file_extension": ".py",
   "mimetype": "text/x-python",
   "name": "python",
   "nbconvert_exporter": "python",
   "pygments_lexer": "ipython3",
   "version": "3.12.7"
  }
 },
 "nbformat": 4,
 "nbformat_minor": 5
}
