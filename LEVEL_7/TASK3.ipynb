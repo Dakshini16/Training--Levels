{
 "cells": [
  {
   "cell_type": "code",
   "execution_count": 5,
   "id": "2bfe11b2-56ce-49c3-9067-8b0153f89704",
   "metadata": {},
   "outputs": [
    {
     "name": "stdout",
     "output_type": "stream",
     "text": [
      "T-score is 10.95\n",
      "P-value is 4.01e-12\n",
      "Reject H₀; medication increases IQ (mean = 140 > 100).\n"
     ]
    }
   ],
   "source": [
    "\n",
    "sample_mean = 140\n",
    "population_mean = 100\n",
    "sample_sd = 20\n",
    "sample_size = 30\n",
    "t_score = (sample_mean - population_mean) / (sample_sd / np.sqrt(sample_size))\n",
    "p_value = stats.t.sf(t_score, df=sample_size-1)  # Survival function for one-tailed test\n",
    "print(f\"T-score is {t_score:.2f}\")\n",
    "print(f\"P-value is {p_value:.2e}\")\n",
    "if p_value < 0.05:\n",
    "    print(\"Reject H₀; medication increases IQ (mean = 140 > 100).\")\n",
    "else:\n",
    "    print(\"Fail to reject H₀; no strong evidence that medication increases IQ.\")\n"
   ]
  },
  {
   "cell_type": "code",
   "execution_count": null,
   "id": "643869c1-e6f3-46cd-bdcb-5d671f95d582",
   "metadata": {},
   "outputs": [],
   "source": []
  }
 ],
 "metadata": {
  "kernelspec": {
   "display_name": "Python 3 (ipykernel)",
   "language": "python",
   "name": "python3"
  },
  "language_info": {
   "codemirror_mode": {
    "name": "ipython",
    "version": 3
   },
   "file_extension": ".py",
   "mimetype": "text/x-python",
   "name": "python",
   "nbconvert_exporter": "python",
   "pygments_lexer": "ipython3",
   "version": "3.12.7"
  }
 },
 "nbformat": 4,
 "nbformat_minor": 5
}
