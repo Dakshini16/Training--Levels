{
 "cells": [
  {
   "cell_type": "code",
   "execution_count": 4,
   "id": "6e912825-86e5-478a-8253-7b8fd6ec0717",
   "metadata": {},
   "outputs": [
    {
     "name": "stdout",
     "output_type": "stream",
     "text": [
      "Z-score is 15.08\n",
      "P-value is 2.07e-51\n",
      "Reject H₀; medication affects IQ, likely increasing it (mean = 140 > 100).\n"
     ]
    }
   ],
   "source": [
    "import numpy as np\n",
    "import statsmodels.stats.weightstats as st\n",
    "np.random.seed(42)\n",
    "sample_data = np.random.normal(140, 15, 30)\n",
    "z_score, p_value = st.ztest(sample_data, value=100)\n",
    "print(f\"Z-score is {z_score:.2f}\")\n",
    "print(f\"P-value is {p_value:.2e}\")\n",
    "if p_value < 0.05:\n",
    "    print(\"Reject H₀; medication affects IQ, likely increasing it (mean = 140 > 100).\")\n",
    "else:\n",
    "    print(\"Fail to reject H₀.\")\n"
   ]
  },
  {
   "cell_type": "code",
   "execution_count": null,
   "id": "73e7c231-99cc-469b-8c0f-0b8e07af867b",
   "metadata": {},
   "outputs": [],
   "source": []
  }
 ],
 "metadata": {
  "kernelspec": {
   "display_name": "Python 3 (ipykernel)",
   "language": "python",
   "name": "python3"
  },
  "language_info": {
   "codemirror_mode": {
    "name": "ipython",
    "version": 3
   },
   "file_extension": ".py",
   "mimetype": "text/x-python",
   "name": "python",
   "nbconvert_exporter": "python",
   "pygments_lexer": "ipython3",
   "version": "3.12.7"
  }
 },
 "nbformat": 4,
 "nbformat_minor": 5
}
