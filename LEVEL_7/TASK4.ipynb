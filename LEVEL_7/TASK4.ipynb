{
 "cells": [
  {
   "cell_type": "code",
   "execution_count": 2,
   "id": "7dc9886d-6874-40a5-921d-24b09cea6977",
   "metadata": {},
   "outputs": [
    {
     "name": "stdout",
     "output_type": "stream",
     "text": [
      "Chi-square statistic is 232.49\n",
      "P-value is 3.27e-51\n",
      "Reject H₀; age distribution changed.\n"
     ]
    }
   ],
   "source": [
    "\n",
    "import numpy as np\n",
    "from scipy import stats\n",
    "observed = [121, 288, 91]  \n",
    "expected = [100, 150, 250]  \n",
    "chi_square_stat, p_value = stats.chisquare(observed, expected)\n",
    "print(f\"Chi-square statistic is {chi_square_stat:.2f}\")\n",
    "print(f\"P-value is {p_value:.2e}\")\n",
    "if p_value < 0.05:\n",
    "    print(\"Reject H₀; age distribution changed.\")\n",
    "else:\n",
    "    print(\"Fail to reject H₀; no strong evidence that age distribution changed.\")\n"
   ]
  },
  {
   "cell_type": "code",
   "execution_count": null,
   "id": "0093ed08-1be1-4ea5-8be1-8adf4136d6b2",
   "metadata": {},
   "outputs": [],
   "source": []
  }
 ],
 "metadata": {
  "kernelspec": {
   "display_name": "Python 3 (ipykernel)",
   "language": "python",
   "name": "python3"
  },
  "language_info": {
   "codemirror_mode": {
    "name": "ipython",
    "version": 3
   },
   "file_extension": ".py",
   "mimetype": "text/x-python",
   "name": "python",
   "nbconvert_exporter": "python",
   "pygments_lexer": "ipython3",
   "version": "3.12.7"
  }
 },
 "nbformat": 4,
 "nbformat_minor": 5
}
