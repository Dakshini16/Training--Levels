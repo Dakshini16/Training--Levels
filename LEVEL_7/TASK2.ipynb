{
 "cells": [
  {
   "cell_type": "code",
   "execution_count": 2,
   "id": "2f7f6b42-188a-410c-a7d0-441dc91e9533",
   "metadata": {},
   "outputs": [
    {
     "name": "stdout",
     "output_type": "stream",
     "text": [
      "Z-score is 3.79\n",
      "P-value is 7.61e-05\n",
      "Reject H₀; the new teaching method significantly increases test scores.\n"
     ]
    }
   ],
   "source": [
    "import numpy as np\n",
    "import statsmodels.stats.weightstats as st\n",
    "np.random.seed(42)\n",
    "traditional_scores = np.random.normal(75, 10, 40) \n",
    "new_method_scores = np.random.normal(82, 12, 35)  \n",
    "z_score, p_value = st.ztest(new_method_scores, x2=traditional_scores, alternative='larger')\n",
    "print(f\"Z-score is {z_score:.2f}\")\n",
    "print(f\"P-value is {p_value:.2e}\")\n",
    "if p_value < 0.05:\n",
    "    print(\"Reject H₀; the new teaching method significantly increases test scores.\")\n",
    "else:\n",
    "    print(\"Fail to reject H₀; no strong evidence that the new method improves scores.\")\n"
   ]
  },
  {
   "cell_type": "code",
   "execution_count": null,
   "id": "aa450343-aae7-4c87-844f-aa91c59177a6",
   "metadata": {},
   "outputs": [],
   "source": []
  }
 ],
 "metadata": {
  "kernelspec": {
   "display_name": "Python 3 (ipykernel)",
   "language": "python",
   "name": "python3"
  },
  "language_info": {
   "codemirror_mode": {
    "name": "ipython",
    "version": 3
   },
   "file_extension": ".py",
   "mimetype": "text/x-python",
   "name": "python",
   "nbconvert_exporter": "python",
   "pygments_lexer": "ipython3",
   "version": "3.12.7"
  }
 },
 "nbformat": 4,
 "nbformat_minor": 5
}
