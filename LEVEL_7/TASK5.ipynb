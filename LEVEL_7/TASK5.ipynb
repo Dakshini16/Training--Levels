{
 "cells": [
  {
   "cell_type": "code",
   "execution_count": 2,
   "id": "ed30b226-1fde-4507-ad98-40192504d5d1",
   "metadata": {},
   "outputs": [
    {
     "name": "stdout",
     "output_type": "stream",
     "text": [
      "Covariance is 45.83\n",
      "Positive covariance; as height increases, weight tends to increase.\n"
     ]
    }
   ],
   "source": [
    "import numpy as np\n",
    "height = np.array([160, 170, 180, 175])\n",
    "weight = np.array([60, 70, 75, 65])\n",
    "covariance = np.cov(height, weight)[0, 1]\n",
    "print(f\"Covariance is {covariance:.2f}\")\n",
    "if covariance > 0:\n",
    "    print(\"Positive covariance; as height increases, weight tends to increase.\")\n",
    "elif covariance < 0:\n",
    "    print(\"Negative covariance; as height increases, weight tends to decrease.\")\n",
    "else:\n",
    "    print(\"No covariance; height and weight are independent.\")\n"
   ]
  },
  {
   "cell_type": "code",
   "execution_count": null,
   "id": "4119be3a-145c-44f0-95cb-0abdf45c1207",
   "metadata": {},
   "outputs": [],
   "source": []
  }
 ],
 "metadata": {
  "kernelspec": {
   "display_name": "Python 3 (ipykernel)",
   "language": "python",
   "name": "python3"
  },
  "language_info": {
   "codemirror_mode": {
    "name": "ipython",
    "version": 3
   },
   "file_extension": ".py",
   "mimetype": "text/x-python",
   "name": "python",
   "nbconvert_exporter": "python",
   "pygments_lexer": "ipython3",
   "version": "3.12.7"
  }
 },
 "nbformat": 4,
 "nbformat_minor": 5
}
