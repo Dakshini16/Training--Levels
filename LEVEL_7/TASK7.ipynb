{
 "cells": [
  {
   "cell_type": "code",
   "execution_count": 2,
   "id": "e1f09f19-9fe0-45e9-9ccb-1e0e22ef4acd",
   "metadata": {},
   "outputs": [
    {
     "name": "stdout",
     "output_type": "stream",
     "text": [
      "Simulated Probability of Success: 0.29\n",
      "Matches theoretical P = 0.3 for Bernoulli trial.\n"
     ]
    }
   ],
   "source": [
    "import numpy as np\n",
    "trials = np.random.binomial(n=1, p=0.3, size=1000)\n",
    "simulated_p = np.mean(trials)\n",
    "print(f\"Simulated Probability of Success: {simulated_p:.2f}\")\n",
    "print(\"Matches theoretical P = 0.3 for Bernoulli trial.\" if abs(simulated_p - 0.3) < 0.05 else \"Slight deviation due to randomness.\")\n"
   ]
  },
  {
   "cell_type": "code",
   "execution_count": null,
   "id": "3123f50e-83fe-44d9-b062-81734e8f330e",
   "metadata": {},
   "outputs": [],
   "source": []
  }
 ],
 "metadata": {
  "kernelspec": {
   "display_name": "Python 3 (ipykernel)",
   "language": "python",
   "name": "python3"
  },
  "language_info": {
   "codemirror_mode": {
    "name": "ipython",
    "version": 3
   },
   "file_extension": ".py",
   "mimetype": "text/x-python",
   "name": "python",
   "nbconvert_exporter": "python",
   "pygments_lexer": "ipython3",
   "version": "3.12.7"
  }
 },
 "nbformat": 4,
 "nbformat_minor": 5
}
