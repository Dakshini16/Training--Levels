{
 "cells": [
  {
   "cell_type": "code",
   "execution_count": 1,
   "id": "d1e27519-b43f-4337-b485-f210c78c48d6",
   "metadata": {},
   "outputs": [
    {
     "name": "stdout",
     "output_type": "stream",
     "text": [
      "[6, 12, 18]\n"
     ]
    }
   ],
   "source": [
    "def multiply_and_filter(arr, num):\n",
    "    multiplied = [x * num for x in arr]  \n",
    "    filtered = [x for x in multiplied if x % 2 == 0] \n",
    "    return filtered\n",
    "\n",
    "arr = [1, 2, 3, 4, 5, 6]\n",
    "num = 3\n",
    "print(multiply_and_filter(arr, num))  "
   ]
  },
  {
   "cell_type": "code",
   "execution_count": 2,
   "id": "1e5dbf3a-009f-4c17-aab3-dc65ea73c98e",
   "metadata": {},
   "outputs": [
    {
     "name": "stdout",
     "output_type": "stream",
     "text": [
      "[6, 12, 18]\n"
     ]
    }
   ],
   "source": [
    "multiply = lambda x, num: x * num\n",
    "arr = [1, 2, 3, 4, 5, 6]\n",
    "num = 3\n",
    "result = list(map(lambda x: multiply(x, num), arr))\n",
    "filtered = list(filter(lambda x: x % 2 == 0, result))\n",
    "print(filtered)  "
   ]
  },
  {
   "cell_type": "code",
   "execution_count": 3,
   "id": "ded3b7b7-6ce9-4e30-8262-a00435b1d453",
   "metadata": {},
   "outputs": [
    {
     "name": "stdout",
     "output_type": "stream",
     "text": [
      "[3, 6, 9, 12, 15, 18]\n"
     ]
    }
   ],
   "source": [
    "arr = [1, 2, 3, 4, 5, 6]\n",
    "num = 3\n",
    "result = list(map(lambda x: x * num, arr))  \n",
    "print(result)  "
   ]
  },
  {
   "cell_type": "code",
   "execution_count": 4,
   "id": "c77cc954-1646-4760-b376-f863db1d8b92",
   "metadata": {},
   "outputs": [
    {
     "name": "stdout",
     "output_type": "stream",
     "text": [
      "[6, 12, 18]\n"
     ]
    }
   ],
   "source": [
    "filtered = list(filter(lambda x: x % 2 == 0, result)) \n",
    "print(filtered)  "
   ]
  },
  {
   "cell_type": "code",
   "execution_count": 5,
   "id": "717b7155-232f-42df-9de3-78cdb86dc60d",
   "metadata": {},
   "outputs": [
    {
     "name": "stdout",
     "output_type": "stream",
     "text": [
      "[6, 12, 18]\n"
     ]
    }
   ],
   "source": [
    "arr = [1, 2, 3, 4, 5, 6]\n",
    "num = 3\n",
    "result = list(map(lambda x: x * num, arr)) \n",
    "filtered = list(filter(lambda x: x % 2 == 0, result)) \n",
    "print(filtered) \n"
   ]
  },
  {
   "cell_type": "code",
   "execution_count": null,
   "id": "354e3eed-1bd5-4028-85ec-5a6ef505e90a",
   "metadata": {},
   "outputs": [],
   "source": []
  }
 ],
 "metadata": {
  "kernelspec": {
   "display_name": "Python 3 (ipykernel)",
   "language": "python",
   "name": "python3"
  },
  "language_info": {
   "codemirror_mode": {
    "name": "ipython",
    "version": 3
   },
   "file_extension": ".py",
   "mimetype": "text/x-python",
   "name": "python",
   "nbconvert_exporter": "python",
   "pygments_lexer": "ipython3",
   "version": "3.12.7"
  }
 },
 "nbformat": 4,
 "nbformat_minor": 5
}
