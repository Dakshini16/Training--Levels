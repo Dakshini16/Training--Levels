{
 "cells": [
  {
   "cell_type": "code",
   "execution_count": 1,
   "id": "6da1008b-a187-4df0-8314-a460f19ec0a2",
   "metadata": {},
   "outputs": [
    {
     "name": "stdout",
     "output_type": "stream",
     "text": [
      "✅ Successfully connected to MySQL!\n"
     ]
    }
   ],
   "source": [
    "import mysql.connector\n",
    "import pandas as pd\n",
    "try:\n",
    "    conn = mysql.connector.connect(\n",
    "        host=\"localhost\",\n",
    "        user=\"root\",\n",
    "        password=\"root\",\n",
    "        database=\"t12\"\n",
    "    )\n",
    "\n",
    "    if conn.is_connected():\n",
    "        print(\"✅ Successfully connected to MySQL!\")\n",
    "\n",
    "    cursor = conn.cursor()\n",
    "except mysql.connector.Error as err:\n",
    "    print(f\"❌ Connection error: {err}\")\n",
    "    exit()\n",
    "\n"
   ]
  },
  {
   "cell_type": "code",
   "execution_count": 3,
   "id": "eac919d4-302f-4391-b72b-f0fde44daa82",
   "metadata": {},
   "outputs": [
    {
     "name": "stdout",
     "output_type": "stream",
     "text": [
      "🔹 Orders data:\n",
      "    order_id  order_date customer_id  total_price\n",
      "0       101  2023-01-01          C1      2060.00\n",
      "1       102  2023-01-02          C2      1500.50\n",
      "2       103  2023-01-03          C3      1200.75\n",
      "3       104  2023-01-04          C4      3000.00\n",
      "4       105  2023-01-05          C5       800.00\n",
      "✅ Data saved as CSV successfully!\n"
     ]
    }
   ],
   "source": [
    "import mysql.connector\n",
    "import pandas as pd\n",
    "conn = mysql.connector.connect(\n",
    "    host=\"localhost\",\n",
    "    user=\"root\",\n",
    "    password=\"root\",\n",
    "    database=\"t12\"\n",
    ")\n",
    "\n",
    "cursor = conn.cursor()\n",
    "query = \"SELECT * FROM orders\"\n",
    "cursor.execute(query)\n",
    "orders_data = cursor.fetchall()\n",
    "columns = [col[0] for col in cursor.description]\n",
    "df_orders = pd.DataFrame(orders_data, columns=columns)\n",
    "print(\"🔹 Orders data:\\n\", df_orders.head())\n",
    "df_orders.to_csv(\"orders_data.csv\", index=False)\n",
    "cursor.close()\n",
    "conn.close()\n",
    "print(\"✅ Data saved as CSV successfully!\")\n"
   ]
  },
  {
   "cell_type": "code",
   "execution_count": 16,
   "id": "ff47aed8-4828-43a0-b1f8-f2eeaa9ae731",
   "metadata": {},
   "outputs": [],
   "source": [
    "import mysql.connector\n",
    "import pandas as pd\n",
    "conn = mysql.connector.connect(\n",
    "    host=\"localhost\",\n",
    "    user=\"root\",\n",
    "    password=\"root\",\n",
    "    database=\"t12\"\n",
    ")\n",
    "cursor = conn.cursor()\n",
    "query = \"\"\"\n",
    "SELECT o.order_id, c.customer_name, o.total_price, o.order_date\n",
    "FROM orders o\n",
    "JOIN customers c ON o.customer_id = c.customer_id\n",
    "WHERE o.total_price > 1000\n",
    "\"\"\"\n",
    "cursor.execute(query)\n",
    "orders_data = cursor.fetchall()\n",
    "columns = [\"order_id\", \"customer_name\", \"total_price\", \"order_date\"]\n",
    "df_high_value = pd.DataFrame(orders_data, columns=columns)\n",
    "cursor.close()\n",
    "conn.close()\n"
   ]
  },
  {
   "cell_type": "code",
   "execution_count": 13,
   "id": "c3c15cd0-6c21-490d-aa64-e3161b962c71",
   "metadata": {},
   "outputs": [
    {
     "name": "stdout",
     "output_type": "stream",
     "text": [
      "   order_id customer_name  total_price  order_date\n",
      "0       101         Alice      2060.00  2023-01-01\n",
      "1       102           Bob      1500.50  2023-01-02\n",
      "2       103       Charlie      1200.75  2023-01-03\n",
      "3       104         David      3000.00  2023-01-04\n",
      "4       106         Frank      2500.25  2023-01-06\n"
     ]
    }
   ],
   "source": [
    "print(df_high_value.head())  \n"
   ]
  },
  {
   "cell_type": "code",
   "execution_count": 18,
   "id": "695e5acc-5e8c-4885-95be-a9573a28fcda",
   "metadata": {},
   "outputs": [
    {
     "name": "stdout",
     "output_type": "stream",
     "text": [
      "✅ File saved successfully in Downloads as 'high_value_orders_v2.csv'!\n"
     ]
    }
   ],
   "source": [
    "df_high_value.to_csv(\"C:/Users/daksh/Downloads/high_value_orders_v2.csv\", index=False)\n",
    "print(\"✅ File saved successfully in Downloads as 'high_value_orders_v2.csv'!\")\n"
   ]
  },
  {
   "cell_type": "code",
   "execution_count": null,
   "id": "2b8b90f5-cb0f-419a-9f22-c30b26a9150c",
   "metadata": {},
   "outputs": [],
   "source": []
  }
 ],
 "metadata": {
  "kernelspec": {
   "display_name": "Python 3 (ipykernel)",
   "language": "python",
   "name": "python3"
  },
  "language_info": {
   "codemirror_mode": {
    "name": "ipython",
    "version": 3
   },
   "file_extension": ".py",
   "mimetype": "text/x-python",
   "name": "python",
   "nbconvert_exporter": "python",
   "pygments_lexer": "ipython3",
   "version": "3.12.7"
  }
 },
 "nbformat": 4,
 "nbformat_minor": 5
}
