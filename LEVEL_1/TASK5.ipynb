{
 "cells": [
  {
   "cell_type": "code",
   "execution_count": 1,
   "id": "75f6bdc8-168a-4424-bce7-de1ce9857fe7",
   "metadata": {},
   "outputs": [
    {
     "name": "stdout",
     "output_type": "stream",
     "text": [
      "Matrix A:\n",
      " [[1 2]\n",
      " [3 4]]\n",
      "Matrix B:\n",
      " [[5 6]\n",
      " [7 8]]\n",
      "Sum of A and B:\n",
      " [[ 6  8]\n",
      " [10 12]]\n",
      "Dot Product of A and B:\n",
      " [[19 22]\n",
      " [43 50]]\n",
      "Matrix Multiplication of A and B:\n",
      " [[19 22]\n",
      " [43 50]]\n"
     ]
    }
   ],
   "source": [
    "import numpy as np\n",
    "a = np.array([[1, 2], [3, 4]])\n",
    "b = np.array([[5, 6], [7, 8]])\n",
    "print(\"Matrix A:\\n\", a)\n",
    "print(\"Matrix B:\\n\", b)\n",
    "sum_matrix = np.add(a, b)\n",
    "print(\"Sum of A and B:\\n\", sum_matrix)\n",
    "dot_product = np.dot(a, b)\n",
    "print(\"Dot Product of A and B:\\n\", dot_product)\n",
    "matrix_multiplication = np.matmul(a, b)\n",
    "print(\"Matrix Multiplication of A and B:\\n\", matrix_multiplication)\n"
   ]
  },
  {
   "cell_type": "code",
   "execution_count": null,
   "id": "c8c20c49-28e2-4dbb-8253-e952e6eb874b",
   "metadata": {},
   "outputs": [],
   "source": []
  }
 ],
 "metadata": {
  "kernelspec": {
   "display_name": "Python 3 (ipykernel)",
   "language": "python",
   "name": "python3"
  },
  "language_info": {
   "codemirror_mode": {
    "name": "ipython",
    "version": 3
   },
   "file_extension": ".py",
   "mimetype": "text/x-python",
   "name": "python",
   "nbconvert_exporter": "python",
   "pygments_lexer": "ipython3",
   "version": "3.12.7"
  }
 },
 "nbformat": 4,
 "nbformat_minor": 5
}
