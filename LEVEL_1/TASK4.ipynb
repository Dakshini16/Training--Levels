{
 "cells": [
  {
   "cell_type": "code",
   "execution_count": 1,
   "id": "67b33534-769e-404a-a840-eaace1c87c97",
   "metadata": {},
   "outputs": [
    {
     "data": {
      "text/plain": [
       "{'a': 1, 'b': 2, 'c': 3}"
      ]
     },
     "execution_count": 1,
     "metadata": {},
     "output_type": "execute_result"
    }
   ],
   "source": [
    "dict=({\"a\":1,\"b\":2,\"c\":3})\n",
    "dict"
   ]
  },
  {
   "cell_type": "code",
   "execution_count": 2,
   "id": "f2bd9ae9-611b-4c87-a313-aeb13b83c410",
   "metadata": {},
   "outputs": [
    {
     "name": "stdin",
     "output_type": "stream",
     "text": [
      " X\n",
      ": 1\n",
      " Y\n",
      ": 2\n",
      " Z\n",
      ": 3\n"
     ]
    },
    {
     "name": "stdout",
     "output_type": "stream",
     "text": [
      "{\"X\": 1, \"Y\": 2, \"Z\": 3}\n"
     ]
    }
   ],
   "source": [
    "my_dict={}\n",
    "for _ in range(3):\n",
    " key=input(\"\")\n",
    " value=int(input(\":\"))\n",
    " my_dict[key]=value\n",
    "print(str(my_dict).replace(\"'\",'\"'))"
   ]
  },
  {
   "cell_type": "code",
   "execution_count": null,
   "id": "f7b1172c-9dec-416e-9a4f-506da19428da",
   "metadata": {},
   "outputs": [],
   "source": []
  }
 ],
 "metadata": {
  "kernelspec": {
   "display_name": "Python 3 (ipykernel)",
   "language": "python",
   "name": "python3"
  },
  "language_info": {
   "codemirror_mode": {
    "name": "ipython",
    "version": 3
   },
   "file_extension": ".py",
   "mimetype": "text/x-python",
   "name": "python",
   "nbconvert_exporter": "python",
   "pygments_lexer": "ipython3",
   "version": "3.12.7"
  }
 },
 "nbformat": 4,
 "nbformat_minor": 5
}
