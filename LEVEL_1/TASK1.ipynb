{
 "cells": [
  {
   "cell_type": "code",
   "execution_count": 1,
   "id": "40662f9d-18ad-4214-9ea8-442622e655ea",
   "metadata": {},
   "outputs": [
    {
     "name": "stdout",
     "output_type": "stream",
     "text": [
      "Modified List: [1, 2, 10, 5, 6]\n"
     ]
    }
   ],
   "source": [
    "\n",
    "my_list = [1, 2, 3, 4, 5]\n",
    "my_list.append(6)  \n",
    "my_list.remove(3)  \n",
    "my_list[2] = 10   \n",
    "print(\"Modified List:\", my_list)\n",
    "\n",
    "\n"
   ]
  },
  {
   "cell_type": "code",
   "execution_count": 2,
   "id": "6559e4e0-e14b-4e7d-940a-ab270a450bc5",
   "metadata": {},
   "outputs": [
    {
     "name": "stdout",
     "output_type": "stream",
     "text": [
      "Modified Set: {1, 2, 4, 5, 6}\n"
     ]
    }
   ],
   "source": [
    "my_set = {1, 2, 3, 4, 5}\n",
    "my_set.add(6)      \n",
    "my_set.discard(3)  \n",
    "print(\"Modified Set:\", my_set)\n"
   ]
  },
  {
   "cell_type": "code",
   "execution_count": 3,
   "id": "0fc6c64b-b2c0-45c0-8bc8-ce096f918956",
   "metadata": {},
   "outputs": [
    {
     "name": "stdout",
     "output_type": "stream",
     "text": [
      "Modified Tuple: (1, 2, 10, 4, 5)\n"
     ]
    }
   ],
   "source": [
    "my_tuple = (1, 2, 3, 4, 5)\n",
    "new_tuple = my_tuple[:2] + (10,) + my_tuple[3:] \n",
    "print(\"Modified Tuple:\", new_tuple)"
   ]
  },
  {
   "cell_type": "code",
   "execution_count": 4,
   "id": "6da1fa7b-1923-4d23-938e-30c6794a32e9",
   "metadata": {},
   "outputs": [
    {
     "name": "stdout",
     "output_type": "stream",
     "text": [
      "Modified Dictionary: {'a': 1, 'c': 10, 'd': 4}\n"
     ]
    }
   ],
   "source": [
    "my_dict = {'a': 1, 'b': 2, 'c': 3}\n",
    "my_dict['d'] = 4   \n",
    "del my_dict['b']   \n",
    "my_dict['c'] = 10  \n",
    "print(\"Modified Dictionary:\", my_dict)"
   ]
  },
  {
   "cell_type": "code",
   "execution_count": null,
   "id": "e8b797a5-ded0-4f89-92e1-c751420a159f",
   "metadata": {},
   "outputs": [],
   "source": []
  }
 ],
 "metadata": {
  "kernelspec": {
   "display_name": "Python 3 (ipykernel)",
   "language": "python",
   "name": "python3"
  },
  "language_info": {
   "codemirror_mode": {
    "name": "ipython",
    "version": 3
   },
   "file_extension": ".py",
   "mimetype": "text/x-python",
   "name": "python",
   "nbconvert_exporter": "python",
   "pygments_lexer": "ipython3",
   "version": "3.12.7"
  }
 },
 "nbformat": 4,
 "nbformat_minor": 5
}
