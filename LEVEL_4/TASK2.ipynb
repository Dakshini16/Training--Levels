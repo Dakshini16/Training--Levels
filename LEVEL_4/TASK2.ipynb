{
 "cells": [
  {
   "cell_type": "code",
   "execution_count": 1,
   "id": "ed70986c-638d-43d3-9575-2068daf15034",
   "metadata": {},
   "outputs": [
    {
     "name": "stdout",
     "output_type": "stream",
     "text": [
      "    Price  Bedrooms  Bathrooms  SqFt  YearBuilt  Price_per_SqFt\n",
      "0  250000         3        2.0  1500       1990      166.666667\n",
      "1  320000         4        2.5  1800       2005      177.777778\n",
      "2  450000         3        3.0  2200       2010      204.545455\n",
      "3  500000         5        4.0  2700       2015      185.185185\n",
      "4  600000         4        3.5  3000       2020      200.000000\n"
     ]
    }
   ],
   "source": [
    "import pandas as pd\n",
    "df = pd.read_csv(\"house_prices.csv\")\n",
    "df[\"Price_per_SqFt\"] = df[\"Price\"] / df[\"SqFt\"]\n",
    "print(df.head())\n",
    "df.to_csv(\"house_prices_updated.csv\", index=False)\n"
   ]
  },
  {
   "cell_type": "code",
   "execution_count": null,
   "id": "f28780fc-ac85-4d39-9ad7-5d501c329493",
   "metadata": {},
   "outputs": [],
   "source": []
  }
 ],
 "metadata": {
  "kernelspec": {
   "display_name": "Python 3 (ipykernel)",
   "language": "python",
   "name": "python3"
  },
  "language_info": {
   "codemirror_mode": {
    "name": "ipython",
    "version": 3
   },
   "file_extension": ".py",
   "mimetype": "text/x-python",
   "name": "python",
   "nbconvert_exporter": "python",
   "pygments_lexer": "ipython3",
   "version": "3.12.7"
  }
 },
 "nbformat": 4,
 "nbformat_minor": 5
}
