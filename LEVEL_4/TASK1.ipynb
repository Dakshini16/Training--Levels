{
 "cells": [
  {
   "cell_type": "code",
   "execution_count": 1,
   "id": "73272cdc-b2ee-4d8a-9371-567df8e5338e",
   "metadata": {},
   "outputs": [
    {
     "name": "stdout",
     "output_type": "stream",
     "text": [
      "First 5 rows of the dataset:\n",
      "    Price  Bedrooms  Bathrooms  SqFt  YearBuilt\n",
      "0  250000         3        2.0  1500       1990\n",
      "1  320000         4        2.5  1800       2005\n",
      "2  450000         3        3.0  2200       2010\n",
      "3  500000         5        4.0  2700       2015\n",
      "4  600000         4        3.5  3000       2020\n",
      "\n",
      "Summary Statistics:\n",
      "              Price  Bedrooms  Bathrooms         SqFt    YearBuilt\n",
      "count       5.00000   5.00000   5.000000     5.000000     5.000000\n",
      "mean   424000.00000   3.80000   3.000000  2240.000000  2008.000000\n",
      "std    140107.10189   0.83666   0.790569   618.869938    11.510864\n",
      "min    250000.00000   3.00000   2.000000  1500.000000  1990.000000\n",
      "25%    320000.00000   3.00000   2.500000  1800.000000  2005.000000\n",
      "50%    450000.00000   4.00000   3.000000  2200.000000  2010.000000\n",
      "75%    500000.00000   4.00000   3.500000  2700.000000  2015.000000\n",
      "max    600000.00000   5.00000   4.000000  3000.000000  2020.000000\n"
     ]
    }
   ],
   "source": [
    "import pandas as pd\n",
    "df = pd.read_csv(\"house_prices.csv\")\n",
    "print(\"First 5 rows of the dataset:\")\n",
    "print(df.head())\n",
    "print(\"\\nSummary Statistics:\")\n",
    "print(df.describe())"
   ]
  },
  {
   "cell_type": "code",
   "execution_count": null,
   "id": "abe20fc8-0eca-4ce6-b91e-3cb66b538b01",
   "metadata": {},
   "outputs": [],
   "source": []
  }
 ],
 "metadata": {
  "kernelspec": {
   "display_name": "Python 3 (ipykernel)",
   "language": "python",
   "name": "python3"
  },
  "language_info": {
   "codemirror_mode": {
    "name": "ipython",
    "version": 3
   },
   "file_extension": ".py",
   "mimetype": "text/x-python",
   "name": "python",
   "nbconvert_exporter": "python",
   "pygments_lexer": "ipython3",
   "version": "3.12.7"
  }
 },
 "nbformat": 4,
 "nbformat_minor": 5
}
