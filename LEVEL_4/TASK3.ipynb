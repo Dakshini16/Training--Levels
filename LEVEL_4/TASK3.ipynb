{
 "cells": [
  {
   "cell_type": "code",
   "execution_count": null,
   "id": "e1394773-ac49-41f9-8172-7f3c8fd6a0f9",
   "metadata": {},
   "outputs": [
    {
     "name": "stdout",
     "output_type": "stream",
     "text": [
      "Number: 0 \n",
      "\n",
      "Letter: A\n",
      "Number: 1 \n",
      "\n",
      "Letter: B\n",
      "Number: 2 \n",
      "\n",
      "Letter: C\n",
      "Number: 3 \n",
      "\n",
      "Letter: D\n"
     ]
    }
   ],
   "source": [
    "import threading\n",
    "import time\n",
    "def print_numbers():\n",
    "    for i in range(5):\n",
    "        time.sleep(1)  \n",
    "        print(f\"Number: {i} \\n\")\n",
    "def print_letters():\n",
    "    for ch in \"ABCDE\":\n",
    "        time.sleep(1)  \n",
    "        print(f\"Letter: {ch}\")\n",
    "t1 = threading.Thread(target=print_numbers)\n",
    "t2 = threading.Thread(target=print_letters)\n",
    "t1.start()\n",
    "t2.start()\n",
    "t1.join()\n",
    "t2.join()\n",
    "print(\"Both functions completed!\")\n"
   ]
  },
  {
   "cell_type": "code",
   "execution_count": null,
   "id": "5fab5ff7-c865-417b-96fb-1d5c35e2fef0",
   "metadata": {},
   "outputs": [],
   "source": []
  }
 ],
 "metadata": {
  "kernelspec": {
   "display_name": "Python 3 (ipykernel)",
   "language": "python",
   "name": "python3"
  },
  "language_info": {
   "codemirror_mode": {
    "name": "ipython",
    "version": 3
   },
   "file_extension": ".py",
   "mimetype": "text/x-python",
   "name": "python",
   "nbconvert_exporter": "python",
   "pygments_lexer": "ipython3",
   "version": "3.12.7"
  }
 },
 "nbformat": 4,
 "nbformat_minor": 5
}
