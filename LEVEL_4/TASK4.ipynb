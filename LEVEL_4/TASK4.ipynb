{
 "cells": [
  {
   "cell_type": "code",
   "execution_count": 1,
   "id": "959cf8de-732f-4559-b6fa-c98ffbd00293",
   "metadata": {},
   "outputs": [
    {
     "name": "stdout",
     "output_type": "stream",
     "text": [
      "5.0\n",
      "Cannot divide by zero\n",
      "Logs have been saved to app.log.\n"
     ]
    }
   ],
   "source": [
    "import logging\n",
    "logging.basicConfig(\n",
    "    filename=\"app.log\",  \n",
    "    level=logging.INFO,  \n",
    "    format=\"%(asctime)s - %(levelname)s - %(message)s\"  \n",
    ")\n",
    "def divide(a, b):\n",
    "    try:\n",
    "        result = a / b\n",
    "        logging.info(f\"Division successful: {a} / {b} = {result}\")\n",
    "        return result\n",
    "    except ZeroDivisionError:\n",
    "        logging.error(\"Error: Division by zero attempted\")\n",
    "        return \"Cannot divide by zero\"\n",
    "print(divide(10, 2))  \n",
    "print(divide(5, 0))  \n",
    "print(\"Logs have been saved to app.log.\")\n"
   ]
  },
  {
   "cell_type": "code",
   "execution_count": null,
   "id": "b26c6b61-ccae-4e66-a0c3-c110b274c5c1",
   "metadata": {},
   "outputs": [],
   "source": []
  }
 ],
 "metadata": {
  "kernelspec": {
   "display_name": "Python 3 (ipykernel)",
   "language": "python",
   "name": "python3"
  },
  "language_info": {
   "codemirror_mode": {
    "name": "ipython",
    "version": 3
   },
   "file_extension": ".py",
   "mimetype": "text/x-python",
   "name": "python",
   "nbconvert_exporter": "python",
   "pygments_lexer": "ipython3",
   "version": "3.12.7"
  }
 },
 "nbformat": 4,
 "nbformat_minor": 5
}
