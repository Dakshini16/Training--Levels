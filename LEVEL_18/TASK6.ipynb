{
 "cells": [
  {
   "cell_type": "code",
   "execution_count": 0,
   "metadata": {
    "application/vnd.databricks.v1+cell": {
     "cellMetadata": {
      "byteLimit": 2048000,
      "rowLimit": 10000
     },
     "inputWidgets": {},
     "nuid": "fcd5092e-eead-4b57-916c-433cefb7061f",
     "showTitle": false,
     "tableResultSettingsMap": {},
     "title": ""
    }
   },
   "outputs": [
    {
     "output_type": "stream",
     "name": "stdout",
     "output_type": "stream",
     "text": [
      "+-------------------+------+-------+----+\n|commentary         |bowler|batsman|runs|\n+-------------------+------+-------+----+\n|Dhoni hits a six   |Dhoni |       |6   |\n|Rohit scores a four|Rohit |       |4   |\n|Kohli gets bowled  |Kohli |       |null|\n+-------------------+------+-------+----+\n\n"
     ]
    }
   ],
   "source": [
    "from pyspark.sql.functions import regexp_extract, col\n",
    "\n",
    "commentary_df = spark.read.format(\"csv\") \\\n",
    "    .option(\"header\", \"true\") \\\n",
    "    .load(\"dbfs:/FileStore/commentary_csv/part-00000-tid-*.csv\")\n",
    "\n",
    "\n",
    "commentary_df = commentary_df.withColumn(\"bowler\", regexp_extract(col(\"commentary\"), r\"^(\\w+)\", 1)) \\\n",
    "                             .withColumn(\"batsman\", regexp_extract(col(\"commentary\"), r\"to (\\w+)\", 1))\n",
    "\n",
    "\n",
    "commentary_df = commentary_df.withColumn(\"runs\", \n",
    "    regexp_extract(col(\"commentary\"), r\"(FOUR|four|SIX|six|no run|1 run|2 runs|3 runs|OUT)\", 1))\n",
    "\n",
    "from pyspark.sql.functions import when\n",
    "\n",
    "commentary_df = commentary_df.withColumn(\"runs\",\n",
    "    when(col(\"runs\").rlike(\"(?i)four\"), 4)\n",
    "    .when(col(\"runs\").rlike(\"(?i)six\"), 6)\n",
    "    .when(col(\"runs\").rlike(\"(?i)1 run\"), 1)\n",
    "    .when(col(\"runs\").rlike(\"(?i)2 runs\"), 2)\n",
    "    .when(col(\"runs\").rlike(\"(?i)3 runs\"), 3)\n",
    "    .when(col(\"runs\").rlike(\"(?i)no run|OUT\"), 0)\n",
    "    .otherwise(None)\n",
    ")\n",
    "\n",
    "commentary_df.select(\"commentary\", \"bowler\", \"batsman\", \"runs\").show(truncate=False)\n"
   ]
  },
  {
   "cell_type": "code",
   "execution_count": 0,
   "metadata": {
    "application/vnd.databricks.v1+cell": {
     "cellMetadata": {
      "byteLimit": 2048000,
      "rowLimit": 10000
     },
     "inputWidgets": {},
     "nuid": "0b4516cb-c826-46cf-86b3-c7db295fdebc",
     "showTitle": false,
     "tableResultSettingsMap": {},
     "title": ""
    }
   },
   "outputs": [
    {
     "output_type": "stream",
     "name": "stdout",
     "output_type": "stream",
     "text": [
      "+-------------------+-------+----+\n|commentary         |batsman|runs|\n+-------------------+-------+----+\n|Dhoni hits a six   |Dhoni  |6   |\n|Rohit scores a four|Rohit  |4   |\n|Kohli gets bowled  |Kohli  |null|\n+-------------------+-------+----+\n\n"
     ]
    }
   ],
   "source": [
    "from pyspark.sql.functions import col, regexp_extract\n",
    "\n",
    "df = spark.read.csv(\"dbfs:/FileStore/commentary_csv/part-00000*.csv\", header=True)\n",
    "\n",
    "df = df.withColumn(\"batsman\", regexp_extract(\"commentary\", r\"^(\\w+)\", 1))\n",
    "\n",
    "df = df.withColumn(\"runs\",\n",
    "    regexp_extract(\"commentary\", r\".*?(\\bsix\\b|\\bfour\\b|\\b1 run\\b|\\b2 runs\\b|\\b3 runs\\b|\\bno run\\b)\", 1)\n",
    ")\n",
    "\n",
    "from pyspark.sql.functions import when\n",
    "\n",
    "df = df.withColumn(\"runs\",\n",
    "    when(col(\"runs\") == \"six\", 6)\n",
    "    .when(col(\"runs\") == \"four\", 4)\n",
    "    .when(col(\"runs\") == \"1 run\", 1)\n",
    "    .when(col(\"runs\") == \"2 runs\", 2)\n",
    "    .when(col(\"runs\") == \"3 runs\", 3)\n",
    "    .when(col(\"runs\") == \"no run\", 0)\n",
    "    .otherwise(None)\n",
    ")\n",
    "\n",
    "df.select(\"commentary\", \"batsman\", \"runs\").show(truncate=False)\n"
   ]
  },
  {
   "cell_type": "code",
   "execution_count": 0,
   "metadata": {
    "application/vnd.databricks.v1+cell": {
     "cellMetadata": {},
     "inputWidgets": {},
     "nuid": "4844f078-933c-4121-83bf-ce9e308387c2",
     "showTitle": false,
     "tableResultSettingsMap": {},
     "title": ""
    }
   },
   "outputs": [],
   "source": []
  }
 ],
 "metadata": {
  "application/vnd.databricks.v1+notebook": {
   "computePreferences": null,
   "dashboards": [],
   "environmentMetadata": {
    "base_environment": "",
    "environment_version": "1"
   },
   "inputWidgetPreferences": null,
   "language": "python",
   "notebookMetadata": {
    "pythonIndentUnit": 4
   },
   "notebookName": "LEVEL18 T6",
   "widgets": {}
  }
 },
 "nbformat": 4,
 "nbformat_minor": 0
}