{
 "cells": [
  {
   "cell_type": "code",
   "execution_count": 0,
   "metadata": {
    "application/vnd.databricks.v1+cell": {
     "cellMetadata": {
      "byteLimit": 2048000,
      "rowLimit": 10000
     },
     "inputWidgets": {},
     "nuid": "688f075b-f3be-4622-9758-590381cff0b7",
     "showTitle": false,
     "tableResultSettingsMap": {},
     "title": ""
    }
   },
   "outputs": [],
   "source": [
    "\n",
    "ipl_df = spark.read.parquet(\"dbfs:/FileStore/ipl_validated.parquet/\")\n",
    "\n",
    "ipl_df.createOrReplaceTempView(\"ipl\")\n"
   ]
  },
  {
   "cell_type": "code",
   "execution_count": 0,
   "metadata": {
    "application/vnd.databricks.v1+cell": {
     "cellMetadata": {
      "byteLimit": 2048000,
      "implicitDf": true,
      "rowLimit": 10000
     },
     "inputWidgets": {},
     "nuid": "f8ced295-2f33-4b2a-be9d-4cd29aa88fab",
     "showTitle": false,
     "tableResultSettingsMap": {},
     "title": ""
    }
   },
   "outputs": [
    {
     "output_type": "display_data",
     "data": {
      "text/html": [
       "<style scoped>\n",
       "  .table-result-container {\n",
       "    max-height: 300px;\n",
       "    overflow: auto;\n",
       "  }\n",
       "  table, th, td {\n",
       "    border: 1px solid black;\n",
       "    border-collapse: collapse;\n",
       "  }\n",
       "  th, td {\n",
       "    padding: 5px;\n",
       "  }\n",
       "  th {\n",
       "    text-align: left;\n",
       "  }\n",
       "</style><div class='table-result-container'><table class='table-result'><thead style='background-color: white'><tr><th>year</th><th>total_teams</th></tr></thead><tbody></tbody></table></div>"
      ]
     },
     "metadata": {
      "application/vnd.databricks.v1+output": {
       "addedWidgets": {},
       "aggData": [],
       "aggError": "",
       "aggOverflow": false,
       "aggSchema": [],
       "aggSeriesLimitReached": false,
       "aggType": "",
       "arguments": {},
       "columnCustomDisplayInfos": {},
       "data": [],
       "datasetInfos": [],
       "dbfsResultPath": null,
       "isJsonSchema": true,
       "metadata": {},
       "overflow": false,
       "plotOptions": {
        "customPlotOptions": {},
        "displayType": "table",
        "pivotAggregation": null,
        "pivotColumns": null,
        "xColumns": null,
        "yColumns": null
       },
       "removedWidgets": [],
       "schema": [
        {
         "metadata": "{}",
         "name": "year",
         "type": "\"integer\""
        },
        {
         "metadata": "{}",
         "name": "total_teams",
         "type": "\"long\""
        }
       ],
       "type": "table"
      }
     },
     "output_type": "display_data"
    }
   ],
   "source": [
    "%sql\n",
    "\n",
    "SELECT \n",
    "  year, \n",
    "  COUNT(DISTINCT match_team1) + COUNT(DISTINCT match_team2) AS total_teams\n",
    "FROM ipl\n",
    "GROUP BY year\n",
    "ORDER BY year;\n"
   ]
  },
  {
   "cell_type": "code",
   "execution_count": 0,
   "metadata": {
    "application/vnd.databricks.v1+cell": {
     "cellMetadata": {
      "byteLimit": 2048000,
      "rowLimit": 10000
     },
     "inputWidgets": {},
     "nuid": "92295ce8-dc87-4931-9ae9-b7212e5aa529",
     "showTitle": false,
     "tableResultSettingsMap": {},
     "title": ""
    }
   },
   "outputs": [
    {
     "output_type": "stream",
     "name": "stdout",
     "output_type": "stream",
     "text": [
      "root\n |-- year: integer (nullable = true)\n |-- series_type: string (nullable = true)\n |-- series_name: string (nullable = true)\n |-- match_no: string (nullable = true)\n |-- match_type: string (nullable = true)\n |-- match_name: string (nullable = true)\n |-- match_href: string (nullable = true)\n |-- match_team1: string (nullable = true)\n |-- match_team2: string (nullable = true)\n |-- match_datetime_start: string (nullable = true)\n |-- match_date_end: string (nullable = true)\n |-- match_venue: string (nullable = true)\n\n+----+-----------+-----------+--------+----------+----------+----------+-----------+-----------+--------------------+--------------+-----------+\n|year|series_type|series_name|match_no|match_type|match_name|match_href|match_team1|match_team2|match_datetime_start|match_date_end|match_venue|\n+----+-----------+-----------+--------+----------+----------+----------+-----------+-----------+--------------------+--------------+-----------+\n+----+-----------+-----------+--------+----------+----------+----------+-----------+-----------+--------------------+--------------+-----------+\n\n"
     ]
    }
   ],
   "source": [
    "ipl_df.printSchema()\n",
    "ipl_df.select(\"*\").show(5, truncate=False)\n"
   ]
  },
  {
   "cell_type": "code",
   "execution_count": 0,
   "metadata": {
    "application/vnd.databricks.v1+cell": {
     "cellMetadata": {
      "byteLimit": 2048000,
      "implicitDf": true,
      "rowLimit": 10000
     },
     "inputWidgets": {},
     "nuid": "f570bbe8-da1d-4621-b25f-7c2b31c54878",
     "showTitle": false,
     "tableResultSettingsMap": {},
     "title": ""
    }
   },
   "outputs": [
    {
     "output_type": "display_data",
     "data": {
      "text/html": [
       "<style scoped>\n",
       "  .table-result-container {\n",
       "    max-height: 300px;\n",
       "    overflow: auto;\n",
       "  }\n",
       "  table, th, td {\n",
       "    border: 1px solid black;\n",
       "    border-collapse: collapse;\n",
       "  }\n",
       "  th, td {\n",
       "    padding: 5px;\n",
       "  }\n",
       "  th {\n",
       "    text-align: left;\n",
       "  }\n",
       "</style><div class='table-result-container'><table class='table-result'><thead style='background-color: white'><tr><th>year</th><th>total_teams</th></tr></thead><tbody></tbody></table></div>"
      ]
     },
     "metadata": {
      "application/vnd.databricks.v1+output": {
       "addedWidgets": {},
       "aggData": [],
       "aggError": "",
       "aggOverflow": false,
       "aggSchema": [],
       "aggSeriesLimitReached": false,
       "aggType": "",
       "arguments": {},
       "columnCustomDisplayInfos": {},
       "data": [],
       "datasetInfos": [],
       "dbfsResultPath": null,
       "isJsonSchema": true,
       "metadata": {},
       "overflow": false,
       "plotOptions": {
        "customPlotOptions": {},
        "displayType": "table",
        "pivotAggregation": null,
        "pivotColumns": null,
        "xColumns": null,
        "yColumns": null
       },
       "removedWidgets": [],
       "schema": [
        {
         "metadata": "{}",
         "name": "year",
         "type": "\"integer\""
        },
        {
         "metadata": "{}",
         "name": "total_teams",
         "type": "\"long\""
        }
       ],
       "type": "table"
      }
     },
     "output_type": "display_data"
    }
   ],
   "source": [
    "%sql\n",
    "SELECT \n",
    "  year, \n",
    "  COUNT(DISTINCT match_team1) + COUNT(DISTINCT match_team2) AS total_teams\n",
    "FROM ipl\n",
    "WHERE match_team1 IS NOT NULL AND match_team2 IS NOT NULL AND year IS NOT NULL\n",
    "GROUP BY year\n",
    "ORDER BY year;\n"
   ]
  },
  {
   "cell_type": "code",
   "execution_count": 0,
   "metadata": {
    "application/vnd.databricks.v1+cell": {
     "cellMetadata": {
      "byteLimit": 2048000,
      "implicitDf": true,
      "rowLimit": 10000
     },
     "inputWidgets": {},
     "nuid": "5a676870-2e06-4e24-9785-2e5dd36264c9",
     "showTitle": false,
     "tableResultSettingsMap": {},
     "title": ""
    }
   },
   "outputs": [
    {
     "output_type": "display_data",
     "data": {
      "text/html": [
       "<style scoped>\n",
       "  .table-result-container {\n",
       "    max-height: 300px;\n",
       "    overflow: auto;\n",
       "  }\n",
       "  table, th, td {\n",
       "    border: 1px solid black;\n",
       "    border-collapse: collapse;\n",
       "  }\n",
       "  th, td {\n",
       "    padding: 5px;\n",
       "  }\n",
       "  th {\n",
       "    text-align: left;\n",
       "  }\n",
       "</style><div class='table-result-container'><table class='table-result'><thead style='background-color: white'><tr><th>year</th><th>team</th></tr></thead><tbody></tbody></table></div>"
      ]
     },
     "metadata": {
      "application/vnd.databricks.v1+output": {
       "addedWidgets": {},
       "aggData": [],
       "aggError": "",
       "aggOverflow": false,
       "aggSchema": [],
       "aggSeriesLimitReached": false,
       "aggType": "",
       "arguments": {},
       "columnCustomDisplayInfos": {},
       "data": [],
       "datasetInfos": [],
       "dbfsResultPath": null,
       "isJsonSchema": true,
       "metadata": {},
       "overflow": false,
       "plotOptions": {
        "customPlotOptions": {},
        "displayType": "table",
        "pivotAggregation": null,
        "pivotColumns": null,
        "xColumns": null,
        "yColumns": null
       },
       "removedWidgets": [],
       "schema": [
        {
         "metadata": "{}",
         "name": "year",
         "type": "\"integer\""
        },
        {
         "metadata": "{}",
         "name": "team",
         "type": "\"string\""
        }
       ],
       "type": "table"
      }
     },
     "output_type": "display_data"
    }
   ],
   "source": [
    "%sql\n",
    "\n",
    "SELECT \n",
    "  year, \n",
    "  team\n",
    "FROM (\n",
    "  SELECT year, match_team1 AS team FROM ipl\n",
    "  UNION ALL\n",
    "  SELECT year, match_team2 AS team FROM ipl\n",
    ") AS all_teams\n",
    "WHERE team IS NOT NULL\n",
    "GROUP BY year, team\n",
    "ORDER BY year;\n"
   ]
  },
  {
   "cell_type": "code",
   "execution_count": 0,
   "metadata": {
    "application/vnd.databricks.v1+cell": {
     "cellMetadata": {
      "byteLimit": 2048000,
      "implicitDf": true,
      "rowLimit": 10000
     },
     "inputWidgets": {},
     "nuid": "92a3644e-2b96-428c-9f4d-a3d4b06861ad",
     "showTitle": false,
     "tableResultSettingsMap": {},
     "title": ""
    }
   },
   "outputs": [
    {
     "output_type": "display_data",
     "data": {
      "text/html": [
       "<style scoped>\n",
       "  .table-result-container {\n",
       "    max-height: 300px;\n",
       "    overflow: auto;\n",
       "  }\n",
       "  table, th, td {\n",
       "    border: 1px solid black;\n",
       "    border-collapse: collapse;\n",
       "  }\n",
       "  th, td {\n",
       "    padding: 5px;\n",
       "  }\n",
       "  th {\n",
       "    text-align: left;\n",
       "  }\n",
       "</style><div class='table-result-container'><table class='table-result'><thead style='background-color: white'><tr><th>year</th><th>total_teams</th></tr></thead><tbody></tbody></table></div>"
      ]
     },
     "metadata": {
      "application/vnd.databricks.v1+output": {
       "addedWidgets": {},
       "aggData": [],
       "aggError": "",
       "aggOverflow": false,
       "aggSchema": [],
       "aggSeriesLimitReached": false,
       "aggType": "",
       "arguments": {},
       "columnCustomDisplayInfos": {},
       "data": [],
       "datasetInfos": [],
       "dbfsResultPath": null,
       "isJsonSchema": true,
       "metadata": {},
       "overflow": false,
       "plotOptions": {
        "customPlotOptions": {},
        "displayType": "table",
        "pivotAggregation": null,
        "pivotColumns": null,
        "xColumns": null,
        "yColumns": null
       },
       "removedWidgets": [],
       "schema": [
        {
         "metadata": "{}",
         "name": "year",
         "type": "\"integer\""
        },
        {
         "metadata": "{}",
         "name": "total_teams",
         "type": "\"long\""
        }
       ],
       "type": "table"
      }
     },
     "output_type": "display_data"
    }
   ],
   "source": [
    "%sql\n",
    "SELECT \n",
    "  year, \n",
    "  COUNT(DISTINCT team) AS total_teams\n",
    "FROM (\n",
    "  SELECT year, match_team1 AS team FROM ipl\n",
    "  UNION ALL\n",
    "  SELECT year, match_team2 AS team FROM ipl\n",
    ") AS all_teams\n",
    "WHERE team IS NOT NULL\n",
    "GROUP BY year\n",
    "ORDER BY year;\n"
   ]
  },
  {
   "cell_type": "code",
   "execution_count": 0,
   "metadata": {
    "application/vnd.databricks.v1+cell": {
     "cellMetadata": {
      "byteLimit": 2048000,
      "rowLimit": 10000
     },
     "inputWidgets": {},
     "nuid": "c66c7ef7-3565-4a3b-adf0-9faf5bddb153",
     "showTitle": false,
     "tableResultSettingsMap": {},
     "title": ""
    }
   },
   "outputs": [
    {
     "output_type": "stream",
     "name": "stdout",
     "output_type": "stream",
     "text": [
      "+----+-----------+-----------+---------+------+\n|year|match_team1|match_team2|   result|winner|\n+----+-----------+-----------+---------+------+\n|2021|        CSK|        RCB|completed|   CSK|\n|2021|         MI|        KKR|completed|    MI|\n|2021|        SRH|         DC|     tied|  null|\n|2022|         RR|       PBKS|completed|  PBKS|\n|2022|         GT|        LSG|abandoned|  null|\n|2023|        CSK|         MI|completed|    MI|\n|2023|        RCB|         RR|completed|   RCB|\n+----+-----------+-----------+---------+------+\n\n"
     ]
    }
   ],
   "source": [
    "from pyspark.sql import SparkSession\n",
    "from pyspark.sql.types import StructType, StructField, StringType, IntegerType\n",
    "\n",
    "data = [\n",
    "    (2021, \"CSK\", \"RCB\", \"completed\", \"CSK\"),\n",
    "    (2021, \"MI\", \"KKR\", \"completed\", \"MI\"),\n",
    "    (2021, \"SRH\", \"DC\", \"tied\", None),\n",
    "    (2022, \"RR\", \"PBKS\", \"completed\", \"PBKS\"),\n",
    "    (2022, \"GT\", \"LSG\", \"abandoned\", None),\n",
    "    (2023, \"CSK\", \"MI\", \"completed\", \"MI\"),\n",
    "    (2023, \"RCB\", \"RR\", \"completed\", \"RCB\")\n",
    "]\n",
    "\n",
    "schema = StructType([\n",
    "    StructField(\"year\", IntegerType(), True),\n",
    "    StructField(\"match_team1\", StringType(), True),\n",
    "    StructField(\"match_team2\", StringType(), True),\n",
    "    StructField(\"result\", StringType(), True),\n",
    "    StructField(\"winner\", StringType(), True),\n",
    "])\n",
    "\n",
    "ipl_df = spark.createDataFrame(data, schema)\n",
    "ipl_df.createOrReplaceTempView(\"ipl\")\n",
    "ipl_df.show()\n"
   ]
  },
  {
   "cell_type": "code",
   "execution_count": 0,
   "metadata": {
    "application/vnd.databricks.v1+cell": {
     "cellMetadata": {
      "byteLimit": 2048000,
      "implicitDf": true,
      "rowLimit": 10000
     },
     "inputWidgets": {},
     "nuid": "992462e8-9eb6-43d7-b9b8-7e2af03ec556",
     "showTitle": false,
     "tableResultSettingsMap": {},
     "title": ""
    }
   },
   "outputs": [
    {
     "output_type": "display_data",
     "data": {
      "text/html": [
       "<style scoped>\n",
       "  .table-result-container {\n",
       "    max-height: 300px;\n",
       "    overflow: auto;\n",
       "  }\n",
       "  table, th, td {\n",
       "    border: 1px solid black;\n",
       "    border-collapse: collapse;\n",
       "  }\n",
       "  th, td {\n",
       "    padding: 5px;\n",
       "  }\n",
       "  th {\n",
       "    text-align: left;\n",
       "  }\n",
       "</style><div class='table-result-container'><table class='table-result'><thead style='background-color: white'><tr><th>year</th><th>total_teams</th></tr></thead><tbody><tr><td>2021</td><td>6</td></tr><tr><td>2022</td><td>4</td></tr><tr><td>2023</td><td>4</td></tr></tbody></table></div>"
      ]
     },
     "metadata": {
      "application/vnd.databricks.v1+output": {
       "addedWidgets": {},
       "aggData": [],
       "aggError": "",
       "aggOverflow": false,
       "aggSchema": [],
       "aggSeriesLimitReached": false,
       "aggType": "",
       "arguments": {},
       "columnCustomDisplayInfos": {},
       "data": [
        [
         2021,
         6
        ],
        [
         2022,
         4
        ],
        [
         2023,
         4
        ]
       ],
       "datasetInfos": [],
       "dbfsResultPath": null,
       "isJsonSchema": true,
       "metadata": {},
       "overflow": false,
       "plotOptions": {
        "customPlotOptions": {},
        "displayType": "table",
        "pivotAggregation": null,
        "pivotColumns": null,
        "xColumns": null,
        "yColumns": null
       },
       "removedWidgets": [],
       "schema": [
        {
         "metadata": "{}",
         "name": "year",
         "type": "\"integer\""
        },
        {
         "metadata": "{}",
         "name": "total_teams",
         "type": "\"long\""
        }
       ],
       "type": "table"
      }
     },
     "output_type": "display_data"
    }
   ],
   "source": [
    "%sql\n",
    "SELECT \n",
    "  year, \n",
    "  COUNT(DISTINCT team) AS total_teams\n",
    "FROM (\n",
    "  SELECT year, match_team1 AS team FROM ipl\n",
    "  UNION\n",
    "  SELECT year, match_team2 AS team FROM ipl\n",
    ") AS all_teams\n",
    "GROUP BY year\n",
    "ORDER BY year;\n"
   ]
  },
  {
   "cell_type": "code",
   "execution_count": 0,
   "metadata": {
    "application/vnd.databricks.v1+cell": {
     "cellMetadata": {
      "byteLimit": 2048000,
      "implicitDf": true,
      "rowLimit": 10000
     },
     "inputWidgets": {},
     "nuid": "4a76f118-a158-48c6-8746-2d48855dd5f1",
     "showTitle": false,
     "tableResultSettingsMap": {},
     "title": ""
    }
   },
   "outputs": [
    {
     "output_type": "display_data",
     "data": {
      "text/html": [
       "<style scoped>\n",
       "  .table-result-container {\n",
       "    max-height: 300px;\n",
       "    overflow: auto;\n",
       "  }\n",
       "  table, th, td {\n",
       "    border: 1px solid black;\n",
       "    border-collapse: collapse;\n",
       "  }\n",
       "  th, td {\n",
       "    padding: 5px;\n",
       "  }\n",
       "  th {\n",
       "    text-align: left;\n",
       "  }\n",
       "</style><div class='table-result-container'><table class='table-result'><thead style='background-color: white'><tr><th>result</th><th>total_matches</th></tr></thead><tbody><tr><td>completed</td><td>5</td></tr><tr><td>tied</td><td>1</td></tr><tr><td>abandoned</td><td>1</td></tr></tbody></table></div>"
      ]
     },
     "metadata": {
      "application/vnd.databricks.v1+output": {
       "addedWidgets": {},
       "aggData": [],
       "aggError": "",
       "aggOverflow": false,
       "aggSchema": [],
       "aggSeriesLimitReached": false,
       "aggType": "",
       "arguments": {},
       "columnCustomDisplayInfos": {},
       "data": [
        [
         "completed",
         5
        ],
        [
         "tied",
         1
        ],
        [
         "abandoned",
         1
        ]
       ],
       "datasetInfos": [],
       "dbfsResultPath": null,
       "isJsonSchema": true,
       "metadata": {},
       "overflow": false,
       "plotOptions": {
        "customPlotOptions": {},
        "displayType": "table",
        "pivotAggregation": null,
        "pivotColumns": null,
        "xColumns": null,
        "yColumns": null
       },
       "removedWidgets": [],
       "schema": [
        {
         "metadata": "{}",
         "name": "result",
         "type": "\"string\""
        },
        {
         "metadata": "{}",
         "name": "total_matches",
         "type": "\"long\""
        }
       ],
       "type": "table"
      }
     },
     "output_type": "display_data"
    }
   ],
   "source": [
    "%sql\n",
    "SELECT \n",
    "  result,\n",
    "  COUNT(*) AS total_matches\n",
    "FROM ipl\n",
    "GROUP BY result;\n"
   ]
  },
  {
   "cell_type": "code",
   "execution_count": 0,
   "metadata": {
    "application/vnd.databricks.v1+cell": {
     "cellMetadata": {
      "byteLimit": 2048000,
      "rowLimit": 10000
     },
     "inputWidgets": {},
     "nuid": "b1711125-8d6e-4036-b117-b5ad35a33619",
     "showTitle": false,
     "tableResultSettingsMap": {},
     "title": ""
    }
   },
   "outputs": [
    {
     "output_type": "stream",
     "name": "stdout",
     "output_type": "stream",
     "text": [
      "+--------+-------+------+-------+\n|match_id|ball_no|inning|over_no|\n+--------+-------+------+-------+\n|       1|      1|     1|      1|\n|       1|      1|     1|      2|\n|       1|      1|     2|      1|\n|       2|      2|     1|      1|\n|       2|      2|     1|      2|\n|       2|      2|     2|      1|\n|       3|      3|     1|      1|\n|       3|      3|     1|      2|\n|       3|      3|     2|      1|\n+--------+-------+------+-------+\n\n"
     ]
    }
   ],
   "source": [
    "ball_data = [\n",
    "    (1, 1, 1, 1),\n",
    "    (1, 1, 1, 2),\n",
    "    (1, 1, 2, 1),\n",
    "    (2, 2, 1, 1),\n",
    "    (2, 2, 1, 2),\n",
    "    (2, 2, 2, 1),\n",
    "    (3, 3, 1, 1),\n",
    "    (3, 3, 1, 2),\n",
    "    (3, 3, 2, 1),\n",
    "]\n",
    "\n",
    "ball_schema = StructType([\n",
    "    StructField(\"match_id\", IntegerType(), True),\n",
    "    StructField(\"ball_no\", IntegerType(), True),\n",
    "    StructField(\"inning\", IntegerType(), True),\n",
    "    StructField(\"over_no\", IntegerType(), True),\n",
    "])\n",
    "\n",
    "ball_df = spark.createDataFrame(ball_data, ball_schema)\n",
    "ball_df.createOrReplaceTempView(\"balls\")\n",
    "ball_df.show()\n"
   ]
  },
  {
   "cell_type": "code",
   "execution_count": 0,
   "metadata": {
    "application/vnd.databricks.v1+cell": {
     "cellMetadata": {
      "byteLimit": 2048000,
      "implicitDf": true,
      "rowLimit": 10000
     },
     "inputWidgets": {},
     "nuid": "fd5cd6de-08a8-415f-92ba-bb801f7cc42f",
     "showTitle": false,
     "tableResultSettingsMap": {},
     "title": ""
    }
   },
   "outputs": [
    {
     "output_type": "display_data",
     "data": {
      "text/html": [
       "<style scoped>\n",
       "  .table-result-container {\n",
       "    max-height: 300px;\n",
       "    overflow: auto;\n",
       "  }\n",
       "  table, th, td {\n",
       "    border: 1px solid black;\n",
       "    border-collapse: collapse;\n",
       "  }\n",
       "  th, td {\n",
       "    padding: 5px;\n",
       "  }\n",
       "  th {\n",
       "    text-align: left;\n",
       "  }\n",
       "</style><div class='table-result-container'><table class='table-result'><thead style='background-color: white'><tr><th>inning</th><th>avg_balls_per_match</th></tr></thead><tbody><tr><td>1</td><td>2.0</td></tr><tr><td>2</td><td>1.0</td></tr></tbody></table></div>"
      ]
     },
     "metadata": {
      "application/vnd.databricks.v1+output": {
       "addedWidgets": {},
       "aggData": [],
       "aggError": "",
       "aggOverflow": false,
       "aggSchema": [],
       "aggSeriesLimitReached": false,
       "aggType": "",
       "arguments": {},
       "columnCustomDisplayInfos": {},
       "data": [
        [
         1,
         2.0
        ],
        [
         2,
         1.0
        ]
       ],
       "datasetInfos": [],
       "dbfsResultPath": null,
       "isJsonSchema": true,
       "metadata": {},
       "overflow": false,
       "plotOptions": {
        "customPlotOptions": {},
        "displayType": "table",
        "pivotAggregation": null,
        "pivotColumns": null,
        "xColumns": null,
        "yColumns": null
       },
       "removedWidgets": [],
       "schema": [
        {
         "metadata": "{}",
         "name": "inning",
         "type": "\"integer\""
        },
        {
         "metadata": "{}",
         "name": "avg_balls_per_match",
         "type": "\"double\""
        }
       ],
       "type": "table"
      }
     },
     "output_type": "display_data"
    }
   ],
   "source": [
    "%sql\n",
    "SELECT \n",
    "  inning,\n",
    "  ROUND(AVG(ball_count), 2) AS avg_balls_per_match\n",
    "FROM (\n",
    "  SELECT match_id, inning, COUNT(*) AS ball_count\n",
    "  FROM balls\n",
    "  GROUP BY match_id, inning\n",
    ")\n",
    "GROUP BY inning;\n"
   ]
  },
  {
   "cell_type": "code",
   "execution_count": 0,
   "metadata": {
    "application/vnd.databricks.v1+cell": {
     "cellMetadata": {
      "byteLimit": 2048000,
      "implicitDf": true,
      "rowLimit": 10000
     },
     "inputWidgets": {},
     "nuid": "30b9b73a-43bc-4417-a28f-33a466fbe54f",
     "showTitle": false,
     "tableResultSettingsMap": {},
     "title": ""
    }
   },
   "outputs": [
    {
     "output_type": "display_data",
     "data": {
      "text/html": [
       "<style scoped>\n",
       "  .table-result-container {\n",
       "    max-height: 300px;\n",
       "    overflow: auto;\n",
       "  }\n",
       "  table, th, td {\n",
       "    border: 1px solid black;\n",
       "    border-collapse: collapse;\n",
       "  }\n",
       "  th, td {\n",
       "    padding: 5px;\n",
       "  }\n",
       "  th {\n",
       "    text-align: left;\n",
       "  }\n",
       "</style><div class='table-result-container'><table class='table-result'><thead style='background-color: white'><tr><th>year</th><th>team</th><th>matches_won</th></tr></thead><tbody><tr><td>2021</td><td>CSK</td><td>1</td></tr><tr><td>2021</td><td>MI</td><td>1</td></tr><tr><td>2022</td><td>PBKS</td><td>1</td></tr><tr><td>2023</td><td>MI</td><td>1</td></tr><tr><td>2023</td><td>RCB</td><td>1</td></tr></tbody></table></div>"
      ]
     },
     "metadata": {
      "application/vnd.databricks.v1+output": {
       "addedWidgets": {},
       "aggData": [],
       "aggError": "",
       "aggOverflow": false,
       "aggSchema": [],
       "aggSeriesLimitReached": false,
       "aggType": "",
       "arguments": {},
       "columnCustomDisplayInfos": {},
       "data": [
        [
         2021,
         "CSK",
         1
        ],
        [
         2021,
         "MI",
         1
        ],
        [
         2022,
         "PBKS",
         1
        ],
        [
         2023,
         "MI",
         1
        ],
        [
         2023,
         "RCB",
         1
        ]
       ],
       "datasetInfos": [],
       "dbfsResultPath": null,
       "isJsonSchema": true,
       "metadata": {},
       "overflow": false,
       "plotOptions": {
        "customPlotOptions": {},
        "displayType": "table",
        "pivotAggregation": null,
        "pivotColumns": null,
        "xColumns": null,
        "yColumns": null
       },
       "removedWidgets": [],
       "schema": [
        {
         "metadata": "{}",
         "name": "year",
         "type": "\"integer\""
        },
        {
         "metadata": "{}",
         "name": "team",
         "type": "\"string\""
        },
        {
         "metadata": "{}",
         "name": "matches_won",
         "type": "\"long\""
        }
       ],
       "type": "table"
      }
     },
     "output_type": "display_data"
    }
   ],
   "source": [
    "%sql\n",
    "SELECT \n",
    "  year,\n",
    "  winner AS team,\n",
    "  COUNT(*) AS matches_won\n",
    "FROM ipl\n",
    "WHERE winner IS NOT NULL\n",
    "GROUP BY year, winner\n",
    "ORDER BY year, matches_won DESC;\n"
   ]
  },
  {
   "cell_type": "code",
   "execution_count": 0,
   "metadata": {
    "application/vnd.databricks.v1+cell": {
     "cellMetadata": {
      "byteLimit": 2048000,
      "rowLimit": 10000
     },
     "inputWidgets": {},
     "nuid": "1514e3e3-8070-4211-a52f-f203805324b2",
     "showTitle": false,
     "tableResultSettingsMap": {},
     "title": ""
    }
   },
   "outputs": [
    {
     "output_type": "stream",
     "name": "stdout",
     "output_type": "stream",
     "text": [
      "+----+-----------+\n|year|total_teams|\n+----+-----------+\n|2021|          8|\n+----+-----------+\n\n+-----------+-----------+\n|result_type|match_count|\n+-----------+-----------+\n|     League|         62|\n+-----------+-----------+\n\n+----+--------------------+--------------+\n|year|                team|matches_played|\n+----+--------------------+--------------+\n|2021| CHENNAI SUPER KINGS|             8|\n|2021|      DELHI CAPITALS|             9|\n|2021|      DELHI CAPITALS|             7|\n|2021|KOLKATA KNIGHT RI...|             8|\n|2021|KOLKATA KNIGHT RI...|            10|\n|2021|      MUMBAI INDIANS|             7|\n|2021|      MUMBAI INDIANS|             8|\n|2021|        PUNJAB KINGS|             7|\n|2021|    RAJASTHAN ROYALS|             7|\n|2021|ROYAL CHALLENGERS...|             8|\n|2021| SUNRISERS HYDERABAD|             8|\n|2021| SUNRISERS HYDERABAD|             7|\n+----+--------------------+--------------+\n\n"
     ]
    }
   ],
   "source": [
    "\n",
    "df = spark.read.parquet(\"dbfs:/FileStore/ipl_final_cleaned.parquet/\")\n",
    "\n",
    "df.createOrReplaceTempView(\"ipl\")\n",
    "\n",
    "spark.sql(\"\"\"\n",
    "SELECT \n",
    "  year,\n",
    "  COUNT(DISTINCT team) AS total_teams\n",
    "FROM (\n",
    "  SELECT year, match_team1 AS team FROM ipl\n",
    "  UNION\n",
    "  SELECT year, match_team2 AS team FROM ipl\n",
    ") all_teams\n",
    "GROUP BY year\n",
    "ORDER BY year\n",
    "\"\"\").show()\n",
    "\n",
    "spark.sql(\"\"\"\n",
    "SELECT \n",
    "  match_type AS result_type,\n",
    "  COUNT(*) AS match_count\n",
    "FROM ipl\n",
    "GROUP BY match_type\n",
    "\"\"\").show()\n",
    "\n",
    "spark.sql(\"\"\"\n",
    "SELECT \n",
    "  year,\n",
    "  match_team1 AS team,\n",
    "  COUNT(*) AS matches_played\n",
    "FROM ipl\n",
    "GROUP BY year, match_team1\n",
    "UNION\n",
    "SELECT \n",
    "  year,\n",
    "  match_team2 AS team,\n",
    "  COUNT(*) AS matches_played\n",
    "FROM ipl\n",
    "GROUP BY year, match_team2\n",
    "ORDER BY team, year\n",
    "\"\"\").show()\n"
   ]
  },
  {
   "cell_type": "code",
   "execution_count": 0,
   "metadata": {
    "application/vnd.databricks.v1+cell": {
     "cellMetadata": {
      "byteLimit": 2048000,
      "implicitDf": true,
      "rowLimit": 10000
     },
     "inputWidgets": {},
     "nuid": "586c839a-7d83-4264-b568-2b87481333f9",
     "showTitle": false,
     "tableResultSettingsMap": {},
     "title": ""
    }
   },
   "outputs": [
    {
     "output_type": "display_data",
     "data": {
      "text/html": [
       "<style scoped>\n",
       "  .table-result-container {\n",
       "    max-height: 300px;\n",
       "    overflow: auto;\n",
       "  }\n",
       "  table, th, td {\n",
       "    border: 1px solid black;\n",
       "    border-collapse: collapse;\n",
       "  }\n",
       "  th, td {\n",
       "    padding: 5px;\n",
       "  }\n",
       "  th {\n",
       "    text-align: left;\n",
       "  }\n",
       "</style><div class='table-result-container'><table class='table-result'><thead style='background-color: white'><tr><th>year</th><th>team</th><th>total_matches</th></tr></thead><tbody><tr><td>2021</td><td>KOLKATA KNIGHT RIDERS</td><td>18</td></tr><tr><td>2021</td><td>ROYAL CHALLENGERS BENGALURU</td><td>16</td></tr><tr><td>2021</td><td>CHENNAI SUPER KINGS</td><td>16</td></tr><tr><td>2021</td><td>DELHI CAPITALS</td><td>16</td></tr><tr><td>2021</td><td>SUNRISERS HYDERABAD</td><td>15</td></tr><tr><td>2021</td><td>MUMBAI INDIANS</td><td>15</td></tr><tr><td>2021</td><td>RAJASTHAN ROYALS</td><td>14</td></tr><tr><td>2021</td><td>PUNJAB KINGS</td><td>14</td></tr></tbody></table></div>"
      ]
     },
     "metadata": {
      "application/vnd.databricks.v1+output": {
       "addedWidgets": {},
       "aggData": [],
       "aggError": "",
       "aggOverflow": false,
       "aggSchema": [],
       "aggSeriesLimitReached": false,
       "aggType": "",
       "arguments": {},
       "columnCustomDisplayInfos": {},
       "data": [
        [
         2021,
         "KOLKATA KNIGHT RIDERS",
         18
        ],
        [
         2021,
         "ROYAL CHALLENGERS BENGALURU",
         16
        ],
        [
         2021,
         "CHENNAI SUPER KINGS",
         16
        ],
        [
         2021,
         "DELHI CAPITALS",
         16
        ],
        [
         2021,
         "SUNRISERS HYDERABAD",
         15
        ],
        [
         2021,
         "MUMBAI INDIANS",
         15
        ],
        [
         2021,
         "RAJASTHAN ROYALS",
         14
        ],
        [
         2021,
         "PUNJAB KINGS",
         14
        ]
       ],
       "datasetInfos": [],
       "dbfsResultPath": null,
       "isJsonSchema": true,
       "metadata": {},
       "overflow": false,
       "plotOptions": {
        "customPlotOptions": {},
        "displayType": "table",
        "pivotAggregation": null,
        "pivotColumns": null,
        "xColumns": null,
        "yColumns": null
       },
       "removedWidgets": [],
       "schema": [
        {
         "metadata": "{}",
         "name": "year",
         "type": "\"integer\""
        },
        {
         "metadata": "{}",
         "name": "team",
         "type": "\"string\""
        },
        {
         "metadata": "{}",
         "name": "total_matches",
         "type": "\"long\""
        }
       ],
       "type": "table"
      }
     },
     "output_type": "display_data"
    }
   ],
   "source": [
    "%sql\n",
    "SELECT \n",
    "  year,\n",
    "  team,\n",
    "  SUM(matches_played) AS total_matches\n",
    "FROM (\n",
    "  SELECT year, match_team1 AS team, COUNT(*) AS matches_played\n",
    "  FROM ipl\n",
    "  GROUP BY year, match_team1\n",
    "\n",
    "  UNION ALL\n",
    "\n",
    "  SELECT year, match_team2 AS team, COUNT(*) AS matches_played\n",
    "  FROM ipl\n",
    "  GROUP BY year, match_team2\n",
    ") combined\n",
    "GROUP BY year, team\n",
    "ORDER BY year, total_matches DESC\n"
   ]
  },
  {
   "cell_type": "code",
   "execution_count": 0,
   "metadata": {
    "application/vnd.databricks.v1+cell": {
     "cellMetadata": {},
     "inputWidgets": {},
     "nuid": "9f8d4e56-acdb-4872-b5ea-ee2f392c38ec",
     "showTitle": false,
     "tableResultSettingsMap": {},
     "title": ""
    }
   },
   "outputs": [],
   "source": []
  }
 ],
 "metadata": {
  "application/vnd.databricks.v1+notebook": {
   "computePreferences": null,
   "dashboards": [],
   "environmentMetadata": {
    "base_environment": "",
    "environment_version": "1"
   },
   "inputWidgetPreferences": null,
   "language": "python",
   "notebookMetadata": {
    "mostRecentlyExecutedCommandWithImplicitDF": {
     "commandId": 1543009371561773,
     "dataframes": [
      "_sqldf"
     ]
    },
    "pythonIndentUnit": 4
   },
   "notebookName": "LEVEL18 T5",
   "widgets": {}
  }
 },
 "nbformat": 4,
 "nbformat_minor": 0
}