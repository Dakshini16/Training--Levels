{
 "cells": [
  {
   "cell_type": "code",
   "execution_count": 0,
   "metadata": {
    "application/vnd.databricks.v1+cell": {
     "cellMetadata": {
      "byteLimit": 2048000,
      "rowLimit": 10000
     },
     "inputWidgets": {},
     "nuid": "7d09965b-6f0f-4e6e-a0ea-f750d1285260",
     "showTitle": false,
     "tableResultSettingsMap": {},
     "title": ""
    }
   },
   "outputs": [
    {
     "output_type": "stream",
     "name": "stdout",
     "output_type": "stream",
     "text": [
      "Requirement already satisfied: requests in /databricks/python3/lib/python3.9/site-packages (2.27.1)\r\nRequirement already satisfied: charset-normalizer~=2.0.0 in /databricks/python3/lib/python3.9/site-packages (from requests) (2.0.4)\r\nRequirement already satisfied: idna<4,>=2.5 in /databricks/python3/lib/python3.9/site-packages (from requests) (3.3)\r\nRequirement already satisfied: certifi>=2017.4.17 in /databricks/python3/lib/python3.9/site-packages (from requests) (2021.10.8)\r\nRequirement already satisfied: urllib3<1.27,>=1.21.1 in /databricks/python3/lib/python3.9/site-packages (from requests) (1.26.9)\r\n\u001B[33mWARNING: You are using pip version 21.2.4; however, version 25.0.1 is available.\r\nYou should consider upgrading via the '/local_disk0/.ephemeral_nfs/envs/pythonEnv-e87e9e55-bc69-44c5-a38a-25c32d13a71c/bin/python -m pip install --upgrade pip' command.\u001B[0m\r\nRequirement already satisfied: beautifulsoup4 in /databricks/python3/lib/python3.9/site-packages (4.11.1)\r\nRequirement already satisfied: soupsieve>1.2 in /databricks/python3/lib/python3.9/site-packages (from beautifulsoup4) (2.3.1)\r\n\u001B[33mWARNING: You are using pip version 21.2.4; however, version 25.0.1 is available.\r\nYou should consider upgrading via the '/local_disk0/.ephemeral_nfs/envs/pythonEnv-e87e9e55-bc69-44c5-a38a-25c32d13a71c/bin/python -m pip install --upgrade pip' command.\u001B[0m\r\n"
     ]
    }
   ],
   "source": [
    "!pip install requests\n",
    "!pip install beautifulsoup4\n"
   ]
  },
  {
   "cell_type": "code",
   "execution_count": 0,
   "metadata": {
    "application/vnd.databricks.v1+cell": {
     "cellMetadata": {
      "byteLimit": 2048000,
      "rowLimit": 10000
     },
     "inputWidgets": {},
     "nuid": "944c17c1-afeb-4b47-96f2-d03542313463",
     "showTitle": false,
     "tableResultSettingsMap": {},
     "title": ""
    }
   },
   "outputs": [
    {
     "output_type": "stream",
     "name": "stdout",
     "output_type": "stream",
     "text": [
      "Unexpected exception formatting exception. Falling back to standard exception\n"
     ]
    },
    {
     "output_type": "stream",
     "name": "stderr",
     "output_type": "stream",
     "text": [
      "Traceback (most recent call last):\n  File \"/databricks/python/lib/python3.9/site-packages/IPython/core/interactiveshell.py\", line 3378, in run_code\n    exec(code_obj, self.user_global_ns, self.user_ns)\n  File \"<command-2244148819946097>\", line 7, in <module>\n    spark_commentary_df = spark.createDataFrame(commentary_df)\n  File \"/databricks/spark/python/pyspark/instrumentation_utils.py\", line 48, in wrapper\n    res = func(*args, **kwargs)\n  File \"/databricks/spark/python/pyspark/sql/session.py\", line 1213, in createDataFrame\n    return super(SparkSession, self).createDataFrame(  # type: ignore[call-overload]\n  File \"/databricks/spark/python/pyspark/sql/pandas/conversion.py\", line 479, in createDataFrame\n    return self._create_dataframe(converted_data, schema, samplingRatio, verifySchema)\n  File \"/databricks/spark/python/pyspark/sql/session.py\", line 1266, in _create_dataframe\n    rdd, struct = self._createFromLocal(map(prepare, data), schema)\n  File \"/databricks/spark/python/pyspark/sql/session.py\", line 888, in _createFromLocal\n    internal_data, struct = self._wrap_data_schema(data, schema)\n  File \"/databricks/spark/python/pyspark/sql/session.py\", line 861, in _wrap_data_schema\n    struct = self._inferSchemaFromList(data, names=schema)\n  File \"/databricks/spark/python/pyspark/sql/session.py\", line 748, in _inferSchemaFromList\n    raise ValueError(\"can not infer schema from empty dataset\")\nValueError: can not infer schema from empty dataset\n\nDuring handling of the above exception, another exception occurred:\n\nTraceback (most recent call last):\n  File \"/databricks/python/lib/python3.9/site-packages/IPython/core/interactiveshell.py\", line 1997, in showtraceback\n    stb = self.InteractiveTB.structured_traceback(\n  File \"/databricks/python/lib/python3.9/site-packages/IPython/core/ultratb.py\", line 1112, in structured_traceback\n    return FormattedTB.structured_traceback(\n  File \"/databricks/python/lib/python3.9/site-packages/IPython/core/ultratb.py\", line 1006, in structured_traceback\n    return VerboseTB.structured_traceback(\n  File \"/databricks/python/lib/python3.9/site-packages/IPython/core/ultratb.py\", line 859, in structured_traceback\n    formatted_exception = self.format_exception_as_a_whole(etype, evalue, etb, number_of_lines_of_context,\n  File \"/databricks/python/lib/python3.9/site-packages/IPython/core/ultratb.py\", line 812, in format_exception_as_a_whole\n    frames.append(self.format_record(r))\n  File \"/databricks/python/lib/python3.9/site-packages/IPython/core/ultratb.py\", line 730, in format_record\n    result += ''.join(_format_traceback_lines(frame_info.lines, Colors, self.has_colors, lvals))\n  File \"/databricks/python/lib/python3.9/site-packages/stack_data/utils.py\", line 145, in cached_property_wrapper\n    value = obj.__dict__[self.func.__name__] = self.func(obj)\n  File \"/databricks/python/lib/python3.9/site-packages/stack_data/core.py\", line 698, in lines\n    pieces = self.included_pieces\n  File \"/databricks/python/lib/python3.9/site-packages/stack_data/utils.py\", line 145, in cached_property_wrapper\n    value = obj.__dict__[self.func.__name__] = self.func(obj)\n  File \"/databricks/python/lib/python3.9/site-packages/stack_data/core.py\", line 649, in included_pieces\n    pos = scope_pieces.index(self.executing_piece)\n  File \"/databricks/python/lib/python3.9/site-packages/stack_data/utils.py\", line 145, in cached_property_wrapper\n    value = obj.__dict__[self.func.__name__] = self.func(obj)\n  File \"/databricks/python/lib/python3.9/site-packages/stack_data/core.py\", line 628, in executing_piece\n    return only(\n  File \"/databricks/python/lib/python3.9/site-packages/executing/executing.py\", line 164, in only\n    raise NotOneValueFound('Expected one value, found 0')\nexecuting.executing.NotOneValueFound: Expected one value, found 0\n"
     ]
    },
    {
     "output_type": "display_data",
     "data": {
      "text/plain": [
       ""
      ]
     },
     "metadata": {
      "application/vnd.databricks.v1+output": {
       "arguments": {},
       "data": "",
       "errorSummary": "<span class='ansi-red-fg'>ValueError</span>: can not infer schema from empty dataset",
       "errorTraceType": "ansi",
       "metadata": {},
       "type": "ipynbError"
      }
     },
     "output_type": "display_data"
    }
   ],
   "source": [
    "from pyspark.sql import SparkSession\n",
    "spark = SparkSession.builder.getOrCreate()\n",
    "spark_commentary_df = spark.createDataFrame(commentary_df)\n"
   ]
  },
  {
   "cell_type": "code",
   "execution_count": 0,
   "metadata": {
    "application/vnd.databricks.v1+cell": {
     "cellMetadata": {
      "byteLimit": 2048000,
      "rowLimit": 10000
     },
     "inputWidgets": {},
     "nuid": "f6763c21-ce7c-41a4-af29-59a9513a6cdb",
     "showTitle": false,
     "tableResultSettingsMap": {},
     "title": ""
    }
   },
   "outputs": [],
   "source": [
    "import pandas as pd\n",
    "data = {\n",
    "    \"match_id\": [101, 102, 103],\n",
    "    \"commentary\": [\"Dhoni hits a six\", \"Rohit scores a four\", \"Kohli gets bowled\"]\n",
    "}\n",
    "\n",
    "commentary_df = pd.DataFrame(data)\n"
   ]
  },
  {
   "cell_type": "code",
   "execution_count": 0,
   "metadata": {
    "application/vnd.databricks.v1+cell": {
     "cellMetadata": {
      "byteLimit": 2048000,
      "rowLimit": 10000
     },
     "inputWidgets": {},
     "nuid": "bb5e9486-0b5c-46ab-be16-fc785aeaea77",
     "showTitle": false,
     "tableResultSettingsMap": {},
     "title": ""
    }
   },
   "outputs": [],
   "source": [
    "from pyspark.sql import SparkSession\n",
    "\n",
    "spark = SparkSession.builder.getOrCreate()\n",
    "spark_commentary_df = spark.createDataFrame(commentary_df)\n"
   ]
  },
  {
   "cell_type": "code",
   "execution_count": 0,
   "metadata": {
    "application/vnd.databricks.v1+cell": {
     "cellMetadata": {
      "byteLimit": 2048000,
      "rowLimit": 10000
     },
     "inputWidgets": {},
     "nuid": "113dcaf1-87ef-4645-8283-7b10927eb95f",
     "showTitle": false,
     "tableResultSettingsMap": {},
     "title": ""
    }
   },
   "outputs": [],
   "source": [
    "\n",
    "spark_commentary_df.write.mode(\"overwrite\").option(\"header\", True).csv(\"dbfs:/FileStore/commentary_csv\")\n",
    "\n",
    "spark_commentary_df.write.mode(\"overwrite\").parquet(\"dbfs:/FileStore/commentary_parquet\")\n"
   ]
  },
  {
   "cell_type": "code",
   "execution_count": 0,
   "metadata": {
    "application/vnd.databricks.v1+cell": {
     "cellMetadata": {
      "byteLimit": 2048000,
      "rowLimit": 10000
     },
     "inputWidgets": {},
     "nuid": "42316957-6c70-4f3f-867e-01e0168d4081",
     "showTitle": false,
     "tableResultSettingsMap": {},
     "title": ""
    }
   },
   "outputs": [
    {
     "output_type": "stream",
     "name": "stdout",
     "output_type": "stream",
     "text": [
      "CSV File Size (Bytes): 412\nParquet File Size (Bytes): 3208\n"
     ]
    }
   ],
   "source": [
    "csv_files = dbutils.fs.ls(\"dbfs:/FileStore/commentary_csv/\")\n",
    "parquet_files = dbutils.fs.ls(\"dbfs:/FileStore/commentary_parquet/\")\n",
    "\n",
    "csv_size = sum(f.size for f in csv_files)\n",
    "parquet_size = sum(f.size for f in parquet_files)\n",
    "\n",
    "print(\"CSV File Size (Bytes):\", csv_size)\n",
    "print(\"Parquet File Size (Bytes):\", parquet_size)\n"
   ]
  },
  {
   "cell_type": "code",
   "execution_count": 0,
   "metadata": {
    "application/vnd.databricks.v1+cell": {
     "cellMetadata": {
      "byteLimit": 2048000,
      "rowLimit": 10000
     },
     "inputWidgets": {},
     "nuid": "f1d51e1e-55d3-4619-a7d7-e5f52a792e57",
     "showTitle": false,
     "tableResultSettingsMap": {},
     "title": ""
    }
   },
   "outputs": [],
   "source": [
    "spark_commentary_df.coalesce(1).write.mode(\"overwrite\").option(\"header\", True).csv(\"dbfs:/FileStore/commentary_csv\")\n",
    "\n"
   ]
  },
  {
   "cell_type": "code",
   "execution_count": 0,
   "metadata": {
    "application/vnd.databricks.v1+cell": {
     "cellMetadata": {
      "byteLimit": 2048000,
      "rowLimit": 10000
     },
     "inputWidgets": {},
     "nuid": "e09c226b-430d-4eb6-b4d4-a9a60e2d2ed3",
     "showTitle": false,
     "tableResultSettingsMap": {},
     "title": ""
    }
   },
   "outputs": [
    {
     "output_type": "display_data",
     "data": {
      "text/html": [
       "<style scoped>\n",
       "  .table-result-container {\n",
       "    max-height: 300px;\n",
       "    overflow: auto;\n",
       "  }\n",
       "  table, th, td {\n",
       "    border: 1px solid black;\n",
       "    border-collapse: collapse;\n",
       "  }\n",
       "  th, td {\n",
       "    padding: 5px;\n",
       "  }\n",
       "  th {\n",
       "    text-align: left;\n",
       "  }\n",
       "</style><div class='table-result-container'><table class='table-result'><thead style='background-color: white'><tr><th>path</th><th>name</th><th>size</th><th>modificationTime</th></tr></thead><tbody><tr><td>dbfs:/FileStore/commentary_csv/</td><td>commentary_csv/</td><td>0</td><td>0</td></tr><tr><td>dbfs:/FileStore/commentary_parquet/</td><td>commentary_parquet/</td><td>0</td><td>0</td></tr><tr><td>dbfs:/FileStore/ipl_cleaned.parquet/</td><td>ipl_cleaned.parquet/</td><td>0</td><td>0</td></tr><tr><td>dbfs:/FileStore/ipl_cleaned_with_date_time.parquet/</td><td>ipl_cleaned_with_date_time.parquet/</td><td>0</td><td>0</td></tr><tr><td>dbfs:/FileStore/ipl_final_cleaned.parquet/</td><td>ipl_final_cleaned.parquet/</td><td>0</td><td>0</td></tr><tr><td>dbfs:/FileStore/ipl_validated.parquet/</td><td>ipl_validated.parquet/</td><td>0</td><td>0</td></tr><tr><td>dbfs:/FileStore/tables/</td><td>tables/</td><td>0</td><td>0</td></tr></tbody></table></div>"
      ]
     },
     "metadata": {
      "application/vnd.databricks.v1+output": {
       "addedWidgets": {},
       "aggData": [],
       "aggError": "",
       "aggOverflow": false,
       "aggSchema": [],
       "aggSeriesLimitReached": false,
       "aggType": "",
       "arguments": {},
       "columnCustomDisplayInfos": {},
       "data": [
        [
         "dbfs:/FileStore/commentary_csv/",
         "commentary_csv/",
         0,
         0
        ],
        [
         "dbfs:/FileStore/commentary_parquet/",
         "commentary_parquet/",
         0,
         0
        ],
        [
         "dbfs:/FileStore/ipl_cleaned.parquet/",
         "ipl_cleaned.parquet/",
         0,
         0
        ],
        [
         "dbfs:/FileStore/ipl_cleaned_with_date_time.parquet/",
         "ipl_cleaned_with_date_time.parquet/",
         0,
         0
        ],
        [
         "dbfs:/FileStore/ipl_final_cleaned.parquet/",
         "ipl_final_cleaned.parquet/",
         0,
         0
        ],
        [
         "dbfs:/FileStore/ipl_validated.parquet/",
         "ipl_validated.parquet/",
         0,
         0
        ],
        [
         "dbfs:/FileStore/tables/",
         "tables/",
         0,
         0
        ]
       ],
       "datasetInfos": [],
       "dbfsResultPath": null,
       "isJsonSchema": true,
       "metadata": {},
       "overflow": false,
       "plotOptions": {
        "customPlotOptions": {},
        "displayType": "table",
        "pivotAggregation": null,
        "pivotColumns": null,
        "xColumns": null,
        "yColumns": null
       },
       "removedWidgets": [],
       "schema": [
        {
         "metadata": "{}",
         "name": "path",
         "type": "\"string\""
        },
        {
         "metadata": "{}",
         "name": "name",
         "type": "\"string\""
        },
        {
         "metadata": "{}",
         "name": "size",
         "type": "\"long\""
        },
        {
         "metadata": "{}",
         "name": "modificationTime",
         "type": "\"long\""
        }
       ],
       "type": "table"
      }
     },
     "output_type": "display_data"
    }
   ],
   "source": [
    "display(dbutils.fs.ls(\"dbfs:/FileStore/\"))\n"
   ]
  },
  {
   "cell_type": "code",
   "execution_count": 0,
   "metadata": {
    "application/vnd.databricks.v1+cell": {
     "cellMetadata": {
      "byteLimit": 2048000,
      "rowLimit": 10000
     },
     "inputWidgets": {},
     "nuid": "16d3a17a-9966-41c7-addb-47387c13f1b5",
     "showTitle": false,
     "tableResultSettingsMap": {},
     "title": ""
    }
   },
   "outputs": [
    {
     "output_type": "stream",
     "name": "stdout",
     "output_type": "stream",
     "text": [
      "CSV size: 0 bytes\nParquet size: 0 bytes\n"
     ]
    }
   ],
   "source": [
    "csv_size = dbutils.fs.ls(\"dbfs:/FileStore/commentary_csv/\")[0].size\n",
    "parquet_size = dbutils.fs.ls(\"dbfs:/FileStore/commentary_parquet/\")[0].size\n",
    "\n",
    "print(f\"CSV size: {csv_size} bytes\")\n",
    "print(f\"Parquet size: {parquet_size} bytes\")\n"
   ]
  },
  {
   "cell_type": "code",
   "execution_count": 0,
   "metadata": {
    "application/vnd.databricks.v1+cell": {
     "cellMetadata": {
      "byteLimit": 2048000,
      "rowLimit": 10000
     },
     "inputWidgets": {},
     "nuid": "0fa78c9b-2c95-4884-9fe1-1e0f4920f3ee",
     "showTitle": false,
     "tableResultSettingsMap": {},
     "title": ""
    }
   },
   "outputs": [
    {
     "output_type": "stream",
     "name": "stdout",
     "output_type": "stream",
     "text": [
      "+--------------------+------+-------+----+\n|          commentary|bowler|batsman|runs|\n+--------------------+------+-------+----+\n|Bumrah to Dhawan,...|Bumrah| Dhawan|   4|\n|Chahal to Raina, ...|Chahal|  Raina|   1|\n|Narine to Kohli, ...|Narine|  Kohli|   0|\n|Rabada to Rohit, ...|Rabada|  Rohit|   6|\n+--------------------+------+-------+----+\n\n"
     ]
    },
    {
     "output_type": "display_data",
     "data": {
      "text/html": [
       "<style scoped>\n",
       "  .table-result-container {\n",
       "    max-height: 300px;\n",
       "    overflow: auto;\n",
       "  }\n",
       "  table, th, td {\n",
       "    border: 1px solid black;\n",
       "    border-collapse: collapse;\n",
       "  }\n",
       "  th, td {\n",
       "    padding: 5px;\n",
       "  }\n",
       "  th {\n",
       "    text-align: left;\n",
       "  }\n",
       "</style><div class='table-result-container'><table class='table-result'><thead style='background-color: white'><tr><th>commentary</th><th>bowler</th><th>batsman</th><th>runs</th></tr></thead><tbody><tr><td>Bumrah to Dhawan, FOUR! Cracking shot through covers</td><td>Bumrah</td><td>Dhawan</td><td>4</td></tr><tr><td>Chahal to Raina, 1 run, nudged to midwicket</td><td>Chahal</td><td>Raina</td><td>1</td></tr><tr><td>Narine to Kohli, no run, defended solidly</td><td>Narine</td><td>Kohli</td><td>0</td></tr><tr><td>Rabada to Rohit, SIX! Smashed over long-on</td><td>Rabada</td><td>Rohit</td><td>6</td></tr></tbody></table></div>"
      ]
     },
     "metadata": {
      "application/vnd.databricks.v1+output": {
       "addedWidgets": {},
       "aggData": [],
       "aggError": "",
       "aggOverflow": false,
       "aggSchema": [],
       "aggSeriesLimitReached": false,
       "aggType": "",
       "arguments": {},
       "columnCustomDisplayInfos": {},
       "data": [
        [
         "Bumrah to Dhawan, FOUR! Cracking shot through covers",
         "Bumrah",
         "Dhawan",
         4
        ],
        [
         "Chahal to Raina, 1 run, nudged to midwicket",
         "Chahal",
         "Raina",
         1
        ],
        [
         "Narine to Kohli, no run, defended solidly",
         "Narine",
         "Kohli",
         0
        ],
        [
         "Rabada to Rohit, SIX! Smashed over long-on",
         "Rabada",
         "Rohit",
         6
        ]
       ],
       "datasetInfos": [],
       "dbfsResultPath": null,
       "isJsonSchema": true,
       "metadata": {},
       "overflow": false,
       "plotOptions": {
        "customPlotOptions": {},
        "displayType": "table",
        "pivotAggregation": null,
        "pivotColumns": null,
        "xColumns": null,
        "yColumns": null
       },
       "removedWidgets": [],
       "schema": [
        {
         "metadata": "{}",
         "name": "commentary",
         "type": "\"string\""
        },
        {
         "metadata": "{}",
         "name": "bowler",
         "type": "\"string\""
        },
        {
         "metadata": "{}",
         "name": "batsman",
         "type": "\"string\""
        },
        {
         "metadata": "{}",
         "name": "runs",
         "type": "\"integer\""
        }
       ],
       "type": "table"
      }
     },
     "output_type": "display_data"
    }
   ],
   "source": [
    "\n",
    "data = [\n",
    "    (\"Bumrah to Dhawan, FOUR! Cracking shot through covers\", \"Bumrah\", \"Dhawan\", 4),\n",
    "    (\"Chahal to Raina, 1 run, nudged to midwicket\", \"Chahal\", \"Raina\", 1),\n",
    "    (\"Narine to Kohli, no run, defended solidly\", \"Narine\", \"Kohli\", 0),\n",
    "    (\"Rabada to Rohit, SIX! Smashed over long-on\", \"Rabada\", \"Rohit\", 6)\n",
    "]\n",
    "\n",
    "from pyspark.sql.types import StructType, StructField, StringType, IntegerType\n",
    "\n",
    "schema = StructType([\n",
    "    StructField(\"commentary\", StringType(), True),\n",
    "    StructField(\"bowler\", StringType(), True),\n",
    "    StructField(\"batsman\", StringType(), True),\n",
    "    StructField(\"runs\", IntegerType(), True)\n",
    "])\n",
    "\n",
    "commentary_df = spark.createDataFrame(data, schema)\n",
    "\n",
    "commentary_df.show()\n",
    "# or\n",
    "display(commentary_df)\n",
    "\n",
    "\n"
   ]
  },
  {
   "cell_type": "code",
   "execution_count": 0,
   "metadata": {
    "application/vnd.databricks.v1+cell": {
     "cellMetadata": {},
     "inputWidgets": {},
     "nuid": "9c25659e-38a4-4883-ae33-5361b2806b87",
     "showTitle": false,
     "tableResultSettingsMap": {},
     "title": ""
    }
   },
   "outputs": [],
   "source": []
  }
 ],
 "metadata": {
  "application/vnd.databricks.v1+notebook": {
   "computePreferences": null,
   "dashboards": [],
   "environmentMetadata": {
    "base_environment": "",
    "environment_version": "1"
   },
   "inputWidgetPreferences": null,
   "language": "python",
   "notebookMetadata": {
    "pythonIndentUnit": 4
   },
   "notebookName": "LEVEL18 T1",
   "widgets": {}
  }
 },
 "nbformat": 4,
 "nbformat_minor": 0
}