{
 "cells": [
  {
   "cell_type": "code",
   "execution_count": 1,
   "id": "e41076f7-c146-4694-a515-a4d6152f55e0",
   "metadata": {},
   "outputs": [
    {
     "name": "stdout",
     "output_type": "stream",
     "text": [
      "Animal Object: Generic Animal\n",
      "Dog Object: Buddy\n",
      "Generic Animal makes a sound.\n",
      "Buddy barks.\n"
     ]
    }
   ],
   "source": [
    "class Animal:\n",
    "    def __init__(self, name):\n",
    "        self.name = name\n",
    "    def speak(self):\n",
    "        return f\"{self.name} makes a sound.\"\n",
    "class Dog(Animal):\n",
    "    def speak(self):\n",
    "        return f\"{self.name} barks.\"\n",
    "animal = Animal(\"Generic Animal\")\n",
    "dog = Dog(\"Buddy\")\n",
    "print(f\"Animal Object: {animal.name}\")\n",
    "print(f\"Dog Object: {dog.name}\")\n",
    "print(animal.speak()) \n",
    "print(dog.speak())   "
   ]
  },
  {
   "cell_type": "code",
   "execution_count": null,
   "id": "e86d9f10-1d0b-4d5e-b57a-dece55c66fc2",
   "metadata": {},
   "outputs": [],
   "source": []
  }
 ],
 "metadata": {
  "kernelspec": {
   "display_name": "Python 3 (ipykernel)",
   "language": "python",
   "name": "python3"
  },
  "language_info": {
   "codemirror_mode": {
    "name": "ipython",
    "version": 3
   },
   "file_extension": ".py",
   "mimetype": "text/x-python",
   "name": "python",
   "nbconvert_exporter": "python",
   "pygments_lexer": "ipython3",
   "version": "3.12.7"
  }
 },
 "nbformat": 4,
 "nbformat_minor": 5
}
