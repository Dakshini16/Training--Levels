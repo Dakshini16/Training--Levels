{
 "cells": [
  {
   "cell_type": "code",
   "execution_count": 1,
   "id": "c24be262-0fc6-4511-83cb-0e914e5c00a0",
   "metadata": {},
   "outputs": [
    {
     "name": "stdout",
     "output_type": "stream",
     "text": [
      "Original List: [[99, 2, 3], [4, 5, 6]]\n",
      "Shallow Copy: [[99, 2, 3], [4, 5, 6]]\n",
      "Deep Copy: [[1, 2, 3], [4, 77, 6]]\n"
     ]
    }
   ],
   "source": [
    "import copy\n",
    "original_list = [[1, 2, 3], [4, 5, 6]]\n",
    "shallow_copy = copy.copy(original_list)\n",
    "deep_copy = copy.deepcopy(original_list)\n",
    "shallow_copy[0][0] = 99\n",
    "deep_copy[1][1] = 77\n",
    "print(\"Original List:\", original_list)\n",
    "print(\"Shallow Copy:\", shallow_copy)\n",
    "print(\"Deep Copy:\", deep_copy)\n"
   ]
  },
  {
   "cell_type": "code",
   "execution_count": null,
   "id": "b61f2ce6-ba8e-43bf-8df6-2d1413e098a5",
   "metadata": {},
   "outputs": [],
   "source": []
  }
 ],
 "metadata": {
  "kernelspec": {
   "display_name": "Python 3 (ipykernel)",
   "language": "python",
   "name": "python3"
  },
  "language_info": {
   "codemirror_mode": {
    "name": "ipython",
    "version": 3
   },
   "file_extension": ".py",
   "mimetype": "text/x-python",
   "name": "python",
   "nbconvert_exporter": "python",
   "pygments_lexer": "ipython3",
   "version": "3.12.7"
  }
 },
 "nbformat": 4,
 "nbformat_minor": 5
}
