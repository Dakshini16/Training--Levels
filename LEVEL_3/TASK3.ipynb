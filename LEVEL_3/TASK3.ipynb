{
 "cells": [
  {
   "cell_type": "code",
   "execution_count": 1,
   "id": "64003360-82c5-43bc-9608-9de3041881e5",
   "metadata": {},
   "outputs": [
    {
     "name": "stdout",
     "output_type": "stream",
     "text": [
      "Function 'example_function' executed in 0.041072 seconds\n",
      "499999500000\n"
     ]
    }
   ],
   "source": [
    "import time\n",
    "def timing_decorator(func):\n",
    "    def wrapper(*args, **kwargs):\n",
    "        start_time = time.time()  \n",
    "        result = func(*args, **kwargs)  \n",
    "        end_time = time.time()  \n",
    "        print(f\"Function '{func.__name__}' executed in {end_time - start_time:.6f} seconds\")\n",
    "        return result\n",
    "    return wrapper\n",
    "@timing_decorator\n",
    "def example_function(n):\n",
    "    total = sum(range(n))  \n",
    "    return total\n",
    "print(example_function(1000000))"
   ]
  },
  {
   "cell_type": "code",
   "execution_count": null,
   "id": "ddb0c979-c6c3-4122-a16c-3e1f83ac1c2f",
   "metadata": {},
   "outputs": [],
   "source": []
  }
 ],
 "metadata": {
  "kernelspec": {
   "display_name": "Python 3 (ipykernel)",
   "language": "python",
   "name": "python3"
  },
  "language_info": {
   "codemirror_mode": {
    "name": "ipython",
    "version": 3
   },
   "file_extension": ".py",
   "mimetype": "text/x-python",
   "name": "python",
   "nbconvert_exporter": "python",
   "pygments_lexer": "ipython3",
   "version": "3.12.7"
  }
 },
 "nbformat": 4,
 "nbformat_minor": 5
}
