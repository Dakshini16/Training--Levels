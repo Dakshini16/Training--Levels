{
 "cells": [
  {
   "cell_type": "code",
   "execution_count": 10,
   "id": "2a41bfa0-e9a1-4065-a31a-a9e9dbd59c85",
   "metadata": {},
   "outputs": [
    {
     "data": {
      "text/plain": [
       "('data1.csv', 'data2.csv')"
      ]
     },
     "execution_count": 10,
     "metadata": {},
     "output_type": "execute_result"
    }
   ],
   "source": [
    "import pandas as pd\n",
    "data1 = pd.DataFrame({\n",
    "    \"id\": [1, 2, 3, 4, 5],\n",
    "    \"value\": [45, 50, 55, 60, 40]\n",
    "})\n",
    "data2 = pd.DataFrame({\n",
    "    \"id\": [1, 2, 3, 4, 5],\n",
    "    \"value\": [70, 75, 80, 85, 64]\n",
    "})\n",
    "data1_path = \"data1.csv\"\n",
    "data2_path = \"data2.csv\"\n",
    "\n",
    "data1.to_csv(data1_path, index=False)\n",
    "data2.to_csv(data2_path, index=False)\n",
    "\n",
    "data1_path, data2_path\n"
   ]
  },
  {
   "cell_type": "code",
   "execution_count": 9,
   "id": "05c21e18-146f-48af-b209-2dfce07264da",
   "metadata": {},
   "outputs": [
    {
     "name": "stdout",
     "output_type": "stream",
     "text": [
      "Mean1: 50.0, Mean2: 74.8\n"
     ]
    }
   ],
   "source": [
    "import threading\n",
    "import logging\n",
    "import pandas as pd\n",
    "import os\n",
    "from dataclasses import dataclass\n",
    "logging.basicConfig(filename='processing.log', level=logging.INFO, \n",
    "                    format='%(asctime)s - %(levelname)s - %(message)s')\n",
    "@dataclass\n",
    "class DataProcessor:\n",
    "    filename: str\n",
    "    column: str\n",
    "    mean_value: float = None\n",
    "    def process_file(self):\n",
    "        logging.info(f\"Processing started for {self.filename}\")\n",
    "        try:\n",
    "            if not os.path.exists(self.filename):\n",
    "                logging.error(f\"File {self.filename} not found\")\n",
    "                return\n",
    "            \n",
    "            df = pd.read_csv(self.filename)\n",
    "            if self.column in df.columns:\n",
    "                self.mean_value = df[self.column].mean()\n",
    "                logging.info(f\"Processing completed for {self.filename}\")\n",
    "            else:\n",
    "                logging.error(f\"Column {self.column} not found in {self.filename}\")\n",
    "        except Exception as e:\n",
    "            logging.error(f\"Error processing {self.filename}: {e}\")\n",
    "def thread_task(processor):\n",
    "    processor.process_file()\n",
    "processor1 = DataProcessor('data1.csv', 'value')\n",
    "processor2 = DataProcessor('data2.csv', 'value')\n",
    "thread1 = threading.Thread(target=thread_task, args=(processor1,))\n",
    "thread2 = threading.Thread(target=thread_task, args=(processor2,))\n",
    "thread1.start()\n",
    "thread2.start()\n",
    "thread1.join()\n",
    "thread2.join()\n",
    "print(f\"Mean1: {processor1.mean_value}, Mean2: {processor2.mean_value}\")\n"
   ]
  },
  {
   "cell_type": "code",
   "execution_count": null,
   "id": "2f3c9a76-0fbc-4df5-99e8-b38d09d54c2d",
   "metadata": {},
   "outputs": [],
   "source": []
  }
 ],
 "metadata": {
  "kernelspec": {
   "display_name": "Python 3 (ipykernel)",
   "language": "python",
   "name": "python3"
  },
  "language_info": {
   "codemirror_mode": {
    "name": "ipython",
    "version": 3
   },
   "file_extension": ".py",
   "mimetype": "text/x-python",
   "name": "python",
   "nbconvert_exporter": "python",
   "pygments_lexer": "ipython3",
   "version": "3.12.7"
  }
 },
 "nbformat": 4,
 "nbformat_minor": 5
}
