{
 "cells": [
  {
   "cell_type": "code",
   "execution_count": 3,
   "id": "08edf03f-8478-4fc8-a186-3ab07238e9a1",
   "metadata": {},
   "outputs": [
    {
     "name": "stdout",
     "output_type": "stream",
     "text": [
      "\n",
      " Personal Budget Summary \n",
      "Total Income: $4700\n",
      "Total Expenses: $2200\n",
      "Balance: $2500\n",
      " You're saving money! Keep it up!\n"
     ]
    }
   ],
   "source": [
    "def calculate_total(amounts):\n",
    "    \"\"\"Returns the sum of all values in a dictionary.\"\"\"\n",
    "    return sum(amounts.values())\n",
    "income = {\n",
    "    \"Salary\": 3000,\n",
    "    \"Freelance\": 1200,\n",
    "    \"Investments\": 500\n",
    "}\n",
    "expenses = {\n",
    "    \"Rent\": 1200,\n",
    "    \"Food\": 500,\n",
    "    \"Utilities\": 300,\n",
    "    \"Entertainment\": 200\n",
    "}\n",
    "total_income = calculate_total(income)\n",
    "total_expenses = calculate_total(expenses)\n",
    "balance = total_income - total_expenses\n",
    "print(\"\\n Personal Budget Summary \")\n",
    "print(f\"Total Income: ${total_income}\")\n",
    "print(f\"Total Expenses: ${total_expenses}\")\n",
    "print(f\"Balance: ${balance}\")\n",
    "if balance > 0:\n",
    "    print(\" You're saving money! Keep it up!\")\n",
    "elif balance == 0:\n",
    "    print(\" You're breaking even. Consider saving more.\")\n",
    "else:\n",
    "    print(\" Warning: You're overspending! Adjust your budget.\")\n"
   ]
  },
  {
   "cell_type": "code",
   "execution_count": null,
   "id": "17b12e26-eea9-4e1e-8633-e2fc44f8bf12",
   "metadata": {},
   "outputs": [],
   "source": []
  }
 ],
 "metadata": {
  "kernelspec": {
   "display_name": "Python 3 (ipykernel)",
   "language": "python",
   "name": "python3"
  },
  "language_info": {
   "codemirror_mode": {
    "name": "ipython",
    "version": 3
   },
   "file_extension": ".py",
   "mimetype": "text/x-python",
   "name": "python",
   "nbconvert_exporter": "python",
   "pygments_lexer": "ipython3",
   "version": "3.12.7"
  }
 },
 "nbformat": 4,
 "nbformat_minor": 5
}
