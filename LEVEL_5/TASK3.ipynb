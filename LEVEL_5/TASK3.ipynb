{
 "cells": [
  {
   "cell_type": "code",
   "execution_count": 8,
   "id": "72353b29-0d9e-4ae4-b83a-fed7eb021a38",
   "metadata": {},
   "outputs": [],
   "source": [
    "import pandas as pd\n",
    "import matplotlib.pyplot as plt\n",
    "\n",
    "df = pd.read_csv(\"house_prices.csv\")  \n",
    "\n"
   ]
  },
  {
   "cell_type": "code",
   "execution_count": 3,
   "id": "5adaf67b-f958-49f6-b07c-f8cf238131b2",
   "metadata": {},
   "outputs": [
    {
     "data": {
      "text/html": [
       "<div>\n",
       "<style scoped>\n",
       "    .dataframe tbody tr th:only-of-type {\n",
       "        vertical-align: middle;\n",
       "    }\n",
       "\n",
       "    .dataframe tbody tr th {\n",
       "        vertical-align: top;\n",
       "    }\n",
       "\n",
       "    .dataframe thead th {\n",
       "        text-align: right;\n",
       "    }\n",
       "</style>\n",
       "<table border=\"1\" class=\"dataframe\">\n",
       "  <thead>\n",
       "    <tr style=\"text-align: right;\">\n",
       "      <th></th>\n",
       "      <th>Price</th>\n",
       "      <th>Bedrooms</th>\n",
       "      <th>Bathrooms</th>\n",
       "      <th>SqFt</th>\n",
       "      <th>YearBuilt</th>\n",
       "    </tr>\n",
       "  </thead>\n",
       "  <tbody>\n",
       "    <tr>\n",
       "      <th>0</th>\n",
       "      <td>250000</td>\n",
       "      <td>3</td>\n",
       "      <td>2.0</td>\n",
       "      <td>1500</td>\n",
       "      <td>1990</td>\n",
       "    </tr>\n",
       "    <tr>\n",
       "      <th>1</th>\n",
       "      <td>320000</td>\n",
       "      <td>4</td>\n",
       "      <td>2.5</td>\n",
       "      <td>1800</td>\n",
       "      <td>2005</td>\n",
       "    </tr>\n",
       "    <tr>\n",
       "      <th>2</th>\n",
       "      <td>450000</td>\n",
       "      <td>3</td>\n",
       "      <td>3.0</td>\n",
       "      <td>2200</td>\n",
       "      <td>2010</td>\n",
       "    </tr>\n",
       "    <tr>\n",
       "      <th>3</th>\n",
       "      <td>500000</td>\n",
       "      <td>5</td>\n",
       "      <td>4.0</td>\n",
       "      <td>2700</td>\n",
       "      <td>2015</td>\n",
       "    </tr>\n",
       "    <tr>\n",
       "      <th>4</th>\n",
       "      <td>600000</td>\n",
       "      <td>4</td>\n",
       "      <td>3.5</td>\n",
       "      <td>3000</td>\n",
       "      <td>2020</td>\n",
       "    </tr>\n",
       "  </tbody>\n",
       "</table>\n",
       "</div>"
      ],
      "text/plain": [
       "    Price  Bedrooms  Bathrooms  SqFt  YearBuilt\n",
       "0  250000         3        2.0  1500       1990\n",
       "1  320000         4        2.5  1800       2005\n",
       "2  450000         3        3.0  2200       2010\n",
       "3  500000         5        4.0  2700       2015\n",
       "4  600000         4        3.5  3000       2020"
      ]
     },
     "execution_count": 3,
     "metadata": {},
     "output_type": "execute_result"
    }
   ],
   "source": [
    "df.head()"
   ]
  },
  {
   "cell_type": "code",
   "execution_count": 5,
   "id": "91e3b82d-3d82-4204-9a13-ca60636910b9",
   "metadata": {},
   "outputs": [
    {
     "data": {
      "text/html": [
       "<div>\n",
       "<style scoped>\n",
       "    .dataframe tbody tr th:only-of-type {\n",
       "        vertical-align: middle;\n",
       "    }\n",
       "\n",
       "    .dataframe tbody tr th {\n",
       "        vertical-align: top;\n",
       "    }\n",
       "\n",
       "    .dataframe thead th {\n",
       "        text-align: right;\n",
       "    }\n",
       "</style>\n",
       "<table border=\"1\" class=\"dataframe\">\n",
       "  <thead>\n",
       "    <tr style=\"text-align: right;\">\n",
       "      <th></th>\n",
       "      <th>Price</th>\n",
       "      <th>Bedrooms</th>\n",
       "      <th>Bathrooms</th>\n",
       "      <th>SqFt</th>\n",
       "      <th>YearBuilt</th>\n",
       "    </tr>\n",
       "  </thead>\n",
       "  <tbody>\n",
       "    <tr>\n",
       "      <th>count</th>\n",
       "      <td>5.00000</td>\n",
       "      <td>5.00000</td>\n",
       "      <td>5.000000</td>\n",
       "      <td>5.000000</td>\n",
       "      <td>5.000000</td>\n",
       "    </tr>\n",
       "    <tr>\n",
       "      <th>mean</th>\n",
       "      <td>424000.00000</td>\n",
       "      <td>3.80000</td>\n",
       "      <td>3.000000</td>\n",
       "      <td>2240.000000</td>\n",
       "      <td>2008.000000</td>\n",
       "    </tr>\n",
       "    <tr>\n",
       "      <th>std</th>\n",
       "      <td>140107.10189</td>\n",
       "      <td>0.83666</td>\n",
       "      <td>0.790569</td>\n",
       "      <td>618.869938</td>\n",
       "      <td>11.510864</td>\n",
       "    </tr>\n",
       "    <tr>\n",
       "      <th>min</th>\n",
       "      <td>250000.00000</td>\n",
       "      <td>3.00000</td>\n",
       "      <td>2.000000</td>\n",
       "      <td>1500.000000</td>\n",
       "      <td>1990.000000</td>\n",
       "    </tr>\n",
       "    <tr>\n",
       "      <th>25%</th>\n",
       "      <td>320000.00000</td>\n",
       "      <td>3.00000</td>\n",
       "      <td>2.500000</td>\n",
       "      <td>1800.000000</td>\n",
       "      <td>2005.000000</td>\n",
       "    </tr>\n",
       "    <tr>\n",
       "      <th>50%</th>\n",
       "      <td>450000.00000</td>\n",
       "      <td>4.00000</td>\n",
       "      <td>3.000000</td>\n",
       "      <td>2200.000000</td>\n",
       "      <td>2010.000000</td>\n",
       "    </tr>\n",
       "    <tr>\n",
       "      <th>75%</th>\n",
       "      <td>500000.00000</td>\n",
       "      <td>4.00000</td>\n",
       "      <td>3.500000</td>\n",
       "      <td>2700.000000</td>\n",
       "      <td>2015.000000</td>\n",
       "    </tr>\n",
       "    <tr>\n",
       "      <th>max</th>\n",
       "      <td>600000.00000</td>\n",
       "      <td>5.00000</td>\n",
       "      <td>4.000000</td>\n",
       "      <td>3000.000000</td>\n",
       "      <td>2020.000000</td>\n",
       "    </tr>\n",
       "  </tbody>\n",
       "</table>\n",
       "</div>"
      ],
      "text/plain": [
       "              Price  Bedrooms  Bathrooms         SqFt    YearBuilt\n",
       "count       5.00000   5.00000   5.000000     5.000000     5.000000\n",
       "mean   424000.00000   3.80000   3.000000  2240.000000  2008.000000\n",
       "std    140107.10189   0.83666   0.790569   618.869938    11.510864\n",
       "min    250000.00000   3.00000   2.000000  1500.000000  1990.000000\n",
       "25%    320000.00000   3.00000   2.500000  1800.000000  2005.000000\n",
       "50%    450000.00000   4.00000   3.000000  2200.000000  2010.000000\n",
       "75%    500000.00000   4.00000   3.500000  2700.000000  2015.000000\n",
       "max    600000.00000   5.00000   4.000000  3000.000000  2020.000000"
      ]
     },
     "execution_count": 5,
     "metadata": {},
     "output_type": "execute_result"
    }
   ],
   "source": [
    "df.describe()"
   ]
  },
  {
   "cell_type": "code",
   "execution_count": 1,
   "id": "cd96b38c-7070-4332-9a54-22a5a9791c56",
   "metadata": {},
   "outputs": [
    {
     "name": "stdout",
     "output_type": "stream",
     "text": [
      "Column Names in Dataset: Index(['Price', 'Bedrooms', 'Bathrooms', 'SqFt', 'YearBuilt'], dtype='object')\n",
      "\n",
      " Updated DataFrame (First 5 Rows) \n",
      "    Price  Bedrooms  Bathrooms  SqFt  YearBuilt  Price_per_SqFt\n",
      "0  250000         3        2.0  1500       1990      166.666667\n",
      "1  320000         4        2.5  1800       2005      177.777778\n",
      "2  450000         3        3.0  2200       2010      204.545455\n",
      "3  500000         5        4.0  2700       2015      185.185185\n",
      "4  600000         4        3.5  3000       2020      200.000000\n"
     ]
    },
    {
     "data": {
      "image/png": "[encoded data removed]",
      "text/plain": [
       "<Figure size 800x500 with 1 Axes>"
      ]
     },
     "metadata": {},
     "output_type": "display_data"
    },
    {
     "name": "stdout",
     "output_type": "stream",
     "text": [
      "\n",
      " Summary Statistics \n",
      "              Price         SqFt\n",
      "count       5.00000     5.000000\n",
      "mean   424000.00000  2240.000000\n",
      "std    140107.10189   618.869938\n",
      "min    250000.00000  1500.000000\n",
      "25%    320000.00000  1800.000000\n",
      "50%    450000.00000  2200.000000\n",
      "75%    500000.00000  2700.000000\n",
      "max    600000.00000  3000.000000\n"
     ]
    }
   ],
   "source": [
    "import pandas as pd\n",
    "import matplotlib.pyplot as plt\n",
    "df = pd.read_csv(\"house_prices.csv\")\n",
    "print(\"Column Names in Dataset:\", df.columns)\n",
    "summary_stats = df[['Price', 'SqFt']].describe()\n",
    "df[\"Price_per_SqFt\"] = df[\"Price\"] / df[\"SqFt\"]\n",
    "print(\"\\n Updated DataFrame (First 5 Rows) \")\n",
    "print(df.head())\n",
    "plt.figure(figsize=(8, 5))\n",
    "plt.scatter(df[\"SqFt\"], df[\"Price\"], alpha=0.5, color=\"blue\")\n",
    "plt.xlabel(\"Square Footage (SqFt)\")\n",
    "plt.ylabel(\"House Price ($)\")\n",
    "plt.title(\"House Price vs. Square Footage\")\n",
    "plt.grid(True)\n",
    "plt.show()\n",
    "print(\"\\n Summary Statistics \")\n",
    "print(summary_stats)\n"
   ]
  },
  {
   "cell_type": "code",
   "execution_count": null,
   "id": "f53cb51c-f206-4893-a81d-b649dc2b4c95",
   "metadata": {},
   "outputs": [],
   "source": []
  }
 ],
 "metadata": {
  "kernelspec": {
   "display_name": "Python 3 (ipykernel)",
   "language": "python",
   "name": "python3"
  },
  "language_info": {
   "codemirror_mode": {
    "name": "ipython",
    "version": 3
   },
   "file_extension": ".py",
   "mimetype": "text/x-python",
   "name": "python",
   "nbconvert_exporter": "python",
   "pygments_lexer": "ipython3",
   "version": "3.12.7"
  }
 },
 "nbformat": 4,
 "nbformat_minor": 5
}
