{
 "cells": [
  {
   "cell_type": "code",
   "execution_count": 3,
   "id": "be605e9e-5712-4020-9bbf-46f5f5d801f8",
   "metadata": {},
   "outputs": [
    {
     "name": "stdin",
     "output_type": "stream",
     "text": [
      "Enter 'stats' to view statistics, 'plot' to see a histogram, or 'exit' to quit:  stats\n"
     ]
    },
    {
     "name": "stdout",
     "output_type": "stream",
     "text": [
      "Mean: 424000.0, Max: 600000, Min: 250000\n"
     ]
    },
    {
     "name": "stdin",
     "output_type": "stream",
     "text": [
      "Enter 'stats' to view statistics, 'plot' to see a histogram, or 'exit' to quit:  plot\n"
     ]
    },
    {
     "data": {
      "image/png": "[encoded data removed]",
      "text/plain": [
       "<Figure size 640x480 with 1 Axes>"
      ]
     },
     "metadata": {},
     "output_type": "display_data"
    },
    {
     "name": "stdin",
     "output_type": "stream",
     "text": [
      "Enter 'stats' to view statistics, 'plot' to see a histogram, or 'exit' to quit:  exit\n"
     ]
    },
    {
     "name": "stdout",
     "output_type": "stream",
     "text": [
      "Exiting the dashboard.\n"
     ]
    }
   ],
   "source": [
    "import pandas as pd\n",
    "import matplotlib.pyplot as plt\n",
    "from dataclasses import dataclass\n",
    "\n",
    "@dataclass\n",
    "class DatasetStats:\n",
    "    mean: float\n",
    "    max_value: float\n",
    "    min_value: float\n",
    "    column: str\n",
    "    data: pd.Series\n",
    "    def plot_histogram(self):\n",
    "        plt.hist(self.data, bins=10, edgecolor='black')\n",
    "        plt.xlabel(self.column)\n",
    "        plt.ylabel('Frequency')\n",
    "        plt.title(f'Histogram of {self.column}')\n",
    "        plt.show()\n",
    "file_path = \"house_prices.csv\"\n",
    "df = pd.read_csv(file_path)\n",
    "column = \"Price\"\n",
    "if column in df.columns:\n",
    "    stats = DatasetStats(\n",
    "        mean=df[column].mean(),\n",
    "        max_value=df[column].max(),\n",
    "        min_value=df[column].min(),\n",
    "        column=column,\n",
    "        data=df[column]\n",
    "    )\n",
    "def display_menu():\n",
    "    while True:\n",
    "        user_input = input(\"Enter 'stats' to view statistics, 'plot' to see a histogram, or 'exit' to quit: \")\n",
    "        if user_input.lower() == \"stats\":\n",
    "            print(f\"Mean: {stats.mean}, Max: {stats.max_value}, Min: {stats.min_value}\")\n",
    "        elif user_input.lower() == \"plot\":\n",
    "            stats.plot_histogram()\n",
    "        elif user_input.lower() == \"exit\":\n",
    "            print(\"Exiting the dashboard.\")\n",
    "            break\n",
    "        else:\n",
    "            print(\"Invalid input. Please try again.\")\n",
    "display_menu()\n"
   ]
  },
  {
   "cell_type": "code",
   "execution_count": null,
   "id": "42e06cbd-013b-4a29-b2c1-c23a66f4b95b",
   "metadata": {},
   "outputs": [],
   "source": []
  }
 ],
 "metadata": {
  "kernelspec": {
   "display_name": "Python 3 (ipykernel)",
   "language": "python",
   "name": "python3"
  },
  "language_info": {
   "codemirror_mode": {
    "name": "ipython",
    "version": 3
   },
   "file_extension": ".py",
   "mimetype": "text/x-python",
   "name": "python",
   "nbconvert_exporter": "python",
   "pygments_lexer": "ipython3",
   "version": "3.12.7"
  }
 },
 "nbformat": 4,
 "nbformat_minor": 5
}
